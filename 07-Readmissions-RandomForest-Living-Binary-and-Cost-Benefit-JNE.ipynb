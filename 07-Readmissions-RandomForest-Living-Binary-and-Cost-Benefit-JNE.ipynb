{
 "cells": [
  {
   "cell_type": "code",
   "execution_count": 72,
   "metadata": {
    "ExecuteTime": {
     "end_time": "2018-05-15T01:10:15.845429Z",
     "start_time": "2018-05-15T01:10:15.836712Z"
    }
   },
   "outputs": [],
   "source": [
    "%matplotlib inline\n",
    "import matplotlib.cm as cm\n",
    "import random\n",
    "\n",
    "# Import tree stuff:\n",
    "from sklearn.tree import DecisionTreeClassifier\n",
    "from sklearn.tree import DecisionTreeRegressor\n",
    "from sklearn.ensemble import RandomForestClassifier\n",
    "from sklearn.ensemble import RandomForestRegressor\n",
    "from sklearn.ensemble import ExtraTreesClassifier\n",
    "from sklearn.ensemble import AdaBoostClassifier\n",
    "\n",
    "import pandas as pd\n",
    "import patsy as patsy\n",
    "import numpy as np\n",
    "import matplotlib.pyplot as plt\n",
    "import seaborn as sns\n",
    "\n",
    "from sklearn.model_selection import train_test_split\n",
    "from sklearn import preprocessing\n",
    "\n",
    "# SMOTE\n",
    "from imblearn.over_sampling import SMOTE\n",
    "\n",
    "# Undersampling\n",
    "from imblearn.under_sampling import RandomUnderSampler\n",
    "\n",
    "# Import other models:\n",
    "from sklearn import linear_model\n",
    "from sklearn.linear_model import LogisticRegression\n",
    "from sklearn.neighbors import KNeighborsClassifier\n",
    "from sklearn.svm import LinearSVC\n",
    "from sklearn.svm import SVC\n",
    "\n",
    "# Bagging:\n",
    "from sklearn.ensemble import BaggingClassifier\n",
    "\n",
    "# Searching hyperparameters and cross-validating\n",
    "from sklearn.model_selection import cross_val_score\n",
    "from sklearn.model_selection import GridSearchCV\n",
    "from sklearn.model_selection import RandomizedSearchCV\n",
    "\n",
    "from sklearn import metrics\n",
    "\n",
    "import pickle"
   ]
  },
  {
   "cell_type": "code",
   "execution_count": 73,
   "metadata": {
    "ExecuteTime": {
     "end_time": "2018-05-15T01:10:16.746927Z",
     "start_time": "2018-05-15T01:10:16.261116Z"
    }
   },
   "outputs": [],
   "source": [
    "with open(\"x_liv.pkl\", 'rb') as picklefile: \n",
    "    x_liv = pickle.load(picklefile)\n",
    "\n",
    "with open(\"y_liv.pkl\", 'rb') as picklefile: \n",
    "    y_liv = pickle.load(picklefile)"
   ]
  },
  {
   "cell_type": "code",
   "execution_count": 74,
   "metadata": {
    "ExecuteTime": {
     "end_time": "2018-05-15T01:10:18.246084Z",
     "start_time": "2018-05-15T01:10:16.748794Z"
    }
   },
   "outputs": [],
   "source": [
    "with open(\"y_train_liv.pkl\", 'rb') as picklefile: \n",
    "    y_train_liv = pickle.load(picklefile)\n",
    "\n",
    "with open(\"y_test_liv.pkl\", 'rb') as picklefile: \n",
    "    y_test_liv = pickle.load(picklefile)\n",
    "\n",
    "with open(\"x_train_liv.pkl\", 'rb') as picklefile: \n",
    "    x_train_liv = pickle.load(picklefile)\n",
    "\n",
    "with open(\"x_test_liv.pkl\", 'rb') as picklefile: \n",
    "    x_test_liv = pickle.load(picklefile)\n",
    "\n",
    "with open(\"x_train_scaled_liv.pkl\", 'rb') as picklefile: \n",
    "    x_train_scaled_liv = pickle.load(picklefile)\n",
    "\n",
    "with open(\"x_test_scaled_liv.pkl\", 'rb') as picklefile: \n",
    "    x_test_scaled_liv = pickle.load(picklefile)\n",
    "    \n",
    "with open(\"x_scaled_liv.pkl\", 'rb') as picklefile: \n",
    "    x_scaled_liv = pickle.load(picklefile)\n",
    "\n",
    "with open(\"patientdataICD9_liv.pkl\", 'rb') as picklefile: \n",
    "    patientdataICD9_liv = pickle.load(picklefile)"
   ]
  },
  {
   "cell_type": "code",
   "execution_count": 75,
   "metadata": {
    "ExecuteTime": {
     "end_time": "2018-05-15T01:10:18.722307Z",
     "start_time": "2018-05-15T01:10:18.699772Z"
    }
   },
   "outputs": [],
   "source": [
    "x_train = x_train_liv\n",
    "y_train = y_train_liv\n",
    "x_test = x_test_liv\n",
    "y_test = y_test_liv\n",
    "x = x_liv\n",
    "y = y_liv"
   ]
  },
  {
   "cell_type": "code",
   "execution_count": 76,
   "metadata": {
    "ExecuteTime": {
     "end_time": "2018-05-15T01:10:22.826509Z",
     "start_time": "2018-05-15T01:10:22.691523Z"
    }
   },
   "outputs": [],
   "source": [
    "y = y.str.replace('>30','NO')\n",
    "y_test = y_test.str.replace('>30','NO')\n",
    "y_train = y_train.str.replace('>30','NO')"
   ]
  },
  {
   "cell_type": "code",
   "execution_count": 77,
   "metadata": {
    "ExecuteTime": {
     "end_time": "2018-05-15T01:10:22.921229Z",
     "start_time": "2018-05-15T01:10:22.915151Z"
    }
   },
   "outputs": [
    {
     "data": {
      "text/plain": [
       "array(['NO', '<30'], dtype=object)"
      ]
     },
     "execution_count": 77,
     "metadata": {},
     "output_type": "execute_result"
    }
   ],
   "source": [
    "y.unique()"
   ]
  },
  {
   "cell_type": "code",
   "execution_count": 78,
   "metadata": {
    "ExecuteTime": {
     "end_time": "2018-05-15T01:10:23.713455Z",
     "start_time": "2018-05-15T01:10:23.554707Z"
    }
   },
   "outputs": [
    {
     "data": {
      "text/plain": [
       "<matplotlib.axes._subplots.AxesSubplot at 0x1a30096320>"
      ]
     },
     "execution_count": 78,
     "metadata": {},
     "output_type": "execute_result"
    },
    {
     "data": {
      "image/png": "[encoded data removed]",
      "text/plain": [
       "<Figure size 432x288 with 1 Axes>"
      ]
     },
     "metadata": {},
     "output_type": "display_data"
    }
   ],
   "source": [
    "sns.countplot(y)"
   ]
  },
  {
   "cell_type": "code",
   "execution_count": 57,
   "metadata": {
    "ExecuteTime": {
     "end_time": "2018-05-15T01:03:42.871274Z",
     "start_time": "2018-05-15T01:03:42.853309Z"
    }
   },
   "outputs": [
    {
     "data": {
      "text/plain": [
       "NO     88757\n",
       "<30    11357\n",
       "Name: readmitted, dtype: int64"
      ]
     },
     "execution_count": 57,
     "metadata": {},
     "output_type": "execute_result"
    }
   ],
   "source": [
    "y.value_counts()"
   ]
  },
  {
   "cell_type": "code",
   "execution_count": 9,
   "metadata": {
    "ExecuteTime": {
     "end_time": "2018-05-14T18:30:00.065256Z",
     "start_time": "2018-05-14T18:30:00.062820Z"
    }
   },
   "outputs": [],
   "source": [
    "# pulling these in from pickle now\n",
    "\n",
    "# x_train, x_test, y_train, y_test = train_test_split(x, y, test_size=0.25, random_state=42, stratify=y)"
   ]
  },
  {
   "cell_type": "code",
   "execution_count": 10,
   "metadata": {
    "ExecuteTime": {
     "end_time": "2018-05-14T18:30:00.674495Z",
     "start_time": "2018-05-14T18:30:00.670838Z"
    }
   },
   "outputs": [],
   "source": [
    "def quick_test(model, X, y):\n",
    "    xtrain, xtest, ytrain, ytest = train_test_split(X, y, test_size=0.3)\n",
    "    model.fit(xtrain, ytrain)\n",
    "    return model.score(xtest, ytest)\n",
    "\n",
    "def quick_test_afew_times(model, X, y, n=10):\n",
    "    return np.mean([quick_test(model, X, y) for j in range(n)])\n",
    "\n",
    "#linearsvc = LinearSVC()\n",
    "# Do the test 10 times with a LinearSVC and get the average score\n",
    "#quick_test_afew_times(linearsvc, X, y1)"
   ]
  },
  {
   "cell_type": "markdown",
   "metadata": {},
   "source": [
    "#### Decision tree and random forest:"
   ]
  },
  {
   "cell_type": "code",
   "execution_count": 11,
   "metadata": {
    "ExecuteTime": {
     "end_time": "2018-05-14T18:30:10.935853Z",
     "start_time": "2018-05-14T18:30:01.726722Z"
    }
   },
   "outputs": [
    {
     "data": {
      "text/plain": [
       "0.8870417845846512"
      ]
     },
     "execution_count": 11,
     "metadata": {},
     "output_type": "execute_result"
    }
   ],
   "source": [
    "decisiontree = DecisionTreeClassifier(max_depth=2)\n",
    "quick_test_afew_times(decisiontree, x, y)\n",
    "\n",
    "# using x train and x test with x that had been scaled before test-train split:\n",
    "# 0.5664330167048804"
   ]
  },
  {
   "cell_type": "code",
   "execution_count": 12,
   "metadata": {
    "ExecuteTime": {
     "end_time": "2018-05-14T18:30:41.745670Z",
     "start_time": "2018-05-14T18:30:13.302400Z"
    }
   },
   "outputs": [
    {
     "data": {
      "text/plain": [
       "0.8820409522224072"
      ]
     },
     "execution_count": 12,
     "metadata": {},
     "output_type": "execute_result"
    }
   ],
   "source": [
    "randomforest = RandomForestClassifier()\n",
    "quick_test_afew_times(randomforest, x, y)\n",
    "\n",
    "# using x train and x test with x that had been scaled before test-train split:\n",
    "# 0.5488994431706519"
   ]
  },
  {
   "cell_type": "code",
   "execution_count": 13,
   "metadata": {
    "ExecuteTime": {
     "end_time": "2018-05-14T18:31:40.230937Z",
     "start_time": "2018-05-14T18:31:36.770283Z"
    }
   },
   "outputs": [
    {
     "name": "stdout",
     "output_type": "stream",
     "text": [
      "Accuracy: 0.881\n",
      "             precision    recall  f1-score   support\n",
      "\n",
      "        <30       0.31      0.04      0.07      2839\n",
      "         NO       0.89      0.99      0.94     22190\n",
      "\n",
      "avg / total       0.82      0.88      0.84     25029\n",
      "\n"
     ]
    }
   ],
   "source": [
    "randomforest = RandomForestClassifier()\n",
    "randomforest.fit(x_train, y_train)\n",
    "randomforest.score(x_test, y_test)\n",
    "y_pred = randomforest.predict(x_test)\n",
    "print(\"Accuracy: %.3f\"% metrics.accuracy_score(y_test, y_pred))\n",
    "print(metrics.classification_report(y_test, y_pred))"
   ]
  },
  {
   "cell_type": "markdown",
   "metadata": {
    "ExecuteTime": {
     "end_time": "2018-05-10T01:12:13.295942Z",
     "start_time": "2018-05-10T01:12:13.293423Z"
    }
   },
   "source": [
    "#### SMOTE:"
   ]
  },
  {
   "cell_type": "code",
   "execution_count": 30,
   "metadata": {
    "ExecuteTime": {
     "end_time": "2018-05-11T02:11:09.507364Z",
     "start_time": "2018-05-11T02:11:02.928321Z"
    }
   },
   "outputs": [],
   "source": [
    "sm = SMOTE(random_state=42)\n",
    "x_train_smote, y_train_smote = sm.fit_sample(x_train, y_train)"
   ]
  },
  {
   "cell_type": "code",
   "execution_count": 31,
   "metadata": {
    "ExecuteTime": {
     "end_time": "2018-05-11T02:11:09.651741Z",
     "start_time": "2018-05-11T02:11:09.509343Z"
    }
   },
   "outputs": [
    {
     "data": {
      "image/png": "[encoded data removed]",
      "text/plain": [
       "<Figure size 432x288 with 1 Axes>"
      ]
     },
     "metadata": {},
     "output_type": "display_data"
    }
   ],
   "source": [
    "sns.countplot(y_train);"
   ]
  },
  {
   "cell_type": "code",
   "execution_count": 32,
   "metadata": {
    "ExecuteTime": {
     "end_time": "2018-05-11T02:11:09.916248Z",
     "start_time": "2018-05-11T02:11:09.653816Z"
    }
   },
   "outputs": [
    {
     "data": {
      "image/png": "[encoded data removed]",
      "text/plain": [
       "<Figure size 432x288 with 1 Axes>"
      ]
     },
     "metadata": {},
     "output_type": "display_data"
    }
   ],
   "source": [
    "sns.countplot(y_train_smote);"
   ]
  },
  {
   "cell_type": "code",
   "execution_count": 33,
   "metadata": {
    "ExecuteTime": {
     "end_time": "2018-05-11T02:11:15.216638Z",
     "start_time": "2018-05-11T02:11:09.917992Z"
    }
   },
   "outputs": [
    {
     "name": "stdout",
     "output_type": "stream",
     "text": [
      "Accuracy: 0.880\n",
      "             precision    recall  f1-score   support\n",
      "\n",
      "        <30       0.32      0.05      0.09      2839\n",
      "         NO       0.89      0.99      0.94     22190\n",
      "\n",
      "avg / total       0.83      0.88      0.84     25029\n",
      "\n"
     ]
    }
   ],
   "source": [
    "randomforest = RandomForestClassifier()\n",
    "randomforest.fit(x_train_smote, y_train_smote)\n",
    "randomforest.score(x_test, y_test)\n",
    "y_pred = randomforest.predict(x_test)\n",
    "print(\"Accuracy: %.3f\"% metrics.accuracy_score(y_test, y_pred))\n",
    "print(metrics.classification_report(y_test, y_pred))"
   ]
  },
  {
   "cell_type": "code",
   "execution_count": 34,
   "metadata": {
    "ExecuteTime": {
     "end_time": "2018-05-11T02:32:19.512790Z",
     "start_time": "2018-05-11T02:30:54.285438Z"
    }
   },
   "outputs": [
    {
     "name": "stdout",
     "output_type": "stream",
     "text": [
      "Accuracy: 0.887\n",
      "             precision    recall  f1-score   support\n",
      "\n",
      "        <30       0.64      0.00      0.01      2839\n",
      "         NO       0.89      1.00      0.94     22190\n",
      "\n",
      "avg / total       0.86      0.89      0.83     25029\n",
      "\n"
     ]
    }
   ],
   "source": [
    "randomforest = RandomForestClassifier(n_estimators=200, min_samples_split=10)\n",
    "randomforest.fit(x_train_smote, y_train_smote)\n",
    "randomforest.score(x_test, y_test)\n",
    "y_pred = randomforest.predict(x_test)\n",
    "print(\"Accuracy: %.3f\"% metrics.accuracy_score(y_test, y_pred))\n",
    "print(metrics.classification_report(y_test, y_pred))"
   ]
  },
  {
   "cell_type": "markdown",
   "metadata": {},
   "source": [
    "#### Undersampling:"
   ]
  },
  {
   "cell_type": "code",
   "execution_count": 58,
   "metadata": {
    "ExecuteTime": {
     "end_time": "2018-05-15T01:03:51.691806Z",
     "start_time": "2018-05-15T01:03:51.462279Z"
    }
   },
   "outputs": [],
   "source": [
    "rus = RandomUnderSampler(random_state=0)\n",
    "x_train_undersampled, y_train_undersampled = rus.fit_sample(x_train, y_train)"
   ]
  },
  {
   "cell_type": "code",
   "execution_count": 59,
   "metadata": {
    "ExecuteTime": {
     "end_time": "2018-05-15T01:03:51.914960Z",
     "start_time": "2018-05-15T01:03:51.816228Z"
    }
   },
   "outputs": [
    {
     "data": {
      "image/png": "[encoded data removed]",
      "text/plain": [
       "<Figure size 432x288 with 1 Axes>"
      ]
     },
     "metadata": {},
     "output_type": "display_data"
    }
   ],
   "source": [
    "sns.countplot(y_train_undersampled);"
   ]
  },
  {
   "cell_type": "code",
   "execution_count": 60,
   "metadata": {
    "ExecuteTime": {
     "end_time": "2018-05-15T01:04:03.723763Z",
     "start_time": "2018-05-15T01:03:52.413721Z"
    }
   },
   "outputs": [
    {
     "name": "stdout",
     "output_type": "stream",
     "text": [
      "Accuracy: 0.619\n",
      "             precision    recall  f1-score   support\n",
      "\n",
      "        <30       0.17      0.63      0.27      2839\n",
      "         NO       0.93      0.62      0.74     22190\n",
      "\n",
      "avg / total       0.84      0.62      0.69     25029\n",
      "\n"
     ]
    }
   ],
   "source": [
    "randomforest = RandomForestClassifier(n_estimators=200)\n",
    "randomforest.fit(x_train_undersampled, y_train_undersampled)\n",
    "randomforest.score(x_test, y_test)\n",
    "y_pred = randomforest.predict(x_test)\n",
    "print(\"Accuracy: %.3f\"% metrics.accuracy_score(y_test, y_pred))\n",
    "print(metrics.classification_report(y_test, y_pred))"
   ]
  },
  {
   "cell_type": "code",
   "execution_count": 17,
   "metadata": {
    "ExecuteTime": {
     "end_time": "2018-05-14T18:38:26.331566Z",
     "start_time": "2018-05-14T18:38:15.775145Z"
    }
   },
   "outputs": [
    {
     "name": "stdout",
     "output_type": "stream",
     "text": [
      "Accuracy: 0.618\n",
      "             precision    recall  f1-score   support\n",
      "\n",
      "        <30       0.18      0.64      0.28      2839\n",
      "         NO       0.93      0.62      0.74     22190\n",
      "\n",
      "avg / total       0.84      0.62      0.69     25029\n",
      "\n"
     ]
    }
   ],
   "source": [
    "randomforest = RandomForestClassifier(n_estimators=200)\n",
    "randomforest.fit(x_train_undersampled, y_train_undersampled)\n",
    "randomforest.score(x_test, y_test)\n",
    "y_pred = randomforest.predict(x_test)\n",
    "print(\"Accuracy: %.3f\"% metrics.accuracy_score(y_test, y_pred))\n",
    "print(metrics.classification_report(y_test, y_pred))"
   ]
  },
  {
   "cell_type": "code",
   "execution_count": 43,
   "metadata": {
    "ExecuteTime": {
     "end_time": "2018-05-14T19:28:25.953821Z",
     "start_time": "2018-05-14T19:28:15.523287Z"
    }
   },
   "outputs": [
    {
     "name": "stdout",
     "output_type": "stream",
     "text": [
      "Accuracy: 0.860\n",
      "             precision    recall  f1-score   support\n",
      "\n",
      "        <30       0.29      0.16      0.21      2839\n",
      "         NO       0.90      0.95      0.92     22190\n",
      "\n",
      "avg / total       0.83      0.86      0.84     25029\n",
      "\n",
      "[[  460  2379]\n",
      " [ 1122 21068]]\n"
     ]
    }
   ],
   "source": [
    "class_weights = {}\n",
    "class_weights['NO'] = 1\n",
    "class_weights['<30'] = 0.15\n",
    "randomforest = RandomForestClassifier(n_estimators=200, class_weight = class_weights, min_samples_split=10)\n",
    "randomforest.fit(x_train_undersampled, y_train_undersampled)\n",
    "randomforest.score(x_test, y_test)\n",
    "y_pred = randomforest.predict(x_test)\n",
    "print(\"Accuracy: %.3f\"% metrics.accuracy_score(y_test, y_pred))\n",
    "print(metrics.classification_report(y_test, y_pred))\n",
    "print(metrics.confusion_matrix(y_test, y_pred))"
   ]
  },
  {
   "cell_type": "code",
   "execution_count": null,
   "metadata": {},
   "outputs": [],
   "source": []
  },
  {
   "cell_type": "markdown",
   "metadata": {},
   "source": [
    "model.train(x_train, y_train)\n",
    "y_pred = model.predict(x_test)\n",
    "metrics.confusion_matrix(y_test, pred)\n",
    "\n",
    "thresholding:\n",
    "y_pred_proba = model.predict_proba(x_test)\n",
    "y_pred = y_pred_proba >= 0.25 (this is the value to play around with)\n",
    "metrics.confusion_matrix(y_test, y_pred)\n",
    "plot prec and recall by threshold\n",
    "metrics.precision_recall_curve\n",
    "\n",
    "underfit = adding complexity helps\n",
    "overfit = adding complexity hurts"
   ]
  },
  {
   "cell_type": "code",
   "execution_count": 24,
   "metadata": {
    "ExecuteTime": {
     "end_time": "2018-05-14T18:57:07.456989Z",
     "start_time": "2018-05-14T18:56:57.948612Z"
    }
   },
   "outputs": [
    {
     "name": "stdout",
     "output_type": "stream",
     "text": [
      "Accuracy: 0.623\n",
      "             precision    recall  f1-score   support\n",
      "\n",
      "        <30       0.17      0.62      0.27      2839\n",
      "         NO       0.93      0.62      0.75     22190\n",
      "\n",
      "avg / total       0.84      0.62      0.69     25029\n",
      "\n"
     ]
    }
   ],
   "source": [
    "randomforest = RandomForestClassifier(n_estimators=200, min_samples_split=10)\n",
    "randomforest.fit(x_train_undersampled, y_train_undersampled)\n",
    "randomforest.score(x_test, y_test)\n",
    "y_pred = randomforest.predict(x_test)\n",
    "print(\"Accuracy: %.3f\"% metrics.accuracy_score(y_test, y_pred))\n",
    "print(metrics.classification_report(y_test, y_pred))"
   ]
  },
  {
   "cell_type": "code",
   "execution_count": 29,
   "metadata": {
    "ExecuteTime": {
     "end_time": "2018-05-14T19:05:51.062105Z",
     "start_time": "2018-05-14T19:05:50.002474Z"
    }
   },
   "outputs": [
    {
     "ename": "ValueError",
     "evalue": "Mix type of y not allowed, got types {'multilabel-indicator', 'binary'}",
     "output_type": "error",
     "traceback": [
      "\u001b[0;31m---------------------------------------------------------------------------\u001b[0m",
      "\u001b[0;31mValueError\u001b[0m                                Traceback (most recent call last)",
      "\u001b[0;32m<ipython-input-29-7dafd8fdd4f1>\u001b[0m in \u001b[0;36m<module>\u001b[0;34m()\u001b[0m\n\u001b[1;32m      4\u001b[0m \u001b[0;31m#y_pred\u001b[0m\u001b[0;34m\u001b[0m\u001b[0;34m\u001b[0m\u001b[0m\n\u001b[1;32m      5\u001b[0m \u001b[0;31m#print(\"Accuracy: %.3f\"% metrics.accuracy_score(y_test, y_pred))\u001b[0m\u001b[0;34m\u001b[0m\u001b[0;34m\u001b[0m\u001b[0m\n\u001b[0;32m----> 6\u001b[0;31m \u001b[0mprint\u001b[0m\u001b[0;34m(\u001b[0m\u001b[0mmetrics\u001b[0m\u001b[0;34m.\u001b[0m\u001b[0mclassification_report\u001b[0m\u001b[0;34m(\u001b[0m\u001b[0my_test\u001b[0m\u001b[0;34m,\u001b[0m \u001b[0my_pred\u001b[0m\u001b[0;34m)\u001b[0m\u001b[0;34m)\u001b[0m\u001b[0;34m\u001b[0m\u001b[0m\n\u001b[0m\u001b[1;32m      7\u001b[0m \u001b[0;31m#metrics.confusion_matrix(y_test, y_pred)\u001b[0m\u001b[0;34m\u001b[0m\u001b[0;34m\u001b[0m\u001b[0m\n\u001b[1;32m      8\u001b[0m \u001b[0;31m#plot prec and recall by threshold\u001b[0m\u001b[0;34m\u001b[0m\u001b[0;34m\u001b[0m\u001b[0m\n",
      "\u001b[0;32m~/anaconda/lib/python3.6/site-packages/sklearn/metrics/classification.py\u001b[0m in \u001b[0;36mclassification_report\u001b[0;34m(y_true, y_pred, labels, target_names, sample_weight, digits)\u001b[0m\n\u001b[1;32m   1419\u001b[0m \u001b[0;34m\u001b[0m\u001b[0m\n\u001b[1;32m   1420\u001b[0m     \u001b[0;32mif\u001b[0m \u001b[0mlabels\u001b[0m \u001b[0;32mis\u001b[0m \u001b[0;32mNone\u001b[0m\u001b[0;34m:\u001b[0m\u001b[0;34m\u001b[0m\u001b[0m\n\u001b[0;32m-> 1421\u001b[0;31m         \u001b[0mlabels\u001b[0m \u001b[0;34m=\u001b[0m \u001b[0munique_labels\u001b[0m\u001b[0;34m(\u001b[0m\u001b[0my_true\u001b[0m\u001b[0;34m,\u001b[0m \u001b[0my_pred\u001b[0m\u001b[0;34m)\u001b[0m\u001b[0;34m\u001b[0m\u001b[0m\n\u001b[0m\u001b[1;32m   1422\u001b[0m     \u001b[0;32melse\u001b[0m\u001b[0;34m:\u001b[0m\u001b[0;34m\u001b[0m\u001b[0m\n\u001b[1;32m   1423\u001b[0m         \u001b[0mlabels\u001b[0m \u001b[0;34m=\u001b[0m \u001b[0mnp\u001b[0m\u001b[0;34m.\u001b[0m\u001b[0masarray\u001b[0m\u001b[0;34m(\u001b[0m\u001b[0mlabels\u001b[0m\u001b[0;34m)\u001b[0m\u001b[0;34m\u001b[0m\u001b[0m\n",
      "\u001b[0;32m~/anaconda/lib/python3.6/site-packages/sklearn/utils/multiclass.py\u001b[0m in \u001b[0;36munique_labels\u001b[0;34m(*ys)\u001b[0m\n\u001b[1;32m     81\u001b[0m \u001b[0;34m\u001b[0m\u001b[0m\n\u001b[1;32m     82\u001b[0m     \u001b[0;32mif\u001b[0m \u001b[0mlen\u001b[0m\u001b[0;34m(\u001b[0m\u001b[0mys_types\u001b[0m\u001b[0;34m)\u001b[0m \u001b[0;34m>\u001b[0m \u001b[0;36m1\u001b[0m\u001b[0;34m:\u001b[0m\u001b[0;34m\u001b[0m\u001b[0m\n\u001b[0;32m---> 83\u001b[0;31m         \u001b[0;32mraise\u001b[0m \u001b[0mValueError\u001b[0m\u001b[0;34m(\u001b[0m\u001b[0;34m\"Mix type of y not allowed, got types %s\"\u001b[0m \u001b[0;34m%\u001b[0m \u001b[0mys_types\u001b[0m\u001b[0;34m)\u001b[0m\u001b[0;34m\u001b[0m\u001b[0m\n\u001b[0m\u001b[1;32m     84\u001b[0m \u001b[0;34m\u001b[0m\u001b[0m\n\u001b[1;32m     85\u001b[0m     \u001b[0mlabel_type\u001b[0m \u001b[0;34m=\u001b[0m \u001b[0mys_types\u001b[0m\u001b[0;34m.\u001b[0m\u001b[0mpop\u001b[0m\u001b[0;34m(\u001b[0m\u001b[0;34m)\u001b[0m\u001b[0;34m\u001b[0m\u001b[0m\n",
      "\u001b[0;31mValueError\u001b[0m: Mix type of y not allowed, got types {'multilabel-indicator', 'binary'}"
     ]
    }
   ],
   "source": [
    "model = randomforest\n",
    "y_pred_proba = model.predict_proba(x_test)\n",
    "y_pred = y_pred_proba >= 0.25 #(this is the value to play around with)\n",
    "#y_pred\n",
    "#print(\"Accuracy: %.3f\"% metrics.accuracy_score(y_test, y_pred))\n",
    "print(metrics.classification_report(y_test, y_pred))\n",
    "#metrics.confusion_matrix(y_test, y_pred)\n",
    "#plot prec and recall by threshold"
   ]
  },
  {
   "cell_type": "code",
   "execution_count": 24,
   "metadata": {
    "ExecuteTime": {
     "end_time": "2018-05-11T02:05:06.545194Z",
     "start_time": "2018-05-11T02:04:57.943722Z"
    }
   },
   "outputs": [
    {
     "name": "stdout",
     "output_type": "stream",
     "text": [
      "Accuracy: 0.626\n",
      "             precision    recall  f1-score   support\n",
      "\n",
      "        <30       0.18      0.63      0.28      2839\n",
      "         NO       0.93      0.62      0.75     22190\n",
      "\n",
      "avg / total       0.85      0.63      0.69     25029\n",
      "\n"
     ]
    }
   ],
   "source": [
    "randomforest = RandomForestClassifier(n_estimators=200, min_samples_split=20)\n",
    "randomforest.fit(x_train_undersampled, y_train_undersampled)\n",
    "randomforest.score(x_test, y_test)\n",
    "y_pred = randomforest.predict(x_test)\n",
    "print(\"Accuracy: %.3f\"% metrics.accuracy_score(y_test, y_pred))\n",
    "print(metrics.classification_report(y_test, y_pred))"
   ]
  },
  {
   "cell_type": "code",
   "execution_count": 27,
   "metadata": {
    "ExecuteTime": {
     "end_time": "2018-05-11T02:09:12.787939Z",
     "start_time": "2018-05-11T02:08:25.794354Z"
    }
   },
   "outputs": [
    {
     "name": "stdout",
     "output_type": "stream",
     "text": [
      "Accuracy: 0.630\n",
      "             precision    recall  f1-score   support\n",
      "\n",
      "        <30       0.18      0.63      0.28      2839\n",
      "         NO       0.93      0.63      0.75     22190\n",
      "\n",
      "avg / total       0.85      0.63      0.70     25029\n",
      "\n"
     ]
    }
   ],
   "source": [
    "randomforest = RandomForestClassifier(n_estimators=1000, min_samples_split=10)\n",
    "randomforest.fit(x_train_undersampled, y_train_undersampled)\n",
    "randomforest.score(x_test, y_test)\n",
    "y_pred = randomforest.predict(x_test)\n",
    "print(\"Accuracy: %.3f\"% metrics.accuracy_score(y_test, y_pred))\n",
    "print(metrics.classification_report(y_test, y_pred))"
   ]
  },
  {
   "cell_type": "code",
   "execution_count": null,
   "metadata": {},
   "outputs": [],
   "source": []
  },
  {
   "cell_type": "code",
   "execution_count": 8,
   "metadata": {
    "ExecuteTime": {
     "end_time": "2018-05-10T16:58:29.630948Z",
     "start_time": "2018-05-10T16:58:29.627659Z"
    }
   },
   "outputs": [],
   "source": [
    "# tune random forest hyperparameters\n",
    "# try grid-search CV\n",
    "# try ensembling with the RBF"
   ]
  },
  {
   "cell_type": "code",
   "execution_count": null,
   "metadata": {},
   "outputs": [],
   "source": []
  },
  {
   "cell_type": "code",
   "execution_count": null,
   "metadata": {},
   "outputs": [],
   "source": []
  },
  {
   "cell_type": "code",
   "execution_count": null,
   "metadata": {},
   "outputs": [],
   "source": []
  },
  {
   "cell_type": "markdown",
   "metadata": {
    "ExecuteTime": {
     "end_time": "2018-05-10T18:06:49.685164Z",
     "start_time": "2018-05-10T18:06:49.675374Z"
    }
   },
   "source": [
    "#### Extra-random trees:"
   ]
  },
  {
   "cell_type": "code",
   "execution_count": 25,
   "metadata": {
    "ExecuteTime": {
     "end_time": "2018-05-11T02:06:00.704523Z",
     "start_time": "2018-05-11T02:05:48.269750Z"
    }
   },
   "outputs": [
    {
     "name": "stdout",
     "output_type": "stream",
     "text": [
      "Accuracy: 0.606\n",
      "             precision    recall  f1-score   support\n",
      "\n",
      "        <30       0.17      0.62      0.26      2839\n",
      "         NO       0.93      0.60      0.73     22190\n",
      "\n",
      "avg / total       0.84      0.61      0.68     25029\n",
      "\n"
     ]
    }
   ],
   "source": [
    "extraforest = ExtraTreesClassifier(n_estimators=200, min_samples_split=10)\n",
    "extraforest.fit(x_train_undersampled, y_train_undersampled)\n",
    "extraforest.score(x_test, y_test)\n",
    "y_pred = extraforest.predict(x_test)\n",
    "print(\"Accuracy: %.3f\"% metrics.accuracy_score(y_test, y_pred))\n",
    "print(metrics.classification_report(y_test, y_pred))"
   ]
  },
  {
   "cell_type": "code",
   "execution_count": 26,
   "metadata": {
    "ExecuteTime": {
     "end_time": "2018-05-11T02:08:25.792478Z",
     "start_time": "2018-05-11T02:06:00.706545Z"
    }
   },
   "outputs": [
    {
     "name": "stdout",
     "output_type": "stream",
     "text": [
      "Accuracy: 0.605\n",
      "             precision    recall  f1-score   support\n",
      "\n",
      "        <30       0.17      0.62      0.26      2839\n",
      "         NO       0.93      0.60      0.73     22190\n",
      "\n",
      "avg / total       0.84      0.61      0.68     25029\n",
      "\n"
     ]
    }
   ],
   "source": [
    "extraforest = ExtraTreesClassifier(n_estimators=2000)\n",
    "extraforest.fit(x_train_undersampled, y_train_undersampled)\n",
    "extraforest.score(x_test, y_test)\n",
    "y_pred = extraforest.predict(x_test)\n",
    "print(\"Accuracy: %.3f\"% metrics.accuracy_score(y_test, y_pred))\n",
    "print(metrics.classification_report(y_test, y_pred))"
   ]
  },
  {
   "cell_type": "code",
   "execution_count": null,
   "metadata": {},
   "outputs": [],
   "source": [
    "for n_estimator in range(100, 2000, 100):\n",
    "    extraforest = ExtraTreesClassifier(n_estimators=n_estimator)\n",
    "    extraforest.fit(x_train_undersampled, y_train_undersampled)\n",
    "    extraforest.score(x_test, y_test)\n",
    "    y_pred = extraforest.predict(x_test)\n",
    "    print(\"Number of estimators: %.3f\"% n_estimator)\n",
    "    print(\"Accuracy: %.3f\"% metrics.accuracy_score(y_test, y_pred))\n",
    "    print(metrics.classification_report(y_test, y_pred))"
   ]
  },
  {
   "cell_type": "code",
   "execution_count": null,
   "metadata": {},
   "outputs": [],
   "source": []
  },
  {
   "cell_type": "markdown",
   "metadata": {},
   "source": [
    "#### Boosted trees:"
   ]
  },
  {
   "cell_type": "code",
   "execution_count": 28,
   "metadata": {
    "ExecuteTime": {
     "end_time": "2018-05-11T02:10:45.838495Z",
     "start_time": "2018-05-11T02:09:12.790114Z"
    }
   },
   "outputs": [
    {
     "name": "stdout",
     "output_type": "stream",
     "text": [
      "Accuracy: 0.886\n",
      "             precision    recall  f1-score   support\n",
      "\n",
      "        <30       0.43      0.02      0.03      2839\n",
      "         NO       0.89      1.00      0.94     22190\n",
      "\n",
      "avg / total       0.84      0.89      0.84     25029\n",
      "\n"
     ]
    }
   ],
   "source": [
    "# boosted no resampling\n",
    "\n",
    "boostforest = AdaBoostClassifier(n_estimators=200)\n",
    "boostforest.fit(x_train, y_train)\n",
    "boostforest.score(x_test, y_test)\n",
    "y_pred = boostforest.predict(x_test)\n",
    "print(\"Accuracy: %.3f\"% metrics.accuracy_score(y_test, y_pred))\n",
    "print(metrics.classification_report(y_test, y_pred))"
   ]
  },
  {
   "cell_type": "code",
   "execution_count": 29,
   "metadata": {
    "ExecuteTime": {
     "end_time": "2018-05-11T02:11:02.926533Z",
     "start_time": "2018-05-11T02:10:45.842730Z"
    }
   },
   "outputs": [
    {
     "name": "stdout",
     "output_type": "stream",
     "text": [
      "Accuracy: 0.661\n",
      "             precision    recall  f1-score   support\n",
      "\n",
      "        <30       0.18      0.58      0.28      2839\n",
      "         NO       0.93      0.67      0.78     22190\n",
      "\n",
      "avg / total       0.84      0.66      0.72     25029\n",
      "\n"
     ]
    }
   ],
   "source": [
    "# boosted undersampled\n",
    "\n",
    "boostforest = AdaBoostClassifier(n_estimators=200)\n",
    "boostforest.fit(x_train_undersampled, y_train_undersampled)\n",
    "boostforest.score(x_test, y_test)\n",
    "y_pred = boostforest.predict(x_test)\n",
    "print(\"Accuracy: %.3f\"% metrics.accuracy_score(y_test, y_pred))\n",
    "print(metrics.classification_report(y_test, y_pred))"
   ]
  },
  {
   "cell_type": "code",
   "execution_count": 21,
   "metadata": {
    "ExecuteTime": {
     "end_time": "2018-05-10T17:48:21.193570Z",
     "start_time": "2018-05-10T17:43:46.625127Z"
    }
   },
   "outputs": [
    {
     "name": "stdout",
     "output_type": "stream",
     "text": [
      "Accuracy: 0.496\n",
      "             precision    recall  f1-score   support\n",
      "\n",
      "        <30       0.20      0.42      0.27      2839\n",
      "        >30       0.45      0.41      0.43      8887\n",
      "         NO       0.68      0.57      0.62     13716\n",
      "\n",
      "avg / total       0.55      0.50      0.51     25442\n",
      "\n"
     ]
    }
   ],
   "source": [
    "# boosted undersampled\n",
    "\n",
    "boostforest = AdaBoostClassifier(n_estimators=2000)\n",
    "boostforest.fit(x_train_undersampled, y_train_undersampled)\n",
    "boostforest.score(x_test, y_test)\n",
    "y_pred = boostforest.predict(x_test)\n",
    "print(\"Accuracy: %.3f\"% metrics.accuracy_score(y_test, y_pred))\n",
    "print(metrics.classification_report(y_test, y_pred))"
   ]
  },
  {
   "cell_type": "code",
   "execution_count": 35,
   "metadata": {
    "ExecuteTime": {
     "end_time": "2018-05-11T02:46:28.520028Z",
     "start_time": "2018-05-11T02:42:59.282749Z"
    }
   },
   "outputs": [
    {
     "name": "stdout",
     "output_type": "stream",
     "text": [
      "Accuracy: 0.885\n",
      "             precision    recall  f1-score   support\n",
      "\n",
      "        <30       0.36      0.02      0.03      2839\n",
      "         NO       0.89      1.00      0.94     22190\n",
      "\n",
      "avg / total       0.83      0.89      0.84     25029\n",
      "\n"
     ]
    }
   ],
   "source": [
    "# boosted SMOTE\n",
    "\n",
    "boostforest = AdaBoostClassifier(n_estimators=200)\n",
    "boostforest.fit(x_train_smote, y_train_smote)\n",
    "boostforest.score(x_test, y_test)\n",
    "y_pred = boostforest.predict(x_test)\n",
    "print(\"Accuracy: %.3f\"% metrics.accuracy_score(y_test, y_pred))\n",
    "print(metrics.classification_report(y_test, y_pred))"
   ]
  },
  {
   "cell_type": "code",
   "execution_count": null,
   "metadata": {},
   "outputs": [],
   "source": []
  },
  {
   "cell_type": "markdown",
   "metadata": {},
   "source": [
    "#### Best model:"
   ]
  },
  {
   "cell_type": "code",
   "execution_count": 61,
   "metadata": {
    "ExecuteTime": {
     "end_time": "2018-05-15T01:04:13.472320Z",
     "start_time": "2018-05-15T01:04:04.253794Z"
    }
   },
   "outputs": [
    {
     "name": "stdout",
     "output_type": "stream",
     "text": [
      "Accuracy: 0.626\n",
      "             precision    recall  f1-score   support\n",
      "\n",
      "        <30       0.18      0.63      0.28      2839\n",
      "         NO       0.93      0.63      0.75     22190\n",
      "\n",
      "avg / total       0.84      0.63      0.69     25029\n",
      "\n"
     ]
    }
   ],
   "source": [
    "randomforest = RandomForestClassifier(n_estimators=200, min_samples_split=10)\n",
    "randomforest.fit(x_train_undersampled, y_train_undersampled)\n",
    "randomforest.score(x_test, y_test)\n",
    "y_pred = randomforest.predict(x_test)\n",
    "print(\"Accuracy: %.3f\"% metrics.accuracy_score(y_test, y_pred))\n",
    "print(metrics.classification_report(y_test, y_pred))"
   ]
  },
  {
   "cell_type": "code",
   "execution_count": 62,
   "metadata": {
    "ExecuteTime": {
     "end_time": "2018-05-15T01:04:13.511596Z",
     "start_time": "2018-05-15T01:04:13.474052Z"
    }
   },
   "outputs": [
    {
     "data": {
      "text/html": [
       "<div>\n",
       "<style scoped>\n",
       "    .dataframe tbody tr th:only-of-type {\n",
       "        vertical-align: middle;\n",
       "    }\n",
       "\n",
       "    .dataframe tbody tr th {\n",
       "        vertical-align: top;\n",
       "    }\n",
       "\n",
       "    .dataframe thead th {\n",
       "        text-align: right;\n",
       "    }\n",
       "</style>\n",
       "<table border=\"1\" class=\"dataframe\">\n",
       "  <thead>\n",
       "    <tr style=\"text-align: right;\">\n",
       "      <th>Predicted</th>\n",
       "      <th>&lt;30</th>\n",
       "      <th>NO</th>\n",
       "    </tr>\n",
       "    <tr>\n",
       "      <th>Actual</th>\n",
       "      <th></th>\n",
       "      <th></th>\n",
       "    </tr>\n",
       "  </thead>\n",
       "  <tbody>\n",
       "    <tr>\n",
       "      <th>&lt;30</th>\n",
       "      <td>1789</td>\n",
       "      <td>1050</td>\n",
       "    </tr>\n",
       "    <tr>\n",
       "      <th>NO</th>\n",
       "      <td>8312</td>\n",
       "      <td>13878</td>\n",
       "    </tr>\n",
       "  </tbody>\n",
       "</table>\n",
       "</div>"
      ],
      "text/plain": [
       "Predicted   <30     NO\n",
       "Actual                \n",
       "<30        1789   1050\n",
       "NO         8312  13878"
      ]
     },
     "execution_count": 62,
     "metadata": {},
     "output_type": "execute_result"
    }
   ],
   "source": [
    "pd.crosstab(y_test, y_pred, rownames=['Actual'], colnames=['Predicted'])"
   ]
  },
  {
   "cell_type": "code",
   "execution_count": 63,
   "metadata": {
    "ExecuteTime": {
     "end_time": "2018-05-15T01:04:13.538402Z",
     "start_time": "2018-05-15T01:04:13.513356Z"
    }
   },
   "outputs": [],
   "source": [
    "feature_importance = list(zip(x_train.columns, randomforest.feature_importances_))"
   ]
  },
  {
   "cell_type": "code",
   "execution_count": 64,
   "metadata": {
    "ExecuteTime": {
     "end_time": "2018-05-15T01:04:13.542681Z",
     "start_time": "2018-05-15T01:04:13.540312Z"
    }
   },
   "outputs": [],
   "source": [
    "sorted_by_second = sorted(feature_importance, key=lambda tup: tup[1], reverse=True)"
   ]
  },
  {
   "cell_type": "code",
   "execution_count": 65,
   "metadata": {
    "ExecuteTime": {
     "end_time": "2018-05-15T01:04:14.686347Z",
     "start_time": "2018-05-15T01:04:14.681692Z"
    }
   },
   "outputs": [
    {
     "data": {
      "text/plain": [
       "[('num_lab_procedures', 0.060417300455745906),\n",
       " ('number_inpatient', 0.05806510463911424),\n",
       " ('num_medications', 0.05393377317205628),\n",
       " ('time_in_hospital', 0.041563520310349066),\n",
       " ('number_diagnoses', 0.030124544938746497),\n",
       " ('num_procedures', 0.027256854535116806),\n",
       " ('number_emergency', 0.017372210082898437),\n",
       " ('number_outpatient', 0.01685693066532441),\n",
       " ('discharge_disposition_id[T.Discharged to home]', 0.016338896830492035),\n",
       " ('discharge_disposition_id[T.Discharged/transferred to another rehab fac including rehab units of a hospital .]',\n",
       "  0.01126572580071715),\n",
       " ('gender[T.Male]', 0.010545237076360596),\n",
       " ('payer_code[T.MC]', 0.010410760159150106),\n",
       " ('diag_1[T.Diseases Of The Circulatory System]', 0.009815133775593992),\n",
       " ('diag_2[T.Diseases Of The Circulatory System]', 0.00951691727950032),\n",
       " ('diag_3[T.Diseases Of The Circulatory System]', 0.009460423181995031),\n",
       " ('age[T.[70-80)]', 0.009229482055158923),\n",
       " ('age[T.[60-70)]', 0.008987437215424695),\n",
       " ('race[T.Caucasian]', 0.008789373227626854),\n",
       " ('change[T.No]', 0.008765614820772163),\n",
       " ('age[T.[80-90)]', 0.008589196964712175),\n",
       " ('medical_specialty[T.InternalMedicine]', 0.008510494149945308),\n",
       " ('admission_type_id[T.Emergency]', 0.008484297423464838),\n",
       " ('diag_3[T.Supplementary Classification Of External Causes Of Injury And Poisoning]',\n",
       "  0.00835255474899397),\n",
       " ('insulin[T.No]', 0.008277154022452328),\n",
       " ('insulin[T.Steady]', 0.008268369513712088)]"
      ]
     },
     "execution_count": 65,
     "metadata": {},
     "output_type": "execute_result"
    }
   ],
   "source": [
    "sorted_by_second[0:25]"
   ]
  },
  {
   "cell_type": "code",
   "execution_count": 66,
   "metadata": {
    "ExecuteTime": {
     "end_time": "2018-05-15T01:04:19.189600Z",
     "start_time": "2018-05-15T01:04:19.186893Z"
    }
   },
   "outputs": [],
   "source": [
    "coef_to_plot = sorted_by_second[0:25]"
   ]
  },
  {
   "cell_type": "code",
   "execution_count": 67,
   "metadata": {
    "ExecuteTime": {
     "end_time": "2018-05-15T01:04:20.471076Z",
     "start_time": "2018-05-15T01:04:20.466881Z"
    }
   },
   "outputs": [],
   "source": [
    "df = pd.DataFrame(coef_to_plot, columns=['feature','coefficient'])"
   ]
  },
  {
   "cell_type": "code",
   "execution_count": 68,
   "metadata": {
    "ExecuteTime": {
     "end_time": "2018-05-15T01:04:44.281728Z",
     "start_time": "2018-05-15T01:04:44.274519Z"
    }
   },
   "outputs": [
    {
     "data": {
      "text/html": [
       "<div>\n",
       "<style scoped>\n",
       "    .dataframe tbody tr th:only-of-type {\n",
       "        vertical-align: middle;\n",
       "    }\n",
       "\n",
       "    .dataframe tbody tr th {\n",
       "        vertical-align: top;\n",
       "    }\n",
       "\n",
       "    .dataframe thead th {\n",
       "        text-align: right;\n",
       "    }\n",
       "</style>\n",
       "<table border=\"1\" class=\"dataframe\">\n",
       "  <thead>\n",
       "    <tr style=\"text-align: right;\">\n",
       "      <th></th>\n",
       "      <th>feature</th>\n",
       "      <th>coefficient</th>\n",
       "    </tr>\n",
       "  </thead>\n",
       "  <tbody>\n",
       "    <tr>\n",
       "      <th>0</th>\n",
       "      <td>num_lab_procedures</td>\n",
       "      <td>0.060417</td>\n",
       "    </tr>\n",
       "    <tr>\n",
       "      <th>1</th>\n",
       "      <td>number_inpatient</td>\n",
       "      <td>0.058065</td>\n",
       "    </tr>\n",
       "    <tr>\n",
       "      <th>2</th>\n",
       "      <td>num_medications</td>\n",
       "      <td>0.053934</td>\n",
       "    </tr>\n",
       "    <tr>\n",
       "      <th>3</th>\n",
       "      <td>time_in_hospital</td>\n",
       "      <td>0.041564</td>\n",
       "    </tr>\n",
       "    <tr>\n",
       "      <th>4</th>\n",
       "      <td>number_diagnoses</td>\n",
       "      <td>0.030125</td>\n",
       "    </tr>\n",
       "  </tbody>\n",
       "</table>\n",
       "</div>"
      ],
      "text/plain": [
       "              feature  coefficient\n",
       "0  num_lab_procedures     0.060417\n",
       "1    number_inpatient     0.058065\n",
       "2     num_medications     0.053934\n",
       "3    time_in_hospital     0.041564\n",
       "4    number_diagnoses     0.030125"
      ]
     },
     "execution_count": 68,
     "metadata": {},
     "output_type": "execute_result"
    }
   ],
   "source": [
    "df.head()"
   ]
  },
  {
   "cell_type": "code",
   "execution_count": 110,
   "metadata": {
    "ExecuteTime": {
     "end_time": "2018-05-15T01:36:26.746978Z",
     "start_time": "2018-05-15T01:36:26.398580Z"
    }
   },
   "outputs": [
    {
     "data": {
      "image/png": "[encoded data removed]",
      "text/plain": [
       "<Figure size 432x288 with 1 Axes>"
      ]
     },
     "metadata": {},
     "output_type": "display_data"
    }
   ],
   "source": [
    "plt.bar(df.feature, df.coefficient)\n",
    "plt.xticks(rotation='vertical');\n",
    "plt.yticks(rotation='vertical');"
   ]
  },
  {
   "cell_type": "code",
   "execution_count": 109,
   "metadata": {
    "ExecuteTime": {
     "end_time": "2018-05-15T01:33:25.452457Z",
     "start_time": "2018-05-15T01:33:25.107296Z"
    }
   },
   "outputs": [
    {
     "ename": "AttributeError",
     "evalue": "module 'matplotlib.pyplot' has no attribute 'invert_yaxis'",
     "output_type": "error",
     "traceback": [
      "\u001b[0;31m---------------------------------------------------------------------------\u001b[0m",
      "\u001b[0;31mAttributeError\u001b[0m                            Traceback (most recent call last)",
      "\u001b[0;32m<ipython-input-109-364a37e091ae>\u001b[0m in \u001b[0;36m<module>\u001b[0;34m()\u001b[0m\n\u001b[1;32m      1\u001b[0m \u001b[0mplt\u001b[0m\u001b[0;34m.\u001b[0m\u001b[0mbarh\u001b[0m\u001b[0;34m(\u001b[0m\u001b[0mdf\u001b[0m\u001b[0;34m.\u001b[0m\u001b[0mfeature\u001b[0m\u001b[0;34m,\u001b[0m \u001b[0mdf\u001b[0m\u001b[0;34m.\u001b[0m\u001b[0mcoefficient\u001b[0m\u001b[0;34m)\u001b[0m\u001b[0;34m\u001b[0m\u001b[0m\n\u001b[0;32m----> 2\u001b[0;31m \u001b[0mplt\u001b[0m\u001b[0;34m.\u001b[0m\u001b[0minvert_yaxis\u001b[0m\u001b[0;34m(\u001b[0m\u001b[0;34m)\u001b[0m\u001b[0;34m\u001b[0m\u001b[0m\n\u001b[0m",
      "\u001b[0;31mAttributeError\u001b[0m: module 'matplotlib.pyplot' has no attribute 'invert_yaxis'"
     ]
    },
    {
     "data": {
      "image/png": "[encoded data removed]",
      "text/plain": [
       "<Figure size 432x288 with 1 Axes>"
      ]
     },
     "metadata": {},
     "output_type": "display_data"
    }
   ],
   "source": [
    "plt.barh(df.feature, df.coefficient)\n",
    "plt.invert_yaxis()"
   ]
  },
  {
   "cell_type": "code",
   "execution_count": null,
   "metadata": {},
   "outputs": [],
   "source": []
  },
  {
   "cell_type": "markdown",
   "metadata": {},
   "source": [
    "#### Plotting the correlation between readmission and the top 25 predictive features:"
   ]
  },
  {
   "cell_type": "code",
   "execution_count": 79,
   "metadata": {
    "ExecuteTime": {
     "end_time": "2018-05-15T01:10:51.231205Z",
     "start_time": "2018-05-15T01:10:51.226947Z"
    }
   },
   "outputs": [
    {
     "data": {
      "text/plain": [
       "['num_lab_procedures',\n",
       " 'number_inpatient',\n",
       " 'num_medications',\n",
       " 'time_in_hospital',\n",
       " 'number_diagnoses',\n",
       " 'num_procedures',\n",
       " 'number_emergency',\n",
       " 'number_outpatient',\n",
       " 'discharge_disposition_id[T.Discharged to home]',\n",
       " 'discharge_disposition_id[T.Discharged/transferred to another rehab fac including rehab units of a hospital .]',\n",
       " 'gender[T.Male]',\n",
       " 'payer_code[T.MC]',\n",
       " 'diag_1[T.Diseases Of The Circulatory System]',\n",
       " 'diag_2[T.Diseases Of The Circulatory System]',\n",
       " 'diag_3[T.Diseases Of The Circulatory System]',\n",
       " 'age[T.[70-80)]',\n",
       " 'age[T.[60-70)]',\n",
       " 'race[T.Caucasian]',\n",
       " 'change[T.No]',\n",
       " 'age[T.[80-90)]',\n",
       " 'medical_specialty[T.InternalMedicine]',\n",
       " 'admission_type_id[T.Emergency]',\n",
       " 'diag_3[T.Supplementary Classification Of External Causes Of Injury And Poisoning]',\n",
       " 'insulin[T.No]',\n",
       " 'insulin[T.Steady]']"
      ]
     },
     "execution_count": 79,
     "metadata": {},
     "output_type": "execute_result"
    }
   ],
   "source": [
    "list(df.feature.unique())"
   ]
  },
  {
   "cell_type": "code",
   "execution_count": 90,
   "metadata": {
    "ExecuteTime": {
     "end_time": "2018-05-15T01:14:18.252744Z",
     "start_time": "2018-05-15T01:14:17.920919Z"
    }
   },
   "outputs": [],
   "source": [
    "sub_x = x.copy()[list(df.feature.unique())]"
   ]
  },
  {
   "cell_type": "code",
   "execution_count": 91,
   "metadata": {
    "ExecuteTime": {
     "end_time": "2018-05-15T01:14:18.559347Z",
     "start_time": "2018-05-15T01:14:18.502778Z"
    }
   },
   "outputs": [],
   "source": [
    "sub_x['y'] = y"
   ]
  },
  {
   "cell_type": "code",
   "execution_count": 92,
   "metadata": {
    "ExecuteTime": {
     "end_time": "2018-05-15T01:14:19.208216Z",
     "start_time": "2018-05-15T01:14:19.185374Z"
    }
   },
   "outputs": [
    {
     "data": {
      "text/html": [
       "<div>\n",
       "<style scoped>\n",
       "    .dataframe tbody tr th:only-of-type {\n",
       "        vertical-align: middle;\n",
       "    }\n",
       "\n",
       "    .dataframe tbody tr th {\n",
       "        vertical-align: top;\n",
       "    }\n",
       "\n",
       "    .dataframe thead th {\n",
       "        text-align: right;\n",
       "    }\n",
       "</style>\n",
       "<table border=\"1\" class=\"dataframe\">\n",
       "  <thead>\n",
       "    <tr style=\"text-align: right;\">\n",
       "      <th></th>\n",
       "      <th>num_lab_procedures</th>\n",
       "      <th>number_inpatient</th>\n",
       "      <th>num_medications</th>\n",
       "      <th>time_in_hospital</th>\n",
       "      <th>number_diagnoses</th>\n",
       "      <th>num_procedures</th>\n",
       "      <th>number_emergency</th>\n",
       "      <th>number_outpatient</th>\n",
       "      <th>discharge_disposition_id[T.Discharged to home]</th>\n",
       "      <th>discharge_disposition_id[T.Discharged/transferred to another rehab fac including rehab units of a hospital .]</th>\n",
       "      <th>...</th>\n",
       "      <th>age[T.[60-70)]</th>\n",
       "      <th>race[T.Caucasian]</th>\n",
       "      <th>change[T.No]</th>\n",
       "      <th>age[T.[80-90)]</th>\n",
       "      <th>medical_specialty[T.InternalMedicine]</th>\n",
       "      <th>admission_type_id[T.Emergency]</th>\n",
       "      <th>diag_3[T.Supplementary Classification Of External Causes Of Injury And Poisoning]</th>\n",
       "      <th>insulin[T.No]</th>\n",
       "      <th>insulin[T.Steady]</th>\n",
       "      <th>y</th>\n",
       "    </tr>\n",
       "  </thead>\n",
       "  <tbody>\n",
       "    <tr>\n",
       "      <th>0</th>\n",
       "      <td>41.0</td>\n",
       "      <td>0.0</td>\n",
       "      <td>1.0</td>\n",
       "      <td>1.0</td>\n",
       "      <td>1.0</td>\n",
       "      <td>0.0</td>\n",
       "      <td>0.0</td>\n",
       "      <td>0.0</td>\n",
       "      <td>0.0</td>\n",
       "      <td>0.0</td>\n",
       "      <td>...</td>\n",
       "      <td>0.0</td>\n",
       "      <td>1.0</td>\n",
       "      <td>1.0</td>\n",
       "      <td>0.0</td>\n",
       "      <td>0.0</td>\n",
       "      <td>0.0</td>\n",
       "      <td>0.0</td>\n",
       "      <td>1.0</td>\n",
       "      <td>0.0</td>\n",
       "      <td>NO</td>\n",
       "    </tr>\n",
       "    <tr>\n",
       "      <th>1</th>\n",
       "      <td>59.0</td>\n",
       "      <td>0.0</td>\n",
       "      <td>18.0</td>\n",
       "      <td>3.0</td>\n",
       "      <td>9.0</td>\n",
       "      <td>0.0</td>\n",
       "      <td>0.0</td>\n",
       "      <td>0.0</td>\n",
       "      <td>1.0</td>\n",
       "      <td>0.0</td>\n",
       "      <td>...</td>\n",
       "      <td>0.0</td>\n",
       "      <td>1.0</td>\n",
       "      <td>0.0</td>\n",
       "      <td>0.0</td>\n",
       "      <td>0.0</td>\n",
       "      <td>1.0</td>\n",
       "      <td>1.0</td>\n",
       "      <td>0.0</td>\n",
       "      <td>0.0</td>\n",
       "      <td>NO</td>\n",
       "    </tr>\n",
       "    <tr>\n",
       "      <th>2</th>\n",
       "      <td>11.0</td>\n",
       "      <td>1.0</td>\n",
       "      <td>13.0</td>\n",
       "      <td>2.0</td>\n",
       "      <td>6.0</td>\n",
       "      <td>5.0</td>\n",
       "      <td>0.0</td>\n",
       "      <td>2.0</td>\n",
       "      <td>1.0</td>\n",
       "      <td>0.0</td>\n",
       "      <td>...</td>\n",
       "      <td>0.0</td>\n",
       "      <td>0.0</td>\n",
       "      <td>1.0</td>\n",
       "      <td>0.0</td>\n",
       "      <td>0.0</td>\n",
       "      <td>1.0</td>\n",
       "      <td>0.0</td>\n",
       "      <td>1.0</td>\n",
       "      <td>0.0</td>\n",
       "      <td>NO</td>\n",
       "    </tr>\n",
       "    <tr>\n",
       "      <th>3</th>\n",
       "      <td>44.0</td>\n",
       "      <td>0.0</td>\n",
       "      <td>16.0</td>\n",
       "      <td>2.0</td>\n",
       "      <td>7.0</td>\n",
       "      <td>1.0</td>\n",
       "      <td>0.0</td>\n",
       "      <td>0.0</td>\n",
       "      <td>1.0</td>\n",
       "      <td>0.0</td>\n",
       "      <td>...</td>\n",
       "      <td>0.0</td>\n",
       "      <td>1.0</td>\n",
       "      <td>0.0</td>\n",
       "      <td>0.0</td>\n",
       "      <td>0.0</td>\n",
       "      <td>1.0</td>\n",
       "      <td>0.0</td>\n",
       "      <td>0.0</td>\n",
       "      <td>0.0</td>\n",
       "      <td>NO</td>\n",
       "    </tr>\n",
       "    <tr>\n",
       "      <th>4</th>\n",
       "      <td>51.0</td>\n",
       "      <td>0.0</td>\n",
       "      <td>8.0</td>\n",
       "      <td>1.0</td>\n",
       "      <td>5.0</td>\n",
       "      <td>0.0</td>\n",
       "      <td>0.0</td>\n",
       "      <td>0.0</td>\n",
       "      <td>1.0</td>\n",
       "      <td>0.0</td>\n",
       "      <td>...</td>\n",
       "      <td>0.0</td>\n",
       "      <td>1.0</td>\n",
       "      <td>0.0</td>\n",
       "      <td>0.0</td>\n",
       "      <td>0.0</td>\n",
       "      <td>1.0</td>\n",
       "      <td>1.0</td>\n",
       "      <td>0.0</td>\n",
       "      <td>1.0</td>\n",
       "      <td>NO</td>\n",
       "    </tr>\n",
       "  </tbody>\n",
       "</table>\n",
       "<p>5 rows × 26 columns</p>\n",
       "</div>"
      ],
      "text/plain": [
       "   num_lab_procedures  number_inpatient  num_medications  time_in_hospital  \\\n",
       "0                41.0               0.0              1.0               1.0   \n",
       "1                59.0               0.0             18.0               3.0   \n",
       "2                11.0               1.0             13.0               2.0   \n",
       "3                44.0               0.0             16.0               2.0   \n",
       "4                51.0               0.0              8.0               1.0   \n",
       "\n",
       "   number_diagnoses  num_procedures  number_emergency  number_outpatient  \\\n",
       "0               1.0             0.0               0.0                0.0   \n",
       "1               9.0             0.0               0.0                0.0   \n",
       "2               6.0             5.0               0.0                2.0   \n",
       "3               7.0             1.0               0.0                0.0   \n",
       "4               5.0             0.0               0.0                0.0   \n",
       "\n",
       "   discharge_disposition_id[T.Discharged to home]  \\\n",
       "0                                             0.0   \n",
       "1                                             1.0   \n",
       "2                                             1.0   \n",
       "3                                             1.0   \n",
       "4                                             1.0   \n",
       "\n",
       "   discharge_disposition_id[T.Discharged/transferred to another rehab fac including rehab units of a hospital .]  \\\n",
       "0                                                0.0                                                               \n",
       "1                                                0.0                                                               \n",
       "2                                                0.0                                                               \n",
       "3                                                0.0                                                               \n",
       "4                                                0.0                                                               \n",
       "\n",
       "  ...  age[T.[60-70)]  race[T.Caucasian]  change[T.No]  age[T.[80-90)]  \\\n",
       "0 ...             0.0                1.0           1.0             0.0   \n",
       "1 ...             0.0                1.0           0.0             0.0   \n",
       "2 ...             0.0                0.0           1.0             0.0   \n",
       "3 ...             0.0                1.0           0.0             0.0   \n",
       "4 ...             0.0                1.0           0.0             0.0   \n",
       "\n",
       "   medical_specialty[T.InternalMedicine]  admission_type_id[T.Emergency]  \\\n",
       "0                                    0.0                             0.0   \n",
       "1                                    0.0                             1.0   \n",
       "2                                    0.0                             1.0   \n",
       "3                                    0.0                             1.0   \n",
       "4                                    0.0                             1.0   \n",
       "\n",
       "   diag_3[T.Supplementary Classification Of External Causes Of Injury And Poisoning]  \\\n",
       "0                                                0.0                                   \n",
       "1                                                1.0                                   \n",
       "2                                                0.0                                   \n",
       "3                                                0.0                                   \n",
       "4                                                1.0                                   \n",
       "\n",
       "   insulin[T.No]  insulin[T.Steady]   y  \n",
       "0            1.0                0.0  NO  \n",
       "1            0.0                0.0  NO  \n",
       "2            1.0                0.0  NO  \n",
       "3            0.0                0.0  NO  \n",
       "4            0.0                1.0  NO  \n",
       "\n",
       "[5 rows x 26 columns]"
      ]
     },
     "execution_count": 92,
     "metadata": {},
     "output_type": "execute_result"
    }
   ],
   "source": [
    "sub_x.head()"
   ]
  },
  {
   "cell_type": "code",
   "execution_count": 93,
   "metadata": {
    "ExecuteTime": {
     "end_time": "2018-05-15T01:14:23.526109Z",
     "start_time": "2018-05-15T01:14:23.495447Z"
    }
   },
   "outputs": [],
   "source": [
    "sub_x.y = sub_x.y.replace('NO',0)\n",
    "sub_x.y = sub_x.y.replace('<30',1)"
   ]
  },
  {
   "cell_type": "code",
   "execution_count": 96,
   "metadata": {
    "ExecuteTime": {
     "end_time": "2018-05-15T01:17:06.052769Z",
     "start_time": "2018-05-15T01:17:05.255861Z"
    }
   },
   "outputs": [
    {
     "data": {
      "text/plain": [
       "<matplotlib.axes._subplots.AxesSubplot at 0x1a23e3cdd8>"
      ]
     },
     "execution_count": 96,
     "metadata": {},
     "output_type": "execute_result"
    },
    {
     "data": {
      "image/png": "[encoded data removed]",
      "text/plain": [
       "<Figure size 792x648 with 2 Axes>"
      ]
     },
     "metadata": {},
     "output_type": "display_data"
    }
   ],
   "source": [
    "# sns.pairplot(sub_x)\n",
    "\n",
    "# Compute the correlation matrix\n",
    "corr = sub_x.corr()\n",
    "\n",
    "# Generate a mask for the upper triangle\n",
    "mask = np.zeros_like(corr, dtype=np.bool)\n",
    "mask[np.triu_indices_from(mask)] = True\n",
    "\n",
    "# Set up the matplotlib figure\n",
    "f, ax = plt.subplots(figsize=(11, 9))\n",
    "\n",
    "# Generate a custom diverging colormap\n",
    "cmap = sns.diverging_palette(220, 10, as_cmap=True)\n",
    "\n",
    "# Draw the heatmap with the mask and correct aspect ratio\n",
    "sns.heatmap(corr, mask=mask, cmap=cmap, vmax=.3, center=0,\n",
    "            square=True, linewidths=.5, cbar_kws={\"shrink\": .5})"
   ]
  },
  {
   "cell_type": "code",
   "execution_count": 114,
   "metadata": {
    "ExecuteTime": {
     "end_time": "2018-05-15T15:53:06.522292Z",
     "start_time": "2018-05-15T15:53:06.487931Z"
    }
   },
   "outputs": [],
   "source": [
    "sub_x = sub_x.drop(['y'], axis=1)"
   ]
  },
  {
   "cell_type": "code",
   "execution_count": 116,
   "metadata": {
    "ExecuteTime": {
     "end_time": "2018-05-15T15:53:17.435002Z",
     "start_time": "2018-05-15T15:53:17.430205Z"
    }
   },
   "outputs": [
    {
     "data": {
      "text/plain": [
       "(100114, 25)"
      ]
     },
     "execution_count": 116,
     "metadata": {},
     "output_type": "execute_result"
    }
   ],
   "source": [
    "sub_x.shape"
   ]
  },
  {
   "cell_type": "markdown",
   "metadata": {},
   "source": [
    "#### My top 25 features keep the recall at .60, .61 - slightly higher with re-tweaking hyperparameters"
   ]
  },
  {
   "cell_type": "code",
   "execution_count": 117,
   "metadata": {
    "ExecuteTime": {
     "end_time": "2018-05-15T15:54:23.736115Z",
     "start_time": "2018-05-15T15:54:23.628093Z"
    }
   },
   "outputs": [],
   "source": [
    "x_train, x_test, y_train, y_test = train_test_split(sub_x, y, test_size=0.25, random_state=42, stratify=y)"
   ]
  },
  {
   "cell_type": "code",
   "execution_count": 119,
   "metadata": {
    "ExecuteTime": {
     "end_time": "2018-05-15T15:56:08.086691Z",
     "start_time": "2018-05-15T15:56:07.897690Z"
    }
   },
   "outputs": [],
   "source": [
    "rus = RandomUnderSampler(random_state=0)\n",
    "x_train_undersampled, y_train_undersampled = rus.fit_sample(x_train, y_train)"
   ]
  },
  {
   "cell_type": "code",
   "execution_count": 228,
   "metadata": {
    "ExecuteTime": {
     "end_time": "2018-05-16T00:01:22.367051Z",
     "start_time": "2018-05-16T00:01:22.360070Z"
    }
   },
   "outputs": [
    {
     "data": {
      "text/plain": [
       "(75085, 25)"
      ]
     },
     "execution_count": 228,
     "metadata": {},
     "output_type": "execute_result"
    }
   ],
   "source": [
    "x_train.shape"
   ]
  },
  {
   "cell_type": "code",
   "execution_count": 144,
   "metadata": {
    "ExecuteTime": {
     "end_time": "2018-05-15T17:11:17.491217Z",
     "start_time": "2018-05-15T17:11:12.246368Z"
    }
   },
   "outputs": [
    {
     "name": "stdout",
     "output_type": "stream",
     "text": [
      "Accuracy: 0.622\n",
      "             precision    recall  f1-score   support\n",
      "\n",
      "        <30       0.17      0.62      0.27      2839\n",
      "         NO       0.93      0.62      0.74     22190\n",
      "\n",
      "avg / total       0.84      0.62      0.69     25029\n",
      "\n",
      "[[ 1765  1074]\n",
      " [ 8395 13795]]\n"
     ]
    }
   ],
   "source": [
    "randomforest = RandomForestClassifier(n_estimators=300, min_samples_split=70)\n",
    "randomforest.fit(x_train_undersampled, y_train_undersampled)\n",
    "randomforest.score(x_test, y_test)\n",
    "y_pred = randomforest.predict(x_test)\n",
    "print(\"Accuracy: %.3f\"% metrics.accuracy_score(y_test, y_pred))\n",
    "print(metrics.classification_report(y_test, y_pred))\n",
    "print(metrics.confusion_matrix(y_test, y_pred))"
   ]
  },
  {
   "cell_type": "code",
   "execution_count": 229,
   "metadata": {
    "ExecuteTime": {
     "end_time": "2018-05-16T00:02:23.846496Z",
     "start_time": "2018-05-16T00:02:23.743682Z"
    }
   },
   "outputs": [],
   "source": [
    "# pickle model for predictor app\n",
    "with open('randomforest.pkl', 'wb') as picklefile:\n",
    "    pickle.dump(randomforest, picklefile)"
   ]
  },
  {
   "cell_type": "code",
   "execution_count": 156,
   "metadata": {
    "ExecuteTime": {
     "end_time": "2018-05-15T17:48:08.418430Z",
     "start_time": "2018-05-15T17:48:08.168978Z"
    }
   },
   "outputs": [
    {
     "data": {
      "text/plain": [
       "Text(68.0938,0.5,'True')"
      ]
     },
     "execution_count": 156,
     "metadata": {},
     "output_type": "execute_result"
    },
    {
     "data": {
      "image/png": "[encoded data removed]",
      "text/plain": [
       "<Figure size 720x504 with 2 Axes>"
      ]
     },
     "metadata": {},
     "output_type": "display_data"
    }
   ],
   "source": [
    "array = metrics.confusion_matrix(y_test, y_pred)\n",
    "df_cm = pd.DataFrame(array, index = ['early_readmitted', 'not'],\n",
    "                  columns = ['early_readmitted', 'not'])\n",
    "plt.figure(figsize = (10,7))\n",
    "sns.heatmap(df_cm, annot=True)\n",
    "plt.xlabel('Predicted')\n",
    "plt.ylabel('True')"
   ]
  },
  {
   "cell_type": "code",
   "execution_count": 163,
   "metadata": {
    "ExecuteTime": {
     "end_time": "2018-05-15T18:08:23.454662Z",
     "start_time": "2018-05-15T18:08:23.445066Z"
    }
   },
   "outputs": [],
   "source": []
  },
  {
   "cell_type": "code",
   "execution_count": null,
   "metadata": {},
   "outputs": [],
   "source": [
    "from sklearn.metrics import precision_recall_curve"
   ]
  },
  {
   "cell_type": "code",
   "execution_count": null,
   "metadata": {},
   "outputs": [],
   "source": [
    "y_test_num = y_test.copy()\n",
    "y_test_num = y_test_num.replace('NO', 0)\n",
    "y_test_num = y_test_num.replace('<30', 1)"
   ]
  },
  {
   "cell_type": "code",
   "execution_count": 166,
   "metadata": {
    "ExecuteTime": {
     "end_time": "2018-05-15T18:09:07.516372Z",
     "start_time": "2018-05-15T18:09:06.582724Z"
    }
   },
   "outputs": [
    {
     "data": {
      "text/plain": [
       "Text(0.5,1,'Precision Recall Curve')"
      ]
     },
     "execution_count": 166,
     "metadata": {},
     "output_type": "execute_result"
    },
    {
     "data": {
      "image/png": "[encoded data removed]",
      "text/plain": [
       "<Figure size 432x288 with 1 Axes>"
      ]
     },
     "metadata": {},
     "output_type": "display_data"
    }
   ],
   "source": [
    "model = randomforest\n",
    "\n",
    "y_score = model.predict_proba(x_test)[:, 1]\n",
    "p, r, t = precision_recall_curve(y_test_num, y_score)\n",
    "\n",
    "# adding last threshold of '1' to threshold list\n",
    "t = np.vstack([t.reshape([-1, 1]), 1])\n",
    "\n",
    "plt.plot(t, p)\n",
    "plt.plot(t, r)\n",
    "plt.title('Precision Recall Curve')\n",
    "# yellow = recall\n",
    "# blue = precision"
   ]
  },
  {
   "cell_type": "code",
   "execution_count": 167,
   "metadata": {
    "ExecuteTime": {
     "end_time": "2018-05-15T18:40:51.578774Z",
     "start_time": "2018-05-15T18:40:51.574552Z"
    }
   },
   "outputs": [
    {
     "data": {
      "text/plain": [
       "array([0.45434113, 0.69970069, 0.69299663, ..., 0.4577133 , 0.44217267,\n",
       "       0.44332205])"
      ]
     },
     "execution_count": 167,
     "metadata": {},
     "output_type": "execute_result"
    }
   ],
   "source": [
    "y_score"
   ]
  },
  {
   "cell_type": "code",
   "execution_count": 172,
   "metadata": {
    "ExecuteTime": {
     "end_time": "2018-05-15T18:47:52.023044Z",
     "start_time": "2018-05-15T18:47:52.013352Z"
    }
   },
   "outputs": [
    {
     "ename": "AttributeError",
     "evalue": "module 'pandas' has no attribute 'y_pred'",
     "output_type": "error",
     "traceback": [
      "\u001b[0;31m---------------------------------------------------------------------------\u001b[0m",
      "\u001b[0;31mAttributeError\u001b[0m                            Traceback (most recent call last)",
      "\u001b[0;32m<ipython-input-172-192c6971f987>\u001b[0m in \u001b[0;36m<module>\u001b[0;34m()\u001b[0m\n\u001b[0;32m----> 1\u001b[0;31m \u001b[0mthresholding\u001b[0m \u001b[0;34m=\u001b[0m \u001b[0mpd\u001b[0m\u001b[0;34m.\u001b[0m\u001b[0my_pred\u001b[0m\u001b[0;34m.\u001b[0m\u001b[0mcopy\u001b[0m\u001b[0;34m(\u001b[0m\u001b[0;34m)\u001b[0m\u001b[0;34m\u001b[0m\u001b[0m\n\u001b[0m",
      "\u001b[0;31mAttributeError\u001b[0m: module 'pandas' has no attribute 'y_pred'"
     ]
    }
   ],
   "source": [
    "thresholding = pd.y_pred.copy()"
   ]
  },
  {
   "cell_type": "code",
   "execution_count": 171,
   "metadata": {
    "ExecuteTime": {
     "end_time": "2018-05-15T18:47:41.635695Z",
     "start_time": "2018-05-15T18:47:41.626396Z"
    }
   },
   "outputs": [
    {
     "ename": "AttributeError",
     "evalue": "'numpy.ndarray' object has no attribute 'head'",
     "output_type": "error",
     "traceback": [
      "\u001b[0;31m---------------------------------------------------------------------------\u001b[0m",
      "\u001b[0;31mAttributeError\u001b[0m                            Traceback (most recent call last)",
      "\u001b[0;32m<ipython-input-171-80615f44d435>\u001b[0m in \u001b[0;36m<module>\u001b[0;34m()\u001b[0m\n\u001b[0;32m----> 1\u001b[0;31m \u001b[0mthresholding\u001b[0m\u001b[0;34m.\u001b[0m\u001b[0mhead\u001b[0m\u001b[0;34m(\u001b[0m\u001b[0;34m)\u001b[0m\u001b[0;34m\u001b[0m\u001b[0m\n\u001b[0m",
      "\u001b[0;31mAttributeError\u001b[0m: 'numpy.ndarray' object has no attribute 'head'"
     ]
    }
   ],
   "source": [
    "thresholding.head()"
   ]
  },
  {
   "cell_type": "code",
   "execution_count": 170,
   "metadata": {
    "ExecuteTime": {
     "end_time": "2018-05-15T18:47:20.159786Z",
     "start_time": "2018-05-15T18:47:20.149754Z"
    }
   },
   "outputs": [
    {
     "ename": "IndexError",
     "evalue": "only integers, slices (`:`), ellipsis (`...`), numpy.newaxis (`None`) and integer or boolean arrays are valid indices",
     "output_type": "error",
     "traceback": [
      "\u001b[0;31m---------------------------------------------------------------------------\u001b[0m",
      "\u001b[0;31mIndexError\u001b[0m                                Traceback (most recent call last)",
      "\u001b[0;32m<ipython-input-170-937dcc9bfc1e>\u001b[0m in \u001b[0;36m<module>\u001b[0;34m()\u001b[0m\n\u001b[0;32m----> 1\u001b[0;31m \u001b[0mthresholding\u001b[0m\u001b[0;34m[\u001b[0m\u001b[0;34m'y_test'\u001b[0m\u001b[0;34m]\u001b[0m \u001b[0;34m=\u001b[0m \u001b[0my_test\u001b[0m\u001b[0;34m.\u001b[0m\u001b[0mcopy\u001b[0m\u001b[0;34m(\u001b[0m\u001b[0;34m)\u001b[0m\u001b[0;34m\u001b[0m\u001b[0m\n\u001b[0m",
      "\u001b[0;31mIndexError\u001b[0m: only integers, slices (`:`), ellipsis (`...`), numpy.newaxis (`None`) and integer or boolean arrays are valid indices"
     ]
    }
   ],
   "source": [
    "thresholding['y_test'] = y_test.copy()"
   ]
  },
  {
   "cell_type": "code",
   "execution_count": null,
   "metadata": {},
   "outputs": [],
   "source": []
  },
  {
   "cell_type": "code",
   "execution_count": null,
   "metadata": {},
   "outputs": [],
   "source": []
  },
  {
   "cell_type": "code",
   "execution_count": null,
   "metadata": {},
   "outputs": [],
   "source": [
    "for t in range(0,1,0.1):\n",
    "    "
   ]
  },
  {
   "cell_type": "code",
   "execution_count": 179,
   "metadata": {
    "ExecuteTime": {
     "end_time": "2018-05-15T19:13:15.587485Z",
     "start_time": "2018-05-15T19:13:14.737528Z"
    }
   },
   "outputs": [
    {
     "ename": "KeyError",
     "evalue": "0",
     "output_type": "error",
     "traceback": [
      "\u001b[0;31m---------------------------------------------------------------------------\u001b[0m",
      "\u001b[0;31mKeyError\u001b[0m                                  Traceback (most recent call last)",
      "\u001b[0;32m<ipython-input-179-97b8ac8b8ee1>\u001b[0m in \u001b[0;36m<module>\u001b[0;34m()\u001b[0m\n\u001b[1;32m      7\u001b[0m \u001b[0;32mfor\u001b[0m \u001b[0mt\u001b[0m \u001b[0;32min\u001b[0m \u001b[0mnp\u001b[0m\u001b[0;34m.\u001b[0m\u001b[0marange\u001b[0m\u001b[0;34m(\u001b[0m\u001b[0;36m0\u001b[0m\u001b[0;34m,\u001b[0m\u001b[0;36m1\u001b[0m\u001b[0;34m,\u001b[0m\u001b[0;36m0.1\u001b[0m\u001b[0;34m)\u001b[0m\u001b[0;34m:\u001b[0m\u001b[0;34m\u001b[0m\u001b[0m\n\u001b[1;32m      8\u001b[0m     \u001b[0my_pred\u001b[0m \u001b[0;34m=\u001b[0m \u001b[0;34m[\u001b[0m\u001b[0mint\u001b[0m\u001b[0;34m(\u001b[0m\u001b[0;36m1\u001b[0m\u001b[0;34m)\u001b[0m \u001b[0;32mif\u001b[0m \u001b[0mi\u001b[0m \u001b[0;34m>\u001b[0m \u001b[0mt\u001b[0m \u001b[0;32melse\u001b[0m \u001b[0mint\u001b[0m\u001b[0;34m(\u001b[0m\u001b[0;36m0\u001b[0m\u001b[0;34m)\u001b[0m \u001b[0;32mfor\u001b[0m \u001b[0mi\u001b[0m \u001b[0;32min\u001b[0m \u001b[0mmodel\u001b[0m\u001b[0;34m.\u001b[0m\u001b[0mpredict_proba\u001b[0m\u001b[0;34m(\u001b[0m\u001b[0mx_test\u001b[0m\u001b[0;34m)\u001b[0m\u001b[0;34m[\u001b[0m\u001b[0;34m:\u001b[0m\u001b[0;34m,\u001b[0m \u001b[0;36m1\u001b[0m\u001b[0;34m]\u001b[0m\u001b[0;34m]\u001b[0m\u001b[0;34m\u001b[0m\u001b[0m\n\u001b[0;32m----> 9\u001b[0;31m     \u001b[0mFP\u001b[0m \u001b[0;34m=\u001b[0m \u001b[0;34m[\u001b[0m\u001b[0mint\u001b[0m\u001b[0;34m(\u001b[0m\u001b[0;36m1\u001b[0m\u001b[0;34m)\u001b[0m \u001b[0;32mif\u001b[0m \u001b[0my_pred\u001b[0m\u001b[0;34m[\u001b[0m\u001b[0mi\u001b[0m\u001b[0;34m]\u001b[0m\u001b[0;34m==\u001b[0m\u001b[0;36m1\u001b[0m \u001b[0;32mand\u001b[0m \u001b[0my_test_num\u001b[0m\u001b[0;34m[\u001b[0m\u001b[0mi\u001b[0m\u001b[0;34m]\u001b[0m\u001b[0;34m==\u001b[0m\u001b[0;36m0\u001b[0m \u001b[0;32melse\u001b[0m \u001b[0mint\u001b[0m\u001b[0;34m(\u001b[0m\u001b[0;36m0\u001b[0m\u001b[0;34m)\u001b[0m \u001b[0;32mfor\u001b[0m \u001b[0mi\u001b[0m \u001b[0;32min\u001b[0m \u001b[0mrange\u001b[0m\u001b[0;34m(\u001b[0m\u001b[0mlen\u001b[0m\u001b[0;34m(\u001b[0m\u001b[0my_pred\u001b[0m\u001b[0;34m)\u001b[0m\u001b[0;34m)\u001b[0m \u001b[0;34m]\u001b[0m\u001b[0;34m\u001b[0m\u001b[0m\n\u001b[0m\u001b[1;32m     10\u001b[0m     \u001b[0mTP\u001b[0m \u001b[0;34m=\u001b[0m \u001b[0;34m[\u001b[0m\u001b[0mint\u001b[0m\u001b[0;34m(\u001b[0m\u001b[0;36m1\u001b[0m\u001b[0;34m)\u001b[0m \u001b[0;32mif\u001b[0m \u001b[0my_pred\u001b[0m\u001b[0;34m[\u001b[0m\u001b[0mi\u001b[0m\u001b[0;34m]\u001b[0m\u001b[0;34m==\u001b[0m\u001b[0;36m1\u001b[0m \u001b[0;32mand\u001b[0m \u001b[0my_test_num\u001b[0m\u001b[0;34m[\u001b[0m\u001b[0mi\u001b[0m\u001b[0;34m]\u001b[0m\u001b[0;34m==\u001b[0m\u001b[0;36m1\u001b[0m \u001b[0;32melse\u001b[0m \u001b[0mint\u001b[0m\u001b[0;34m(\u001b[0m\u001b[0;36m0\u001b[0m\u001b[0;34m)\u001b[0m \u001b[0;32mfor\u001b[0m \u001b[0mi\u001b[0m \u001b[0;32min\u001b[0m \u001b[0mrange\u001b[0m\u001b[0;34m(\u001b[0m\u001b[0mlen\u001b[0m\u001b[0;34m(\u001b[0m\u001b[0my_pred\u001b[0m\u001b[0;34m)\u001b[0m\u001b[0;34m)\u001b[0m \u001b[0;34m]\u001b[0m\u001b[0;34m\u001b[0m\u001b[0m\n\u001b[1;32m     11\u001b[0m     \u001b[0mFN\u001b[0m \u001b[0;34m=\u001b[0m \u001b[0;34m[\u001b[0m\u001b[0mint\u001b[0m\u001b[0;34m(\u001b[0m\u001b[0;36m1\u001b[0m\u001b[0;34m)\u001b[0m \u001b[0;32mif\u001b[0m \u001b[0my_pred\u001b[0m\u001b[0;34m[\u001b[0m\u001b[0mi\u001b[0m\u001b[0;34m]\u001b[0m\u001b[0;34m==\u001b[0m\u001b[0;36m0\u001b[0m \u001b[0;32mand\u001b[0m \u001b[0my_test_num\u001b[0m\u001b[0;34m[\u001b[0m\u001b[0mi\u001b[0m\u001b[0;34m]\u001b[0m\u001b[0;34m==\u001b[0m\u001b[0;36m1\u001b[0m \u001b[0;32melse\u001b[0m \u001b[0mint\u001b[0m\u001b[0;34m(\u001b[0m\u001b[0;36m0\u001b[0m\u001b[0;34m)\u001b[0m \u001b[0;32mfor\u001b[0m \u001b[0mi\u001b[0m \u001b[0;32min\u001b[0m \u001b[0mrange\u001b[0m\u001b[0;34m(\u001b[0m\u001b[0mlen\u001b[0m\u001b[0;34m(\u001b[0m\u001b[0my_pred\u001b[0m\u001b[0;34m)\u001b[0m\u001b[0;34m)\u001b[0m \u001b[0;34m]\u001b[0m\u001b[0;34m\u001b[0m\u001b[0m\n",
      "\u001b[0;32m<ipython-input-179-97b8ac8b8ee1>\u001b[0m in \u001b[0;36m<listcomp>\u001b[0;34m(.0)\u001b[0m\n\u001b[1;32m      7\u001b[0m \u001b[0;32mfor\u001b[0m \u001b[0mt\u001b[0m \u001b[0;32min\u001b[0m \u001b[0mnp\u001b[0m\u001b[0;34m.\u001b[0m\u001b[0marange\u001b[0m\u001b[0;34m(\u001b[0m\u001b[0;36m0\u001b[0m\u001b[0;34m,\u001b[0m\u001b[0;36m1\u001b[0m\u001b[0;34m,\u001b[0m\u001b[0;36m0.1\u001b[0m\u001b[0;34m)\u001b[0m\u001b[0;34m:\u001b[0m\u001b[0;34m\u001b[0m\u001b[0m\n\u001b[1;32m      8\u001b[0m     \u001b[0my_pred\u001b[0m \u001b[0;34m=\u001b[0m \u001b[0;34m[\u001b[0m\u001b[0mint\u001b[0m\u001b[0;34m(\u001b[0m\u001b[0;36m1\u001b[0m\u001b[0;34m)\u001b[0m \u001b[0;32mif\u001b[0m \u001b[0mi\u001b[0m \u001b[0;34m>\u001b[0m \u001b[0mt\u001b[0m \u001b[0;32melse\u001b[0m \u001b[0mint\u001b[0m\u001b[0;34m(\u001b[0m\u001b[0;36m0\u001b[0m\u001b[0;34m)\u001b[0m \u001b[0;32mfor\u001b[0m \u001b[0mi\u001b[0m \u001b[0;32min\u001b[0m \u001b[0mmodel\u001b[0m\u001b[0;34m.\u001b[0m\u001b[0mpredict_proba\u001b[0m\u001b[0;34m(\u001b[0m\u001b[0mx_test\u001b[0m\u001b[0;34m)\u001b[0m\u001b[0;34m[\u001b[0m\u001b[0;34m:\u001b[0m\u001b[0;34m,\u001b[0m \u001b[0;36m1\u001b[0m\u001b[0;34m]\u001b[0m\u001b[0;34m]\u001b[0m\u001b[0;34m\u001b[0m\u001b[0m\n\u001b[0;32m----> 9\u001b[0;31m     \u001b[0mFP\u001b[0m \u001b[0;34m=\u001b[0m \u001b[0;34m[\u001b[0m\u001b[0mint\u001b[0m\u001b[0;34m(\u001b[0m\u001b[0;36m1\u001b[0m\u001b[0;34m)\u001b[0m \u001b[0;32mif\u001b[0m \u001b[0my_pred\u001b[0m\u001b[0;34m[\u001b[0m\u001b[0mi\u001b[0m\u001b[0;34m]\u001b[0m\u001b[0;34m==\u001b[0m\u001b[0;36m1\u001b[0m \u001b[0;32mand\u001b[0m \u001b[0my_test_num\u001b[0m\u001b[0;34m[\u001b[0m\u001b[0mi\u001b[0m\u001b[0;34m]\u001b[0m\u001b[0;34m==\u001b[0m\u001b[0;36m0\u001b[0m \u001b[0;32melse\u001b[0m \u001b[0mint\u001b[0m\u001b[0;34m(\u001b[0m\u001b[0;36m0\u001b[0m\u001b[0;34m)\u001b[0m \u001b[0;32mfor\u001b[0m \u001b[0mi\u001b[0m \u001b[0;32min\u001b[0m \u001b[0mrange\u001b[0m\u001b[0;34m(\u001b[0m\u001b[0mlen\u001b[0m\u001b[0;34m(\u001b[0m\u001b[0my_pred\u001b[0m\u001b[0;34m)\u001b[0m\u001b[0;34m)\u001b[0m \u001b[0;34m]\u001b[0m\u001b[0;34m\u001b[0m\u001b[0m\n\u001b[0m\u001b[1;32m     10\u001b[0m     \u001b[0mTP\u001b[0m \u001b[0;34m=\u001b[0m \u001b[0;34m[\u001b[0m\u001b[0mint\u001b[0m\u001b[0;34m(\u001b[0m\u001b[0;36m1\u001b[0m\u001b[0;34m)\u001b[0m \u001b[0;32mif\u001b[0m \u001b[0my_pred\u001b[0m\u001b[0;34m[\u001b[0m\u001b[0mi\u001b[0m\u001b[0;34m]\u001b[0m\u001b[0;34m==\u001b[0m\u001b[0;36m1\u001b[0m \u001b[0;32mand\u001b[0m \u001b[0my_test_num\u001b[0m\u001b[0;34m[\u001b[0m\u001b[0mi\u001b[0m\u001b[0;34m]\u001b[0m\u001b[0;34m==\u001b[0m\u001b[0;36m1\u001b[0m \u001b[0;32melse\u001b[0m \u001b[0mint\u001b[0m\u001b[0;34m(\u001b[0m\u001b[0;36m0\u001b[0m\u001b[0;34m)\u001b[0m \u001b[0;32mfor\u001b[0m \u001b[0mi\u001b[0m \u001b[0;32min\u001b[0m \u001b[0mrange\u001b[0m\u001b[0;34m(\u001b[0m\u001b[0mlen\u001b[0m\u001b[0;34m(\u001b[0m\u001b[0my_pred\u001b[0m\u001b[0;34m)\u001b[0m\u001b[0;34m)\u001b[0m \u001b[0;34m]\u001b[0m\u001b[0;34m\u001b[0m\u001b[0m\n\u001b[1;32m     11\u001b[0m     \u001b[0mFN\u001b[0m \u001b[0;34m=\u001b[0m \u001b[0;34m[\u001b[0m\u001b[0mint\u001b[0m\u001b[0;34m(\u001b[0m\u001b[0;36m1\u001b[0m\u001b[0;34m)\u001b[0m \u001b[0;32mif\u001b[0m \u001b[0my_pred\u001b[0m\u001b[0;34m[\u001b[0m\u001b[0mi\u001b[0m\u001b[0;34m]\u001b[0m\u001b[0;34m==\u001b[0m\u001b[0;36m0\u001b[0m \u001b[0;32mand\u001b[0m \u001b[0my_test_num\u001b[0m\u001b[0;34m[\u001b[0m\u001b[0mi\u001b[0m\u001b[0;34m]\u001b[0m\u001b[0;34m==\u001b[0m\u001b[0;36m1\u001b[0m \u001b[0;32melse\u001b[0m \u001b[0mint\u001b[0m\u001b[0;34m(\u001b[0m\u001b[0;36m0\u001b[0m\u001b[0;34m)\u001b[0m \u001b[0;32mfor\u001b[0m \u001b[0mi\u001b[0m \u001b[0;32min\u001b[0m \u001b[0mrange\u001b[0m\u001b[0;34m(\u001b[0m\u001b[0mlen\u001b[0m\u001b[0;34m(\u001b[0m\u001b[0my_pred\u001b[0m\u001b[0;34m)\u001b[0m\u001b[0;34m)\u001b[0m \u001b[0;34m]\u001b[0m\u001b[0;34m\u001b[0m\u001b[0m\n",
      "\u001b[0;32m~/anaconda/lib/python3.6/site-packages/pandas/core/series.py\u001b[0m in \u001b[0;36m__getitem__\u001b[0;34m(self, key)\u001b[0m\n\u001b[1;32m    621\u001b[0m         \u001b[0mkey\u001b[0m \u001b[0;34m=\u001b[0m \u001b[0mcom\u001b[0m\u001b[0;34m.\u001b[0m\u001b[0m_apply_if_callable\u001b[0m\u001b[0;34m(\u001b[0m\u001b[0mkey\u001b[0m\u001b[0;34m,\u001b[0m \u001b[0mself\u001b[0m\u001b[0;34m)\u001b[0m\u001b[0;34m\u001b[0m\u001b[0m\n\u001b[1;32m    622\u001b[0m         \u001b[0;32mtry\u001b[0m\u001b[0;34m:\u001b[0m\u001b[0;34m\u001b[0m\u001b[0m\n\u001b[0;32m--> 623\u001b[0;31m             \u001b[0mresult\u001b[0m \u001b[0;34m=\u001b[0m \u001b[0mself\u001b[0m\u001b[0;34m.\u001b[0m\u001b[0mindex\u001b[0m\u001b[0;34m.\u001b[0m\u001b[0mget_value\u001b[0m\u001b[0;34m(\u001b[0m\u001b[0mself\u001b[0m\u001b[0;34m,\u001b[0m \u001b[0mkey\u001b[0m\u001b[0;34m)\u001b[0m\u001b[0;34m\u001b[0m\u001b[0m\n\u001b[0m\u001b[1;32m    624\u001b[0m \u001b[0;34m\u001b[0m\u001b[0m\n\u001b[1;32m    625\u001b[0m             \u001b[0;32mif\u001b[0m \u001b[0;32mnot\u001b[0m \u001b[0mis_scalar\u001b[0m\u001b[0;34m(\u001b[0m\u001b[0mresult\u001b[0m\u001b[0;34m)\u001b[0m\u001b[0;34m:\u001b[0m\u001b[0;34m\u001b[0m\u001b[0m\n",
      "\u001b[0;32m~/anaconda/lib/python3.6/site-packages/pandas/core/indexes/base.py\u001b[0m in \u001b[0;36mget_value\u001b[0;34m(self, series, key)\u001b[0m\n\u001b[1;32m   2558\u001b[0m         \u001b[0;32mtry\u001b[0m\u001b[0;34m:\u001b[0m\u001b[0;34m\u001b[0m\u001b[0m\n\u001b[1;32m   2559\u001b[0m             return self._engine.get_value(s, k,\n\u001b[0;32m-> 2560\u001b[0;31m                                           tz=getattr(series.dtype, 'tz', None))\n\u001b[0m\u001b[1;32m   2561\u001b[0m         \u001b[0;32mexcept\u001b[0m \u001b[0mKeyError\u001b[0m \u001b[0;32mas\u001b[0m \u001b[0me1\u001b[0m\u001b[0;34m:\u001b[0m\u001b[0;34m\u001b[0m\u001b[0m\n\u001b[1;32m   2562\u001b[0m             \u001b[0;32mif\u001b[0m \u001b[0mlen\u001b[0m\u001b[0;34m(\u001b[0m\u001b[0mself\u001b[0m\u001b[0;34m)\u001b[0m \u001b[0;34m>\u001b[0m \u001b[0;36m0\u001b[0m \u001b[0;32mand\u001b[0m \u001b[0mself\u001b[0m\u001b[0;34m.\u001b[0m\u001b[0minferred_type\u001b[0m \u001b[0;32min\u001b[0m \u001b[0;34m[\u001b[0m\u001b[0;34m'integer'\u001b[0m\u001b[0;34m,\u001b[0m \u001b[0;34m'boolean'\u001b[0m\u001b[0;34m]\u001b[0m\u001b[0;34m:\u001b[0m\u001b[0;34m\u001b[0m\u001b[0m\n",
      "\u001b[0;32mpandas/_libs/index.pyx\u001b[0m in \u001b[0;36mpandas._libs.index.IndexEngine.get_value\u001b[0;34m()\u001b[0m\n",
      "\u001b[0;32mpandas/_libs/index.pyx\u001b[0m in \u001b[0;36mpandas._libs.index.IndexEngine.get_value\u001b[0;34m()\u001b[0m\n",
      "\u001b[0;32mpandas/_libs/index.pyx\u001b[0m in \u001b[0;36mpandas._libs.index.IndexEngine.get_loc\u001b[0;34m()\u001b[0m\n",
      "\u001b[0;32mpandas/_libs/hashtable_class_helper.pxi\u001b[0m in \u001b[0;36mpandas._libs.hashtable.Int64HashTable.get_item\u001b[0;34m()\u001b[0m\n",
      "\u001b[0;32mpandas/_libs/hashtable_class_helper.pxi\u001b[0m in \u001b[0;36mpandas._libs.hashtable.Int64HashTable.get_item\u001b[0;34m()\u001b[0m\n",
      "\u001b[0;31mKeyError\u001b[0m: 0"
     ]
    }
   ],
   "source": [
    "# alternatively, i could have thresholds as columns in a dataframe \n",
    "# with y_test and y_pred as the first two columns\n",
    "# and then calculate the false positive and false negative numbers per column\n",
    "\n",
    "costs = []\n",
    "\n",
    "for t in np.arange(0,1,0.1):\n",
    "    y_pred = [int(1) if i > t else int(0) for i in model.predict_proba(x_test)[:, 1]]\n",
    "    FP = [int(1) if y_pred[i]==1 and y_test_num[i]==0 else int(0) for i in range(len(y_pred)) ]\n",
    "    TP = [int(1) if y_pred[i]==1 and y_test_num[i]==1 else int(0) for i in range(len(y_pred)) ]\n",
    "    FN = [int(1) if y_pred[i]==0 and y_test_num[i]==1 else int(0) for i in range(len(y_pred)) ]\n",
    "    TN = [int(1) if y_pred[i]==0 and y_test_num[i]==0 else int(0) for i in range(len(y_pred)) ]\n",
    "\n",
    "    FPsum = FP.sum()\n",
    "    TPsum = TP.sum()\n",
    "    FNsum = FN.sum()\n",
    "    TNsum = TN.sum()   \n",
    "    \n",
    "    cost = FPsum*304 + TPsum*(304-1246) + FNsum*1246\n",
    "\n",
    "    costs.append(cost)\n",
    "\n",
    "print(costs)\n",
    "    \n",
    "    # for each threshold, calculate values from the FP + FN\n",
    "\n",
    "    # for each true positive, we have 304-1246\n",
    "    # for each false positive, we lose 304 per day\n",
    "    # for each false negative, we lose 1246 per day\n",
    "    # for each true negative, we lose 0 per day\n",
    "\n",
    "# median cost first day 1,246\n",
    "\n",
    "# variable costs per day of hospital stay:\n",
    "# https://www.journalacs.org/article/S1072-7515(00)00352-5/fulltext\n",
    "    \n",
    "# $2,289 nonprofit hospital average\n",
    "# https://www.beckershospitalreview.com/finance/average-cost-per-inpatient-day-across-50-states.html\n"
   ]
  },
  {
   "cell_type": "code",
   "execution_count": 227,
   "metadata": {
    "ExecuteTime": {
     "end_time": "2018-05-15T21:07:56.922795Z",
     "start_time": "2018-05-15T21:06:53.399165Z"
    }
   },
   "outputs": [
    {
     "name": "stderr",
     "output_type": "stream",
     "text": [
      "/Users/etheredgej/anaconda/lib/python3.6/site-packages/ipykernel_launcher.py:15: RuntimeWarning: invalid value encountered in long_scalars\n",
      "  from ipykernel import kernelapp as app\n"
     ]
    },
    {
     "name": "stdout",
     "output_type": "stream",
     "text": [
      "[(0.0, 265.9714730912142), (0.01, 265.9714730912142), (0.02, 265.9714730912142), (0.03, 265.9714730912142), (0.04, 265.9714730912142), (0.05, 265.9714730912142), (0.06, 265.9714730912142), (0.07, 265.9714730912142), (0.08, 265.9714730912142), (0.09, 265.9714730912142), (0.1, 265.9714730912142), (0.11, 265.9714730912142), (0.12, 265.9714730912142), (0.13, 265.9594869950857), (0.14, 265.9714730912142), (0.15, 265.9834591873427), (0.16, 265.9594869950857), (0.17, 265.94750089895723), (0.18, 265.9355148028287), (0.19, 265.8635982260578), (0.2, 265.7796955531583), (0.21, 265.8755843221863), (0.22, 265.6957928802589), (0.23, 265.623876303488), (0.24, 265.4800431499461), (0.25, 265.15641855447683), (0.26, 264.89272443965), (0.27, 264.46122497902434), (0.28, 263.82596188421434), (0.29, 263.13076830876184), (0.3, 262.231811099125), (0.31, 261.0332014862759), (0.32, 259.8945223540693), (0.33, 258.43221862639336), (0.34, 256.65827639937675), (0.35, 255.2199448639578), (0.36, 253.30216948339927), (0.37, 251.28850533381276), (0.38, 249.1310080306844), (0.39, 246.0985257101762), (0.4, 243.46158456190818), (0.41, 240.34519956850053), (0.42, 236.46170442286947), (0.43, 232.39841783531105), (0.44, 227.60397938391466), (0.45, 221.9825002996524), (0.46, 215.68979983219467), (0.47, 208.7258779815414), (0.48, 202.09756682248593), (0.49, 194.04291022414), (0.5, 186.5036557593192), (0.51, 177.32230612489514), (0.52, 168.4885532781973), (0.53, 159.7387031043989), (0.54, 151.54021335251107), (0.55, 143.8211674457629), (0.56, 136.13807982740022), (0.57, 129.1381996883615), (0.58, 121.9825002996524), (0.59, 115.39014742898237), (0.6, 108.28239242478725), (0.61, 101.41435934316193), (0.62, 94.63022893443605), (0.63, 88.38547285149227), (0.64, 82.30852211434735), (0.65, 76.67505693395661), (0.66, 71.22138319549323), (0.67, 66.05537576411363), (0.68, 61.15306244756083), (0.69, 57.07778976387391), (0.7, 53.446002636941145), (0.71, 49.89811818290783), (0.72, 46.81769147788565), (0.73, 43.785209157377444), (0.74, 41.13628191298094), (0.75, 39.290423109193334), (0.76, 37.43257820927724), (0.77, 36.12609373127172), (0.78, 35.15521994486396), (0.79, 34.59187342682488), (0.8, 34.26824883135563), (0.81, 34.12441567781374), (0.82, 34.076471293299775), (0.83, 34.05249910104279), (0.84, 34.0405130049143), (0.85, 34.02852690878581), (0.86, 34.02852690878581), (0.87, 34.02852690878581), (0.88, 34.02852690878581), (0.89, 34.02852690878581), (0.9, 34.02852690878581), (0.91, 34.02852690878581), (0.92, 34.02852690878581), (0.93, 34.02852690878581), (0.94, 34.02852690878581), (0.95, 34.02852690878581), (0.96, 34.02852690878581), (0.97, 34.02852690878581), (0.98, 34.02852690878581), (0.99, 34.02852690878581)]\n",
      "[(0.0, 265.9714730912142), (0.01, 265.9714730912142), (0.02, 265.9714730912142), (0.03, 265.9714730912142), (0.04, 265.9714730912142), (0.05, 265.9714730912142), (0.06, 265.9714730912142), (0.07, 265.9714730912142), (0.08, 265.9714730912142), (0.09, 265.9714730912142), (0.1, 265.9714730912142), (0.11, 265.9714730912142), (0.12, 265.9714730912142), (0.13, 265.94750089895723), (0.14, 265.9714730912142), (0.15, 265.99544528347116), (0.16, 265.94750089895723), (0.17, 265.9235287067002), (0.18, 265.89955651444325), (0.19, 265.75572336090136), (0.2, 265.5879180151025), (0.21, 265.7796955531583), (0.22, 265.4201126693036), (0.23, 265.2762795157617), (0.24, 264.9886132086779), (0.25, 264.3413640177394), (0.26, 263.8139757880858), (0.27, 262.9509768668345), (0.28, 261.6804506772144), (0.29, 260.2900635263095), (0.3, 258.49214910703586), (0.31, 256.09492988133763), (0.32, 253.81757161692437), (0.33, 250.89296416157256), (0.34, 247.34507970753924), (0.35, 244.46841663670142), (0.36, 240.63286587558432), (0.37, 236.60553757641136), (0.38, 232.29054297015463), (0.39, 226.2255783291382), (0.4, 220.95169603260217), (0.41, 214.7189260457869), (0.42, 206.95193575452475), (0.43, 198.82536257940788), (0.44, 189.23648567661513), (0.45, 177.9935275080906), (0.46, 165.4081265731751), (0.47, 151.48028287186864), (0.48, 138.22366055375764), (0.49, 122.11434735706581), (0.5, 107.03583842742418), (0.51, 88.67313915857605), (0.52, 71.0056334651804), (0.53, 53.5059331175836), (0.54, 37.108953613807984), (0.55, 21.670861800311638), (0.56, 6.30468656358624), (0.57, -7.6950737144911905), (0.58, -22.006472491909385), (0.59, -35.19117823324943), (0.6, -49.4066882416397), (0.61, -63.142754404890326), (0.62, -76.71101522234208), (0.63, -89.20052738822966), (0.64, -101.35442886251948), (0.65, -112.62135922330097), (0.66, -123.52870670022773), (0.67, -133.86072156298692), (0.68, -143.66534819609254), (0.69, -151.81589356346637), (0.7, -159.0794678173319), (0.71, -166.17523672539855), (0.72, -172.33609013544287), (0.73, -178.40105477645932), (0.74, -183.6989092652523), (0.75, -187.3906268728275), (0.76, -191.10631667265972), (0.77, -193.71928562867075), (0.78, -195.66103320148628), (0.79, -196.7877262375644), (0.8, -197.43497542850292), (0.81, -197.7226417355867), (0.82, -197.81853050461464), (0.83, -197.8664748891286), (0.84, -197.8904470813856), (0.85, -197.91441927364258), (0.86, -197.91441927364258), (0.87, -197.91441927364258), (0.88, -197.91441927364258), (0.89, -197.91441927364258), (0.9, -197.91441927364258), (0.91, -197.91441927364258), (0.92, -197.91441927364258), (0.93, -197.91441927364258), (0.94, -197.91441927364258), (0.95, -197.91441927364258), (0.96, -197.91441927364258), (0.97, -197.91441927364258), (0.98, -197.91441927364258), (0.99, -197.91441927364258)]\n",
      "[(0.0, 265.9714730912142), (0.01, 265.9714730912142), (0.02, 265.9714730912142), (0.03, 265.9714730912142), (0.04, 265.9714730912142), (0.05, 265.9714730912142), (0.06, 265.9714730912142), (0.07, 265.9714730912142), (0.08, 265.9714730912142), (0.09, 265.9714730912142), (0.1, 265.9714730912142), (0.11, 265.9714730912142), (0.12, 265.9714730912142), (0.13, 265.9355148028287), (0.14, 265.9714730912142), (0.15, 266.00743137959967), (0.16, 265.9355148028287), (0.17, 265.89955651444325), (0.18, 265.8635982260578), (0.19, 265.64784849574494), (0.2, 265.39614047704663), (0.21, 265.6838067841304), (0.22, 265.1444324583483), (0.23, 264.9286827280355), (0.24, 264.4971832674098), (0.25, 263.52630948100204), (0.26, 262.73522713652164), (0.27, 261.4407287546446), (0.28, 259.53493947021457), (0.29, 257.44935874385715), (0.3, 254.75248711494666), (0.31, 251.15665827639938), (0.32, 247.74062087977944), (0.33, 243.35370969675176), (0.34, 238.0318830157018), (0.35, 233.71688840944503), (0.36, 227.9635622677694), (0.37, 221.92256981900994), (0.38, 215.45007790962484), (0.39, 206.3526309481002), (0.4, 198.4418075032962), (0.41, 189.09265252307324), (0.42, 177.44216708618004), (0.43, 165.25230732350474), (0.44, 150.8689919693156), (0.45, 134.00455471652882), (0.46, 115.12645331415558), (0.47, 94.23468776219585), (0.48, 74.34975428502936), (0.49, 50.18578448999161), (0.5, 27.568021095529186), (0.51, 0.0239721922569819), (0.52, -26.47728634783651), (0.53, -52.72683686923169), (0.54, -77.32230612489512), (0.55, -100.47944384513964), (0.56, -123.52870670022773), (0.57, -144.52834711734388), (0.58, -165.99544528347118), (0.59, -185.77250389548124), (0.6, -207.09576890806665), (0.61, -227.6998681529426), (0.62, -248.05225937912022), (0.63, -266.78652762795156), (0.64, -285.0173798393863), (0.65, -301.91777538055857), (0.66, -318.2787965959487), (0.67, -333.7768188900875), (0.68, -348.4837588397459), (0.69, -360.70957689080666), (0.7, -371.60493827160496), (0.71, -382.2485916337049), (0.72, -391.4898717487714), (0.73, -400.5873187102961), (0.74, -408.53410044348556), (0.75, -414.07167685484836), (0.76, -419.64521155459664), (0.77, -423.56466498861323), (0.78, -426.4772863478365), (0.79, -428.16732590195375), (0.8, -429.1381996883615), (0.81, -429.5696991489872), (0.82, -429.7135323025291), (0.83, -429.7854488793), (0.84, -429.8214071676855), (0.85, -429.85736545607097), (0.86, -429.85736545607097), (0.87, -429.85736545607097), (0.88, -429.85736545607097), (0.89, -429.85736545607097), (0.9, -429.85736545607097), (0.91, -429.85736545607097), (0.92, -429.85736545607097), (0.93, -429.85736545607097), (0.94, -429.85736545607097), (0.95, -429.85736545607097), (0.96, -429.85736545607097), (0.97, -429.85736545607097), (0.98, -429.85736545607097), (0.99, -429.85736545607097)]\n"
     ]
    },
    {
     "name": "stdout",
     "output_type": "stream",
     "text": [
      "[(0.0, 265.9714730912142), (0.01, 265.9714730912142), (0.02, 265.9714730912142), (0.03, 265.9714730912142), (0.04, 265.9714730912142), (0.05, 265.9714730912142), (0.06, 265.9714730912142), (0.07, 265.9714730912142), (0.08, 265.9714730912142), (0.09, 265.9714730912142), (0.1, 265.9714730912142), (0.11, 265.9714730912142), (0.12, 265.9714730912142), (0.13, 265.9235287067002), (0.14, 265.9714730912142), (0.15, 266.0194174757282), (0.16, 265.9235287067002), (0.17, 265.8755843221863), (0.18, 265.8276399376723), (0.19, 265.5399736305885), (0.2, 265.20436293899076), (0.21, 265.5879180151025), (0.22, 264.86875224739305), (0.23, 264.58108594030926), (0.24, 264.0057533261417), (0.25, 262.7112549442647), (0.26, 261.65647848495746), (0.27, 259.93048064245477), (0.28, 257.38942826321465), (0.29, 254.60865396140477), (0.3, 251.0128251228575), (0.31, 246.2183866714611), (0.32, 241.66367014263454), (0.33, 235.81445523193096), (0.34, 228.71868632386432), (0.35, 222.96536018218868), (0.36, 215.29425865995447), (0.37, 207.23960206160854), (0.38, 198.60961284909504), (0.39, 186.4796835670622), (0.4, 175.93191897399018), (0.41, 163.46637900035958), (0.42, 147.93239841783532), (0.43, 131.6792520676016), (0.44, 112.50149826201606), (0.45, 90.01558192496704), (0.46, 64.84478005513604), (0.47, 36.98909265252308), (0.48, 10.475848016301091), (0.49, -21.742778377082583), (0.5, -51.899796236365816), (0.51, -88.6251947740621), (0.52, -123.96020616085342), (0.53, -158.95960685604697), (0.54, -191.75356586359823), (0.55, -222.6297494905909), (0.56, -253.3620999640417), (0.57, -281.3616205201966), (0.58, -309.984418075033), (0.59, -336.353829557713), (0.6, -364.7848495744936), (0.61, -392.25698190099484), (0.62, -419.39350353589833), (0.63, -444.3725278676735), (0.64, -468.68033081625316), (0.65, -491.21419153781613), (0.66, -513.0288864916697), (0.67, -533.6929162171881), (0.68, -553.3021694833992), (0.69, -569.6032602181469), (0.7, -584.1304087258779), (0.71, -598.3219465420112), (0.72, -610.6436533620999), (0.73, -622.7735826441328), (0.74, -633.3692916217188), (0.75, -640.7527268368692), (0.76, -648.1841064365336), (0.77, -653.4100443485556), (0.78, -657.2935394941867), (0.79, -659.546925566343), (0.8, -660.84142394822), (0.81, -661.4167565623876), (0.82, -661.6085341004435), (0.83, -661.7044228694714), (0.84, -661.7523672539854), (0.85, -661.8003116384994), (0.86, -661.8003116384994), (0.87, -661.8003116384994), (0.88, -661.8003116384994), (0.89, -661.8003116384994), (0.9, -661.8003116384994), (0.91, -661.8003116384994), (0.92, -661.8003116384994), (0.93, -661.8003116384994), (0.94, -661.8003116384994), (0.95, -661.8003116384994), (0.96, -661.8003116384994), (0.97, -661.8003116384994), (0.98, -661.8003116384994), (0.99, -661.8003116384994)]\n",
      "[(0.0, 265.9714730912142), (0.01, 265.9714730912142), (0.02, 265.9714730912142), (0.03, 265.9714730912142), (0.04, 265.9714730912142), (0.05, 265.9714730912142), (0.06, 265.9714730912142), (0.07, 265.9714730912142), (0.08, 265.9714730912142), (0.09, 265.9714730912142), (0.1, 265.9714730912142), (0.11, 265.9714730912142), (0.12, 265.9714730912142), (0.13, 265.91154261057176), (0.14, 265.9714730912142), (0.15, 266.03140357185663), (0.16, 265.91154261057176), (0.17, 265.85161212992926), (0.18, 265.79168164928683), (0.19, 265.4320987654321), (0.2, 265.01258540093494), (0.21, 265.49202924607454), (0.22, 264.5930720364377), (0.23, 264.233489152583), (0.24, 263.51432338487353), (0.25, 261.89620040752726), (0.26, 260.5777298333933), (0.27, 258.4202325302649), (0.28, 255.2439170562148), (0.29, 251.76794917895242), (0.3, 247.2731631307683), (0.31, 241.28011506652282), (0.32, 235.58671940548965), (0.33, 228.27520076711016), (0.34, 219.40548963202684), (0.35, 212.2138319549323), (0.36, 202.6249550521395), (0.37, 192.5566343042071), (0.38, 181.76914778856528), (0.39, 166.60673618602422), (0.4, 153.42203044468417), (0.41, 137.84010547764592), (0.42, 118.4226297494906), (0.43, 98.10619681169842), (0.44, 74.13400455471653), (0.45, 46.02660913340525), (0.46, 14.563106796116505), (0.47, -20.256502457149708), (0.48, -53.398058252427184), (0.49, -93.67134124415678), (0.5, -131.36761356826082), (0.51, -177.27436174038115), (0.52, -221.4431259738703), (0.53, -265.1923768428623), (0.54, -306.1848256023013), (0.55, -344.78005513604217), (0.56, -383.1954932278557), (0.57, -418.1948939230493), (0.58, -453.97339086659474), (0.59, -486.9351552199449), (0.6, -522.4739302409205), (0.61, -556.8140956490471), (0.62, -590.7347476926765), (0.63, -621.9585281073954), (0.64, -652.34328179312), (0.65, -680.5106076950738), (0.66, -707.7789763873906), (0.67, -733.6090135442886), (0.68, -758.1205801270526), (0.69, -778.4969435454873), (0.7, -796.655879180151), (0.71, -814.3953014503177), (0.72, -829.7974349754285), (0.73, -844.9598465779695), (0.74, -858.2044827999521), (0.75, -867.4337768188901), (0.76, -876.7230013184706), (0.77, -883.2554237084981), (0.78, -888.109792640537), (0.79, -890.9265252307323), (0.8, -892.5446482080787), (0.81, -893.2638139757881), (0.82, -893.5035358983579), (0.83, -893.6233968596429), (0.84, -893.6833273402852), (0.85, -893.7432578209277), (0.86, -893.7432578209277), (0.87, -893.7432578209277), (0.88, -893.7432578209277), (0.89, -893.7432578209277), (0.9, -893.7432578209277), (0.91, -893.7432578209277), (0.92, -893.7432578209277), (0.93, -893.7432578209277), (0.94, -893.7432578209277), (0.95, -893.7432578209277), (0.96, -893.7432578209277), (0.97, -893.7432578209277), (0.98, -893.7432578209277), (0.99, -893.7432578209277)]\n",
      "[(0.0, 265.9714730912142), (0.01, 265.9714730912142), (0.02, 265.9714730912142), (0.03, 265.9714730912142), (0.04, 265.9714730912142), (0.05, 265.9714730912142), (0.06, 265.9714730912142), (0.07, 265.9714730912142), (0.08, 265.9714730912142), (0.09, 265.9714730912142), (0.1, 265.9714730912142), (0.11, 265.9714730912142), (0.12, 265.9714730912142), (0.13, 265.89955651444325), (0.14, 265.9714730912142), (0.15, 266.04338966798514), (0.16, 265.89955651444325), (0.17, 265.8276399376723), (0.18, 265.75572336090136), (0.19, 265.3242239002757), (0.2, 264.82080786287906), (0.21, 265.39614047704663), (0.22, 264.31739182548245), (0.23, 263.8858923648568), (0.24, 263.0228934436054), (0.25, 261.0811458707899), (0.26, 259.4989811818291), (0.27, 256.90998441807506), (0.28, 253.0984058492149), (0.29, 248.92724439650007), (0.3, 243.53350113867913), (0.31, 236.34184346158457), (0.32, 229.50976866834472), (0.33, 220.73594630228934), (0.34, 210.09229294018937), (0.35, 201.4623037276759), (0.36, 189.9556514443246), (0.37, 177.8736665468057), (0.38, 164.92868272803548), (0.39, 146.7337888049862), (0.4, 130.91214191537816), (0.41, 112.21383195493227), (0.42, 88.91286108114588), (0.43, 64.53314155579528), (0.44, 35.766510847416995), (0.45, 2.0376363418434615), (0.46, -35.718566462903034), (0.47, -77.50209756682248), (0.48, -117.27196452115545), (0.49, -165.59990411123098), (0.5, -210.8354309001558), (0.51, -265.9235287067002), (0.52, -318.9260457868872), (0.53, -371.4251468296776), (0.54, -420.6160853410044), (0.55, -466.93036078149345), (0.56, -513.0288864916697), (0.57, -555.0281673259019), (0.58, -597.9623636581565), (0.59, -637.5164808821767), (0.6, -680.1630109073475), (0.61, -721.3712093970994), (0.62, -762.0759918494547), (0.63, -799.5445283471173), (0.64, -836.0062327699868), (0.65, -869.8070238523313), (0.66, -902.5290662831115), (0.67, -933.5251108713892), (0.68, -962.938990770706), (0.69, -987.3906268728275), (0.7, -1009.1813496344241), (0.71, -1030.468656358624), (0.72, -1048.951216588757), (0.73, -1067.1461105118062), (0.74, -1083.0396739781852), (0.75, -1094.114826800911), (0.76, -1105.2618962004076), (0.77, -1113.1008030684407), (0.78, -1118.9260457868872), (0.79, -1122.3061248951217), (0.8, -1124.2478724679372), (0.81, -1125.1108713891886), (0.82, -1125.3985376962723), (0.83, -1125.5423708498142), (0.84, -1125.6142874265852), (0.85, -1125.6862040033561), (0.86, -1125.6862040033561), (0.87, -1125.6862040033561), (0.88, -1125.6862040033561), (0.89, -1125.6862040033561), (0.9, -1125.6862040033561), (0.91, -1125.6862040033561), (0.92, -1125.6862040033561), (0.93, -1125.6862040033561), (0.94, -1125.6862040033561), (0.95, -1125.6862040033561), (0.96, -1125.6862040033561), (0.97, -1125.6862040033561), (0.98, -1125.6862040033561), (0.99, -1125.6862040033561)]\n"
     ]
    },
    {
     "name": "stdout",
     "output_type": "stream",
     "text": [
      "[(0.0, 265.9714730912142), (0.01, 265.9714730912142), (0.02, 265.9714730912142), (0.03, 265.9714730912142), (0.04, 265.9714730912142), (0.05, 265.9714730912142), (0.06, 265.9714730912142), (0.07, 265.9714730912142), (0.08, 265.9714730912142), (0.09, 265.9714730912142), (0.1, 265.9714730912142), (0.11, 265.9714730912142), (0.12, 265.9714730912142), (0.13, 265.88757041831474), (0.14, 265.9714730912142), (0.15, 266.05537576411365), (0.16, 265.88757041831474), (0.17, 265.80366774541534), (0.18, 265.7197650725159), (0.19, 265.21634903511926), (0.2, 264.6290303248232), (0.21, 265.3002517080187), (0.22, 264.0417116145272), (0.23, 263.53829557713055), (0.24, 262.5314635023373), (0.25, 260.2660913340525), (0.26, 258.4202325302649), (0.27, 255.39973630588517), (0.28, 250.95289464221503), (0.29, 246.0865396140477), (0.3, 239.79383914658996), (0.31, 231.4035718566463), (0.32, 223.43281793119982), (0.33, 213.19669183746853), (0.34, 200.77909624835192), (0.35, 190.71077550041952), (0.36, 177.28634783650966), (0.37, 163.19069878940428), (0.38, 148.0882176675057), (0.39, 126.86084142394822), (0.4, 108.40225338607216), (0.41, 86.58755843221863), (0.42, 59.40309241280115), (0.43, 30.960086299892126), (0.44, -2.6009828598825364), (0.45, -41.951336449718326), (0.46, -86.00023972192257), (0.47, -134.74769267649526), (0.48, -181.14587078988373), (0.49, -237.52846697830518), (0.5, -290.3032482320508), (0.51, -354.5726956730193), (0.52, -416.4089655999041), (0.53, -477.65791681649284), (0.54, -535.0473450797075), (0.55, -589.0806664269447), (0.56, -642.8622797554837), (0.57, -691.8614407287547), (0.58, -741.9513364497184), (0.59, -788.0978065444085), (0.6, -837.8520915737744), (0.61, -885.9283231451516), (0.62, -933.4172360062328), (0.63, -977.1305285868393), (0.64, -1019.6691837468536), (0.65, -1059.103440009589), (0.66, -1097.2791561788326), (0.67, -1133.4412081984897), (0.68, -1167.7574014143593), (0.69, -1196.2843102001677), (0.7, -1221.7068200886972), (0.71, -1246.5420112669303), (0.72, -1268.1049982020857), (0.73, -1289.3323744456432), (0.74, -1307.8748651564185), (0.75, -1320.7958767829318), (0.76, -1333.8007910823444), (0.77, -1342.946182428383), (0.78, -1349.7422989332374), (0.79, -1353.685724559511), (0.8, -1355.9510967277959), (0.81, -1356.957928802589), (0.82, -1357.2935394941867), (0.83, -1357.4613448399857), (0.84, -1357.545247512885), (0.85, -1357.6291501857845), (0.86, -1357.6291501857845), (0.87, -1357.6291501857845), (0.88, -1357.6291501857845), (0.89, -1357.6291501857845), (0.9, -1357.6291501857845), (0.91, -1357.6291501857845), (0.92, -1357.6291501857845), (0.93, -1357.6291501857845), (0.94, -1357.6291501857845), (0.95, -1357.6291501857845), (0.96, -1357.6291501857845), (0.97, -1357.6291501857845), (0.98, -1357.6291501857845), (0.99, -1357.6291501857845)]\n",
      "[(0.0, 265.9714730912142), (0.01, 265.9714730912142), (0.02, 265.9714730912142), (0.03, 265.9714730912142), (0.04, 265.9714730912142), (0.05, 265.9714730912142), (0.06, 265.9714730912142), (0.07, 265.9714730912142), (0.08, 265.9714730912142), (0.09, 265.9714730912142), (0.1, 265.9714730912142), (0.11, 265.9714730912142), (0.12, 265.9714730912142), (0.13, 265.8755843221863), (0.14, 265.9714730912142), (0.15, 266.0673618602421), (0.16, 265.8755843221863), (0.17, 265.7796955531583), (0.18, 265.6838067841304), (0.19, 265.10847416996285), (0.2, 264.4372527867674), (0.21, 265.20436293899076), (0.22, 263.76603140357184), (0.23, 263.1906987894043), (0.24, 262.04003356106915), (0.25, 259.4510367973151), (0.26, 257.3414838787007), (0.27, 253.8894881936953), (0.28, 248.80738343521514), (0.29, 243.24583483159535), (0.3, 236.0541771545008), (0.31, 226.46530025170802), (0.32, 217.3558671940549), (0.33, 205.65743737264773), (0.34, 191.46589955651444), (0.35, 179.95924727316313), (0.36, 164.6170442286947), (0.37, 148.50773103200288), (0.38, 131.2477526069759), (0.39, 106.98789404291023), (0.4, 85.89236485676615), (0.41, 60.961284909504975), (0.42, 29.89332374445643), (0.43, -2.612968956011027), (0.44, -40.968476567182066), (0.45, -85.94030924128012), (0.46, -136.2819129809421), (0.47, -191.99328778616805), (0.48, -245.01977705861202), (0.49, -309.45702984537934), (0.5, -369.7710655639458), (0.51, -443.2218626393384), (0.52, -513.891885412921), (0.53, -583.8906868033082), (0.54, -649.4786048184106), (0.55, -711.2309720723961), (0.56, -772.6956730192976), (0.57, -828.6947141316074), (0.58, -885.9403092412801), (0.59, -938.6791322066402), (0.6, -995.5411722402014), (0.61, -1050.485436893204), (0.62, -1104.758480163011), (0.63, -1154.7165288265612), (0.64, -1203.3321347237204), (0.65, -1248.3998561668463), (0.66, -1292.0292460745536), (0.67, -1333.3573055255904), (0.68, -1372.5758120580126), (0.69, -1405.177993527508), (0.7, -1434.23229054297), (0.71, -1462.6153661752367), (0.72, -1487.258779815414), (0.73, -1511.5186383794799), (0.74, -1532.7100563346519), (0.75, -1547.4769267649526), (0.76, -1562.3396859642814), (0.77, -1572.7915617883255), (0.78, -1580.5585520795876), (0.79, -1585.0653242239002), (0.8, -1587.6543209876543), (0.81, -1588.8049862159894), (0.82, -1589.1885412921013), (0.83, -1589.380318830157), (0.84, -1589.476207599185), (0.85, -1589.572096368213), (0.86, -1589.572096368213), (0.87, -1589.572096368213), (0.88, -1589.572096368213), (0.89, -1589.572096368213), (0.9, -1589.572096368213), (0.91, -1589.572096368213), (0.92, -1589.572096368213), (0.93, -1589.572096368213), (0.94, -1589.572096368213), (0.95, -1589.572096368213), (0.96, -1589.572096368213), (0.97, -1589.572096368213), (0.98, -1589.572096368213), (0.99, -1589.572096368213)]\n",
      "[(0.0, 265.9714730912142), (0.01, 265.9714730912142), (0.02, 265.9714730912142), (0.03, 265.9714730912142), (0.04, 265.9714730912142), (0.05, 265.9714730912142), (0.06, 265.9714730912142), (0.07, 265.9714730912142), (0.08, 265.9714730912142), (0.09, 265.9714730912142), (0.1, 265.9714730912142), (0.11, 265.9714730912142), (0.12, 265.9714730912142), (0.13, 265.8635982260578), (0.14, 265.9714730912142), (0.15, 266.0793479563706), (0.16, 265.8635982260578), (0.17, 265.75572336090136), (0.18, 265.64784849574494), (0.19, 265.0005993048064), (0.2, 264.2454752487115), (0.21, 265.10847416996285), (0.22, 263.4903511926166), (0.23, 262.84310200167806), (0.24, 261.54860361980104), (0.25, 258.63598226057775), (0.26, 256.26273522713655), (0.27, 252.37924008150546), (0.28, 246.66187222821526), (0.29, 240.405130049143), (0.3, 232.3145151624116), (0.31, 221.52702864676974), (0.32, 211.27891645691), (0.33, 198.11818290782693), (0.34, 182.15270286467697), (0.35, 169.20771904590674), (0.36, 151.94774062087978), (0.37, 133.82476327460145), (0.38, 114.40728754644613), (0.39, 87.11494666187222), (0.4, 63.38247632746015), (0.41, 35.33501138679132), (0.42, 0.3835550761117104), (0.43, -36.18602421191418), (0.44, -79.3359702744816), (0.45, -129.9292820328419), (0.46, -186.56358623996164), (0.47, -249.23888289584082), (0.48, -308.8936833273403), (0.49, -381.38559271245356), (0.5, -449.23888289584085), (0.51, -531.8710296056574), (0.52, -611.374805225938), (0.53, -690.1234567901234), (0.54, -763.9098645571138), (0.55, -833.3812777178473), (0.56, -902.5290662831115), (0.57, -965.5279875344601), (0.58, -1029.929282032842), (0.59, -1089.2604578688722), (0.6, -1153.2302529066283), (0.61, -1215.0425506412562), (0.62, -1276.099724319789), (0.63, -1332.3025290662831), (0.64, -1386.9950857005874), (0.65, -1437.696272324104), (0.66, -1486.7793359702746), (0.67, -1533.2734028526909), (0.68, -1577.394222701666), (0.69, -1614.0716768548484), (0.7, -1646.7577609972432), (0.71, -1678.688721083543), (0.72, -1706.4125614287427), (0.73, -1733.7049023133166), (0.74, -1757.545247512885), (0.75, -1774.1579767469734), (0.76, -1790.8785808462185), (0.77, -1802.636941148268), (0.78, -1811.374805225938), (0.79, -1816.4449238882896), (0.8, -1819.357545247513), (0.81, -1820.65204362939), (0.82, -1821.0835430900156), (0.83, -1821.2992928203284), (0.84, -1821.4071676854849), (0.85, -1821.5150425506413), (0.86, -1821.5150425506413), (0.87, -1821.5150425506413), (0.88, -1821.5150425506413), (0.89, -1821.5150425506413), (0.9, -1821.5150425506413), (0.91, -1821.5150425506413), (0.92, -1821.5150425506413), (0.93, -1821.5150425506413), (0.94, -1821.5150425506413), (0.95, -1821.5150425506413), (0.96, -1821.5150425506413), (0.97, -1821.5150425506413), (0.98, -1821.5150425506413), (0.99, -1821.5150425506413)]\n"
     ]
    },
    {
     "name": "stdout",
     "output_type": "stream",
     "text": [
      "[(0.0, 265.9714730912142), (0.01, 265.9714730912142), (0.02, 265.9714730912142), (0.03, 265.9714730912142), (0.04, 265.9714730912142), (0.05, 265.9714730912142), (0.06, 265.9714730912142), (0.07, 265.9714730912142), (0.08, 265.9714730912142), (0.09, 265.9714730912142), (0.1, 265.9714730912142), (0.11, 265.9714730912142), (0.12, 265.9714730912142), (0.13, 265.85161212992926), (0.14, 265.9714730912142), (0.15, 266.0913340524991), (0.16, 265.85161212992926), (0.17, 265.7317511686444), (0.18, 265.61189020735947), (0.19, 264.89272443965), (0.2, 264.0536977106556), (0.21, 265.01258540093494), (0.22, 263.2146709816613), (0.23, 262.4955052139518), (0.24, 261.0571736785329), (0.25, 257.8209277238403), (0.26, 255.18398657557233), (0.27, 250.8689919693156), (0.28, 244.5163610212154), (0.29, 237.56442526669065), (0.3, 228.57485317032243), (0.31, 216.58875704183149), (0.32, 205.20196571976507), (0.33, 190.5789284430061), (0.34, 172.8395061728395), (0.35, 158.45619081865036), (0.36, 139.27843701306483), (0.37, 119.14179551720005), (0.38, 97.56682248591633), (0.39, 67.24199928083424), (0.4, 40.87258779815414), (0.41, 9.70873786407767), (0.42, -29.12621359223301), (0.43, -69.75907946781733), (0.44, -117.70346398178113), (0.45, -173.9182548244037), (0.46, -236.8452594989812), (0.47, -306.4844780055136), (0.48, -372.76758959606855), (0.49, -453.3141555795277), (0.5, -528.7067002277358), (0.51, -620.5201965719765), (0.52, -708.8577250389549), (0.53, -796.3562267769388), (0.54, -878.3411242958168), (0.55, -955.5315833632985), (0.56, -1032.3624595469255), (0.57, -1102.3612609373126), (0.58, -1173.9182548244037), (0.59, -1239.8417835311038), (0.6, -1310.9193335730552), (0.61, -1379.5996643893084), (0.62, -1447.4409684765671), (0.63, -1509.888529306005), (0.64, -1570.6580366774542), (0.65, -1626.9926884813617), (0.66, -1681.5294258659953), (0.67, -1733.1895001797914), (0.68, -1782.2126333453193), (0.69, -1822.9653601821888), (0.7, -1859.2832314515163), (0.71, -1894.7620759918495), (0.72, -1925.5663430420711), (0.73, -1955.8911662471533), (0.74, -1982.3804386911183), (0.75, -2000.8390267289944), (0.76, -2019.4174757281553), (0.77, -2032.4823205082105), (0.78, -2042.1910583722881), (0.79, -2047.8245235526788), (0.8, -2051.0607695073713), (0.81, -2052.4991010427902), (0.82, -2052.97854488793), (0.83, -2053.2182668104997), (0.84, -2053.338127771785), (0.85, -2053.4579887330697), (0.86, -2053.4579887330697), (0.87, -2053.4579887330697), (0.88, -2053.4579887330697), (0.89, -2053.4579887330697), (0.9, -2053.4579887330697), (0.91, -2053.4579887330697), (0.92, -2053.4579887330697), (0.93, -2053.4579887330697), (0.94, -2053.4579887330697), (0.95, -2053.4579887330697), (0.96, -2053.4579887330697), (0.97, -2053.4579887330697), (0.98, -2053.4579887330697), (0.99, -2053.4579887330697)]\n"
     ]
    },
    {
     "data": {
      "image/png": "[encoded data removed]",
      "text/plain": [
       "<Figure size 432x288 with 1 Axes>"
      ]
     },
     "metadata": {},
     "output_type": "display_data"
    }
   ],
   "source": [
    "y_proba = model.predict_proba(x_test)\n",
    "prec_log = {}\n",
    "rec_log = {}\n",
    "acc_log = {}\n",
    "cost_ben_log = {}\n",
    "\n",
    "for readmit_cost in range(300, 3300, 300):\n",
    "    for i in np.arange(0,1,.01):\n",
    "        i = np.round(i,2)\n",
    "        y_pred_high_precision = y_proba[:,1] >= i \n",
    "        y_pred_high_precision\n",
    "        conf = metrics.confusion_matrix(y_test_num,y_pred_high_precision)\n",
    "\n",
    "        ac_log = round(metrics.accuracy_score(y_test_num,y_pred_high_precision),4)\n",
    "        pc_log = (conf[1, 1] / (conf[1, 1] + conf[0, 1]))\n",
    "        rc_log = (conf[1, 1] / (conf[1, 1] + conf[1, 0]))\n",
    "\n",
    "        acc_log[i]= ac_log\n",
    "        prec_log[i]= pc_log\n",
    "        rec_log[i] = rc_log\n",
    "\n",
    "        FPsum = conf[0, 1]\n",
    "        TPsum = conf[0, 0]\n",
    "        FNsum = conf[1, 0]\n",
    "        TNsum = conf[1, 1]\n",
    "\n",
    "        #cost_ben_log[i] = FPsum*304 + TPsum*(304-1246) + FNsum*1246\n",
    "        #day_cost = 304\n",
    "        #readmit_cost = 1246\n",
    "        day_cost = 300\n",
    "        #readmit_cost = 2500\n",
    "        cost_ben_log[i] = (FPsum*day_cost + TPsum*(day_cost-readmit_cost) + FNsum*(readmit_cost))/len(y_test_num)\n",
    "        # FP = stay in hospital, but didn't need to, costs $304/day\n",
    "        # TP = stay in hospital and needed to, costs $304/day but saves $1246\n",
    "        # FN = readmitted, but should have stayed in hospital, saved $304, but costed $1246\n",
    "        # TN = left hospital, not readmitted, no cost\n",
    "\n",
    "        # metrics.\n",
    "        # TN  # FP\n",
    "        # FN  # TP\n",
    "\n",
    "        #print(min(cost_ben_log.values()))\n",
    "\n",
    "    zipped = zip(cost_ben_log.keys(), cost_ben_log.values())\n",
    "    print(sorted(zipped, key=lambda x: x[0]))\n",
    "\n",
    "    plt.plot(cost_ben_log.keys(),cost_ben_log.values(),label=readmit_cost)\n",
    "    plt.legend();\n",
    "    plt.xlabel(\"Threshold\")\n",
    "    plt.ylabel(\"Cost ($)\")\n",
    "    plt.grid()\n",
    "    plt.title('Cost per Intervention - Random Forest')\n",
    "    plt.savefig(\"Cost_PerIntervention_Random_Forest\");"
   ]
  },
  {
   "cell_type": "code",
   "execution_count": 224,
   "metadata": {
    "ExecuteTime": {
     "end_time": "2018-05-15T20:58:28.482058Z",
     "start_time": "2018-05-15T20:58:21.832708Z"
    }
   },
   "outputs": [
    {
     "name": "stderr",
     "output_type": "stream",
     "text": [
      "/Users/etheredgej/anaconda/lib/python3.6/site-packages/ipykernel_launcher.py:14: RuntimeWarning: invalid value encountered in long_scalars\n",
      "  \n"
     ]
    },
    {
     "name": "stdout",
     "output_type": "stream",
     "text": [
      "[[22190     0]\n",
      " [ 2839     0]]\n"
     ]
    },
    {
     "data": {
      "text/plain": [
       "<matplotlib.lines.Line2D at 0x10d49c9b0>"
      ]
     },
     "execution_count": 224,
     "metadata": {},
     "output_type": "execute_result"
    },
    {
     "data": {
      "image/png": "[encoded data removed]",
      "text/plain": [
       "<Figure size 432x288 with 1 Axes>"
      ]
     },
     "metadata": {},
     "output_type": "display_data"
    }
   ],
   "source": [
    "y_proba = model.predict_proba(x_test)\n",
    "prec_log = {}\n",
    "rec_log = {}\n",
    "acc_log = {}\n",
    "cost_ben_log = {}\n",
    "\n",
    "for i in np.arange(0,1,.01):\n",
    "    i = np.round(i,2)\n",
    "    y_pred_high_precision = y_proba[:,1] >= i \n",
    "    y_pred_high_precision\n",
    "    conf = metrics.confusion_matrix(y_test_num,y_pred_high_precision)\n",
    "    \n",
    "    ac_log = round(metrics.accuracy_score(y_test_num,y_pred_high_precision),4)\n",
    "    pc_log = (conf[1, 1] / (conf[1, 1] + conf[0, 1]))\n",
    "    rc_log = (conf[1, 1] / (conf[1, 1] + conf[1, 0]))\n",
    "    \n",
    "    acc_log[i]= ac_log\n",
    "    prec_log[i]= pc_log\n",
    "    rec_log[i] = rc_log\n",
    "        \n",
    "    FPsum = conf[0, 1]\n",
    "    TPsum = conf[0, 0]\n",
    "    FNsum = conf[1, 0]\n",
    "    TNsum = conf[1, 1]\n",
    "    \n",
    "    #cost_ben_log[i] = FPsum*304 + TPsum*(304-1246) + FNsum*1246\n",
    "    #day_cost = 304\n",
    "    #readmit_cost = 1246\n",
    "    day_cost = 304\n",
    "    readmit_cost = 1246\n",
    "    cost_ben_log[i] = (FPsum*day_cost + TPsum*(day_cost-readmit_cost) + FNsum*(readmit_cost))/len(y_test_num)\n",
    "    # FP = stay in hospital, but didn't need to, costs $304/day\n",
    "    # TP = stay in hospital and needed to, costs $304/day but saves $1246\n",
    "    # FN = readmitted, but should have stayed in hospital, saved $304, but costed $1246\n",
    "    # TN = left hospital, not readmitted, no cost\n",
    "            \n",
    "print(conf)\n",
    "plt.plot(acc_log.keys(),acc_log.values(),label=\"Accuracy\")\n",
    "plt.plot(rec_log.keys(),rec_log.values(),label=\"Recall\")\n",
    "plt.plot(prec_log.keys(),prec_log.values(),label=\"Precision\")\n",
    "# plt.plot(cost_ben.keys(),cost_ben.values(),label=\"Cost Benefit\")\n",
    "plt.legend()\n",
    "plt.grid()\n",
    "plt.xlabel(\"Threshold\")\n",
    "plt.ylabel(\"Precision / Recall / Accuracy\")\n",
    "plt.title('Precision / Recall / Accuracy curve');\n",
    "plt.axvline(x=0.49, linestyle = '--', linewidth=0.5, color='r')\n",
    "plt.axhline(y=0.42, linestyle = '--', linewidth=0.5, color='r')\n",
    "\n",
    "# metrics.\n",
    "# TN  # FP\n",
    "# FN  # TP"
   ]
  },
  {
   "cell_type": "code",
   "execution_count": 225,
   "metadata": {
    "ExecuteTime": {
     "end_time": "2018-05-15T20:58:33.260914Z",
     "start_time": "2018-05-15T20:58:33.115155Z"
    }
   },
   "outputs": [
    {
     "name": "stdout",
     "output_type": "stream",
     "text": [
      "[(0.0, 269.51775939909703), (0.01, 269.51775939909703), (0.02, 269.51775939909703), (0.03, 269.51775939909703), (0.04, 269.51775939909703), (0.05, 269.51775939909703), (0.06, 269.51775939909703), (0.07, 269.51775939909703), (0.08, 269.51775939909703), (0.09, 269.51775939909703), (0.1, 269.51775939909703), (0.11, 269.51775939909703), (0.12, 269.51775939909703), (0.13, 269.46797714651007), (0.14, 269.51775939909703), (0.15, 269.56754165168405), (0.16, 269.46797714651007), (0.17, 269.41819489392304), (0.18, 269.368412641336), (0.19, 269.06971912581406), (0.2, 268.7212433577051), (0.21, 269.1195013784011), (0.22, 268.3727675895961), (0.23, 268.0740740740741), (0.24, 267.4766870430301), (0.25, 266.13256622318113), (0.26, 265.03735666626716), (0.27, 263.24519557313516), (0.28, 260.6067361860242), (0.29, 257.7193655359783), (0.3, 253.98569659195334), (0.31, 249.00747133325342), (0.32, 244.27815733748852), (0.33, 238.20472252187463), (0.34, 230.83694913899876), (0.35, 224.86307882855888), (0.36, 216.897918414639), (0.37, 208.53449998002318), (0.38, 199.57369451436332), (0.39, 186.97878460985257), (0.4, 176.02668904071277), (0.41, 163.083303368093), (0.42, 146.9538535299053), (0.43, 130.07766990291262), (0.44, 110.16476886811299), (0.45, 86.81689240481042), (0.46, 60.681209796635905), (0.47, 31.757721043589438), (0.48, 4.228135362978945), (0.49, -29.225538375484437), (0.5, -60.53857525270686), (0.51, -98.67178073434816), (0.52, -135.36130089096648), (0.53, -171.70234527947582), (0.54, -205.75340604898318), (0.55, -237.8131767150106), (0.56, -269.723600623277), (0.57, -298.79643613408444), (0.58, -328.5164409285229), (0.59, -355.8966798513724), (0.6, -385.41755563546286), (0.61, -413.9427863678133), (0.62, -442.11954133205484), (0.63, -468.05609492988134), (0.64, -493.2956969914899), (0.65, -516.6933557073794), (0.66, -539.344280634464), (0.67, -560.8004314994606), (0.68, -581.1613728075432), (0.69, -598.087338687123), (0.7, -613.1713612209836), (0.71, -627.9069079867354), (0.72, -640.7009469015942), (0.73, -653.2958568061049), (0.74, -664.2977346278317), (0.75, -671.9642015262295), (0.76, -679.6804506772145), (0.77, -685.1067162091973), (0.78, -689.1390786687442), (0.79, -691.4788445403332), (0.8, -692.8229653601821), (0.81, -693.4203523912262), (0.82, -693.6194814015741), (0.83, -693.7190459067482), (0.84, -693.7688281593352), (0.85, -693.8186104119221), (0.86, -693.8186104119221), (0.87, -693.8186104119221), (0.88, -693.8186104119221), (0.89, -693.8186104119221), (0.9, -693.8186104119221), (0.91, -693.8186104119221), (0.92, -693.8186104119221), (0.93, -693.8186104119221), (0.94, -693.8186104119221), (0.95, -693.8186104119221), (0.96, -693.8186104119221), (0.97, -693.8186104119221), (0.98, -693.8186104119221), (0.99, -693.8186104119221)]\n"
     ]
    },
    {
     "data": {
      "image/png": "[encoded data removed]",
      "text/plain": [
       "<Figure size 432x288 with 1 Axes>"
      ]
     },
     "metadata": {},
     "output_type": "display_data"
    }
   ],
   "source": [
    "#print(min(cost_ben_log.values()))\n",
    "\n",
    "zipped = zip(cost_ben_log.keys(), cost_ben_log.values())\n",
    "print(sorted(zipped, key=lambda x: x[0]))\n",
    "\n",
    "plt.plot(cost_ben_log.keys(),cost_ben_log.values(),label=\"Cost\")\n",
    "plt.legend();\n",
    "plt.xlabel(\"Threshold\")\n",
    "plt.ylabel(\"Cost ($)\")\n",
    "plt.grid()\n",
    "plt.title('Cost per Intervention - Random Forest')\n",
    "plt.savefig(\"Cost_PerIntervention_Random_Forest\");"
   ]
  },
  {
   "cell_type": "code",
   "execution_count": null,
   "metadata": {},
   "outputs": [],
   "source": [
    "for i in np.arange(0.01,1.01,0.05):\n",
    "    y_pred_high_precision = y_proba[:,1] >= i \n",
    "    y_pred_high_precision\n",
    "    conf = metrics.confusion_matrix(y_test,y_pred_high_precision)\n",
    "    print(f\"Threshold at {round(i,2)} \\n\")\n",
    "    print(conf)\n",
    "    print(\"\")\n",
    "    test_thresh = np.round(i,2)\n",
    "    print(f\"Threshold: {test_thresh}\")\n",
    "    print(f\"Accuracy: {acc_log[test_thresh]}\")\n",
    "    print(f\"Precision: {prec_log[test_thresh]}\")\n",
    "    print(f\"Recall: {rec_log[test_thresh]}\")\n",
    "    print(f\"Cost-Benefit: {cost_ben_log[test_thresh]}\" )\n",
    "    print(\"********************************\")\n",
    "    \n",
    "#         cost_ben_log[i] = ((250 * (1-rc_log)) + (100*(1-pc_log)) - (150*pc_log))*100\n",
    "\n",
    "\n",
    "\n",
    "Add CommentCollapse "
   ]
  },
  {
   "cell_type": "code",
   "execution_count": null,
   "metadata": {},
   "outputs": [],
   "source": []
  },
  {
   "cell_type": "code",
   "execution_count": null,
   "metadata": {},
   "outputs": [],
   "source": []
  },
  {
   "cell_type": "code",
   "execution_count": null,
   "metadata": {},
   "outputs": [],
   "source": []
  },
  {
   "cell_type": "code",
   "execution_count": 154,
   "metadata": {
    "ExecuteTime": {
     "end_time": "2018-05-15T17:40:42.894696Z",
     "start_time": "2018-05-15T17:40:42.729218Z"
    }
   },
   "outputs": [
    {
     "data": {
      "text/plain": [
       "<matplotlib.axes._subplots.AxesSubplot at 0x1a22538160>"
      ]
     },
     "execution_count": 154,
     "metadata": {},
     "output_type": "execute_result"
    },
    {
     "data": {
      "image/png": "[encoded data removed]",
      "text/plain": [
       "<Figure size 648x576 with 1 Axes>"
      ]
     },
     "metadata": {},
     "output_type": "display_data"
    }
   ],
   "source": [
    "from pandas_ml import ConfusionMatrix\n",
    "\n",
    "confusion_matrix = ConfusionMatrix(y_test, y_pred)\n",
    "confusion_matrix.plot()"
   ]
  },
  {
   "cell_type": "code",
   "execution_count": 149,
   "metadata": {
    "ExecuteTime": {
     "end_time": "2018-05-15T17:37:50.837256Z",
     "start_time": "2018-05-15T17:37:50.600038Z"
    }
   },
   "outputs": [
    {
     "name": "stdout",
     "output_type": "stream",
     "text": [
      "[[ 1765  1074]\n",
      " [ 8395 13795]]\n"
     ]
    },
    {
     "data": {
      "image/png": "[encoded data removed]",
      "text/plain": [
       "<Figure size 432x288 with 2 Axes>"
      ]
     },
     "metadata": {},
     "output_type": "display_data"
    }
   ],
   "source": [
    "labels = ['early_readmitted', 'not']\n",
    "cm = metrics.confusion_matrix(y_test, y_pred)\n",
    "print(cm)\n",
    "fig = plt.figure()\n",
    "ax = fig.add_subplot(111)\n",
    "cax = ax.imshow(cm)\n",
    "plt.title('Confusion matrix of the classifier')\n",
    "fig.colorbar(cax)\n",
    "ax.set_xticklabels([''] + labels)\n",
    "ax.set_yticklabels([''] + labels)\n",
    "plt.xlabel('Predicted')\n",
    "plt.ylabel('True')\n",
    "plt.show()"
   ]
  },
  {
   "cell_type": "code",
   "execution_count": 136,
   "metadata": {
    "ExecuteTime": {
     "end_time": "2018-05-15T16:14:44.204844Z",
     "start_time": "2018-05-15T16:14:44.197991Z"
    }
   },
   "outputs": [
    {
     "name": "stdout",
     "output_type": "stream",
     "text": [
      "{'n_estimators': [200, 400, 600, 800, 1000, 1200, 1400, 1600, 1800, 2000], 'max_features': ['auto', 'sqrt'], 'max_depth': [10, 20, 30, 40, 50, 60, 70, 80, 90, 100, 110, None], 'min_samples_split': [10, 20, 30, 40, 50, 60, 70, 80, 90, 100]}\n"
     ]
    }
   ],
   "source": [
    "# Number of trees in random forest\n",
    "n_estimators = [int(x) for x in np.linspace(start = 200, stop = 2000, num = 10)]\n",
    "# Number of features to consider at every split\n",
    "max_features = ['auto', 'sqrt']\n",
    "# Maximum number of levels in tree\n",
    "max_depth = [int(x) for x in np.linspace(10, 110, num = 11)]\n",
    "max_depth.append(None)\n",
    "# Minimum number of samples required to split a node\n",
    "min_samples_split = [int(x) for x in np.linspace(start = 10, stop = 100, num = 10)]\n",
    "# Create the random grid\n",
    "random_grid = {'n_estimators': n_estimators,\n",
    "               'max_features': max_features,\n",
    "               'max_depth': max_depth,\n",
    "               'min_samples_split': min_samples_split}\n",
    "print(random_grid)"
   ]
  },
  {
   "cell_type": "code",
   "execution_count": 137,
   "metadata": {
    "ExecuteTime": {
     "end_time": "2018-05-15T16:17:14.782921Z",
     "start_time": "2018-05-15T16:14:44.382468Z"
    }
   },
   "outputs": [
    {
     "name": "stdout",
     "output_type": "stream",
     "text": [
      "Fitting 3 folds for each of 20 candidates, totalling 60 fits\n",
      "[CV] n_estimators=200, min_samples_split=70, max_features=auto, max_depth=50 \n",
      "[CV] n_estimators=200, min_samples_split=70, max_features=auto, max_depth=50 \n",
      "[CV] n_estimators=200, min_samples_split=70, max_features=auto, max_depth=50 \n",
      "[CV] n_estimators=1000, min_samples_split=100, max_features=auto, max_depth=70 \n",
      "[CV] n_estimators=1000, min_samples_split=100, max_features=auto, max_depth=70 \n",
      "[CV] n_estimators=1000, min_samples_split=100, max_features=auto, max_depth=70 \n",
      "[CV] n_estimators=200, min_samples_split=40, max_features=sqrt, max_depth=60 \n",
      "[CV] n_estimators=200, min_samples_split=40, max_features=sqrt, max_depth=60 \n",
      "[CV]  n_estimators=200, min_samples_split=70, max_features=auto, max_depth=50, total=   2.5s\n",
      "[CV]  n_estimators=200, min_samples_split=70, max_features=auto, max_depth=50, total=   2.5s\n",
      "[CV] n_estimators=200, min_samples_split=40, max_features=sqrt, max_depth=60 \n",
      "[CV] n_estimators=1200, min_samples_split=100, max_features=auto, max_depth=60 \n",
      "[CV]  n_estimators=200, min_samples_split=70, max_features=auto, max_depth=50, total=   2.6s\n",
      "[CV] n_estimators=1200, min_samples_split=100, max_features=auto, max_depth=60 \n",
      "[CV]  n_estimators=200, min_samples_split=40, max_features=sqrt, max_depth=60, total=   2.7s\n",
      "[CV] n_estimators=1200, min_samples_split=100, max_features=auto, max_depth=60 \n",
      "[CV]  n_estimators=200, min_samples_split=40, max_features=sqrt, max_depth=60, total=   2.8s\n",
      "[CV] n_estimators=1800, min_samples_split=40, max_features=auto, max_depth=90 \n",
      "[CV]  n_estimators=200, min_samples_split=40, max_features=sqrt, max_depth=60, total=   3.0s\n",
      "[CV] n_estimators=1800, min_samples_split=40, max_features=auto, max_depth=90 \n",
      "[CV]  n_estimators=1000, min_samples_split=100, max_features=auto, max_depth=70, total=  12.3s\n",
      "[CV] n_estimators=1800, min_samples_split=40, max_features=auto, max_depth=90 \n",
      "[CV]  n_estimators=1000, min_samples_split=100, max_features=auto, max_depth=70, total=  12.5s\n",
      "[CV] n_estimators=2000, min_samples_split=70, max_features=sqrt, max_depth=110 \n",
      "[CV]  n_estimators=1000, min_samples_split=100, max_features=auto, max_depth=70, total=  12.6s\n",
      "[CV] n_estimators=2000, min_samples_split=70, max_features=sqrt, max_depth=110 \n",
      "[CV]  n_estimators=1200, min_samples_split=100, max_features=auto, max_depth=60, total=  15.4s\n",
      "[CV] n_estimators=2000, min_samples_split=70, max_features=sqrt, max_depth=110 \n",
      "[CV]  n_estimators=1200, min_samples_split=100, max_features=auto, max_depth=60, total=  15.5s\n",
      "[CV] n_estimators=1400, min_samples_split=70, max_features=auto, max_depth=30 \n",
      "[CV]  n_estimators=1200, min_samples_split=100, max_features=auto, max_depth=60, total=  15.4s\n",
      "[CV] n_estimators=1400, min_samples_split=70, max_features=auto, max_depth=30 \n",
      "[CV]  n_estimators=1800, min_samples_split=40, max_features=auto, max_depth=90, total=  27.8s\n",
      "[CV] n_estimators=1400, min_samples_split=70, max_features=auto, max_depth=30 \n",
      "[CV]  n_estimators=1800, min_samples_split=40, max_features=auto, max_depth=90, total=  28.0s\n",
      "[CV] n_estimators=1800, min_samples_split=40, max_features=auto, max_depth=70 \n",
      "[CV]  n_estimators=1400, min_samples_split=70, max_features=auto, max_depth=30, total=  19.8s\n",
      "[CV] n_estimators=1800, min_samples_split=40, max_features=auto, max_depth=70 \n",
      "[CV]  n_estimators=1400, min_samples_split=70, max_features=auto, max_depth=30, total=  19.8s\n",
      "[CV] n_estimators=1800, min_samples_split=40, max_features=auto, max_depth=70 \n",
      "[CV]  n_estimators=1800, min_samples_split=40, max_features=auto, max_depth=90, total=  27.9s\n",
      "[CV] n_estimators=200, min_samples_split=40, max_features=sqrt, max_depth=20 \n",
      "[CV]  n_estimators=2000, min_samples_split=70, max_features=sqrt, max_depth=110, total=  28.4s\n",
      "[CV] n_estimators=200, min_samples_split=40, max_features=sqrt, max_depth=20 \n",
      "[CV]  n_estimators=2000, min_samples_split=70, max_features=sqrt, max_depth=110, total=  28.5s\n",
      "[CV] n_estimators=200, min_samples_split=40, max_features=sqrt, max_depth=20 \n",
      "[CV]  n_estimators=200, min_samples_split=40, max_features=sqrt, max_depth=20, total=   3.2s\n",
      "[CV] n_estimators=600, min_samples_split=90, max_features=auto, max_depth=80 \n",
      "[CV]  n_estimators=200, min_samples_split=40, max_features=sqrt, max_depth=20, total=   3.2s\n",
      "[CV] n_estimators=600, min_samples_split=90, max_features=auto, max_depth=80 \n",
      "[CV]  n_estimators=200, min_samples_split=40, max_features=sqrt, max_depth=20, total=   3.2s\n",
      "[CV] n_estimators=600, min_samples_split=90, max_features=auto, max_depth=80 \n",
      "[CV]  n_estimators=2000, min_samples_split=70, max_features=sqrt, max_depth=110, total=  28.3s\n",
      "[CV] n_estimators=1200, min_samples_split=40, max_features=sqrt, max_depth=110 \n",
      "[CV]  n_estimators=1400, min_samples_split=70, max_features=auto, max_depth=30, total=  19.6s\n",
      "[CV] n_estimators=1200, min_samples_split=40, max_features=sqrt, max_depth=110 \n",
      "[CV]  n_estimators=600, min_samples_split=90, max_features=auto, max_depth=80, total=   8.4s\n",
      "[CV] n_estimators=1200, min_samples_split=40, max_features=sqrt, max_depth=110 \n"
     ]
    },
    {
     "name": "stderr",
     "output_type": "stream",
     "text": [
      "[Parallel(n_jobs=-1)]: Done  25 tasks      | elapsed:   59.9s\n"
     ]
    },
    {
     "name": "stdout",
     "output_type": "stream",
     "text": [
      "[CV]  n_estimators=600, min_samples_split=90, max_features=auto, max_depth=80, total=   8.5s\n",
      "[CV] n_estimators=200, min_samples_split=40, max_features=sqrt, max_depth=10 \n",
      "[CV]  n_estimators=600, min_samples_split=90, max_features=auto, max_depth=80, total=   8.3s\n",
      "[CV] n_estimators=200, min_samples_split=40, max_features=sqrt, max_depth=10 \n",
      "[CV]  n_estimators=200, min_samples_split=40, max_features=sqrt, max_depth=10, total=   2.5s\n",
      "[CV] n_estimators=200, min_samples_split=40, max_features=sqrt, max_depth=10 \n",
      "[CV]  n_estimators=200, min_samples_split=40, max_features=sqrt, max_depth=10, total=   2.5s\n",
      "[CV] n_estimators=1200, min_samples_split=90, max_features=auto, max_depth=90 \n",
      "[CV]  n_estimators=200, min_samples_split=40, max_features=sqrt, max_depth=10, total=   2.7s\n",
      "[CV] n_estimators=1200, min_samples_split=90, max_features=auto, max_depth=90 \n",
      "[CV]  n_estimators=1800, min_samples_split=40, max_features=auto, max_depth=70, total=  27.8s\n",
      "[CV] n_estimators=1200, min_samples_split=90, max_features=auto, max_depth=90 \n",
      "[CV]  n_estimators=1200, min_samples_split=40, max_features=sqrt, max_depth=110, total=  18.5s\n",
      "[CV] n_estimators=2000, min_samples_split=70, max_features=sqrt, max_depth=40 \n",
      "[CV]  n_estimators=1800, min_samples_split=40, max_features=auto, max_depth=70, total=  27.9s\n",
      "[CV] n_estimators=2000, min_samples_split=70, max_features=sqrt, max_depth=40 \n",
      "[CV]  n_estimators=1800, min_samples_split=40, max_features=auto, max_depth=70, total=  27.6s\n",
      "[CV] n_estimators=2000, min_samples_split=70, max_features=sqrt, max_depth=40 \n",
      "[CV]  n_estimators=1200, min_samples_split=40, max_features=sqrt, max_depth=110, total=  18.2s\n",
      "[CV] n_estimators=400, min_samples_split=100, max_features=sqrt, max_depth=None \n",
      "[CV]  n_estimators=1200, min_samples_split=40, max_features=sqrt, max_depth=110, total=  18.2s\n",
      "[CV] n_estimators=400, min_samples_split=100, max_features=sqrt, max_depth=None \n",
      "[CV]  n_estimators=1200, min_samples_split=90, max_features=auto, max_depth=90, total=  15.9s\n",
      "[CV] n_estimators=400, min_samples_split=100, max_features=sqrt, max_depth=None \n",
      "[CV]  n_estimators=400, min_samples_split=100, max_features=sqrt, max_depth=None, total=   5.2s\n",
      "[CV] n_estimators=1200, min_samples_split=20, max_features=sqrt, max_depth=80 \n",
      "[CV]  n_estimators=1200, min_samples_split=90, max_features=auto, max_depth=90, total=  15.8s\n",
      "[CV] n_estimators=1200, min_samples_split=20, max_features=sqrt, max_depth=80 \n",
      "[CV]  n_estimators=400, min_samples_split=100, max_features=sqrt, max_depth=None, total=   5.3s\n",
      "[CV] n_estimators=1200, min_samples_split=20, max_features=sqrt, max_depth=80 \n",
      "[CV]  n_estimators=400, min_samples_split=100, max_features=sqrt, max_depth=None, total=   5.1s\n",
      "[CV] n_estimators=1200, min_samples_split=20, max_features=auto, max_depth=70 \n",
      "[CV]  n_estimators=1200, min_samples_split=90, max_features=auto, max_depth=90, total=  15.5s\n",
      "[CV] n_estimators=1200, min_samples_split=20, max_features=auto, max_depth=70 \n",
      "[CV]  n_estimators=2000, min_samples_split=70, max_features=sqrt, max_depth=40, total=  28.1s\n",
      "[CV] n_estimators=1200, min_samples_split=20, max_features=auto, max_depth=70 \n",
      "[CV]  n_estimators=2000, min_samples_split=70, max_features=sqrt, max_depth=40, total=  28.0s\n",
      "[CV] n_estimators=1200, min_samples_split=60, max_features=sqrt, max_depth=50 \n",
      "[CV]  n_estimators=2000, min_samples_split=70, max_features=sqrt, max_depth=40, total=  27.9s\n",
      "[CV] n_estimators=1200, min_samples_split=60, max_features=sqrt, max_depth=50 \n",
      "[CV]  n_estimators=1200, min_samples_split=20, max_features=sqrt, max_depth=80, total=  20.8s\n",
      "[CV] n_estimators=1200, min_samples_split=60, max_features=sqrt, max_depth=50 \n",
      "[CV]  n_estimators=1200, min_samples_split=20, max_features=sqrt, max_depth=80, total=  20.9s\n",
      "[CV] n_estimators=1000, min_samples_split=30, max_features=sqrt, max_depth=None \n",
      "[CV]  n_estimators=1200, min_samples_split=20, max_features=sqrt, max_depth=80, total=  21.0s\n",
      "[CV] n_estimators=1000, min_samples_split=30, max_features=sqrt, max_depth=None \n",
      "[CV]  n_estimators=1200, min_samples_split=20, max_features=auto, max_depth=70, total=  21.1s\n",
      "[CV] n_estimators=1000, min_samples_split=30, max_features=sqrt, max_depth=None \n",
      "[CV]  n_estimators=1200, min_samples_split=20, max_features=auto, max_depth=70, total=  21.2s\n",
      "[CV] n_estimators=1000, min_samples_split=90, max_features=sqrt, max_depth=60 \n",
      "[CV]  n_estimators=1000, min_samples_split=30, max_features=sqrt, max_depth=None, total=  18.0s\n",
      "[CV] n_estimators=1000, min_samples_split=90, max_features=sqrt, max_depth=60 \n",
      "[CV]  n_estimators=1200, min_samples_split=60, max_features=sqrt, max_depth=50, total=  19.3s\n",
      "[CV] n_estimators=1000, min_samples_split=90, max_features=sqrt, max_depth=60 \n",
      "[CV]  n_estimators=1200, min_samples_split=60, max_features=sqrt, max_depth=50, total=  19.4s\n",
      "[CV]  n_estimators=1000, min_samples_split=90, max_features=sqrt, max_depth=60, total=  14.8s\n",
      "[CV]  n_estimators=1200, min_samples_split=60, max_features=sqrt, max_depth=50, total=  19.2s\n",
      "[CV]  n_estimators=1000, min_samples_split=30, max_features=sqrt, max_depth=None, total=  17.9s\n",
      "[CV]  n_estimators=1200, min_samples_split=20, max_features=auto, max_depth=70, total=  22.8s\n",
      "[CV]  n_estimators=1000, min_samples_split=30, max_features=sqrt, max_depth=None, total=  17.6s\n",
      "[CV]  n_estimators=1000, min_samples_split=90, max_features=sqrt, max_depth=60, total=   8.2s\n",
      "[CV]  n_estimators=1000, min_samples_split=90, max_features=sqrt, max_depth=60, total=   7.9s\n"
     ]
    },
    {
     "name": "stderr",
     "output_type": "stream",
     "text": [
      "[Parallel(n_jobs=-1)]: Done  60 out of  60 | elapsed:  2.3min finished\n"
     ]
    },
    {
     "data": {
      "text/plain": [
       "RandomizedSearchCV(cv=3, error_score='raise',\n",
       "          estimator=RandomForestClassifier(bootstrap=True, class_weight=None, criterion='gini',\n",
       "            max_depth=None, max_features='auto', max_leaf_nodes=None,\n",
       "            min_impurity_decrease=0.0, min_impurity_split=None,\n",
       "            min_samples_leaf=1, min_samples_split=2,\n",
       "            min_weight_fraction_leaf=0.0, n_estimators=10, n_jobs=1,\n",
       "            oob_score=False, random_state=None, verbose=0,\n",
       "            warm_start=False),\n",
       "          fit_params=None, iid=True, n_iter=20, n_jobs=-1,\n",
       "          param_distributions={'n_estimators': [200, 400, 600, 800, 1000, 1200, 1400, 1600, 1800, 2000], 'max_features': ['auto', 'sqrt'], 'max_depth': [10, 20, 30, 40, 50, 60, 70, 80, 90, 100, 110, None], 'min_samples_split': [10, 20, 30, 40, 50, 60, 70, 80, 90, 100]},\n",
       "          pre_dispatch='2*n_jobs', random_state=42, refit=True,\n",
       "          return_train_score='warn', scoring=None, verbose=2)"
      ]
     },
     "execution_count": 137,
     "metadata": {},
     "output_type": "execute_result"
    }
   ],
   "source": [
    "# Use the random grid to search for best hyperparameters\n",
    "# First create the base model to tune\n",
    "rf = RandomForestClassifier()\n",
    "\n",
    "# Random search of parameters\n",
    "\n",
    "# using x-num fold cross validation\n",
    "cv_num = 3\n",
    "\n",
    "# search across x-num different combinations\n",
    "n_iter_num = 20\n",
    "\n",
    "# and use all available cores\n",
    "\n",
    "rf_random = RandomizedSearchCV(estimator=rf, param_distributions=random_grid,\n",
    "                               n_iter=n_iter_num, cv=cv_num, verbose=2, random_state=42, n_jobs=-1)\n",
    "\n",
    "# Fit the random search model\n",
    "rf_random.fit(x_train_undersampled, y_train_undersampled)"
   ]
  },
  {
   "cell_type": "code",
   "execution_count": 139,
   "metadata": {
    "ExecuteTime": {
     "end_time": "2018-05-15T16:18:00.706899Z",
     "start_time": "2018-05-15T16:18:00.702535Z"
    }
   },
   "outputs": [
    {
     "data": {
      "text/plain": [
       "RandomForestClassifier(bootstrap=True, class_weight=None, criterion='gini',\n",
       "            max_depth=70, max_features='auto', max_leaf_nodes=None,\n",
       "            min_impurity_decrease=0.0, min_impurity_split=None,\n",
       "            min_samples_leaf=1, min_samples_split=100,\n",
       "            min_weight_fraction_leaf=0.0, n_estimators=1000, n_jobs=1,\n",
       "            oob_score=False, random_state=None, verbose=0,\n",
       "            warm_start=False)"
      ]
     },
     "execution_count": 139,
     "metadata": {},
     "output_type": "execute_result"
    }
   ],
   "source": [
    "rf_random.best_estimator_"
   ]
  },
  {
   "cell_type": "code",
   "execution_count": 142,
   "metadata": {
    "ExecuteTime": {
     "end_time": "2018-05-15T16:19:29.625903Z",
     "start_time": "2018-05-15T16:19:29.621011Z"
    }
   },
   "outputs": [],
   "source": [
    "randomforest = RandomForestClassifier(bootstrap=True, class_weight=None, criterion='gini',\n",
    "            max_depth=70, max_features='auto', max_leaf_nodes=None,\n",
    "            min_impurity_decrease=0.0, min_impurity_split=None,\n",
    "            min_samples_leaf=1, min_samples_split=100,\n",
    "            min_weight_fraction_leaf=0.0, n_estimators=1000, n_jobs=1,\n",
    "            oob_score=False, random_state=None, verbose=0,\n",
    "            warm_start=False)"
   ]
  },
  {
   "cell_type": "code",
   "execution_count": 143,
   "metadata": {
    "ExecuteTime": {
     "end_time": "2018-05-15T16:19:50.107043Z",
     "start_time": "2018-05-15T16:19:34.843250Z"
    }
   },
   "outputs": [
    {
     "name": "stdout",
     "output_type": "stream",
     "text": [
      "Accuracy: 0.620\n",
      "             precision    recall  f1-score   support\n",
      "\n",
      "        <30       0.17      0.62      0.27      2839\n",
      "         NO       0.93      0.62      0.74     22190\n",
      "\n",
      "avg / total       0.84      0.62      0.69     25029\n",
      "\n"
     ]
    }
   ],
   "source": [
    "randomforest.fit(x_train_undersampled, y_train_undersampled)\n",
    "randomforest.score(x_test, y_test)\n",
    "y_pred = randomforest.predict(x_test)\n",
    "print(\"Accuracy: %.3f\"% metrics.accuracy_score(y_test, y_pred))\n",
    "print(metrics.classification_report(y_test, y_pred))"
   ]
  },
  {
   "cell_type": "code",
   "execution_count": null,
   "metadata": {},
   "outputs": [],
   "source": []
  },
  {
   "cell_type": "code",
   "execution_count": null,
   "metadata": {},
   "outputs": [],
   "source": []
  },
  {
   "cell_type": "markdown",
   "metadata": {},
   "source": [
    "#### Randomized grid search:"
   ]
  },
  {
   "cell_type": "code",
   "execution_count": 4,
   "metadata": {
    "ExecuteTime": {
     "end_time": "2018-05-10T15:56:09.172775Z",
     "start_time": "2018-05-10T15:56:09.168125Z"
    }
   },
   "outputs": [
    {
     "name": "stdout",
     "output_type": "stream",
     "text": [
      "{'n_estimators': [200, 400, 600, 800, 1000, 1200, 1400, 1600, 1800, 2000], 'max_features': ['auto', 'sqrt'], 'max_depth': [10, 20, 30, 40, 50, 60, 70, 80, 90, 100, 110, None], 'min_samples_split': [2, 5, 10], 'min_samples_leaf': [1, 2, 4], 'bootstrap': [True, False]}\n"
     ]
    }
   ],
   "source": [
    "# Number of trees in random forest\n",
    "n_estimators = [int(x) for x in np.linspace(start = 200, stop = 2000, num = 10)]\n",
    "# Number of features to consider at every split\n",
    "max_features = ['auto', 'sqrt']\n",
    "# Maximum number of levels in tree\n",
    "max_depth = [int(x) for x in np.linspace(10, 110, num = 11)]\n",
    "max_depth.append(None)\n",
    "# Minimum number of samples required to split a node\n",
    "min_samples_split = [2, 5, 10]\n",
    "# Minimum number of samples required at each leaf node\n",
    "min_samples_leaf = [1, 2, 4]\n",
    "# Method of selecting samples for training each tree\n",
    "bootstrap = [True, False]\n",
    "# Create the random grid\n",
    "random_grid = {'n_estimators': n_estimators,\n",
    "               'max_features': max_features,\n",
    "               'max_depth': max_depth,\n",
    "               'min_samples_split': min_samples_split,\n",
    "               'min_samples_leaf': min_samples_leaf,\n",
    "               'bootstrap': bootstrap}\n",
    "print(random_grid)"
   ]
  },
  {
   "cell_type": "code",
   "execution_count": null,
   "metadata": {
    "ExecuteTime": {
     "start_time": "2018-05-10T15:56:09.725Z"
    }
   },
   "outputs": [
    {
     "name": "stdout",
     "output_type": "stream",
     "text": [
      "Fitting 3 folds for each of 20 candidates, totalling 60 fits\n",
      "[CV] n_estimators=200, min_samples_split=10, min_samples_leaf=2, max_features=sqrt, max_depth=50, bootstrap=True \n",
      "[CV] n_estimators=200, min_samples_split=10, min_samples_leaf=2, max_features=sqrt, max_depth=50, bootstrap=True \n",
      "[CV] n_estimators=200, min_samples_split=10, min_samples_leaf=2, max_features=sqrt, max_depth=50, bootstrap=True \n",
      "[CV] n_estimators=600, min_samples_split=10, min_samples_leaf=4, max_features=sqrt, max_depth=90, bootstrap=False \n",
      "[CV] n_estimators=600, min_samples_split=10, min_samples_leaf=4, max_features=sqrt, max_depth=90, bootstrap=False \n",
      "[CV] n_estimators=600, min_samples_split=10, min_samples_leaf=4, max_features=sqrt, max_depth=90, bootstrap=False \n",
      "[CV] n_estimators=600, min_samples_split=2, min_samples_leaf=2, max_features=auto, max_depth=60, bootstrap=False \n",
      "[CV] n_estimators=600, min_samples_split=2, min_samples_leaf=2, max_features=auto, max_depth=60, bootstrap=False \n",
      "[CV]  n_estimators=200, min_samples_split=10, min_samples_leaf=2, max_features=sqrt, max_depth=50, bootstrap=True, total= 1.1min\n",
      "[CV] n_estimators=600, min_samples_split=2, min_samples_leaf=2, max_features=auto, max_depth=60, bootstrap=False \n",
      "[CV]  n_estimators=200, min_samples_split=10, min_samples_leaf=2, max_features=sqrt, max_depth=50, bootstrap=True, total= 1.1min\n",
      "[CV]  n_estimators=200, min_samples_split=10, min_samples_leaf=2, max_features=sqrt, max_depth=50, bootstrap=True, total= 1.1min\n",
      "[CV] n_estimators=1400, min_samples_split=5, min_samples_leaf=1, max_features=sqrt, max_depth=30, bootstrap=True \n",
      "[CV] n_estimators=1400, min_samples_split=5, min_samples_leaf=1, max_features=sqrt, max_depth=30, bootstrap=True \n",
      "[CV]  n_estimators=600, min_samples_split=10, min_samples_leaf=4, max_features=sqrt, max_depth=90, bootstrap=False, total= 5.1min\n",
      "[CV] n_estimators=1400, min_samples_split=5, min_samples_leaf=1, max_features=sqrt, max_depth=30, bootstrap=True \n",
      "[CV]  n_estimators=600, min_samples_split=10, min_samples_leaf=4, max_features=sqrt, max_depth=90, bootstrap=False, total= 5.1min\n",
      "[CV] n_estimators=1000, min_samples_split=10, min_samples_leaf=1, max_features=auto, max_depth=80, bootstrap=False \n",
      "[CV]  n_estimators=600, min_samples_split=10, min_samples_leaf=4, max_features=sqrt, max_depth=90, bootstrap=False, total= 5.1min\n",
      "[CV] n_estimators=1000, min_samples_split=10, min_samples_leaf=1, max_features=auto, max_depth=80, bootstrap=False \n",
      "[CV]  n_estimators=600, min_samples_split=2, min_samples_leaf=2, max_features=auto, max_depth=60, bootstrap=False, total= 5.6min\n",
      "[CV]  n_estimators=600, min_samples_split=2, min_samples_leaf=2, max_features=auto, max_depth=60, bootstrap=False, total= 5.6min\n",
      "[CV] n_estimators=1000, min_samples_split=10, min_samples_leaf=1, max_features=auto, max_depth=80, bootstrap=False \n",
      "[CV] n_estimators=400, min_samples_split=10, min_samples_leaf=1, max_features=sqrt, max_depth=60, bootstrap=False \n",
      "[CV]  n_estimators=600, min_samples_split=2, min_samples_leaf=2, max_features=auto, max_depth=60, bootstrap=False, total= 5.6min\n",
      "[CV] n_estimators=400, min_samples_split=10, min_samples_leaf=1, max_features=sqrt, max_depth=60, bootstrap=False \n",
      "[CV]  n_estimators=400, min_samples_split=10, min_samples_leaf=1, max_features=sqrt, max_depth=60, bootstrap=False, total= 3.9min\n",
      "[CV] n_estimators=400, min_samples_split=10, min_samples_leaf=1, max_features=sqrt, max_depth=60, bootstrap=False \n",
      "[CV]  n_estimators=1400, min_samples_split=5, min_samples_leaf=1, max_features=sqrt, max_depth=30, bootstrap=True, total= 8.4min\n",
      "[CV]  n_estimators=1400, min_samples_split=5, min_samples_leaf=1, max_features=sqrt, max_depth=30, bootstrap=True, total= 8.4min\n",
      "[CV] n_estimators=2000, min_samples_split=2, min_samples_leaf=2, max_features=auto, max_depth=50, bootstrap=False \n",
      "[CV] n_estimators=2000, min_samples_split=2, min_samples_leaf=2, max_features=auto, max_depth=50, bootstrap=False \n",
      "[CV]  n_estimators=400, min_samples_split=10, min_samples_leaf=1, max_features=sqrt, max_depth=60, bootstrap=False, total= 3.8min\n",
      "[CV] n_estimators=2000, min_samples_split=2, min_samples_leaf=2, max_features=auto, max_depth=50, bootstrap=False \n",
      "[CV]  n_estimators=400, min_samples_split=10, min_samples_leaf=1, max_features=sqrt, max_depth=60, bootstrap=False, total= 4.0min\n",
      "[CV] n_estimators=200, min_samples_split=5, min_samples_leaf=2, max_features=sqrt, max_depth=10, bootstrap=True \n",
      "[CV]  n_estimators=1400, min_samples_split=5, min_samples_leaf=1, max_features=sqrt, max_depth=30, bootstrap=True, total= 8.5min\n",
      "[CV] n_estimators=200, min_samples_split=5, min_samples_leaf=2, max_features=sqrt, max_depth=10, bootstrap=True \n",
      "[CV]  n_estimators=200, min_samples_split=5, min_samples_leaf=2, max_features=sqrt, max_depth=10, bootstrap=True, total=  40.0s\n",
      "[CV] n_estimators=200, min_samples_split=5, min_samples_leaf=2, max_features=sqrt, max_depth=10, bootstrap=True \n",
      "[CV]  n_estimators=200, min_samples_split=5, min_samples_leaf=2, max_features=sqrt, max_depth=10, bootstrap=True, total=  39.6s\n",
      "[CV] n_estimators=1200, min_samples_split=2, min_samples_leaf=4, max_features=auto, max_depth=100, bootstrap=True \n",
      "[CV]  n_estimators=1000, min_samples_split=10, min_samples_leaf=1, max_features=auto, max_depth=80, bootstrap=False, total= 9.8min\n",
      "[CV] n_estimators=1200, min_samples_split=2, min_samples_leaf=4, max_features=auto, max_depth=100, bootstrap=True \n",
      "[CV]  n_estimators=200, min_samples_split=5, min_samples_leaf=2, max_features=sqrt, max_depth=10, bootstrap=True, total=  38.6s\n",
      "[CV] n_estimators=1200, min_samples_split=2, min_samples_leaf=4, max_features=auto, max_depth=100, bootstrap=True \n",
      "[CV]  n_estimators=1000, min_samples_split=10, min_samples_leaf=1, max_features=auto, max_depth=80, bootstrap=False, total= 9.8min\n",
      "[CV] n_estimators=2000, min_samples_split=5, min_samples_leaf=2, max_features=auto, max_depth=50, bootstrap=True \n",
      "[CV]  n_estimators=1000, min_samples_split=10, min_samples_leaf=1, max_features=auto, max_depth=80, bootstrap=False, total= 9.9min\n",
      "[CV] n_estimators=2000, min_samples_split=5, min_samples_leaf=2, max_features=auto, max_depth=50, bootstrap=True \n",
      "[CV]  n_estimators=1200, min_samples_split=2, min_samples_leaf=4, max_features=auto, max_depth=100, bootstrap=True, total= 6.9min\n",
      "[CV] n_estimators=2000, min_samples_split=5, min_samples_leaf=2, max_features=auto, max_depth=50, bootstrap=True \n",
      "[CV]  n_estimators=1200, min_samples_split=2, min_samples_leaf=4, max_features=auto, max_depth=100, bootstrap=True, total= 6.8min\n",
      "[CV] n_estimators=400, min_samples_split=10, min_samples_leaf=2, max_features=auto, max_depth=20, bootstrap=False \n",
      "[CV]  n_estimators=1200, min_samples_split=2, min_samples_leaf=4, max_features=auto, max_depth=100, bootstrap=True, total= 6.9min\n",
      "[CV] n_estimators=400, min_samples_split=10, min_samples_leaf=2, max_features=auto, max_depth=20, bootstrap=False \n",
      "[CV]  n_estimators=400, min_samples_split=10, min_samples_leaf=2, max_features=auto, max_depth=20, bootstrap=False, total= 2.8min\n",
      "[CV] n_estimators=400, min_samples_split=10, min_samples_leaf=2, max_features=auto, max_depth=20, bootstrap=False \n"
     ]
    },
    {
     "name": "stderr",
     "output_type": "stream",
     "text": [
      "[Parallel(n_jobs=-1)]: Done  25 tasks      | elapsed: 26.4min\n"
     ]
    },
    {
     "name": "stdout",
     "output_type": "stream",
     "text": [
      "[CV]  n_estimators=400, min_samples_split=10, min_samples_leaf=2, max_features=auto, max_depth=20, bootstrap=False, total= 2.8min\n",
      "[CV] n_estimators=800, min_samples_split=2, min_samples_leaf=1, max_features=sqrt, max_depth=20, bootstrap=False \n",
      "[CV]  n_estimators=2000, min_samples_split=5, min_samples_leaf=2, max_features=auto, max_depth=50, bootstrap=True, total=11.9min\n",
      "[CV] n_estimators=800, min_samples_split=2, min_samples_leaf=1, max_features=sqrt, max_depth=20, bootstrap=False \n",
      "[CV]  n_estimators=400, min_samples_split=10, min_samples_leaf=2, max_features=auto, max_depth=20, bootstrap=False, total= 2.7min\n",
      "[CV] n_estimators=800, min_samples_split=2, min_samples_leaf=1, max_features=sqrt, max_depth=20, bootstrap=False \n",
      "[CV]  n_estimators=2000, min_samples_split=5, min_samples_leaf=2, max_features=auto, max_depth=50, bootstrap=True, total=11.9min\n",
      "[CV] n_estimators=1000, min_samples_split=5, min_samples_leaf=1, max_features=sqrt, max_depth=70, bootstrap=True \n",
      "[CV]  n_estimators=2000, min_samples_split=2, min_samples_leaf=2, max_features=auto, max_depth=50, bootstrap=False, total=19.0min\n",
      "[CV]  n_estimators=2000, min_samples_split=2, min_samples_leaf=2, max_features=auto, max_depth=50, bootstrap=False, total=19.0min\n",
      "[CV] n_estimators=1000, min_samples_split=5, min_samples_leaf=1, max_features=sqrt, max_depth=70, bootstrap=True \n",
      "[CV] n_estimators=1000, min_samples_split=5, min_samples_leaf=1, max_features=sqrt, max_depth=70, bootstrap=True \n",
      "[CV]  n_estimators=2000, min_samples_split=2, min_samples_leaf=2, max_features=auto, max_depth=50, bootstrap=False, total=18.8min\n",
      "[CV] n_estimators=1200, min_samples_split=10, min_samples_leaf=2, max_features=sqrt, max_depth=70, bootstrap=False \n",
      "[CV]  n_estimators=800, min_samples_split=2, min_samples_leaf=1, max_features=sqrt, max_depth=20, bootstrap=False, total= 5.6min\n",
      "[CV] n_estimators=1200, min_samples_split=10, min_samples_leaf=2, max_features=sqrt, max_depth=70, bootstrap=False \n",
      "[CV]  n_estimators=800, min_samples_split=2, min_samples_leaf=1, max_features=sqrt, max_depth=20, bootstrap=False, total= 5.5min\n",
      "[CV] n_estimators=1200, min_samples_split=10, min_samples_leaf=2, max_features=sqrt, max_depth=70, bootstrap=False \n",
      "[CV]  n_estimators=2000, min_samples_split=5, min_samples_leaf=2, max_features=auto, max_depth=50, bootstrap=True, total=11.0min\n",
      "[CV] n_estimators=1600, min_samples_split=2, min_samples_leaf=4, max_features=sqrt, max_depth=110, bootstrap=False \n",
      "[CV]  n_estimators=800, min_samples_split=2, min_samples_leaf=1, max_features=sqrt, max_depth=20, bootstrap=False, total= 5.5min\n",
      "[CV] n_estimators=1600, min_samples_split=2, min_samples_leaf=4, max_features=sqrt, max_depth=110, bootstrap=False \n",
      "[CV]  n_estimators=1000, min_samples_split=5, min_samples_leaf=1, max_features=sqrt, max_depth=70, bootstrap=True, total= 5.8min\n",
      "[CV] n_estimators=1600, min_samples_split=2, min_samples_leaf=4, max_features=sqrt, max_depth=110, bootstrap=False \n",
      "[CV]  n_estimators=1000, min_samples_split=5, min_samples_leaf=1, max_features=sqrt, max_depth=70, bootstrap=True, total= 5.7min\n",
      "[CV]  n_estimators=1000, min_samples_split=5, min_samples_leaf=1, max_features=sqrt, max_depth=70, bootstrap=True, total= 5.8min\n",
      "[CV] n_estimators=1000, min_samples_split=10, min_samples_leaf=1, max_features=auto, max_depth=50, bootstrap=False \n",
      "[CV] n_estimators=1000, min_samples_split=10, min_samples_leaf=1, max_features=auto, max_depth=50, bootstrap=False \n",
      "[CV]  n_estimators=1200, min_samples_split=10, min_samples_leaf=2, max_features=sqrt, max_depth=70, bootstrap=False, total= 9.8min\n",
      "[CV] n_estimators=1000, min_samples_split=10, min_samples_leaf=1, max_features=auto, max_depth=50, bootstrap=False \n",
      "[CV]  n_estimators=1200, min_samples_split=10, min_samples_leaf=2, max_features=sqrt, max_depth=70, bootstrap=False, total= 9.9min\n",
      "[CV] n_estimators=1000, min_samples_split=10, min_samples_leaf=1, max_features=sqrt, max_depth=30, bootstrap=True \n",
      "[CV]  n_estimators=1200, min_samples_split=10, min_samples_leaf=2, max_features=sqrt, max_depth=70, bootstrap=False, total= 9.8min\n",
      "[CV] n_estimators=1000, min_samples_split=10, min_samples_leaf=1, max_features=sqrt, max_depth=30, bootstrap=True \n",
      "[CV]  n_estimators=1000, min_samples_split=10, min_samples_leaf=1, max_features=auto, max_depth=50, bootstrap=False, total= 8.7min\n",
      "[CV] n_estimators=1000, min_samples_split=10, min_samples_leaf=1, max_features=sqrt, max_depth=30, bootstrap=True \n",
      "[CV]  n_estimators=1000, min_samples_split=10, min_samples_leaf=1, max_features=auto, max_depth=50, bootstrap=False, total= 8.7min\n",
      "[CV] n_estimators=600, min_samples_split=2, min_samples_leaf=1, max_features=auto, max_depth=70, bootstrap=True \n",
      "[CV]  n_estimators=1600, min_samples_split=2, min_samples_leaf=4, max_features=sqrt, max_depth=110, bootstrap=False, total=12.5min\n",
      "[CV] n_estimators=600, min_samples_split=2, min_samples_leaf=1, max_features=auto, max_depth=70, bootstrap=True \n",
      "[CV]  n_estimators=1600, min_samples_split=2, min_samples_leaf=4, max_features=sqrt, max_depth=110, bootstrap=False, total=12.5min\n",
      "[CV] n_estimators=600, min_samples_split=2, min_samples_leaf=1, max_features=auto, max_depth=70, bootstrap=True \n",
      "[CV]  n_estimators=1000, min_samples_split=10, min_samples_leaf=1, max_features=sqrt, max_depth=30, bootstrap=True, total= 5.2min\n",
      "[CV] n_estimators=1800, min_samples_split=2, min_samples_leaf=2, max_features=auto, max_depth=30, bootstrap=False \n",
      "[CV]  n_estimators=1600, min_samples_split=2, min_samples_leaf=4, max_features=sqrt, max_depth=110, bootstrap=False, total=12.4min\n",
      "[CV] n_estimators=1800, min_samples_split=2, min_samples_leaf=2, max_features=auto, max_depth=30, bootstrap=False \n",
      "[CV]  n_estimators=600, min_samples_split=2, min_samples_leaf=1, max_features=auto, max_depth=70, bootstrap=True, total= 3.6min\n",
      "[CV] n_estimators=1800, min_samples_split=2, min_samples_leaf=2, max_features=auto, max_depth=30, bootstrap=False \n",
      "[CV]  n_estimators=1000, min_samples_split=10, min_samples_leaf=1, max_features=auto, max_depth=50, bootstrap=False, total= 8.5min\n",
      "[CV] n_estimators=1600, min_samples_split=2, min_samples_leaf=4, max_features=auto, max_depth=None, bootstrap=True \n",
      "[CV]  n_estimators=1000, min_samples_split=10, min_samples_leaf=1, max_features=sqrt, max_depth=30, bootstrap=True, total= 5.1min\n",
      "[CV] n_estimators=1600, min_samples_split=2, min_samples_leaf=4, max_features=auto, max_depth=None, bootstrap=True \n",
      "[CV]  n_estimators=1000, min_samples_split=10, min_samples_leaf=1, max_features=sqrt, max_depth=30, bootstrap=True, total= 5.0min\n",
      "[CV] n_estimators=1600, min_samples_split=2, min_samples_leaf=4, max_features=auto, max_depth=None, bootstrap=True \n",
      "[CV]  n_estimators=600, min_samples_split=2, min_samples_leaf=1, max_features=auto, max_depth=70, bootstrap=True, total= 3.7min\n",
      "[CV]  n_estimators=600, min_samples_split=2, min_samples_leaf=1, max_features=auto, max_depth=70, bootstrap=True, total= 3.6min\n"
     ]
    }
   ],
   "source": [
    "# Use the random grid to search for best hyperparameters\n",
    "# First create the base model to tune\n",
    "rf = RandomForestClassifier()\n",
    "\n",
    "# Random search of parameters\n",
    "\n",
    "# using x-num fold cross validation\n",
    "cv_num = 3\n",
    "\n",
    "# search across 100 different combinations\n",
    "n_iter_num = 20\n",
    "\n",
    "# and use all available cores\n",
    "\n",
    "rf_random = RandomizedSearchCV(estimator=rf, param_distributions=random_grid,\n",
    "                               n_iter=n_iter_num, cv=cv_num, verbose=2, random_state=42, n_jobs=-1)\n",
    "\n",
    "# Fit the random search model\n",
    "rf_random.fit(x_train, y_train)"
   ]
  },
  {
   "cell_type": "code",
   "execution_count": null,
   "metadata": {},
   "outputs": [],
   "source": [
    "def evaluate(model, test_features, test_labels):\n",
    "    predictions = model.predict(test_features)\n",
    "    errors = abs(predictions - test_labels)\n",
    "    mape = 100 * np.mean(errors / test_labels)\n",
    "    accuracy = 100 - mape\n",
    "    print('Model Performance')\n",
    "    print('Average Error: {:0.4f} degrees.'.format(np.mean(errors)))\n",
    "    print('Accuracy = {:0.2f}%.'.format(accuracy))\n",
    "    \n",
    "    return accuracy"
   ]
  },
  {
   "cell_type": "code",
   "execution_count": null,
   "metadata": {},
   "outputs": [],
   "source": [
    "# How does the baseline/benchmark model perform?\n",
    "base_model = RandomForestClassifier(n_estimators = 10, random_state = 42)\n",
    "base_model.fit(train_features, train_labels)\n",
    "base_accuracy = evaluate(base_model, test_features, test_labels)"
   ]
  },
  {
   "cell_type": "code",
   "execution_count": null,
   "metadata": {},
   "outputs": [],
   "source": [
    "# How does the new model perform?\n",
    "best_random = rf_random.best_estimator_\n",
    "random_accuracy = evaluate(best_random, test_features, test_labels)"
   ]
  },
  {
   "cell_type": "code",
   "execution_count": null,
   "metadata": {},
   "outputs": [],
   "source": [
    "# How much did we improve?\n",
    "print('Improvement of {:0.2f}%.'.format( 100 * (random_accuracy - base_accuracy) / base_accuracy))"
   ]
  },
  {
   "cell_type": "code",
   "execution_count": 111,
   "metadata": {
    "ExecuteTime": {
     "end_time": "2018-05-15T15:52:35.357543Z",
     "start_time": "2018-05-15T15:51:32.098058Z"
    }
   },
   "outputs": [
    {
     "ename": "KeyboardInterrupt",
     "evalue": "",
     "output_type": "error",
     "traceback": [
      "\u001b[0;31m---------------------------------------------------------------------------\u001b[0m",
      "\u001b[0;31mKeyboardInterrupt\u001b[0m                         Traceback (most recent call last)",
      "\u001b[0;32m<ipython-input-111-2ba916034439>\u001b[0m in \u001b[0;36m<module>\u001b[0;34m()\u001b[0m\n\u001b[1;32m      7\u001b[0m             warm_start=False)\n\u001b[1;32m      8\u001b[0m \u001b[0;34m\u001b[0m\u001b[0m\n\u001b[0;32m----> 9\u001b[0;31m \u001b[0mrandomforest\u001b[0m\u001b[0;34m.\u001b[0m\u001b[0mfit\u001b[0m\u001b[0;34m(\u001b[0m\u001b[0mx_train\u001b[0m\u001b[0;34m,\u001b[0m \u001b[0my_train\u001b[0m\u001b[0;34m)\u001b[0m\u001b[0;34m\u001b[0m\u001b[0m\n\u001b[0m\u001b[1;32m     10\u001b[0m \u001b[0mrandomforest\u001b[0m\u001b[0;34m.\u001b[0m\u001b[0mscore\u001b[0m\u001b[0;34m(\u001b[0m\u001b[0mx_test\u001b[0m\u001b[0;34m,\u001b[0m \u001b[0my_test\u001b[0m\u001b[0;34m)\u001b[0m\u001b[0;34m\u001b[0m\u001b[0m\n\u001b[1;32m     11\u001b[0m \u001b[0my_pred\u001b[0m \u001b[0;34m=\u001b[0m \u001b[0mrandomforest\u001b[0m\u001b[0;34m.\u001b[0m\u001b[0mpredict\u001b[0m\u001b[0;34m(\u001b[0m\u001b[0mx_test\u001b[0m\u001b[0;34m)\u001b[0m\u001b[0;34m\u001b[0m\u001b[0m\n",
      "\u001b[0;32m~/anaconda/lib/python3.6/site-packages/sklearn/ensemble/forest.py\u001b[0m in \u001b[0;36mfit\u001b[0;34m(self, X, y, sample_weight)\u001b[0m\n\u001b[1;32m    326\u001b[0m                     \u001b[0mt\u001b[0m\u001b[0;34m,\u001b[0m \u001b[0mself\u001b[0m\u001b[0;34m,\u001b[0m \u001b[0mX\u001b[0m\u001b[0;34m,\u001b[0m \u001b[0my\u001b[0m\u001b[0;34m,\u001b[0m \u001b[0msample_weight\u001b[0m\u001b[0;34m,\u001b[0m \u001b[0mi\u001b[0m\u001b[0;34m,\u001b[0m \u001b[0mlen\u001b[0m\u001b[0;34m(\u001b[0m\u001b[0mtrees\u001b[0m\u001b[0;34m)\u001b[0m\u001b[0;34m,\u001b[0m\u001b[0;34m\u001b[0m\u001b[0m\n\u001b[1;32m    327\u001b[0m                     verbose=self.verbose, class_weight=self.class_weight)\n\u001b[0;32m--> 328\u001b[0;31m                 for i, t in enumerate(trees))\n\u001b[0m\u001b[1;32m    329\u001b[0m \u001b[0;34m\u001b[0m\u001b[0m\n\u001b[1;32m    330\u001b[0m             \u001b[0;31m# Collect newly grown trees\u001b[0m\u001b[0;34m\u001b[0m\u001b[0;34m\u001b[0m\u001b[0m\n",
      "\u001b[0;32m~/anaconda/lib/python3.6/site-packages/sklearn/externals/joblib/parallel.py\u001b[0m in \u001b[0;36m__call__\u001b[0;34m(self, iterable)\u001b[0m\n\u001b[1;32m    777\u001b[0m             \u001b[0;31m# was dispatched. In particular this covers the edge\u001b[0m\u001b[0;34m\u001b[0m\u001b[0;34m\u001b[0m\u001b[0m\n\u001b[1;32m    778\u001b[0m             \u001b[0;31m# case of Parallel used with an exhausted iterator.\u001b[0m\u001b[0;34m\u001b[0m\u001b[0;34m\u001b[0m\u001b[0m\n\u001b[0;32m--> 779\u001b[0;31m             \u001b[0;32mwhile\u001b[0m \u001b[0mself\u001b[0m\u001b[0;34m.\u001b[0m\u001b[0mdispatch_one_batch\u001b[0m\u001b[0;34m(\u001b[0m\u001b[0miterator\u001b[0m\u001b[0;34m)\u001b[0m\u001b[0;34m:\u001b[0m\u001b[0;34m\u001b[0m\u001b[0m\n\u001b[0m\u001b[1;32m    780\u001b[0m                 \u001b[0mself\u001b[0m\u001b[0;34m.\u001b[0m\u001b[0m_iterating\u001b[0m \u001b[0;34m=\u001b[0m \u001b[0;32mTrue\u001b[0m\u001b[0;34m\u001b[0m\u001b[0m\n\u001b[1;32m    781\u001b[0m             \u001b[0;32melse\u001b[0m\u001b[0;34m:\u001b[0m\u001b[0;34m\u001b[0m\u001b[0m\n",
      "\u001b[0;32m~/anaconda/lib/python3.6/site-packages/sklearn/externals/joblib/parallel.py\u001b[0m in \u001b[0;36mdispatch_one_batch\u001b[0;34m(self, iterator)\u001b[0m\n\u001b[1;32m    623\u001b[0m                 \u001b[0;32mreturn\u001b[0m \u001b[0;32mFalse\u001b[0m\u001b[0;34m\u001b[0m\u001b[0m\n\u001b[1;32m    624\u001b[0m             \u001b[0;32melse\u001b[0m\u001b[0;34m:\u001b[0m\u001b[0;34m\u001b[0m\u001b[0m\n\u001b[0;32m--> 625\u001b[0;31m                 \u001b[0mself\u001b[0m\u001b[0;34m.\u001b[0m\u001b[0m_dispatch\u001b[0m\u001b[0;34m(\u001b[0m\u001b[0mtasks\u001b[0m\u001b[0;34m)\u001b[0m\u001b[0;34m\u001b[0m\u001b[0m\n\u001b[0m\u001b[1;32m    626\u001b[0m                 \u001b[0;32mreturn\u001b[0m \u001b[0;32mTrue\u001b[0m\u001b[0;34m\u001b[0m\u001b[0m\n\u001b[1;32m    627\u001b[0m \u001b[0;34m\u001b[0m\u001b[0m\n",
      "\u001b[0;32m~/anaconda/lib/python3.6/site-packages/sklearn/externals/joblib/parallel.py\u001b[0m in \u001b[0;36m_dispatch\u001b[0;34m(self, batch)\u001b[0m\n\u001b[1;32m    586\u001b[0m         \u001b[0mdispatch_timestamp\u001b[0m \u001b[0;34m=\u001b[0m \u001b[0mtime\u001b[0m\u001b[0;34m.\u001b[0m\u001b[0mtime\u001b[0m\u001b[0;34m(\u001b[0m\u001b[0;34m)\u001b[0m\u001b[0;34m\u001b[0m\u001b[0m\n\u001b[1;32m    587\u001b[0m         \u001b[0mcb\u001b[0m \u001b[0;34m=\u001b[0m \u001b[0mBatchCompletionCallBack\u001b[0m\u001b[0;34m(\u001b[0m\u001b[0mdispatch_timestamp\u001b[0m\u001b[0;34m,\u001b[0m \u001b[0mlen\u001b[0m\u001b[0;34m(\u001b[0m\u001b[0mbatch\u001b[0m\u001b[0;34m)\u001b[0m\u001b[0;34m,\u001b[0m \u001b[0mself\u001b[0m\u001b[0;34m)\u001b[0m\u001b[0;34m\u001b[0m\u001b[0m\n\u001b[0;32m--> 588\u001b[0;31m         \u001b[0mjob\u001b[0m \u001b[0;34m=\u001b[0m \u001b[0mself\u001b[0m\u001b[0;34m.\u001b[0m\u001b[0m_backend\u001b[0m\u001b[0;34m.\u001b[0m\u001b[0mapply_async\u001b[0m\u001b[0;34m(\u001b[0m\u001b[0mbatch\u001b[0m\u001b[0;34m,\u001b[0m \u001b[0mcallback\u001b[0m\u001b[0;34m=\u001b[0m\u001b[0mcb\u001b[0m\u001b[0;34m)\u001b[0m\u001b[0;34m\u001b[0m\u001b[0m\n\u001b[0m\u001b[1;32m    589\u001b[0m         \u001b[0mself\u001b[0m\u001b[0;34m.\u001b[0m\u001b[0m_jobs\u001b[0m\u001b[0;34m.\u001b[0m\u001b[0mappend\u001b[0m\u001b[0;34m(\u001b[0m\u001b[0mjob\u001b[0m\u001b[0;34m)\u001b[0m\u001b[0;34m\u001b[0m\u001b[0m\n\u001b[1;32m    590\u001b[0m \u001b[0;34m\u001b[0m\u001b[0m\n",
      "\u001b[0;32m~/anaconda/lib/python3.6/site-packages/sklearn/externals/joblib/_parallel_backends.py\u001b[0m in \u001b[0;36mapply_async\u001b[0;34m(self, func, callback)\u001b[0m\n\u001b[1;32m    109\u001b[0m     \u001b[0;32mdef\u001b[0m \u001b[0mapply_async\u001b[0m\u001b[0;34m(\u001b[0m\u001b[0mself\u001b[0m\u001b[0;34m,\u001b[0m \u001b[0mfunc\u001b[0m\u001b[0;34m,\u001b[0m \u001b[0mcallback\u001b[0m\u001b[0;34m=\u001b[0m\u001b[0;32mNone\u001b[0m\u001b[0;34m)\u001b[0m\u001b[0;34m:\u001b[0m\u001b[0;34m\u001b[0m\u001b[0m\n\u001b[1;32m    110\u001b[0m         \u001b[0;34m\"\"\"Schedule a func to be run\"\"\"\u001b[0m\u001b[0;34m\u001b[0m\u001b[0m\n\u001b[0;32m--> 111\u001b[0;31m         \u001b[0mresult\u001b[0m \u001b[0;34m=\u001b[0m \u001b[0mImmediateResult\u001b[0m\u001b[0;34m(\u001b[0m\u001b[0mfunc\u001b[0m\u001b[0;34m)\u001b[0m\u001b[0;34m\u001b[0m\u001b[0m\n\u001b[0m\u001b[1;32m    112\u001b[0m         \u001b[0;32mif\u001b[0m \u001b[0mcallback\u001b[0m\u001b[0;34m:\u001b[0m\u001b[0;34m\u001b[0m\u001b[0m\n\u001b[1;32m    113\u001b[0m             \u001b[0mcallback\u001b[0m\u001b[0;34m(\u001b[0m\u001b[0mresult\u001b[0m\u001b[0;34m)\u001b[0m\u001b[0;34m\u001b[0m\u001b[0m\n",
      "\u001b[0;32m~/anaconda/lib/python3.6/site-packages/sklearn/externals/joblib/_parallel_backends.py\u001b[0m in \u001b[0;36m__init__\u001b[0;34m(self, batch)\u001b[0m\n\u001b[1;32m    330\u001b[0m         \u001b[0;31m# Don't delay the application, to avoid keeping the input\u001b[0m\u001b[0;34m\u001b[0m\u001b[0;34m\u001b[0m\u001b[0m\n\u001b[1;32m    331\u001b[0m         \u001b[0;31m# arguments in memory\u001b[0m\u001b[0;34m\u001b[0m\u001b[0;34m\u001b[0m\u001b[0m\n\u001b[0;32m--> 332\u001b[0;31m         \u001b[0mself\u001b[0m\u001b[0;34m.\u001b[0m\u001b[0mresults\u001b[0m \u001b[0;34m=\u001b[0m \u001b[0mbatch\u001b[0m\u001b[0;34m(\u001b[0m\u001b[0;34m)\u001b[0m\u001b[0;34m\u001b[0m\u001b[0m\n\u001b[0m\u001b[1;32m    333\u001b[0m \u001b[0;34m\u001b[0m\u001b[0m\n\u001b[1;32m    334\u001b[0m     \u001b[0;32mdef\u001b[0m \u001b[0mget\u001b[0m\u001b[0;34m(\u001b[0m\u001b[0mself\u001b[0m\u001b[0;34m)\u001b[0m\u001b[0;34m:\u001b[0m\u001b[0;34m\u001b[0m\u001b[0m\n",
      "\u001b[0;32m~/anaconda/lib/python3.6/site-packages/sklearn/externals/joblib/parallel.py\u001b[0m in \u001b[0;36m__call__\u001b[0;34m(self)\u001b[0m\n\u001b[1;32m    129\u001b[0m \u001b[0;34m\u001b[0m\u001b[0m\n\u001b[1;32m    130\u001b[0m     \u001b[0;32mdef\u001b[0m \u001b[0m__call__\u001b[0m\u001b[0;34m(\u001b[0m\u001b[0mself\u001b[0m\u001b[0;34m)\u001b[0m\u001b[0;34m:\u001b[0m\u001b[0;34m\u001b[0m\u001b[0m\n\u001b[0;32m--> 131\u001b[0;31m         \u001b[0;32mreturn\u001b[0m \u001b[0;34m[\u001b[0m\u001b[0mfunc\u001b[0m\u001b[0;34m(\u001b[0m\u001b[0;34m*\u001b[0m\u001b[0margs\u001b[0m\u001b[0;34m,\u001b[0m \u001b[0;34m**\u001b[0m\u001b[0mkwargs\u001b[0m\u001b[0;34m)\u001b[0m \u001b[0;32mfor\u001b[0m \u001b[0mfunc\u001b[0m\u001b[0;34m,\u001b[0m \u001b[0margs\u001b[0m\u001b[0;34m,\u001b[0m \u001b[0mkwargs\u001b[0m \u001b[0;32min\u001b[0m \u001b[0mself\u001b[0m\u001b[0;34m.\u001b[0m\u001b[0mitems\u001b[0m\u001b[0;34m]\u001b[0m\u001b[0;34m\u001b[0m\u001b[0m\n\u001b[0m\u001b[1;32m    132\u001b[0m \u001b[0;34m\u001b[0m\u001b[0m\n\u001b[1;32m    133\u001b[0m     \u001b[0;32mdef\u001b[0m \u001b[0m__len__\u001b[0m\u001b[0;34m(\u001b[0m\u001b[0mself\u001b[0m\u001b[0;34m)\u001b[0m\u001b[0;34m:\u001b[0m\u001b[0;34m\u001b[0m\u001b[0m\n",
      "\u001b[0;32m~/anaconda/lib/python3.6/site-packages/sklearn/externals/joblib/parallel.py\u001b[0m in \u001b[0;36m<listcomp>\u001b[0;34m(.0)\u001b[0m\n\u001b[1;32m    129\u001b[0m \u001b[0;34m\u001b[0m\u001b[0m\n\u001b[1;32m    130\u001b[0m     \u001b[0;32mdef\u001b[0m \u001b[0m__call__\u001b[0m\u001b[0;34m(\u001b[0m\u001b[0mself\u001b[0m\u001b[0;34m)\u001b[0m\u001b[0;34m:\u001b[0m\u001b[0;34m\u001b[0m\u001b[0m\n\u001b[0;32m--> 131\u001b[0;31m         \u001b[0;32mreturn\u001b[0m \u001b[0;34m[\u001b[0m\u001b[0mfunc\u001b[0m\u001b[0;34m(\u001b[0m\u001b[0;34m*\u001b[0m\u001b[0margs\u001b[0m\u001b[0;34m,\u001b[0m \u001b[0;34m**\u001b[0m\u001b[0mkwargs\u001b[0m\u001b[0;34m)\u001b[0m \u001b[0;32mfor\u001b[0m \u001b[0mfunc\u001b[0m\u001b[0;34m,\u001b[0m \u001b[0margs\u001b[0m\u001b[0;34m,\u001b[0m \u001b[0mkwargs\u001b[0m \u001b[0;32min\u001b[0m \u001b[0mself\u001b[0m\u001b[0;34m.\u001b[0m\u001b[0mitems\u001b[0m\u001b[0;34m]\u001b[0m\u001b[0;34m\u001b[0m\u001b[0m\n\u001b[0m\u001b[1;32m    132\u001b[0m \u001b[0;34m\u001b[0m\u001b[0m\n\u001b[1;32m    133\u001b[0m     \u001b[0;32mdef\u001b[0m \u001b[0m__len__\u001b[0m\u001b[0;34m(\u001b[0m\u001b[0mself\u001b[0m\u001b[0;34m)\u001b[0m\u001b[0;34m:\u001b[0m\u001b[0;34m\u001b[0m\u001b[0m\n",
      "\u001b[0;32m~/anaconda/lib/python3.6/site-packages/sklearn/ensemble/forest.py\u001b[0m in \u001b[0;36m_parallel_build_trees\u001b[0;34m(tree, forest, X, y, sample_weight, tree_idx, n_trees, verbose, class_weight)\u001b[0m\n\u001b[1;32m    121\u001b[0m         \u001b[0mtree\u001b[0m\u001b[0;34m.\u001b[0m\u001b[0mfit\u001b[0m\u001b[0;34m(\u001b[0m\u001b[0mX\u001b[0m\u001b[0;34m,\u001b[0m \u001b[0my\u001b[0m\u001b[0;34m,\u001b[0m \u001b[0msample_weight\u001b[0m\u001b[0;34m=\u001b[0m\u001b[0mcurr_sample_weight\u001b[0m\u001b[0;34m,\u001b[0m \u001b[0mcheck_input\u001b[0m\u001b[0;34m=\u001b[0m\u001b[0;32mFalse\u001b[0m\u001b[0;34m)\u001b[0m\u001b[0;34m\u001b[0m\u001b[0m\n\u001b[1;32m    122\u001b[0m     \u001b[0;32melse\u001b[0m\u001b[0;34m:\u001b[0m\u001b[0;34m\u001b[0m\u001b[0m\n\u001b[0;32m--> 123\u001b[0;31m         \u001b[0mtree\u001b[0m\u001b[0;34m.\u001b[0m\u001b[0mfit\u001b[0m\u001b[0;34m(\u001b[0m\u001b[0mX\u001b[0m\u001b[0;34m,\u001b[0m \u001b[0my\u001b[0m\u001b[0;34m,\u001b[0m \u001b[0msample_weight\u001b[0m\u001b[0;34m=\u001b[0m\u001b[0msample_weight\u001b[0m\u001b[0;34m,\u001b[0m \u001b[0mcheck_input\u001b[0m\u001b[0;34m=\u001b[0m\u001b[0;32mFalse\u001b[0m\u001b[0;34m)\u001b[0m\u001b[0;34m\u001b[0m\u001b[0m\n\u001b[0m\u001b[1;32m    124\u001b[0m \u001b[0;34m\u001b[0m\u001b[0m\n\u001b[1;32m    125\u001b[0m     \u001b[0;32mreturn\u001b[0m \u001b[0mtree\u001b[0m\u001b[0;34m\u001b[0m\u001b[0m\n",
      "\u001b[0;32m~/anaconda/lib/python3.6/site-packages/sklearn/tree/tree.py\u001b[0m in \u001b[0;36mfit\u001b[0;34m(self, X, y, sample_weight, check_input, X_idx_sorted)\u001b[0m\n\u001b[1;32m    788\u001b[0m             \u001b[0msample_weight\u001b[0m\u001b[0;34m=\u001b[0m\u001b[0msample_weight\u001b[0m\u001b[0;34m,\u001b[0m\u001b[0;34m\u001b[0m\u001b[0m\n\u001b[1;32m    789\u001b[0m             \u001b[0mcheck_input\u001b[0m\u001b[0;34m=\u001b[0m\u001b[0mcheck_input\u001b[0m\u001b[0;34m,\u001b[0m\u001b[0;34m\u001b[0m\u001b[0m\n\u001b[0;32m--> 790\u001b[0;31m             X_idx_sorted=X_idx_sorted)\n\u001b[0m\u001b[1;32m    791\u001b[0m         \u001b[0;32mreturn\u001b[0m \u001b[0mself\u001b[0m\u001b[0;34m\u001b[0m\u001b[0m\n\u001b[1;32m    792\u001b[0m \u001b[0;34m\u001b[0m\u001b[0m\n",
      "\u001b[0;32m~/anaconda/lib/python3.6/site-packages/sklearn/tree/tree.py\u001b[0m in \u001b[0;36mfit\u001b[0;34m(self, X, y, sample_weight, check_input, X_idx_sorted)\u001b[0m\n\u001b[1;32m    360\u001b[0m                                            min_impurity_split)\n\u001b[1;32m    361\u001b[0m \u001b[0;34m\u001b[0m\u001b[0m\n\u001b[0;32m--> 362\u001b[0;31m         \u001b[0mbuilder\u001b[0m\u001b[0;34m.\u001b[0m\u001b[0mbuild\u001b[0m\u001b[0;34m(\u001b[0m\u001b[0mself\u001b[0m\u001b[0;34m.\u001b[0m\u001b[0mtree_\u001b[0m\u001b[0;34m,\u001b[0m \u001b[0mX\u001b[0m\u001b[0;34m,\u001b[0m \u001b[0my\u001b[0m\u001b[0;34m,\u001b[0m \u001b[0msample_weight\u001b[0m\u001b[0;34m,\u001b[0m \u001b[0mX_idx_sorted\u001b[0m\u001b[0;34m)\u001b[0m\u001b[0;34m\u001b[0m\u001b[0m\n\u001b[0m\u001b[1;32m    363\u001b[0m \u001b[0;34m\u001b[0m\u001b[0m\n\u001b[1;32m    364\u001b[0m         \u001b[0;32mif\u001b[0m \u001b[0mself\u001b[0m\u001b[0;34m.\u001b[0m\u001b[0mn_outputs_\u001b[0m \u001b[0;34m==\u001b[0m \u001b[0;36m1\u001b[0m\u001b[0;34m:\u001b[0m\u001b[0;34m\u001b[0m\u001b[0m\n",
      "\u001b[0;31mKeyboardInterrupt\u001b[0m: "
     ]
    }
   ],
   "source": [
    "randomforest = RandomForestClassifier(bootstrap=False, class_weight=None, criterion='gini',\n",
    "            max_depth=70, max_features='sqrt', max_leaf_nodes=None,\n",
    "            min_impurity_decrease=0.0, min_impurity_split=None,\n",
    "            min_samples_leaf=2, min_samples_split=10,\n",
    "            min_weight_fraction_leaf=0.0, n_estimators=1200, n_jobs=1,\n",
    "            oob_score=False, random_state=None, verbose=0,\n",
    "            warm_start=False)\n",
    "\n",
    "randomforest.fit(x_train, y_train)\n",
    "randomforest.score(x_test, y_test)\n",
    "y_pred = randomforest.predict(x_test)\n",
    "print(\"Accuracy: %.3f\"% metrics.accuracy_score(y_test, y_pred))\n",
    "print(metrics.classification_report(y_test, y_pred))"
   ]
  },
  {
   "cell_type": "code",
   "execution_count": null,
   "metadata": {},
   "outputs": [],
   "source": [
    "randomforest = RandomForestClassifier(bootstrap=False, class_weight=None, criterion='gini',\n",
    "            max_depth=70, max_features='sqrt', max_leaf_nodes=None,\n",
    "            min_impurity_decrease=0.0, min_impurity_split=None,\n",
    "            min_samples_leaf=2, min_samples_split=10,\n",
    "            min_weight_fraction_leaf=0.0, n_estimators=1200, n_jobs=1,\n",
    "            oob_score=False, random_state=None, verbose=0,\n",
    "            warm_start=False)\n",
    "\n",
    "randomforest.fit(x_train, y_train)\n",
    "randomforest.score(x_test, y_test)\n",
    "y_pred = randomforest.predict(x_test)\n",
    "print(\"Accuracy: %.3f\"% metrics.accuracy_score(y_test, y_pred))\n",
    "print(metrics.classification_report(y_test, y_pred))"
   ]
  }
 ],
 "metadata": {
  "kernelspec": {
   "display_name": "Python 3",
   "language": "python",
   "name": "python3"
  },
  "language_info": {
   "codemirror_mode": {
    "name": "ipython",
    "version": 3
   },
   "file_extension": ".py",
   "mimetype": "text/x-python",
   "name": "python",
   "nbconvert_exporter": "python",
   "pygments_lexer": "ipython3",
   "version": "3.6.5"
  }
 },
 "nbformat": 4,
 "nbformat_minor": 1
}
