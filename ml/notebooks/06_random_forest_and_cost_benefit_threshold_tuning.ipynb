{
 "cells": [
  {
   "cell_type": "markdown",
   "metadata": {},
   "source": [
    "# Tree-based classifiers (DT, RF, ExtraRandomTrees, GradientBoostedTrees, XGBoost):\n",
    "\n",
    "Classifying with supervised learning whether diabetic patients are readmitted, and if they are, if it's before or after 30 days.\n",
    "\n",
    "Using the dataset from here: https://archive.ics.uci.edu/ml/datasets/Diabetes+130-US+hospitals+for+years+1999-2008"
   ]
  },
  {
   "cell_type": "markdown",
   "metadata": {},
   "source": [
    "## TODO:\n",
    "- additional cleanup and standardization\n",
    "- randomsearchcv for randomforest\n",
    "- randomsearchcv for gradientboostedtrees\n",
    "- randomsearchcv for xgboost\n",
    "- cleanup so that it's obvious what's going on with the cost function classification threshold tuning\n",
    "- make it obvious where the model is being retrained on a subset of features for the purpose of creating the flask app model\n",
    "- discuss the importance of model evaluation metric and why I settled on f1 macro or recall macro instead of something like accuracy"
   ]
  },
  {
   "cell_type": "markdown",
   "metadata": {},
   "source": [
    "## Model evaluation and final model creation:\n",
    "\n",
    "Once the best model was determined based on f1 macro score, the model was retrained on a subset of features for the purpose of creating the flask app model.\n",
    "\n",
    "25 features seemed to be a reasonable amount to balance the effort it would take to input them into the dash UI while still retaining good model performance.\n",
    "\n"
   ]
  },
  {
   "cell_type": "code",
   "execution_count": 24,
   "metadata": {
    "ExecuteTime": {
     "end_time": "2021-07-25T13:57:15.108806Z",
     "start_time": "2021-07-25T13:57:15.099753Z"
    }
   },
   "outputs": [],
   "source": [
    "%matplotlib inline\n",
    "import matplotlib.cm as cm\n",
    "import random\n",
    "\n",
    "from sklearn.tree import DecisionTreeClassifier\n",
    "from sklearn.ensemble import RandomForestClassifier\n",
    "from sklearn.ensemble import ExtraTreesClassifier\n",
    "from sklearn.ensemble import GradientBoostingClassifier\n",
    "from sklearn.ensemble import BaggingClassifier\n",
    "\n",
    "import pandas as pd\n",
    "import numpy as np\n",
    "import matplotlib.pyplot as plt\n",
    "import seaborn as sns\n",
    "\n",
    "from imblearn.over_sampling import SMOTE\n",
    "from imblearn.under_sampling import RandomUnderSampler\n",
    "\n",
    "from sklearn.model_selection import cross_val_score\n",
    "from sklearn.model_selection import GridSearchCV\n",
    "from sklearn.model_selection import RandomizedSearchCV\n",
    "\n",
    "from sklearn import metrics\n",
    "\n",
    "import pickle"
   ]
  },
  {
   "cell_type": "code",
   "execution_count": 2,
   "metadata": {
    "ExecuteTime": {
     "end_time": "2021-07-25T13:14:38.303463Z",
     "start_time": "2021-07-25T13:14:38.253196Z"
    }
   },
   "outputs": [],
   "source": [
    "with open(\"y_train_liv.pkl\", 'rb') as picklefile: \n",
    "    y_train = pickle.load(picklefile)\n",
    "\n",
    "with open(\"y_test_liv.pkl\", 'rb') as picklefile: \n",
    "    y_test = pickle.load(picklefile)\n",
    "\n",
    "with open(\"x_train_liv.pkl\", 'rb') as picklefile: \n",
    "    x_train = pickle.load(picklefile)\n",
    "\n",
    "with open(\"x_test_liv.pkl\", 'rb') as picklefile: \n",
    "    x_test = pickle.load(picklefile)"
   ]
  },
  {
   "cell_type": "markdown",
   "metadata": {},
   "source": [
    "## Binarizing classes:"
   ]
  },
  {
   "cell_type": "code",
   "execution_count": 3,
   "metadata": {
    "ExecuteTime": {
     "end_time": "2021-07-25T13:14:38.369574Z",
     "start_time": "2021-07-25T13:14:38.305497Z"
    }
   },
   "outputs": [],
   "source": [
    "y_test = y_test.str.replace('>30','NO')\n",
    "y_train = y_train.str.replace('>30','NO')"
   ]
  },
  {
   "cell_type": "markdown",
   "metadata": {},
   "source": [
    "## Decision tree with balanced class weights on single random train-test split:"
   ]
  },
  {
   "cell_type": "code",
   "execution_count": 4,
   "metadata": {
    "ExecuteTime": {
     "end_time": "2021-07-25T13:14:43.522969Z",
     "start_time": "2021-07-25T13:14:38.371831Z"
    }
   },
   "outputs": [
    {
     "name": "stdout",
     "output_type": "stream",
     "text": [
      "              precision    recall  f1-score   support\n",
      "\n",
      "         <30       0.17      0.20      0.19      2839\n",
      "          NO       0.90      0.88      0.89     22190\n",
      "\n",
      "    accuracy                           0.80     25029\n",
      "   macro avg       0.53      0.54      0.54     25029\n",
      "weighted avg       0.81      0.80      0.81     25029\n",
      "\n"
     ]
    }
   ],
   "source": [
    "decisiontree = DecisionTreeClassifier(class_weight='balanced')\n",
    "decisiontree.fit(x_train, y_train)\n",
    "y_pred = decisiontree.predict(x_test)\n",
    "print(metrics.classification_report(y_test, y_pred))"
   ]
  },
  {
   "cell_type": "markdown",
   "metadata": {},
   "source": [
    "## Random forest with balanced class weights on single random train-test split:"
   ]
  },
  {
   "cell_type": "code",
   "execution_count": 5,
   "metadata": {
    "ExecuteTime": {
     "end_time": "2021-07-25T13:15:09.025272Z",
     "start_time": "2021-07-25T13:14:43.525070Z"
    }
   },
   "outputs": [
    {
     "name": "stdout",
     "output_type": "stream",
     "text": [
      "              precision    recall  f1-score   support\n",
      "\n",
      "         <30       0.54      0.00      0.01      2839\n",
      "          NO       0.89      1.00      0.94     22190\n",
      "\n",
      "    accuracy                           0.89     25029\n",
      "   macro avg       0.71      0.50      0.47     25029\n",
      "weighted avg       0.85      0.89      0.83     25029\n",
      "\n"
     ]
    }
   ],
   "source": [
    "randomforest = RandomForestClassifier(class_weight='balanced')\n",
    "randomforest.fit(x_train, y_train)\n",
    "y_pred = randomforest.predict(x_test)\n",
    "print(metrics.classification_report(y_test, y_pred))"
   ]
  },
  {
   "cell_type": "markdown",
   "metadata": {
    "ExecuteTime": {
     "end_time": "2018-05-10T01:12:13.295942Z",
     "start_time": "2018-05-10T01:12:13.293423Z"
    }
   },
   "source": [
    "## SMOTE:"
   ]
  },
  {
   "cell_type": "code",
   "execution_count": 6,
   "metadata": {
    "ExecuteTime": {
     "end_time": "2021-07-25T13:15:15.752444Z",
     "start_time": "2021-07-25T13:15:09.027384Z"
    }
   },
   "outputs": [
    {
     "name": "stderr",
     "output_type": "stream",
     "text": [
      "/usr/local/anaconda3/lib/python3.7/site-packages/sklearn/utils/deprecation.py:87: FutureWarning: Function safe_indexing is deprecated; safe_indexing is deprecated in version 0.22 and will be removed in version 0.24.\n",
      "  warnings.warn(msg, category=FutureWarning)\n"
     ]
    }
   ],
   "source": [
    "sm = SMOTE(random_state=42)\n",
    "x_train_smote, y_train_smote = sm.fit_sample(x_train, y_train)"
   ]
  },
  {
   "cell_type": "code",
   "execution_count": 7,
   "metadata": {
    "ExecuteTime": {
     "end_time": "2021-07-25T13:15:15.761745Z",
     "start_time": "2021-07-25T13:15:15.758972Z"
    }
   },
   "outputs": [],
   "source": [
    "# sns.countplot(y_train);"
   ]
  },
  {
   "cell_type": "code",
   "execution_count": 8,
   "metadata": {
    "ExecuteTime": {
     "end_time": "2021-07-25T13:15:15.769272Z",
     "start_time": "2021-07-25T13:15:15.766730Z"
    }
   },
   "outputs": [],
   "source": [
    "# sns.countplot(y_train_smote);"
   ]
  },
  {
   "cell_type": "code",
   "execution_count": 9,
   "metadata": {
    "ExecuteTime": {
     "end_time": "2021-07-25T13:16:05.984304Z",
     "start_time": "2021-07-25T13:15:15.772351Z"
    }
   },
   "outputs": [
    {
     "name": "stdout",
     "output_type": "stream",
     "text": [
      "              precision    recall  f1-score   support\n",
      "\n",
      "         <30       0.53      0.01      0.02      2839\n",
      "          NO       0.89      1.00      0.94     22190\n",
      "\n",
      "    accuracy                           0.89     25029\n",
      "   macro avg       0.71      0.50      0.48     25029\n",
      "weighted avg       0.85      0.89      0.84     25029\n",
      "\n"
     ]
    }
   ],
   "source": [
    "randomforest = RandomForestClassifier()\n",
    "randomforest.fit(x_train_smote, y_train_smote)\n",
    "y_pred = randomforest.predict(x_test)\n",
    "print(metrics.classification_report(y_test, y_pred))"
   ]
  },
  {
   "cell_type": "code",
   "execution_count": 10,
   "metadata": {
    "ExecuteTime": {
     "end_time": "2021-07-25T13:17:42.695932Z",
     "start_time": "2021-07-25T13:16:05.986332Z"
    }
   },
   "outputs": [
    {
     "name": "stdout",
     "output_type": "stream",
     "text": [
      "              precision    recall  f1-score   support\n",
      "\n",
      "         <30       0.56      0.00      0.01      2839\n",
      "          NO       0.89      1.00      0.94     22190\n",
      "\n",
      "    accuracy                           0.89     25029\n",
      "   macro avg       0.72      0.50      0.47     25029\n",
      "weighted avg       0.85      0.89      0.83     25029\n",
      "\n"
     ]
    }
   ],
   "source": [
    "randomforest = RandomForestClassifier(n_estimators=200, min_samples_split=10)\n",
    "randomforest.fit(x_train_smote, y_train_smote)\n",
    "y_pred = randomforest.predict(x_test)\n",
    "print(metrics.classification_report(y_test, y_pred))"
   ]
  },
  {
   "cell_type": "markdown",
   "metadata": {},
   "source": [
    "## Undersampling:"
   ]
  },
  {
   "cell_type": "code",
   "execution_count": 11,
   "metadata": {
    "ExecuteTime": {
     "end_time": "2021-07-25T13:17:43.155427Z",
     "start_time": "2021-07-25T13:17:42.697963Z"
    }
   },
   "outputs": [
    {
     "name": "stderr",
     "output_type": "stream",
     "text": [
      "/usr/local/anaconda3/lib/python3.7/site-packages/sklearn/utils/deprecation.py:87: FutureWarning: Function safe_indexing is deprecated; safe_indexing is deprecated in version 0.22 and will be removed in version 0.24.\n",
      "  warnings.warn(msg, category=FutureWarning)\n"
     ]
    }
   ],
   "source": [
    "rus = RandomUnderSampler(random_state=0)\n",
    "x_train_undersampled, y_train_undersampled = rus.fit_sample(x_train, y_train)"
   ]
  },
  {
   "cell_type": "code",
   "execution_count": 12,
   "metadata": {
    "ExecuteTime": {
     "end_time": "2021-07-25T13:17:43.159713Z",
     "start_time": "2021-07-25T13:17:43.157497Z"
    }
   },
   "outputs": [],
   "source": [
    "# sns.countplot(y_train_undersampled);"
   ]
  },
  {
   "cell_type": "code",
   "execution_count": 13,
   "metadata": {
    "ExecuteTime": {
     "end_time": "2021-07-25T13:17:54.921041Z",
     "start_time": "2021-07-25T13:17:43.161753Z"
    }
   },
   "outputs": [
    {
     "name": "stdout",
     "output_type": "stream",
     "text": [
      "              precision    recall  f1-score   support\n",
      "\n",
      "         <30       0.17      0.63      0.27      2839\n",
      "          NO       0.93      0.61      0.74     22190\n",
      "\n",
      "    accuracy                           0.61     25029\n",
      "   macro avg       0.55      0.62      0.50     25029\n",
      "weighted avg       0.84      0.61      0.69     25029\n",
      "\n"
     ]
    }
   ],
   "source": [
    "randomforest = RandomForestClassifier(n_estimators=200)\n",
    "randomforest.fit(x_train_undersampled, y_train_undersampled)\n",
    "y_pred = randomforest.predict(x_test)\n",
    "print(metrics.classification_report(y_test, y_pred))"
   ]
  },
  {
   "cell_type": "code",
   "execution_count": 14,
   "metadata": {
    "ExecuteTime": {
     "end_time": "2021-07-25T13:18:06.401901Z",
     "start_time": "2021-07-25T13:17:54.923142Z"
    }
   },
   "outputs": [
    {
     "name": "stdout",
     "output_type": "stream",
     "text": [
      "              precision    recall  f1-score   support\n",
      "\n",
      "         <30       0.31      0.16      0.21      2839\n",
      "          NO       0.90      0.96      0.93     22190\n",
      "\n",
      "    accuracy                           0.87     25029\n",
      "   macro avg       0.61      0.56      0.57     25029\n",
      "weighted avg       0.83      0.87      0.85     25029\n",
      "\n"
     ]
    }
   ],
   "source": [
    "class_weights = {}\n",
    "class_weights['NO'] = 1\n",
    "class_weights['<30'] = 0.15\n",
    "randomforest = RandomForestClassifier(n_estimators=200, class_weight = class_weights, min_samples_split=10)\n",
    "randomforest.fit(x_train_undersampled, y_train_undersampled)\n",
    "y_pred = randomforest.predict(x_test)\n",
    "print(metrics.classification_report(y_test, y_pred))"
   ]
  },
  {
   "cell_type": "code",
   "execution_count": 15,
   "metadata": {
    "ExecuteTime": {
     "end_time": "2021-07-25T13:18:16.650407Z",
     "start_time": "2021-07-25T13:18:06.403854Z"
    }
   },
   "outputs": [
    {
     "name": "stdout",
     "output_type": "stream",
     "text": [
      "              precision    recall  f1-score   support\n",
      "\n",
      "         <30       0.18      0.63      0.27      2839\n",
      "          NO       0.93      0.62      0.74     22190\n",
      "\n",
      "    accuracy                           0.62     25029\n",
      "   macro avg       0.55      0.63      0.51     25029\n",
      "weighted avg       0.84      0.62      0.69     25029\n",
      "\n"
     ]
    }
   ],
   "source": [
    "randomforest = RandomForestClassifier(n_estimators=200, min_samples_split=10)\n",
    "randomforest.fit(x_train_undersampled, y_train_undersampled)\n",
    "y_pred = randomforest.predict(x_test)\n",
    "print(metrics.classification_report(y_test, y_pred))"
   ]
  },
  {
   "cell_type": "markdown",
   "metadata": {},
   "source": [
    "## Changing threshold:"
   ]
  },
  {
   "cell_type": "code",
   "execution_count": 16,
   "metadata": {
    "ExecuteTime": {
     "end_time": "2021-07-25T13:18:19.069870Z",
     "start_time": "2021-07-25T13:18:16.652503Z"
    }
   },
   "outputs": [
    {
     "name": "stdout",
     "output_type": "stream",
     "text": [
      "              precision    recall  f1-score   support\n",
      "\n",
      "         <30       0.11      0.99      0.21      2839\n",
      "          NO       0.96      0.02      0.04     22190\n",
      "\n",
      "    accuracy                           0.13     25029\n",
      "   macro avg       0.54      0.51      0.12     25029\n",
      "weighted avg       0.87      0.13      0.06     25029\n",
      "\n"
     ]
    }
   ],
   "source": [
    "model = randomforest\n",
    "y_pred_proba = model.predict_proba(x_test)\n",
    "y_pred = y_pred_proba[:,0] >= 0.25 # this is the value to play around with for changing threshold\n",
    "label_dict = {True: '<30',\n",
    "             False: 'NO',\n",
    "            }\n",
    "y_pred = [label_dict[elem] for elem in y_pred]\n",
    "print(metrics.classification_report(y_test, y_pred))"
   ]
  },
  {
   "cell_type": "code",
   "execution_count": 17,
   "metadata": {
    "ExecuteTime": {
     "end_time": "2021-07-25T13:18:28.699814Z",
     "start_time": "2021-07-25T13:18:19.071897Z"
    }
   },
   "outputs": [
    {
     "name": "stdout",
     "output_type": "stream",
     "text": [
      "              precision    recall  f1-score   support\n",
      "\n",
      "         <30       0.18      0.64      0.28      2839\n",
      "          NO       0.93      0.63      0.75     22190\n",
      "\n",
      "    accuracy                           0.63     25029\n",
      "   macro avg       0.55      0.63      0.51     25029\n",
      "weighted avg       0.85      0.63      0.69     25029\n",
      "\n"
     ]
    }
   ],
   "source": [
    "randomforest = RandomForestClassifier(n_estimators=200, min_samples_split=20)\n",
    "randomforest.fit(x_train_undersampled, y_train_undersampled)\n",
    "y_pred = randomforest.predict(x_test)\n",
    "print(metrics.classification_report(y_test, y_pred))"
   ]
  },
  {
   "cell_type": "code",
   "execution_count": 18,
   "metadata": {
    "ExecuteTime": {
     "end_time": "2021-07-25T13:19:14.426036Z",
     "start_time": "2021-07-25T13:18:28.701888Z"
    }
   },
   "outputs": [
    {
     "name": "stdout",
     "output_type": "stream",
     "text": [
      "              precision    recall  f1-score   support\n",
      "\n",
      "         <30       0.18      0.63      0.28      2839\n",
      "          NO       0.93      0.63      0.75     22190\n",
      "\n",
      "    accuracy                           0.63     25029\n",
      "   macro avg       0.55      0.63      0.51     25029\n",
      "weighted avg       0.84      0.63      0.70     25029\n",
      "\n"
     ]
    }
   ],
   "source": [
    "randomforest = RandomForestClassifier(n_estimators=1000, min_samples_split=10)\n",
    "randomforest.fit(x_train_undersampled, y_train_undersampled)\n",
    "y_pred = randomforest.predict(x_test)\n",
    "print(metrics.classification_report(y_test, y_pred))"
   ]
  },
  {
   "cell_type": "markdown",
   "metadata": {
    "ExecuteTime": {
     "end_time": "2018-05-10T18:06:49.685164Z",
     "start_time": "2018-05-10T18:06:49.675374Z"
    }
   },
   "source": [
    "## Extra-random trees:"
   ]
  },
  {
   "cell_type": "code",
   "execution_count": 20,
   "metadata": {
    "ExecuteTime": {
     "end_time": "2021-07-25T13:19:29.782379Z",
     "start_time": "2021-07-25T13:19:14.432345Z"
    }
   },
   "outputs": [
    {
     "name": "stdout",
     "output_type": "stream",
     "text": [
      "              precision    recall  f1-score   support\n",
      "\n",
      "         <30       0.17      0.63      0.27      2839\n",
      "          NO       0.93      0.60      0.73     22190\n",
      "\n",
      "    accuracy                           0.61     25029\n",
      "   macro avg       0.55      0.62      0.50     25029\n",
      "weighted avg       0.84      0.61      0.68     25029\n",
      "\n"
     ]
    }
   ],
   "source": [
    "extraforest = ExtraTreesClassifier(n_estimators=200, min_samples_split=10)\n",
    "extraforest.fit(x_train_undersampled, y_train_undersampled)\n",
    "y_pred = extraforest.predict(x_test)\n",
    "print(metrics.classification_report(y_test, y_pred))"
   ]
  },
  {
   "cell_type": "code",
   "execution_count": 21,
   "metadata": {
    "ExecuteTime": {
     "end_time": "2021-07-25T13:22:04.972016Z",
     "start_time": "2021-07-25T13:19:29.784422Z"
    }
   },
   "outputs": [
    {
     "name": "stdout",
     "output_type": "stream",
     "text": [
      "              precision    recall  f1-score   support\n",
      "\n",
      "         <30       0.17      0.62      0.26      2839\n",
      "          NO       0.93      0.60      0.73     22190\n",
      "\n",
      "    accuracy                           0.60     25029\n",
      "   macro avg       0.55      0.61      0.50     25029\n",
      "weighted avg       0.84      0.60      0.68     25029\n",
      "\n"
     ]
    }
   ],
   "source": [
    "extraforest = ExtraTreesClassifier(n_estimators=2000)\n",
    "extraforest.fit(x_train_undersampled, y_train_undersampled)\n",
    "y_pred = extraforest.predict(x_test)\n",
    "print(metrics.classification_report(y_test, y_pred))"
   ]
  },
  {
   "cell_type": "code",
   "execution_count": 22,
   "metadata": {
    "ExecuteTime": {
     "end_time": "2021-07-25T13:46:35.738493Z",
     "start_time": "2021-07-25T13:22:04.974171Z"
    }
   },
   "outputs": [
    {
     "name": "stdout",
     "output_type": "stream",
     "text": [
      "Number of estimators: 100.000\n",
      "              precision    recall  f1-score   support\n",
      "\n",
      "         <30       0.16      0.62      0.25      2839\n",
      "          NO       0.92      0.58      0.71     22190\n",
      "\n",
      "    accuracy                           0.58     25029\n",
      "   macro avg       0.54      0.60      0.48     25029\n",
      "weighted avg       0.84      0.58      0.66     25029\n",
      "\n",
      "Number of estimators: 200.000\n",
      "              precision    recall  f1-score   support\n",
      "\n",
      "         <30       0.16      0.62      0.26      2839\n",
      "          NO       0.92      0.59      0.72     22190\n",
      "\n",
      "    accuracy                           0.59     25029\n",
      "   macro avg       0.54      0.60      0.49     25029\n",
      "weighted avg       0.84      0.59      0.67     25029\n",
      "\n",
      "Number of estimators: 300.000\n",
      "              precision    recall  f1-score   support\n",
      "\n",
      "         <30       0.16      0.62      0.26      2839\n",
      "          NO       0.92      0.60      0.73     22190\n",
      "\n",
      "    accuracy                           0.60     25029\n",
      "   macro avg       0.54      0.61      0.49     25029\n",
      "weighted avg       0.84      0.60      0.67     25029\n",
      "\n",
      "Number of estimators: 400.000\n",
      "              precision    recall  f1-score   support\n",
      "\n",
      "         <30       0.17      0.63      0.26      2839\n",
      "          NO       0.93      0.60      0.73     22190\n",
      "\n",
      "    accuracy                           0.60     25029\n",
      "   macro avg       0.55      0.61      0.49     25029\n",
      "weighted avg       0.84      0.60      0.67     25029\n",
      "\n",
      "Number of estimators: 500.000\n",
      "              precision    recall  f1-score   support\n",
      "\n",
      "         <30       0.17      0.62      0.26      2839\n",
      "          NO       0.93      0.60      0.73     22190\n",
      "\n",
      "    accuracy                           0.60     25029\n",
      "   macro avg       0.55      0.61      0.50     25029\n",
      "weighted avg       0.84      0.60      0.67     25029\n",
      "\n",
      "Number of estimators: 600.000\n",
      "              precision    recall  f1-score   support\n",
      "\n",
      "         <30       0.16      0.61      0.26      2839\n",
      "          NO       0.92      0.60      0.73     22190\n",
      "\n",
      "    accuracy                           0.60     25029\n",
      "   macro avg       0.54      0.61      0.49     25029\n",
      "weighted avg       0.84      0.60      0.67     25029\n",
      "\n",
      "Number of estimators: 700.000\n",
      "              precision    recall  f1-score   support\n",
      "\n",
      "         <30       0.17      0.63      0.26      2839\n",
      "          NO       0.93      0.60      0.73     22190\n",
      "\n",
      "    accuracy                           0.60     25029\n",
      "   macro avg       0.55      0.61      0.50     25029\n",
      "weighted avg       0.84      0.60      0.68     25029\n",
      "\n",
      "Number of estimators: 800.000\n",
      "              precision    recall  f1-score   support\n",
      "\n",
      "         <30       0.17      0.62      0.26      2839\n",
      "          NO       0.92      0.60      0.73     22190\n",
      "\n",
      "    accuracy                           0.60     25029\n",
      "   macro avg       0.54      0.61      0.49     25029\n",
      "weighted avg       0.84      0.60      0.68     25029\n",
      "\n",
      "Number of estimators: 900.000\n",
      "              precision    recall  f1-score   support\n",
      "\n",
      "         <30       0.17      0.62      0.26      2839\n",
      "          NO       0.92      0.60      0.73     22190\n",
      "\n",
      "    accuracy                           0.60     25029\n",
      "   macro avg       0.55      0.61      0.50     25029\n",
      "weighted avg       0.84      0.60      0.68     25029\n",
      "\n",
      "Number of estimators: 1000.000\n",
      "              precision    recall  f1-score   support\n",
      "\n",
      "         <30       0.17      0.62      0.26      2839\n",
      "          NO       0.93      0.60      0.73     22190\n",
      "\n",
      "    accuracy                           0.60     25029\n",
      "   macro avg       0.55      0.61      0.50     25029\n",
      "weighted avg       0.84      0.60      0.68     25029\n",
      "\n",
      "Number of estimators: 1100.000\n",
      "              precision    recall  f1-score   support\n",
      "\n",
      "         <30       0.17      0.62      0.26      2839\n",
      "          NO       0.93      0.60      0.73     22190\n",
      "\n",
      "    accuracy                           0.60     25029\n",
      "   macro avg       0.55      0.61      0.49     25029\n",
      "weighted avg       0.84      0.60      0.67     25029\n",
      "\n",
      "Number of estimators: 1200.000\n",
      "              precision    recall  f1-score   support\n",
      "\n",
      "         <30       0.17      0.62      0.26      2839\n",
      "          NO       0.93      0.60      0.73     22190\n",
      "\n",
      "    accuracy                           0.61     25029\n",
      "   macro avg       0.55      0.61      0.50     25029\n",
      "weighted avg       0.84      0.61      0.68     25029\n",
      "\n",
      "Number of estimators: 1300.000\n",
      "              precision    recall  f1-score   support\n",
      "\n",
      "         <30       0.17      0.62      0.26      2839\n",
      "          NO       0.93      0.60      0.73     22190\n",
      "\n",
      "    accuracy                           0.60     25029\n",
      "   macro avg       0.55      0.61      0.50     25029\n",
      "weighted avg       0.84      0.60      0.68     25029\n",
      "\n",
      "Number of estimators: 1400.000\n",
      "              precision    recall  f1-score   support\n",
      "\n",
      "         <30       0.17      0.62      0.26      2839\n",
      "          NO       0.93      0.60      0.73     22190\n",
      "\n",
      "    accuracy                           0.60     25029\n",
      "   macro avg       0.55      0.61      0.50     25029\n",
      "weighted avg       0.84      0.60      0.68     25029\n",
      "\n",
      "Number of estimators: 1500.000\n",
      "              precision    recall  f1-score   support\n",
      "\n",
      "         <30       0.17      0.63      0.27      2839\n",
      "          NO       0.93      0.60      0.73     22190\n",
      "\n",
      "    accuracy                           0.60     25029\n",
      "   macro avg       0.55      0.62      0.50     25029\n",
      "weighted avg       0.84      0.60      0.68     25029\n",
      "\n",
      "Number of estimators: 1600.000\n",
      "              precision    recall  f1-score   support\n",
      "\n",
      "         <30       0.17      0.62      0.26      2839\n",
      "          NO       0.93      0.60      0.73     22190\n",
      "\n",
      "    accuracy                           0.60     25029\n",
      "   macro avg       0.55      0.61      0.50     25029\n",
      "weighted avg       0.84      0.60      0.68     25029\n",
      "\n",
      "Number of estimators: 1700.000\n",
      "              precision    recall  f1-score   support\n",
      "\n",
      "         <30       0.17      0.62      0.26      2839\n",
      "          NO       0.93      0.60      0.73     22190\n",
      "\n",
      "    accuracy                           0.60     25029\n",
      "   macro avg       0.55      0.61      0.49     25029\n",
      "weighted avg       0.84      0.60      0.67     25029\n",
      "\n",
      "Number of estimators: 1800.000\n",
      "              precision    recall  f1-score   support\n",
      "\n",
      "         <30       0.17      0.62      0.26      2839\n",
      "          NO       0.93      0.60      0.73     22190\n",
      "\n",
      "    accuracy                           0.61     25029\n",
      "   macro avg       0.55      0.61      0.50     25029\n",
      "weighted avg       0.84      0.61      0.68     25029\n",
      "\n",
      "Number of estimators: 1900.000\n",
      "              precision    recall  f1-score   support\n",
      "\n",
      "         <30       0.17      0.62      0.26      2839\n",
      "          NO       0.93      0.60      0.73     22190\n",
      "\n",
      "    accuracy                           0.60     25029\n",
      "   macro avg       0.55      0.61      0.50     25029\n",
      "weighted avg       0.84      0.60      0.68     25029\n",
      "\n"
     ]
    }
   ],
   "source": [
    "for n_estimator in range(100, 2000, 100):\n",
    "    extraforest = ExtraTreesClassifier(n_estimators=n_estimator)\n",
    "    extraforest.fit(x_train_undersampled, y_train_undersampled)\n",
    "    y_pred = extraforest.predict(x_test)\n",
    "    print(\"Number of estimators: %.3f\"% n_estimator)\n",
    "    print(metrics.classification_report(y_test, y_pred))"
   ]
  },
  {
   "cell_type": "markdown",
   "metadata": {},
   "source": [
    "## Gradient Boosted Trees:"
   ]
  },
  {
   "cell_type": "code",
   "execution_count": 27,
   "metadata": {
    "ExecuteTime": {
     "end_time": "2021-07-25T14:00:20.216808Z",
     "start_time": "2021-07-25T13:58:59.866606Z"
    }
   },
   "outputs": [
    {
     "name": "stdout",
     "output_type": "stream",
     "text": [
      "              precision    recall  f1-score   support\n",
      "\n",
      "         <30       0.55      0.01      0.03      2839\n",
      "          NO       0.89      1.00      0.94     22190\n",
      "\n",
      "    accuracy                           0.89     25029\n",
      "   macro avg       0.72      0.51      0.48     25029\n",
      "weighted avg       0.85      0.89      0.84     25029\n",
      "\n"
     ]
    }
   ],
   "source": [
    "# boosted no resampling\n",
    "GBT = GradientBoostingClassifier(n_estimators=200)\n",
    "GBT.fit(x_train, y_train)\n",
    "y_pred = GBT.predict(x_test)\n",
    "print(metrics.classification_report(y_test, y_pred))"
   ]
  },
  {
   "cell_type": "code",
   "execution_count": 28,
   "metadata": {
    "ExecuteTime": {
     "end_time": "2021-07-25T14:00:56.125608Z",
     "start_time": "2021-07-25T14:00:20.219075Z"
    }
   },
   "outputs": [
    {
     "name": "stdout",
     "output_type": "stream",
     "text": [
      "              precision    recall  f1-score   support\n",
      "\n",
      "         <30       0.19      0.60      0.28      2839\n",
      "          NO       0.93      0.66      0.77     22190\n",
      "\n",
      "    accuracy                           0.65     25029\n",
      "   macro avg       0.56      0.63      0.53     25029\n",
      "weighted avg       0.84      0.65      0.72     25029\n",
      "\n"
     ]
    }
   ],
   "source": [
    "# boosted undersampled\n",
    "GBT = GradientBoostingClassifier(n_estimators=200)\n",
    "GBT.fit(x_train_undersampled, y_train_undersampled)\n",
    "y_pred = GBT.predict(x_test)\n",
    "print(metrics.classification_report(y_test, y_pred))"
   ]
  },
  {
   "cell_type": "code",
   "execution_count": 32,
   "metadata": {
    "ExecuteTime": {
     "end_time": "2021-07-25T14:14:48.285332Z",
     "start_time": "2021-07-25T14:07:02.715661Z"
    }
   },
   "outputs": [
    {
     "name": "stdout",
     "output_type": "stream",
     "text": [
      "              precision    recall  f1-score   support\n",
      "\n",
      "         <30       0.41      0.02      0.03      2839\n",
      "          NO       0.89      1.00      0.94     22190\n",
      "\n",
      "    accuracy                           0.89     25029\n",
      "   macro avg       0.65      0.51      0.49     25029\n",
      "weighted avg       0.83      0.89      0.84     25029\n",
      "\n"
     ]
    }
   ],
   "source": [
    "# boosted SMOTE\n",
    "GBT = GradientBoostingClassifier(n_estimators=200)\n",
    "GBT.fit(x_train_smote, y_train_smote)\n",
    "y_pred = GBT.predict(x_test)\n",
    "print(metrics.classification_report(y_test, y_pred))"
   ]
  },
  {
   "cell_type": "markdown",
   "metadata": {},
   "source": [
    "## Best model:"
   ]
  },
  {
   "cell_type": "code",
   "execution_count": 33,
   "metadata": {
    "ExecuteTime": {
     "end_time": "2021-07-25T14:15:55.617896Z",
     "start_time": "2021-07-25T14:15:45.092107Z"
    }
   },
   "outputs": [
    {
     "name": "stdout",
     "output_type": "stream",
     "text": [
      "              precision    recall  f1-score   support\n",
      "\n",
      "         <30       0.18      0.63      0.27      2839\n",
      "          NO       0.93      0.62      0.75     22190\n",
      "\n",
      "    accuracy                           0.62     25029\n",
      "   macro avg       0.55      0.63      0.51     25029\n",
      "weighted avg       0.84      0.62      0.69     25029\n",
      "\n"
     ]
    }
   ],
   "source": [
    "randomforest = RandomForestClassifier(n_estimators=200, min_samples_split=10)\n",
    "randomforest.fit(x_train_undersampled, y_train_undersampled)\n",
    "y_pred = randomforest.predict(x_test)\n",
    "print(metrics.classification_report(y_test, y_pred))"
   ]
  },
  {
   "cell_type": "code",
   "execution_count": 34,
   "metadata": {
    "ExecuteTime": {
     "end_time": "2021-07-25T14:15:55.667122Z",
     "start_time": "2021-07-25T14:15:55.620187Z"
    }
   },
   "outputs": [
    {
     "data": {
      "text/html": [
       "<div>\n",
       "<style scoped>\n",
       "    .dataframe tbody tr th:only-of-type {\n",
       "        vertical-align: middle;\n",
       "    }\n",
       "\n",
       "    .dataframe tbody tr th {\n",
       "        vertical-align: top;\n",
       "    }\n",
       "\n",
       "    .dataframe thead th {\n",
       "        text-align: right;\n",
       "    }\n",
       "</style>\n",
       "<table border=\"1\" class=\"dataframe\">\n",
       "  <thead>\n",
       "    <tr style=\"text-align: right;\">\n",
       "      <th>Predicted</th>\n",
       "      <th>&lt;30</th>\n",
       "      <th>NO</th>\n",
       "    </tr>\n",
       "    <tr>\n",
       "      <th>Actual</th>\n",
       "      <th></th>\n",
       "      <th></th>\n",
       "    </tr>\n",
       "  </thead>\n",
       "  <tbody>\n",
       "    <tr>\n",
       "      <th>&lt;30</th>\n",
       "      <td>1786</td>\n",
       "      <td>1053</td>\n",
       "    </tr>\n",
       "    <tr>\n",
       "      <th>NO</th>\n",
       "      <td>8377</td>\n",
       "      <td>13813</td>\n",
       "    </tr>\n",
       "  </tbody>\n",
       "</table>\n",
       "</div>"
      ],
      "text/plain": [
       "Predicted   <30     NO\n",
       "Actual                \n",
       "<30        1786   1053\n",
       "NO         8377  13813"
      ]
     },
     "execution_count": 34,
     "metadata": {},
     "output_type": "execute_result"
    }
   ],
   "source": [
    "pd.crosstab(y_test, y_pred, rownames=['Actual'], colnames=['Predicted'])"
   ]
  },
  {
   "cell_type": "code",
   "execution_count": 35,
   "metadata": {
    "ExecuteTime": {
     "end_time": "2021-07-25T14:15:55.705957Z",
     "start_time": "2021-07-25T14:15:55.669896Z"
    }
   },
   "outputs": [],
   "source": [
    "feature_importance = list(zip(x_train.columns, randomforest.feature_importances_))"
   ]
  },
  {
   "cell_type": "code",
   "execution_count": 36,
   "metadata": {
    "ExecuteTime": {
     "end_time": "2021-07-25T14:15:55.712198Z",
     "start_time": "2021-07-25T14:15:55.708833Z"
    }
   },
   "outputs": [],
   "source": [
    "sorted_by_second = sorted(feature_importance, key=lambda tup: tup[1], reverse=True)"
   ]
  },
  {
   "cell_type": "code",
   "execution_count": 37,
   "metadata": {
    "ExecuteTime": {
     "end_time": "2021-07-25T14:15:55.719453Z",
     "start_time": "2021-07-25T14:15:55.714477Z"
    }
   },
   "outputs": [
    {
     "data": {
      "text/plain": [
       "[('num_lab_procedures', 0.055238732144548025),\n",
       " ('number_inpatient', 0.05445454201190723),\n",
       " ('num_medications', 0.04937069141555372),\n",
       " ('time_in_hospital', 0.03763746373746868),\n",
       " ('number_diagnoses', 0.027229070722661584),\n",
       " ('num_procedures', 0.025873139879785168),\n",
       " ('number_emergency', 0.016626432541461424),\n",
       " ('discharge_disposition_id_Discharged to home', 0.016530660084302713),\n",
       " ('number_outpatient', 0.016092219457622927),\n",
       " ('discharge_disposition_id_Discharged/transferred to another rehab fac including rehab units of a hospital .',\n",
       "  0.010344528124542476),\n",
       " ('diag_1_Diseases Of The Circulatory System', 0.00929353658317021),\n",
       " ('diag_2_Diseases Of The Circulatory System', 0.009070506181030443),\n",
       " ('diag_3_Diseases Of The Circulatory System', 0.008938297578515853),\n",
       " ('medical_specialty_?', 0.008881378320218885),\n",
       " ('payer_code_?', 0.008872904608647461),\n",
       " ('payer_code_MC', 0.008582796003195527),\n",
       " ('age_[60-70)', 0.008496860837276583),\n",
       " ('age_[70-80)', 0.008453197249265536),\n",
       " ('gender_Male', 0.00820362675752274),\n",
       " ('diag_3_Supplementary Classification Of External Causes Of Injury And Poisoning',\n",
       "  0.008196042537391281),\n",
       " ('age_[80-90)', 0.008167615164328191),\n",
       " ('race_Caucasian', 0.008071155843197893),\n",
       " ('gender_Female', 0.007984047917136666),\n",
       " ('discharge_disposition_id_Discharged/transferred to SNF',\n",
       "  0.007855573784920548),\n",
       " ('race_AfricanAmerican', 0.007703771988398018)]"
      ]
     },
     "execution_count": 37,
     "metadata": {},
     "output_type": "execute_result"
    }
   ],
   "source": [
    "sorted_by_second[0:25]"
   ]
  },
  {
   "cell_type": "code",
   "execution_count": 38,
   "metadata": {
    "ExecuteTime": {
     "end_time": "2021-07-25T14:15:55.724575Z",
     "start_time": "2021-07-25T14:15:55.721394Z"
    }
   },
   "outputs": [],
   "source": [
    "coef_to_plot = sorted_by_second[0:25]"
   ]
  },
  {
   "cell_type": "code",
   "execution_count": 39,
   "metadata": {
    "ExecuteTime": {
     "end_time": "2021-07-25T14:15:55.731364Z",
     "start_time": "2021-07-25T14:15:55.727521Z"
    }
   },
   "outputs": [],
   "source": [
    "df = pd.DataFrame(coef_to_plot, columns=['feature','coefficient'])"
   ]
  },
  {
   "cell_type": "code",
   "execution_count": 40,
   "metadata": {
    "ExecuteTime": {
     "end_time": "2021-07-25T14:15:55.743430Z",
     "start_time": "2021-07-25T14:15:55.735509Z"
    }
   },
   "outputs": [
    {
     "data": {
      "text/html": [
       "<div>\n",
       "<style scoped>\n",
       "    .dataframe tbody tr th:only-of-type {\n",
       "        vertical-align: middle;\n",
       "    }\n",
       "\n",
       "    .dataframe tbody tr th {\n",
       "        vertical-align: top;\n",
       "    }\n",
       "\n",
       "    .dataframe thead th {\n",
       "        text-align: right;\n",
       "    }\n",
       "</style>\n",
       "<table border=\"1\" class=\"dataframe\">\n",
       "  <thead>\n",
       "    <tr style=\"text-align: right;\">\n",
       "      <th></th>\n",
       "      <th>feature</th>\n",
       "      <th>coefficient</th>\n",
       "    </tr>\n",
       "  </thead>\n",
       "  <tbody>\n",
       "    <tr>\n",
       "      <th>0</th>\n",
       "      <td>num_lab_procedures</td>\n",
       "      <td>0.055239</td>\n",
       "    </tr>\n",
       "    <tr>\n",
       "      <th>1</th>\n",
       "      <td>number_inpatient</td>\n",
       "      <td>0.054455</td>\n",
       "    </tr>\n",
       "    <tr>\n",
       "      <th>2</th>\n",
       "      <td>num_medications</td>\n",
       "      <td>0.049371</td>\n",
       "    </tr>\n",
       "    <tr>\n",
       "      <th>3</th>\n",
       "      <td>time_in_hospital</td>\n",
       "      <td>0.037637</td>\n",
       "    </tr>\n",
       "    <tr>\n",
       "      <th>4</th>\n",
       "      <td>number_diagnoses</td>\n",
       "      <td>0.027229</td>\n",
       "    </tr>\n",
       "  </tbody>\n",
       "</table>\n",
       "</div>"
      ],
      "text/plain": [
       "              feature  coefficient\n",
       "0  num_lab_procedures     0.055239\n",
       "1    number_inpatient     0.054455\n",
       "2     num_medications     0.049371\n",
       "3    time_in_hospital     0.037637\n",
       "4    number_diagnoses     0.027229"
      ]
     },
     "execution_count": 40,
     "metadata": {},
     "output_type": "execute_result"
    }
   ],
   "source": [
    "df.head()"
   ]
  },
  {
   "cell_type": "code",
   "execution_count": 48,
   "metadata": {
    "ExecuteTime": {
     "end_time": "2021-07-25T14:19:23.896396Z",
     "start_time": "2021-07-25T14:19:23.894125Z"
    }
   },
   "outputs": [],
   "source": [
    "# plt.bar(df.feature, df.coefficient)\n",
    "# plt.xticks(rotation='vertical');\n",
    "# plt.yticks(rotation='vertical');"
   ]
  },
  {
   "cell_type": "code",
   "execution_count": 49,
   "metadata": {
    "ExecuteTime": {
     "end_time": "2021-07-25T14:19:25.125927Z",
     "start_time": "2021-07-25T14:19:24.613891Z"
    }
   },
   "outputs": [
    {
     "data": {
      "image/png": "[encoded data removed]",
      "text/plain": [
       "<Figure size 720x720 with 1 Axes>"
      ]
     },
     "metadata": {
      "needs_background": "light"
     },
     "output_type": "display_data"
    }
   ],
   "source": [
    "fig, ax = plt.subplots(figsize=(10, 10))\n",
    "ax.barh(df.feature, df.coefficient)\n",
    "ax.invert_yaxis()"
   ]
  },
  {
   "cell_type": "markdown",
   "metadata": {},
   "source": [
    "## Plotting the correlation between readmission and the top 25 predictive features:"
   ]
  },
  {
   "cell_type": "code",
   "execution_count": 50,
   "metadata": {
    "ExecuteTime": {
     "end_time": "2021-07-25T14:20:11.161587Z",
     "start_time": "2021-07-25T14:20:11.157114Z"
    }
   },
   "outputs": [
    {
     "data": {
      "text/plain": [
       "['num_lab_procedures',\n",
       " 'number_inpatient',\n",
       " 'num_medications',\n",
       " 'time_in_hospital',\n",
       " 'number_diagnoses',\n",
       " 'num_procedures',\n",
       " 'number_emergency',\n",
       " 'discharge_disposition_id_Discharged to home',\n",
       " 'number_outpatient',\n",
       " 'discharge_disposition_id_Discharged/transferred to another rehab fac including rehab units of a hospital .',\n",
       " 'diag_1_Diseases Of The Circulatory System',\n",
       " 'diag_2_Diseases Of The Circulatory System',\n",
       " 'diag_3_Diseases Of The Circulatory System',\n",
       " 'medical_specialty_?',\n",
       " 'payer_code_?',\n",
       " 'payer_code_MC',\n",
       " 'age_[60-70)',\n",
       " 'age_[70-80)',\n",
       " 'gender_Male',\n",
       " 'diag_3_Supplementary Classification Of External Causes Of Injury And Poisoning',\n",
       " 'age_[80-90)',\n",
       " 'race_Caucasian',\n",
       " 'gender_Female',\n",
       " 'discharge_disposition_id_Discharged/transferred to SNF',\n",
       " 'race_AfricanAmerican']"
      ]
     },
     "execution_count": 50,
     "metadata": {},
     "output_type": "execute_result"
    }
   ],
   "source": [
    "list(df.feature.unique())"
   ]
  },
  {
   "cell_type": "code",
   "execution_count": 53,
   "metadata": {
    "ExecuteTime": {
     "end_time": "2021-07-25T14:20:22.369262Z",
     "start_time": "2021-07-25T14:20:22.360494Z"
    }
   },
   "outputs": [],
   "source": [
    "sub_x = x_train.copy()[list(df.feature.unique())]"
   ]
  },
  {
   "cell_type": "code",
   "execution_count": 55,
   "metadata": {
    "ExecuteTime": {
     "end_time": "2021-07-25T14:20:28.505813Z",
     "start_time": "2021-07-25T14:20:28.500493Z"
    }
   },
   "outputs": [],
   "source": [
    "sub_x['y'] = y_train"
   ]
  },
  {
   "cell_type": "code",
   "execution_count": 56,
   "metadata": {
    "ExecuteTime": {
     "end_time": "2021-07-25T14:20:34.293886Z",
     "start_time": "2021-07-25T14:20:34.273414Z"
    }
   },
   "outputs": [
    {
     "data": {
      "text/html": [
       "<div>\n",
       "<style scoped>\n",
       "    .dataframe tbody tr th:only-of-type {\n",
       "        vertical-align: middle;\n",
       "    }\n",
       "\n",
       "    .dataframe tbody tr th {\n",
       "        vertical-align: top;\n",
       "    }\n",
       "\n",
       "    .dataframe thead th {\n",
       "        text-align: right;\n",
       "    }\n",
       "</style>\n",
       "<table border=\"1\" class=\"dataframe\">\n",
       "  <thead>\n",
       "    <tr style=\"text-align: right;\">\n",
       "      <th></th>\n",
       "      <th>num_lab_procedures</th>\n",
       "      <th>number_inpatient</th>\n",
       "      <th>num_medications</th>\n",
       "      <th>time_in_hospital</th>\n",
       "      <th>number_diagnoses</th>\n",
       "      <th>num_procedures</th>\n",
       "      <th>number_emergency</th>\n",
       "      <th>discharge_disposition_id_Discharged to home</th>\n",
       "      <th>number_outpatient</th>\n",
       "      <th>discharge_disposition_id_Discharged/transferred to another rehab fac including rehab units of a hospital .</th>\n",
       "      <th>...</th>\n",
       "      <th>age_[60-70)</th>\n",
       "      <th>age_[70-80)</th>\n",
       "      <th>gender_Male</th>\n",
       "      <th>diag_3_Supplementary Classification Of External Causes Of Injury And Poisoning</th>\n",
       "      <th>age_[80-90)</th>\n",
       "      <th>race_Caucasian</th>\n",
       "      <th>gender_Female</th>\n",
       "      <th>discharge_disposition_id_Discharged/transferred to SNF</th>\n",
       "      <th>race_AfricanAmerican</th>\n",
       "      <th>y</th>\n",
       "    </tr>\n",
       "  </thead>\n",
       "  <tbody>\n",
       "    <tr>\n",
       "      <th>43670</th>\n",
       "      <td>62</td>\n",
       "      <td>0</td>\n",
       "      <td>13</td>\n",
       "      <td>3</td>\n",
       "      <td>8</td>\n",
       "      <td>0</td>\n",
       "      <td>0</td>\n",
       "      <td>1</td>\n",
       "      <td>0</td>\n",
       "      <td>0</td>\n",
       "      <td>...</td>\n",
       "      <td>0</td>\n",
       "      <td>0</td>\n",
       "      <td>1</td>\n",
       "      <td>1</td>\n",
       "      <td>0</td>\n",
       "      <td>1</td>\n",
       "      <td>0</td>\n",
       "      <td>0</td>\n",
       "      <td>0</td>\n",
       "      <td>NO</td>\n",
       "    </tr>\n",
       "    <tr>\n",
       "      <th>23049</th>\n",
       "      <td>26</td>\n",
       "      <td>0</td>\n",
       "      <td>15</td>\n",
       "      <td>4</td>\n",
       "      <td>9</td>\n",
       "      <td>0</td>\n",
       "      <td>0</td>\n",
       "      <td>0</td>\n",
       "      <td>0</td>\n",
       "      <td>0</td>\n",
       "      <td>...</td>\n",
       "      <td>0</td>\n",
       "      <td>0</td>\n",
       "      <td>0</td>\n",
       "      <td>0</td>\n",
       "      <td>0</td>\n",
       "      <td>1</td>\n",
       "      <td>1</td>\n",
       "      <td>0</td>\n",
       "      <td>0</td>\n",
       "      <td>NO</td>\n",
       "    </tr>\n",
       "    <tr>\n",
       "      <th>14557</th>\n",
       "      <td>69</td>\n",
       "      <td>0</td>\n",
       "      <td>17</td>\n",
       "      <td>3</td>\n",
       "      <td>9</td>\n",
       "      <td>2</td>\n",
       "      <td>0</td>\n",
       "      <td>1</td>\n",
       "      <td>0</td>\n",
       "      <td>0</td>\n",
       "      <td>...</td>\n",
       "      <td>1</td>\n",
       "      <td>0</td>\n",
       "      <td>0</td>\n",
       "      <td>0</td>\n",
       "      <td>0</td>\n",
       "      <td>1</td>\n",
       "      <td>1</td>\n",
       "      <td>0</td>\n",
       "      <td>0</td>\n",
       "      <td>NO</td>\n",
       "    </tr>\n",
       "    <tr>\n",
       "      <th>54888</th>\n",
       "      <td>39</td>\n",
       "      <td>1</td>\n",
       "      <td>34</td>\n",
       "      <td>4</td>\n",
       "      <td>9</td>\n",
       "      <td>2</td>\n",
       "      <td>0</td>\n",
       "      <td>0</td>\n",
       "      <td>0</td>\n",
       "      <td>0</td>\n",
       "      <td>...</td>\n",
       "      <td>1</td>\n",
       "      <td>0</td>\n",
       "      <td>0</td>\n",
       "      <td>0</td>\n",
       "      <td>0</td>\n",
       "      <td>0</td>\n",
       "      <td>1</td>\n",
       "      <td>0</td>\n",
       "      <td>1</td>\n",
       "      <td>&lt;30</td>\n",
       "    </tr>\n",
       "    <tr>\n",
       "      <th>86170</th>\n",
       "      <td>40</td>\n",
       "      <td>2</td>\n",
       "      <td>11</td>\n",
       "      <td>2</td>\n",
       "      <td>9</td>\n",
       "      <td>0</td>\n",
       "      <td>1</td>\n",
       "      <td>0</td>\n",
       "      <td>0</td>\n",
       "      <td>0</td>\n",
       "      <td>...</td>\n",
       "      <td>0</td>\n",
       "      <td>0</td>\n",
       "      <td>0</td>\n",
       "      <td>1</td>\n",
       "      <td>1</td>\n",
       "      <td>1</td>\n",
       "      <td>1</td>\n",
       "      <td>1</td>\n",
       "      <td>0</td>\n",
       "      <td>&lt;30</td>\n",
       "    </tr>\n",
       "  </tbody>\n",
       "</table>\n",
       "<p>5 rows × 26 columns</p>\n",
       "</div>"
      ],
      "text/plain": [
       "       num_lab_procedures  number_inpatient  num_medications  \\\n",
       "43670                  62                 0               13   \n",
       "23049                  26                 0               15   \n",
       "14557                  69                 0               17   \n",
       "54888                  39                 1               34   \n",
       "86170                  40                 2               11   \n",
       "\n",
       "       time_in_hospital  number_diagnoses  num_procedures  number_emergency  \\\n",
       "43670                 3                 8               0                 0   \n",
       "23049                 4                 9               0                 0   \n",
       "14557                 3                 9               2                 0   \n",
       "54888                 4                 9               2                 0   \n",
       "86170                 2                 9               0                 1   \n",
       "\n",
       "       discharge_disposition_id_Discharged to home  number_outpatient  \\\n",
       "43670                                            1                  0   \n",
       "23049                                            0                  0   \n",
       "14557                                            1                  0   \n",
       "54888                                            0                  0   \n",
       "86170                                            0                  0   \n",
       "\n",
       "       discharge_disposition_id_Discharged/transferred to another rehab fac including rehab units of a hospital .  \\\n",
       "43670                                                  0                                                            \n",
       "23049                                                  0                                                            \n",
       "14557                                                  0                                                            \n",
       "54888                                                  0                                                            \n",
       "86170                                                  0                                                            \n",
       "\n",
       "       ...  age_[60-70)  age_[70-80)  gender_Male  \\\n",
       "43670  ...            0            0            1   \n",
       "23049  ...            0            0            0   \n",
       "14557  ...            1            0            0   \n",
       "54888  ...            1            0            0   \n",
       "86170  ...            0            0            0   \n",
       "\n",
       "       diag_3_Supplementary Classification Of External Causes Of Injury And Poisoning  \\\n",
       "43670                                                  1                                \n",
       "23049                                                  0                                \n",
       "14557                                                  0                                \n",
       "54888                                                  0                                \n",
       "86170                                                  1                                \n",
       "\n",
       "       age_[80-90)  race_Caucasian  gender_Female  \\\n",
       "43670            0               1              0   \n",
       "23049            0               1              1   \n",
       "14557            0               1              1   \n",
       "54888            0               0              1   \n",
       "86170            1               1              1   \n",
       "\n",
       "       discharge_disposition_id_Discharged/transferred to SNF  \\\n",
       "43670                                                  0        \n",
       "23049                                                  0        \n",
       "14557                                                  0        \n",
       "54888                                                  0        \n",
       "86170                                                  1        \n",
       "\n",
       "       race_AfricanAmerican    y  \n",
       "43670                     0   NO  \n",
       "23049                     0   NO  \n",
       "14557                     0   NO  \n",
       "54888                     1  <30  \n",
       "86170                     0  <30  \n",
       "\n",
       "[5 rows x 26 columns]"
      ]
     },
     "execution_count": 56,
     "metadata": {},
     "output_type": "execute_result"
    }
   ],
   "source": [
    "sub_x.head()"
   ]
  },
  {
   "cell_type": "code",
   "execution_count": 57,
   "metadata": {
    "ExecuteTime": {
     "end_time": "2021-07-25T14:20:36.847106Z",
     "start_time": "2021-07-25T14:20:36.816714Z"
    }
   },
   "outputs": [],
   "source": [
    "sub_x.y = sub_x.y.replace('NO',0)\n",
    "sub_x.y = sub_x.y.replace('<30',1)"
   ]
  },
  {
   "cell_type": "code",
   "execution_count": 58,
   "metadata": {
    "ExecuteTime": {
     "end_time": "2021-07-25T14:20:45.246813Z",
     "start_time": "2021-07-25T14:20:43.953545Z"
    }
   },
   "outputs": [
    {
     "data": {
      "text/plain": [
       "<matplotlib.axes._subplots.AxesSubplot at 0x7fb5d7e96f60>"
      ]
     },
     "execution_count": 58,
     "metadata": {},
     "output_type": "execute_result"
    },
    {
     "data": {
      "image/png": "[encoded data removed]",
      "text/plain": [
       "<Figure size 792x648 with 2 Axes>"
      ]
     },
     "metadata": {
      "needs_background": "light"
     },
     "output_type": "display_data"
    }
   ],
   "source": [
    "# sns.pairplot(sub_x)\n",
    "\n",
    "# Compute the correlation matrix\n",
    "corr = sub_x.corr()\n",
    "\n",
    "# Generate a mask for the upper triangle\n",
    "mask = np.zeros_like(corr, dtype=np.bool)\n",
    "mask[np.triu_indices_from(mask)] = True\n",
    "\n",
    "# Set up the matplotlib figure\n",
    "f, ax = plt.subplots(figsize=(11, 9))\n",
    "\n",
    "# Generate a custom diverging colormap\n",
    "cmap = sns.diverging_palette(220, 10, as_cmap=True)\n",
    "\n",
    "# Draw the heatmap with the mask and correct aspect ratio\n",
    "sns.heatmap(corr, mask=mask, cmap=cmap, vmax=.3, center=0,\n",
    "            square=True, linewidths=.5, cbar_kws={\"shrink\": .5})"
   ]
  },
  {
   "cell_type": "code",
   "execution_count": 59,
   "metadata": {
    "ExecuteTime": {
     "end_time": "2021-07-25T14:21:30.340307Z",
     "start_time": "2021-07-25T14:21:30.328105Z"
    }
   },
   "outputs": [],
   "source": [
    "sub_x = sub_x.drop(['y'], axis=1)"
   ]
  },
  {
   "cell_type": "code",
   "execution_count": 60,
   "metadata": {
    "ExecuteTime": {
     "end_time": "2021-07-25T14:21:30.580753Z",
     "start_time": "2021-07-25T14:21:30.576552Z"
    }
   },
   "outputs": [
    {
     "data": {
      "text/plain": [
       "(75085, 25)"
      ]
     },
     "execution_count": 60,
     "metadata": {},
     "output_type": "execute_result"
    }
   ],
   "source": [
    "sub_x.shape"
   ]
  },
  {
   "cell_type": "markdown",
   "metadata": {},
   "source": [
    "## My top 25 features keep the recall at .60, .61 - slightly higher with re-tweaking hyperparameters"
   ]
  },
  {
   "cell_type": "code",
   "execution_count": 63,
   "metadata": {
    "ExecuteTime": {
     "end_time": "2021-07-25T14:22:47.320673Z",
     "start_time": "2021-07-25T14:22:34.779362Z"
    }
   },
   "outputs": [
    {
     "name": "stdout",
     "output_type": "stream",
     "text": [
      "              precision    recall  f1-score   support\n",
      "\n",
      "         <30       0.18      0.64      0.28      2839\n",
      "          NO       0.93      0.63      0.75     22190\n",
      "\n",
      "    accuracy                           0.63     25029\n",
      "   macro avg       0.56      0.63      0.51     25029\n",
      "weighted avg       0.85      0.63      0.70     25029\n",
      "\n"
     ]
    }
   ],
   "source": [
    "randomforest = RandomForestClassifier(n_estimators=300, min_samples_split=70)\n",
    "randomforest.fit(x_train_undersampled, y_train_undersampled)\n",
    "y_pred = randomforest.predict(x_test)\n",
    "print(metrics.classification_report(y_test, y_pred))"
   ]
  },
  {
   "cell_type": "code",
   "execution_count": 64,
   "metadata": {
    "ExecuteTime": {
     "end_time": "2021-07-25T14:22:47.376249Z",
     "start_time": "2021-07-25T14:22:47.322993Z"
    }
   },
   "outputs": [],
   "source": [
    "# pickle model for predictor app\n",
    "with open('randomforest.pkl', 'wb') as picklefile:\n",
    "    pickle.dump(randomforest, picklefile)"
   ]
  },
  {
   "cell_type": "code",
   "execution_count": 65,
   "metadata": {
    "ExecuteTime": {
     "end_time": "2021-07-25T14:22:47.788527Z",
     "start_time": "2021-07-25T14:22:47.379649Z"
    }
   },
   "outputs": [
    {
     "data": {
      "text/plain": [
       "Text(68.09375, 0.5, 'True')"
      ]
     },
     "execution_count": 65,
     "metadata": {},
     "output_type": "execute_result"
    },
    {
     "data": {
      "image/png": "[encoded data removed]",
      "text/plain": [
       "<Figure size 720x504 with 2 Axes>"
      ]
     },
     "metadata": {
      "needs_background": "light"
     },
     "output_type": "display_data"
    }
   ],
   "source": [
    "array = metrics.confusion_matrix(y_test, y_pred)\n",
    "df_cm = pd.DataFrame(array, index = ['early_readmitted', 'not'],\n",
    "                  columns = ['early_readmitted', 'not'])\n",
    "plt.figure(figsize = (10,7))\n",
    "sns.heatmap(df_cm, annot=True)\n",
    "plt.xlabel('Predicted')\n",
    "plt.ylabel('True')"
   ]
  },
  {
   "cell_type": "code",
   "execution_count": null,
   "metadata": {
    "ExecuteTime": {
     "end_time": "2018-05-15T18:08:23.454662Z",
     "start_time": "2018-05-15T18:08:23.445066Z"
    }
   },
   "outputs": [],
   "source": []
  },
  {
   "cell_type": "code",
   "execution_count": 66,
   "metadata": {
    "ExecuteTime": {
     "end_time": "2021-07-25T14:23:51.513954Z",
     "start_time": "2021-07-25T14:23:51.511308Z"
    }
   },
   "outputs": [],
   "source": [
    "from sklearn.metrics import precision_recall_curve"
   ]
  },
  {
   "cell_type": "code",
   "execution_count": 67,
   "metadata": {
    "ExecuteTime": {
     "end_time": "2021-07-25T14:23:51.768788Z",
     "start_time": "2021-07-25T14:23:51.756183Z"
    }
   },
   "outputs": [],
   "source": [
    "y_test_num = y_test.copy()\n",
    "y_test_num = y_test_num.replace('NO', 0)\n",
    "y_test_num = y_test_num.replace('<30', 1)"
   ]
  },
  {
   "cell_type": "code",
   "execution_count": 68,
   "metadata": {
    "ExecuteTime": {
     "end_time": "2021-07-25T14:23:53.939343Z",
     "start_time": "2021-07-25T14:23:52.113999Z"
    }
   },
   "outputs": [
    {
     "data": {
      "text/plain": [
       "Text(0.5, 1.0, 'Precision Recall Curve')"
      ]
     },
     "execution_count": 68,
     "metadata": {},
     "output_type": "execute_result"
    },
    {
     "data": {
      "image/png": "[encoded data removed]",
      "text/plain": [
       "<Figure size 432x288 with 1 Axes>"
      ]
     },
     "metadata": {
      "needs_background": "light"
     },
     "output_type": "display_data"
    }
   ],
   "source": [
    "model = randomforest\n",
    "\n",
    "y_score = model.predict_proba(x_test)[:, 1]\n",
    "p, r, t = precision_recall_curve(y_test_num, y_score)\n",
    "\n",
    "# adding last threshold of '1' to threshold list\n",
    "t = np.vstack([t.reshape([-1, 1]), 1])\n",
    "\n",
    "plt.plot(t, p)\n",
    "plt.plot(t, r)\n",
    "plt.title('Precision Recall Curve')\n",
    "# yellow = recall\n",
    "# blue = precision"
   ]
  },
  {
   "cell_type": "code",
   "execution_count": 69,
   "metadata": {
    "ExecuteTime": {
     "end_time": "2021-07-25T14:23:53.945698Z",
     "start_time": "2021-07-25T14:23:53.941560Z"
    }
   },
   "outputs": [
    {
     "data": {
      "text/plain": [
       "array([0.49950422, 0.60856074, 0.65753281, ..., 0.57354681, 0.57481236,\n",
       "       0.59052453])"
      ]
     },
     "execution_count": 69,
     "metadata": {},
     "output_type": "execute_result"
    }
   ],
   "source": [
    "y_score"
   ]
  },
  {
   "cell_type": "markdown",
   "metadata": {},
   "source": [
    "## Choosing classification threshold based on the cost benefit analysis function:"
   ]
  },
  {
   "cell_type": "code",
   "execution_count": null,
   "metadata": {
    "ExecuteTime": {
     "end_time": "2021-07-25T13:46:37.391611Z",
     "start_time": "2021-07-25T13:14:32.503Z"
    }
   },
   "outputs": [],
   "source": [
    "for t in range(0,1,0.1):\n",
    "    "
   ]
  },
  {
   "cell_type": "code",
   "execution_count": null,
   "metadata": {
    "ExecuteTime": {
     "end_time": "2021-07-25T13:46:37.393000Z",
     "start_time": "2021-07-25T13:14:32.505Z"
    }
   },
   "outputs": [],
   "source": [
    "# alternatively, i could have thresholds as columns in a dataframe \n",
    "# with y_test and y_pred as the first two columns\n",
    "# and then calculate the false positive and false negative numbers per column\n",
    "\n",
    "costs = []\n",
    "\n",
    "for t in np.arange(0,1,0.1):\n",
    "    y_pred = [int(1) if i > t else int(0) for i in model.predict_proba(x_test)[:, 1]]\n",
    "    FP = [int(1) if y_pred[i]==1 and y_test_num[i]==0 else int(0) for i in range(len(y_pred)) ]\n",
    "    TP = [int(1) if y_pred[i]==1 and y_test_num[i]==1 else int(0) for i in range(len(y_pred)) ]\n",
    "    FN = [int(1) if y_pred[i]==0 and y_test_num[i]==1 else int(0) for i in range(len(y_pred)) ]\n",
    "    TN = [int(1) if y_pred[i]==0 and y_test_num[i]==0 else int(0) for i in range(len(y_pred)) ]\n",
    "\n",
    "    FPsum = FP.sum()\n",
    "    TPsum = TP.sum()\n",
    "    FNsum = FN.sum()\n",
    "    TNsum = TN.sum()   \n",
    "    \n",
    "    cost = FPsum*304 + TPsum*(304-1246) + FNsum*1246\n",
    "\n",
    "    costs.append(cost)\n",
    "\n",
    "print(costs)\n",
    "    \n",
    "    # for each threshold, calculate values from the FP + FN\n",
    "\n",
    "    # for each true positive, we have 304-1246\n",
    "    # for each false positive, we lose 304 per day\n",
    "    # for each false negative, we lose 1246 per day\n",
    "    # for each true negative, we lose 0 per day\n",
    "\n",
    "# median cost first day 1,246\n",
    "\n",
    "# variable costs per day of hospital stay:\n",
    "# https://www.journalacs.org/article/S1072-7515(00)00352-5/fulltext\n",
    "    \n",
    "# $2,289 nonprofit hospital average\n",
    "# https://www.beckershospitalreview.com/finance/average-cost-per-inpatient-day-across-50-states.html\n"
   ]
  },
  {
   "cell_type": "code",
   "execution_count": null,
   "metadata": {
    "ExecuteTime": {
     "end_time": "2021-07-25T13:46:37.394326Z",
     "start_time": "2021-07-25T13:14:32.507Z"
    }
   },
   "outputs": [],
   "source": [
    "y_proba = model.predict_proba(x_test)\n",
    "prec_log = {}\n",
    "rec_log = {}\n",
    "acc_log = {}\n",
    "cost_ben_log = {}\n",
    "\n",
    "for readmit_cost in range(300, 3300, 300):\n",
    "    for i in np.arange(0,1,.01):\n",
    "        i = np.round(i,2)\n",
    "        y_pred_high_precision = y_proba[:,1] >= i \n",
    "        y_pred_high_precision\n",
    "        conf = metrics.confusion_matrix(y_test_num,y_pred_high_precision)\n",
    "\n",
    "        ac_log = round(metrics.accuracy_score(y_test_num,y_pred_high_precision),4)\n",
    "        pc_log = (conf[1, 1] / (conf[1, 1] + conf[0, 1]))\n",
    "        rc_log = (conf[1, 1] / (conf[1, 1] + conf[1, 0]))\n",
    "\n",
    "        acc_log[i]= ac_log\n",
    "        prec_log[i]= pc_log\n",
    "        rec_log[i] = rc_log\n",
    "\n",
    "        FPsum = conf[0, 1]\n",
    "        TPsum = conf[0, 0]\n",
    "        FNsum = conf[1, 0]\n",
    "        TNsum = conf[1, 1]\n",
    "\n",
    "        #cost_ben_log[i] = FPsum*304 + TPsum*(304-1246) + FNsum*1246\n",
    "        #day_cost = 304\n",
    "        #readmit_cost = 1246\n",
    "        day_cost = 300\n",
    "        #readmit_cost = 2500\n",
    "        cost_ben_log[i] = (FPsum*day_cost + TPsum*(day_cost-readmit_cost) + FNsum*(readmit_cost))/len(y_test_num)\n",
    "        # FP = stay in hospital, but didn't need to, costs $304/day\n",
    "        # TP = stay in hospital and needed to, costs $304/day but saves $1246\n",
    "        # FN = readmitted, but should have stayed in hospital, saved $304, but costed $1246\n",
    "        # TN = left hospital, not readmitted, no cost\n",
    "\n",
    "        # metrics.\n",
    "        # TN  # FP\n",
    "        # FN  # TP\n",
    "\n",
    "        #print(min(cost_ben_log.values()))\n",
    "\n",
    "    zipped = zip(cost_ben_log.keys(), cost_ben_log.values())\n",
    "    print(sorted(zipped, key=lambda x: x[0]))\n",
    "\n",
    "    plt.plot(cost_ben_log.keys(),cost_ben_log.values(),label=readmit_cost)\n",
    "    plt.legend();\n",
    "    plt.xlabel(\"Threshold\")\n",
    "    plt.ylabel(\"Cost ($)\")\n",
    "    plt.grid()\n",
    "    plt.title('Cost per Intervention - Random Forest')\n",
    "    plt.savefig(\"Cost_PerIntervention_Random_Forest\");"
   ]
  },
  {
   "cell_type": "code",
   "execution_count": null,
   "metadata": {
    "ExecuteTime": {
     "end_time": "2021-07-25T13:46:37.395741Z",
     "start_time": "2021-07-25T13:14:32.509Z"
    }
   },
   "outputs": [],
   "source": [
    "y_proba = model.predict_proba(x_test)\n",
    "prec_log = {}\n",
    "rec_log = {}\n",
    "acc_log = {}\n",
    "cost_ben_log = {}\n",
    "\n",
    "for i in np.arange(0,1,.01):\n",
    "    i = np.round(i,2)\n",
    "    y_pred_high_precision = y_proba[:,1] >= i \n",
    "    y_pred_high_precision\n",
    "    conf = metrics.confusion_matrix(y_test_num,y_pred_high_precision)\n",
    "    \n",
    "    ac_log = round(metrics.accuracy_score(y_test_num,y_pred_high_precision),4)\n",
    "    pc_log = (conf[1, 1] / (conf[1, 1] + conf[0, 1]))\n",
    "    rc_log = (conf[1, 1] / (conf[1, 1] + conf[1, 0]))\n",
    "    \n",
    "    acc_log[i]= ac_log\n",
    "    prec_log[i]= pc_log\n",
    "    rec_log[i] = rc_log\n",
    "        \n",
    "    FPsum = conf[0, 1]\n",
    "    TPsum = conf[0, 0]\n",
    "    FNsum = conf[1, 0]\n",
    "    TNsum = conf[1, 1]\n",
    "    \n",
    "    #cost_ben_log[i] = FPsum*304 + TPsum*(304-1246) + FNsum*1246\n",
    "    #day_cost = 304\n",
    "    #readmit_cost = 1246\n",
    "    day_cost = 304\n",
    "    readmit_cost = 1246\n",
    "    cost_ben_log[i] = (FPsum*day_cost + TPsum*(day_cost-readmit_cost) + FNsum*(readmit_cost))/len(y_test_num)\n",
    "    # FP = stay in hospital, but didn't need to, costs $304/day\n",
    "    # TP = stay in hospital and needed to, costs $304/day but saves $1246\n",
    "    # FN = readmitted, but should have stayed in hospital, saved $304, but costed $1246\n",
    "    # TN = left hospital, not readmitted, no cost\n",
    "            \n",
    "print(conf)\n",
    "plt.plot(acc_log.keys(),acc_log.values(),label=\"Accuracy\")\n",
    "plt.plot(rec_log.keys(),rec_log.values(),label=\"Recall\")\n",
    "plt.plot(prec_log.keys(),prec_log.values(),label=\"Precision\")\n",
    "# plt.plot(cost_ben.keys(),cost_ben.values(),label=\"Cost Benefit\")\n",
    "plt.legend()\n",
    "plt.grid()\n",
    "plt.xlabel(\"Threshold\")\n",
    "plt.ylabel(\"Precision / Recall / Accuracy\")\n",
    "plt.title('Precision / Recall / Accuracy curve');\n",
    "plt.axvline(x=0.49, linestyle = '--', linewidth=0.5, color='r')\n",
    "plt.axhline(y=0.42, linestyle = '--', linewidth=0.5, color='r')\n",
    "\n",
    "# metrics.\n",
    "# TN  # FP\n",
    "# FN  # TP"
   ]
  },
  {
   "cell_type": "code",
   "execution_count": null,
   "metadata": {
    "ExecuteTime": {
     "end_time": "2021-07-25T13:46:37.397171Z",
     "start_time": "2021-07-25T13:14:32.511Z"
    }
   },
   "outputs": [],
   "source": [
    "#print(min(cost_ben_log.values()))\n",
    "\n",
    "zipped = zip(cost_ben_log.keys(), cost_ben_log.values())\n",
    "print(sorted(zipped, key=lambda x: x[0]))\n",
    "\n",
    "plt.plot(cost_ben_log.keys(),cost_ben_log.values(),label=\"Cost\")\n",
    "plt.legend();\n",
    "plt.xlabel(\"Threshold\")\n",
    "plt.ylabel(\"Cost ($)\")\n",
    "plt.grid()\n",
    "plt.title('Cost per Intervention - Random Forest')\n",
    "plt.savefig(\"Cost_PerIntervention_Random_Forest\");"
   ]
  },
  {
   "cell_type": "code",
   "execution_count": null,
   "metadata": {
    "ExecuteTime": {
     "end_time": "2021-07-25T13:46:37.398521Z",
     "start_time": "2021-07-25T13:14:32.512Z"
    }
   },
   "outputs": [],
   "source": [
    "for i in np.arange(0.01,1.01,0.05):\n",
    "    y_pred_high_precision = y_proba[:,1] >= i \n",
    "    y_pred_high_precision\n",
    "    conf = metrics.confusion_matrix(y_test,y_pred_high_precision)\n",
    "    print(f\"Threshold at {round(i,2)} \\n\")\n",
    "    print(conf)\n",
    "    print(\"\")\n",
    "    test_thresh = np.round(i,2)\n",
    "    print(f\"Threshold: {test_thresh}\")\n",
    "    print(f\"Accuracy: {acc_log[test_thresh]}\")\n",
    "    print(f\"Precision: {prec_log[test_thresh]}\")\n",
    "    print(f\"Recall: {rec_log[test_thresh]}\")\n",
    "    print(f\"Cost-Benefit: {cost_ben_log[test_thresh]}\" )\n",
    "    print(\"********************************\")\n",
    "    \n",
    "#         cost_ben_log[i] = ((250 * (1-rc_log)) + (100*(1-pc_log)) - (150*pc_log))*100\n",
    "\n",
    "\n",
    "\n",
    "Add CommentCollapse "
   ]
  },
  {
   "cell_type": "code",
   "execution_count": null,
   "metadata": {
    "ExecuteTime": {
     "end_time": "2021-07-25T13:46:37.399956Z",
     "start_time": "2021-07-25T13:14:32.519Z"
    }
   },
   "outputs": [],
   "source": [
    "from pandas_ml import ConfusionMatrix\n",
    "\n",
    "confusion_matrix = ConfusionMatrix(y_test, y_pred)\n",
    "confusion_matrix.plot()"
   ]
  },
  {
   "cell_type": "code",
   "execution_count": null,
   "metadata": {
    "ExecuteTime": {
     "end_time": "2021-07-25T13:46:37.401269Z",
     "start_time": "2021-07-25T13:14:32.521Z"
    }
   },
   "outputs": [],
   "source": [
    "labels = ['early_readmitted', 'not']\n",
    "cm = metrics.confusion_matrix(y_test, y_pred)\n",
    "print(cm)\n",
    "fig = plt.figure()\n",
    "ax = fig.add_subplot(111)\n",
    "cax = ax.imshow(cm)\n",
    "plt.title('Confusion matrix of the classifier')\n",
    "fig.colorbar(cax)\n",
    "ax.set_xticklabels([''] + labels)\n",
    "ax.set_yticklabels([''] + labels)\n",
    "plt.xlabel('Predicted')\n",
    "plt.ylabel('True')\n",
    "plt.show()"
   ]
  },
  {
   "cell_type": "markdown",
   "metadata": {},
   "source": [
    "## RandomSearchCV for Random Forest Hyperparameter Tuning:"
   ]
  },
  {
   "cell_type": "code",
   "execution_count": null,
   "metadata": {
    "ExecuteTime": {
     "end_time": "2021-07-25T13:46:37.402786Z",
     "start_time": "2021-07-25T13:14:32.522Z"
    }
   },
   "outputs": [],
   "source": [
    "# Number of trees in random forest\n",
    "n_estimators = [int(x) for x in np.linspace(start = 200, stop = 2000, num = 10)]\n",
    "# Number of features to consider at every split\n",
    "max_features = ['auto', 'sqrt']\n",
    "# Maximum number of levels in tree\n",
    "max_depth = [int(x) for x in np.linspace(10, 110, num = 11)]\n",
    "max_depth.append(None)\n",
    "# Minimum number of samples required to split a node\n",
    "min_samples_split = [int(x) for x in np.linspace(start = 10, stop = 100, num = 10)]\n",
    "# Create the random grid\n",
    "random_grid = {'n_estimators': n_estimators,\n",
    "               'max_features': max_features,\n",
    "               'max_depth': max_depth,\n",
    "               'min_samples_split': min_samples_split}\n",
    "print(random_grid)"
   ]
  },
  {
   "cell_type": "code",
   "execution_count": null,
   "metadata": {
    "ExecuteTime": {
     "end_time": "2021-07-25T13:46:37.404272Z",
     "start_time": "2021-07-25T13:14:32.524Z"
    }
   },
   "outputs": [],
   "source": [
    "# Use the random grid to search for best hyperparameters\n",
    "# First create the base model to tune\n",
    "rf = RandomForestClassifier()\n",
    "\n",
    "# Random search of parameters\n",
    "\n",
    "# using x-num fold cross validation\n",
    "cv_num = 3\n",
    "\n",
    "# search across x-num different combinations\n",
    "n_iter_num = 20\n",
    "\n",
    "# and use all available cores\n",
    "\n",
    "rf_random = RandomizedSearchCV(estimator=rf, param_distributions=random_grid,\n",
    "                               n_iter=n_iter_num, cv=cv_num, verbose=2, random_state=42, n_jobs=-1)\n",
    "\n",
    "# Fit the random search model\n",
    "rf_random.fit(x_train_undersampled, y_train_undersampled)"
   ]
  },
  {
   "cell_type": "code",
   "execution_count": null,
   "metadata": {
    "ExecuteTime": {
     "end_time": "2021-07-25T13:46:37.405670Z",
     "start_time": "2021-07-25T13:14:32.526Z"
    }
   },
   "outputs": [],
   "source": [
    "rf_random.best_estimator_"
   ]
  },
  {
   "cell_type": "code",
   "execution_count": null,
   "metadata": {
    "ExecuteTime": {
     "end_time": "2021-07-25T13:46:37.407287Z",
     "start_time": "2021-07-25T13:14:32.528Z"
    }
   },
   "outputs": [],
   "source": [
    "randomforest = RandomForestClassifier(bootstrap=True, class_weight=None, criterion='gini',\n",
    "            max_depth=70, max_features='auto', max_leaf_nodes=None,\n",
    "            min_impurity_decrease=0.0, min_impurity_split=None,\n",
    "            min_samples_leaf=1, min_samples_split=100,\n",
    "            min_weight_fraction_leaf=0.0, n_estimators=1000, n_jobs=1,\n",
    "            oob_score=False, random_state=None, verbose=0,\n",
    "            warm_start=False)"
   ]
  },
  {
   "cell_type": "code",
   "execution_count": null,
   "metadata": {
    "ExecuteTime": {
     "end_time": "2021-07-25T13:46:37.409206Z",
     "start_time": "2021-07-25T13:14:32.530Z"
    }
   },
   "outputs": [],
   "source": [
    "randomforest.fit(x_train_undersampled, y_train_undersampled)\n",
    "randomforest.score(x_test, y_test)\n",
    "y_pred = randomforest.predict(x_test)\n",
    "print(\"Accuracy: %.3f\"% metrics.accuracy_score(y_test, y_pred))\n",
    "print(metrics.classification_report(y_test, y_pred))"
   ]
  },
  {
   "cell_type": "markdown",
   "metadata": {},
   "source": [
    "## RandomsearchCV:"
   ]
  },
  {
   "cell_type": "code",
   "execution_count": 71,
   "metadata": {
    "ExecuteTime": {
     "end_time": "2021-07-25T14:25:52.341378Z",
     "start_time": "2021-07-25T14:25:52.334451Z"
    }
   },
   "outputs": [
    {
     "name": "stdout",
     "output_type": "stream",
     "text": [
      "{'n_estimators': [200, 400, 600, 800, 1000, 1200, 1400, 1600, 1800, 2000], 'max_features': ['auto', 'sqrt'], 'max_depth': [10, 20, 30, 40, 50, 60, 70, 80, 90, 100, 110, None], 'min_samples_split': [2, 5, 10], 'min_samples_leaf': [1, 2, 4], 'bootstrap': [True, False]}\n"
     ]
    }
   ],
   "source": [
    "# Number of trees in random forest\n",
    "n_estimators = [int(x) for x in np.linspace(start = 200, stop = 2000, num = 10)]\n",
    "# Number of features to consider at every split\n",
    "max_features = ['auto', 'sqrt']\n",
    "# Maximum number of levels in tree\n",
    "max_depth = [int(x) for x in np.linspace(10, 110, num = 11)]\n",
    "max_depth.append(None)\n",
    "# Minimum number of samples required to split a node\n",
    "min_samples_split = [2, 5, 10]\n",
    "# Minimum number of samples required at each leaf node\n",
    "min_samples_leaf = [1, 2, 4]\n",
    "# Method of selecting samples for training each tree\n",
    "bootstrap = [True, False]\n",
    "# Create the random grid\n",
    "random_grid = {'n_estimators': n_estimators,\n",
    "               'max_features': max_features,\n",
    "               'max_depth': max_depth,\n",
    "               'min_samples_split': min_samples_split,\n",
    "               'min_samples_leaf': min_samples_leaf,\n",
    "               'bootstrap': bootstrap}\n",
    "print(random_grid)"
   ]
  },
  {
   "cell_type": "code",
   "execution_count": null,
   "metadata": {
    "ExecuteTime": {
     "start_time": "2021-07-25T14:25:52.644Z"
    }
   },
   "outputs": [
    {
     "name": "stdout",
     "output_type": "stream",
     "text": [
      "Fitting 3 folds for each of 20 candidates, totalling 60 fits\n"
     ]
    },
    {
     "name": "stderr",
     "output_type": "stream",
     "text": [
      "[Parallel(n_jobs=-1)]: Using backend LokyBackend with 12 concurrent workers.\n",
      "/usr/local/anaconda3/lib/python3.7/site-packages/joblib/externals/loky/process_executor.py:706: UserWarning: A worker stopped while some jobs were given to the executor. This can be caused by a too short worker timeout or by a memory leak.\n",
      "  \"timeout or by a memory leak.\", UserWarning\n",
      "[Parallel(n_jobs=-1)]: Done  17 tasks      | elapsed:  8.6min\n"
     ]
    }
   ],
   "source": [
    "# Use the random grid to search for best hyperparameters\n",
    "# First create the base model to tune\n",
    "rf = RandomForestClassifier()\n",
    "\n",
    "# Random search of parameters\n",
    "\n",
    "# using x-num fold cross validation\n",
    "cv_num = 3\n",
    "\n",
    "# search across 100 different combinations\n",
    "n_iter_num = 20\n",
    "\n",
    "# and use all available cores\n",
    "\n",
    "rf_random = RandomizedSearchCV(estimator=rf, param_distributions=random_grid,\n",
    "                               n_iter=n_iter_num, cv=cv_num, verbose=2, random_state=42, n_jobs=-1)\n",
    "\n",
    "# Fit the random search model\n",
    "rf_random.fit(x_train, y_train)"
   ]
  },
  {
   "cell_type": "code",
   "execution_count": null,
   "metadata": {
    "ExecuteTime": {
     "start_time": "2021-07-25T14:25:53.774Z"
    }
   },
   "outputs": [],
   "source": [
    "def evaluate(model, test_features, test_labels):\n",
    "    predictions = model.predict(test_features)\n",
    "    errors = abs(predictions - test_labels)\n",
    "    mape = 100 * np.mean(errors / test_labels)\n",
    "    accuracy = 100 - mape\n",
    "    print('Model Performance')\n",
    "    print('Average Error: {:0.4f} degrees.'.format(np.mean(errors)))\n",
    "    print('Accuracy = {:0.2f}%.'.format(accuracy))\n",
    "    \n",
    "    return accuracy"
   ]
  },
  {
   "cell_type": "code",
   "execution_count": null,
   "metadata": {
    "ExecuteTime": {
     "end_time": "2021-07-25T13:46:37.415084Z",
     "start_time": "2021-07-25T13:14:32.541Z"
    }
   },
   "outputs": [],
   "source": [
    "# How does the baseline/benchmark model perform?\n",
    "base_model = RandomForestClassifier(n_estimators = 10, random_state = 42)\n",
    "base_model.fit(train_features, train_labels)\n",
    "base_accuracy = evaluate(base_model, test_features, test_labels)"
   ]
  },
  {
   "cell_type": "code",
   "execution_count": null,
   "metadata": {
    "ExecuteTime": {
     "end_time": "2021-07-25T13:46:37.416584Z",
     "start_time": "2021-07-25T13:14:32.543Z"
    }
   },
   "outputs": [],
   "source": [
    "# How does the new model perform?\n",
    "best_random = rf_random.best_estimator_\n",
    "random_accuracy = evaluate(best_random, test_features, test_labels)"
   ]
  },
  {
   "cell_type": "code",
   "execution_count": null,
   "metadata": {
    "ExecuteTime": {
     "end_time": "2021-07-25T13:46:37.418577Z",
     "start_time": "2021-07-25T13:14:32.545Z"
    }
   },
   "outputs": [],
   "source": [
    "# How much did we improve? \n",
    "# Accuracy is a poor metric to be using here, since the dataset has imbalanced classes and \n",
    "# we should probably care more about recall of the early readmission class.\n",
    "\n",
    "print('Improvement of {:0.2f}%.'.format( 100 * (random_accuracy - base_accuracy) / base_accuracy))"
   ]
  },
  {
   "cell_type": "code",
   "execution_count": null,
   "metadata": {
    "ExecuteTime": {
     "end_time": "2021-07-25T13:46:37.420925Z",
     "start_time": "2021-07-25T13:14:32.548Z"
    }
   },
   "outputs": [],
   "source": [
    "randomforest = RandomForestClassifier(bootstrap=False, class_weight=None, criterion='gini',\n",
    "            max_depth=70, max_features='sqrt', max_leaf_nodes=None,\n",
    "            min_impurity_decrease=0.0, min_impurity_split=None,\n",
    "            min_samples_leaf=2, min_samples_split=10,\n",
    "            min_weight_fraction_leaf=0.0, n_estimators=1200, n_jobs=1,\n",
    "            oob_score=False, random_state=None, verbose=0,\n",
    "            warm_start=False)\n",
    "\n",
    "randomforest.fit(x_train, y_train)\n",
    "y_pred = randomforest.predict(x_test)\n",
    "print(metrics.classification_report(y_test, y_pred))"
   ]
  },
  {
   "cell_type": "code",
   "execution_count": null,
   "metadata": {
    "ExecuteTime": {
     "end_time": "2021-07-25T13:46:37.422693Z",
     "start_time": "2021-07-25T13:14:32.550Z"
    }
   },
   "outputs": [],
   "source": [
    "randomforest = RandomForestClassifier(bootstrap=False, class_weight=None, criterion='gini',\n",
    "            max_depth=70, max_features='sqrt', max_leaf_nodes=None,\n",
    "            min_impurity_decrease=0.0, min_impurity_split=None,\n",
    "            min_samples_leaf=2, min_samples_split=10,\n",
    "            min_weight_fraction_leaf=0.0, n_estimators=1200, n_jobs=1,\n",
    "            oob_score=False, random_state=None, verbose=0,\n",
    "            warm_start=False)\n",
    "\n",
    "randomforest.fit(x_train, y_train)\n",
    "y_pred = randomforest.predict(x_test)\n",
    "print(metrics.classification_report(y_test, y_pred))"
   ]
  }
 ],
 "metadata": {
  "kernelspec": {
   "display_name": "Python 3",
   "language": "python",
   "name": "python3"
  },
  "language_info": {
   "codemirror_mode": {
    "name": "ipython",
    "version": 3
   },
   "file_extension": ".py",
   "mimetype": "text/x-python",
   "name": "python",
   "nbconvert_exporter": "python",
   "pygments_lexer": "ipython3",
   "version": "3.7.3"
  }
 },
 "nbformat": 4,
 "nbformat_minor": 1
}
