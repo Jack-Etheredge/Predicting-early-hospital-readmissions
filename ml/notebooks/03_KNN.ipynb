{
 "cells": [
  {
   "cell_type": "markdown",
   "metadata": {},
   "source": [
    "# KNN:\n",
    "\n",
    "Classifying with supervised learning whether diabetic patients are readmitted, and if they are, if it's before or after 30 days.\n",
    "\n",
    "Using the dataset from here: https://archive.ics.uci.edu/ml/datasets/Diabetes+130-US+hospitals+for+years+1999-2008"
   ]
  },
  {
   "cell_type": "code",
   "execution_count": 1,
   "metadata": {
    "ExecuteTime": {
     "end_time": "2021-07-24T16:00:02.931272Z",
     "start_time": "2021-07-24T16:00:02.368196Z"
    }
   },
   "outputs": [],
   "source": [
    "from sklearn.metrics import f1_score, accuracy_score\n",
    "from sklearn.model_selection import cross_val_score, train_test_split, GridSearchCV\n",
    "from sklearn.neighbors import KNeighborsClassifier\n",
    "import pickle"
   ]
  },
  {
   "cell_type": "code",
   "execution_count": 2,
   "metadata": {
    "ExecuteTime": {
     "end_time": "2021-07-24T16:00:03.416564Z",
     "start_time": "2021-07-24T16:00:02.934183Z"
    }
   },
   "outputs": [],
   "source": [
    "with open(\"x_train_scaled_liv.pkl\", 'rb') as picklefile: \n",
    "    x_train_scaled = pickle.load(picklefile)\n",
    "\n",
    "with open(\"x_test_scaled_liv.pkl\", 'rb') as picklefile: \n",
    "    x_test_scaled = pickle.load(picklefile)\n",
    "\n",
    "with open(\"y_train_liv.pkl\", 'rb') as picklefile: \n",
    "    y_train = pickle.load(picklefile)\n",
    "\n",
    "with open(\"y_test_liv.pkl\", 'rb') as picklefile: \n",
    "    y_test = pickle.load(picklefile)"
   ]
  },
  {
   "cell_type": "markdown",
   "metadata": {},
   "source": [
    "## Converting to binary classification:"
   ]
  },
  {
   "cell_type": "code",
   "execution_count": 3,
   "metadata": {
    "ExecuteTime": {
     "end_time": "2021-07-24T16:11:15.161718Z",
     "start_time": "2021-07-24T16:00:03.484789Z"
    }
   },
   "outputs": [],
   "source": [
    "y_test = y_test.str.replace('>30','NO')\n",
    "y_train = y_train.str.replace('>30','NO')"
   ]
  },
  {
   "cell_type": "markdown",
   "metadata": {},
   "source": [
    "## KNN with single test/train split (25% for test):"
   ]
  },
  {
   "cell_type": "code",
   "execution_count": 4,
   "metadata": {
    "ExecuteTime": {
     "end_time": "2021-07-24T16:11:15.161718Z",
     "start_time": "2021-07-24T16:00:03.484789Z"
    }
   },
   "outputs": [
    {
     "name": "stdout",
     "output_type": "stream",
     "text": [
      "accuracy: 0.8788205681409564\n",
      "f1 macro: 0.5081601131678783\n"
     ]
    }
   ],
   "source": [
    "knn = KNeighborsClassifier(n_neighbors=5)\n",
    "knn.fit(x_train_scaled, y_train)\n",
    "\n",
    "y_pred = knn.predict(x_test_scaled)\n",
    "\n",
    "accuracy = accuracy_score(y_test, y_pred)\n",
    "print(f\"accuracy: {accuracy}\")\n",
    "f1_macro = f1_score(y_test, y_pred, average='macro')\n",
    "print(f\"f1 macro: {f1_macro}\")"
   ]
  },
  {
   "cell_type": "markdown",
   "metadata": {},
   "source": [
    "## KNN Grid Search CV for hyperparameter tuning and evaluation on holdout:"
   ]
  },
  {
   "cell_type": "code",
   "execution_count": 5,
   "metadata": {
    "ExecuteTime": {
     "end_time": "2021-07-24T16:11:15.176116Z",
     "start_time": "2021-07-24T16:11:15.163607Z"
    }
   },
   "outputs": [
    {
     "name": "stdout",
     "output_type": "stream",
     "text": [
      "testing values of k: [1, 6, 11, 16, 21, 26, 31, 36, 41, 46, 51, 56, 61]\n"
     ]
    }
   ],
   "source": [
    "# define the parameter values that should be searched\n",
    "k_range = list(range(1, 62, 5))\n",
    "print(f\"testing values of k: {k_range}\")\n",
    "\n",
    "knn = KNeighborsClassifier(n_neighbors=5)\n",
    "\n",
    "# create a parameter grid: map the parameter names to the values that should be searched \n",
    "param_grid = dict(n_neighbors=k_range)\n",
    "\n",
    "# instantiate the grid\n",
    "grid = GridSearchCV(knn, param_grid, cv=3, scoring='f1_macro', n_jobs=-1)"
   ]
  },
  {
   "cell_type": "code",
   "execution_count": 7,
   "metadata": {
    "ExecuteTime": {
     "end_time": "2021-07-24T17:30:45.954980Z",
     "start_time": "2021-07-24T16:24:29.202393Z"
    }
   },
   "outputs": [
    {
     "name": "stderr",
     "output_type": "stream",
     "text": [
      "/usr/local/anaconda3/lib/python3.7/site-packages/joblib/externals/loky/process_executor.py:706: UserWarning: A worker stopped while some jobs were given to the executor. This can be caused by a too short worker timeout or by a memory leak.\n",
      "  \"timeout or by a memory leak.\", UserWarning\n"
     ]
    },
    {
     "data": {
      "text/plain": [
       "GridSearchCV(cv=3, error_score=nan,\n",
       "             estimator=KNeighborsClassifier(algorithm='auto', leaf_size=30,\n",
       "                                            metric='minkowski',\n",
       "                                            metric_params=None, n_jobs=None,\n",
       "                                            n_neighbors=5, p=2,\n",
       "                                            weights='uniform'),\n",
       "             iid='deprecated', n_jobs=-1,\n",
       "             param_grid={'n_neighbors': [1, 6, 11, 16, 21, 26, 31, 36, 41, 46,\n",
       "                                         51, 56, 61]},\n",
       "             pre_dispatch='2*n_jobs', refit=True, return_train_score=False,\n",
       "             scoring='f1_macro', verbose=0)"
      ]
     },
     "execution_count": 7,
     "metadata": {},
     "output_type": "execute_result"
    }
   ],
   "source": [
    "# fit the grid with data \n",
    "grid.fit(x_train_scaled, y_train)"
   ]
  },
  {
   "cell_type": "code",
   "execution_count": 10,
   "metadata": {
    "ExecuteTime": {
     "end_time": "2021-07-24T17:46:46.594050Z",
     "start_time": "2021-07-24T17:46:46.585916Z"
    }
   },
   "outputs": [
    {
     "data": {
      "text/plain": [
       "{'mean_fit_time': array([41.36177286, 41.44307073, 41.72322766, 42.14360547, 42.90666604,\n",
       "        40.84394455, 41.31592917, 39.66971294, 41.80398949, 42.49943137,\n",
       "        41.70059292, 42.09776028, 42.1913681 ]),\n",
       " 'std_fit_time': array([1.00186528, 0.95403458, 0.78378393, 0.05709834, 0.06661481,\n",
       "        0.09684039, 0.05228167, 0.36893794, 0.16294518, 0.10138036,\n",
       "        0.35968988, 0.47969003, 0.38996873]),\n",
       " 'mean_score_time': array([ 951.14902321, 1054.66232697, 1078.06965335, 1085.74959731,\n",
       "        1111.54440522, 1117.85573141, 1126.85705741, 1129.66322931,\n",
       "        1139.15513476, 1144.05037634, 1139.34589465, 1137.46966044,\n",
       "         586.36733524]),\n",
       " 'std_score_time': array([0.32060522, 1.81554377, 1.81656183, 1.34859421, 0.61600481,\n",
       "        1.06057291, 2.06410752, 0.76932606, 0.55543495, 0.64043517,\n",
       "        2.31917657, 1.76203971, 0.83256668]),\n",
       " 'param_n_neighbors': masked_array(data=[1, 6, 11, 16, 21, 26, 31, 36, 41, 46, 51, 56, 61],\n",
       "              mask=[False, False, False, False, False, False, False, False,\n",
       "                    False, False, False, False, False],\n",
       "        fill_value='?',\n",
       "             dtype=object),\n",
       " 'params': [{'n_neighbors': 1},\n",
       "  {'n_neighbors': 6},\n",
       "  {'n_neighbors': 11},\n",
       "  {'n_neighbors': 16},\n",
       "  {'n_neighbors': 21},\n",
       "  {'n_neighbors': 26},\n",
       "  {'n_neighbors': 31},\n",
       "  {'n_neighbors': 36},\n",
       "  {'n_neighbors': 41},\n",
       "  {'n_neighbors': 46},\n",
       "  {'n_neighbors': 51},\n",
       "  {'n_neighbors': 56},\n",
       "  {'n_neighbors': 61}],\n",
       " 'split0_test_score': array([0.5335483 , 0.52282414, 0.49044301, 0.49021094, 0.48145277,\n",
       "        0.4828268 , 0.4797054 , 0.48113098, 0.47729672, 0.4772554 ,\n",
       "        0.47519937, 0.47628321, 0.47449736]),\n",
       " 'split1_test_score': array([0.53004454, 0.51943349, 0.48792983, 0.48297233, 0.47706144,\n",
       "        0.47804991, 0.4764895 , 0.47606734, 0.47581888, 0.47613437,\n",
       "        0.47583217, 0.47620143, 0.47587206]),\n",
       " 'split2_test_score': array([0.53019775, 0.5201431 , 0.48806927, 0.48842902, 0.48268484,\n",
       "        0.48401703, 0.48311302, 0.48273172, 0.48001298, 0.48142114,\n",
       "        0.48040986, 0.48073247, 0.47867224]),\n",
       " 'mean_test_score': array([0.53126353, 0.52080024, 0.48881403, 0.4872041 , 0.48039968,\n",
       "        0.48163124, 0.47976931, 0.47997668, 0.47770952, 0.4782703 ,\n",
       "        0.47714713, 0.47773904, 0.47634722]),\n",
       " 'std_test_score': array([0.00161679, 0.00146014, 0.00115327, 0.00307947, 0.00241349,\n",
       "        0.00257858, 0.00270442, 0.00284052, 0.00173694, 0.0022745 ,\n",
       "        0.00232152, 0.00211694, 0.00173719]),\n",
       " 'rank_test_score': array([ 1,  2,  3,  4,  6,  5,  8,  7, 11,  9, 12, 10, 13], dtype=int32)}"
      ]
     },
     "execution_count": 10,
     "metadata": {},
     "output_type": "execute_result"
    }
   ],
   "source": [
    "# view the complete results\n",
    "grid.cv_results_"
   ]
  },
  {
   "cell_type": "code",
   "execution_count": 9,
   "metadata": {
    "ExecuteTime": {
     "end_time": "2021-07-24T17:45:48.562081Z",
     "start_time": "2021-07-24T17:45:48.558012Z"
    }
   },
   "outputs": [
    {
     "name": "stdout",
     "output_type": "stream",
     "text": [
      "best score: 0.531263527933702\n",
      "best params: {'n_neighbors': 1}\n",
      "best estimator: KNeighborsClassifier(algorithm='auto', leaf_size=30, metric='minkowski',\n",
      "                     metric_params=None, n_jobs=None, n_neighbors=1, p=2,\n",
      "                     weights='uniform')\n"
     ]
    }
   ],
   "source": [
    "# examine the best model\n",
    "print(f\"best score: {grid.best_score_}\")\n",
    "print(f\"best params: {grid.best_params_}\")\n",
    "print(f\"best estimator: {grid.best_estimator_}\")"
   ]
  },
  {
   "cell_type": "code",
   "execution_count": 13,
   "metadata": {
    "ExecuteTime": {
     "end_time": "2021-07-24T17:57:39.770992Z",
     "start_time": "2021-07-24T17:48:01.510779Z"
    }
   },
   "outputs": [],
   "source": [
    "y_pred = grid.predict(x_test_scaled)"
   ]
  },
  {
   "cell_type": "code",
   "execution_count": 14,
   "metadata": {
    "ExecuteTime": {
     "end_time": "2021-07-24T17:57:40.096730Z",
     "start_time": "2021-07-24T17:57:39.773360Z"
    }
   },
   "outputs": [
    {
     "name": "stdout",
     "output_type": "stream",
     "text": [
      "accuracy: 0.8175716169243678\n",
      "f1 macro: 0.5369162277269839\n"
     ]
    }
   ],
   "source": [
    "accuracy = accuracy_score(y_test, y_pred)\n",
    "print(f\"accuracy: {accuracy}\")\n",
    "f1_macro = f1_score(y_test, y_pred, average='macro')\n",
    "print(f\"f1 macro: {f1_macro}\")"
   ]
  },
  {
   "cell_type": "code",
   "execution_count": null,
   "metadata": {
    "ExecuteTime": {
     "end_time": "2021-07-24T17:30:45.982212Z",
     "start_time": "2021-07-24T16:24:33.071Z"
    }
   },
   "outputs": [],
   "source": [
    "# for accuracy before binning ICD9 codes: 0.5357291183456844"
   ]
  }
 ],
 "metadata": {
  "kernelspec": {
   "display_name": "Python 3",
   "language": "python",
   "name": "python3"
  },
  "language_info": {
   "codemirror_mode": {
    "name": "ipython",
    "version": 3
   },
   "file_extension": ".py",
   "mimetype": "text/x-python",
   "name": "python",
   "nbconvert_exporter": "python",
   "pygments_lexer": "ipython3",
   "version": "3.7.3"
  }
 },
 "nbformat": 4,
 "nbformat_minor": 2
}
