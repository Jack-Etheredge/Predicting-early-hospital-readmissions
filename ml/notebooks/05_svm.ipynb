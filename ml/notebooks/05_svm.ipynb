{
 "cells": [
  {
   "cell_type": "markdown",
   "metadata": {},
   "source": [
    "# SVM:\n",
    "\n",
    "Classifying with supervised learning whether diabetic patients are readmitted, and if they are, if it's before or after 30 days.\n",
    "\n",
    "Using the dataset from here: https://archive.ics.uci.edu/ml/datasets/Diabetes+130-US+hospitals+for+years+1999-2008"
   ]
  },
  {
   "cell_type": "code",
   "execution_count": 1,
   "metadata": {
    "ExecuteTime": {
     "end_time": "2021-07-25T03:01:43.852780Z",
     "start_time": "2021-07-25T03:01:39.826453Z"
    }
   },
   "outputs": [
    {
     "name": "stderr",
     "output_type": "stream",
     "text": [
      "/usr/local/anaconda3/lib/python3.7/site-packages/sklearn/utils/deprecation.py:144: FutureWarning: The sklearn.neighbors.base module is  deprecated in version 0.22 and will be removed in version 0.24. The corresponding classes / functions should instead be imported from sklearn.neighbors. Anything that cannot be imported from sklearn.neighbors is now part of the private API.\n",
      "  warnings.warn(message, FutureWarning)\n",
      "/usr/local/anaconda3/lib/python3.7/site-packages/sklearn/utils/deprecation.py:144: FutureWarning: The sklearn.ensemble.bagging module is  deprecated in version 0.22 and will be removed in version 0.24. The corresponding classes / functions should instead be imported from sklearn.ensemble. Anything that cannot be imported from sklearn.ensemble is now part of the private API.\n",
      "  warnings.warn(message, FutureWarning)\n",
      "/usr/local/anaconda3/lib/python3.7/site-packages/sklearn/utils/deprecation.py:144: FutureWarning: The sklearn.ensemble.base module is  deprecated in version 0.22 and will be removed in version 0.24. The corresponding classes / functions should instead be imported from sklearn.ensemble. Anything that cannot be imported from sklearn.ensemble is now part of the private API.\n",
      "  warnings.warn(message, FutureWarning)\n",
      "/usr/local/anaconda3/lib/python3.7/site-packages/sklearn/utils/deprecation.py:144: FutureWarning: The sklearn.ensemble.forest module is  deprecated in version 0.22 and will be removed in version 0.24. The corresponding classes / functions should instead be imported from sklearn.ensemble. Anything that cannot be imported from sklearn.ensemble is now part of the private API.\n",
      "  warnings.warn(message, FutureWarning)\n",
      "Using TensorFlow backend.\n",
      "/usr/local/anaconda3/lib/python3.7/site-packages/sklearn/utils/deprecation.py:144: FutureWarning: The sklearn.utils.testing module is  deprecated in version 0.22 and will be removed in version 0.24. The corresponding classes / functions should instead be imported from sklearn.utils. Anything that cannot be imported from sklearn.utils is now part of the private API.\n",
      "  warnings.warn(message, FutureWarning)\n",
      "/usr/local/anaconda3/lib/python3.7/site-packages/sklearn/utils/deprecation.py:144: FutureWarning: The sklearn.metrics.classification module is  deprecated in version 0.22 and will be removed in version 0.24. The corresponding classes / functions should instead be imported from sklearn.metrics. Anything that cannot be imported from sklearn.metrics is now part of the private API.\n",
      "  warnings.warn(message, FutureWarning)\n"
     ]
    }
   ],
   "source": [
    "from imblearn.over_sampling import SMOTE\n",
    "from imblearn.under_sampling import RandomUnderSampler\n",
    "from sklearn import metrics\n",
    "from sklearn import svm\n",
    "from sklearn.model_selection import cross_val_score\n",
    "from sklearn.model_selection import GridSearchCV\n",
    "import numpy as np\n",
    "import pickle"
   ]
  },
  {
   "cell_type": "code",
   "execution_count": 2,
   "metadata": {
    "ExecuteTime": {
     "end_time": "2021-07-25T03:01:43.908210Z",
     "start_time": "2021-07-25T03:01:43.855599Z"
    }
   },
   "outputs": [],
   "source": [
    "with open(\"y_train_liv.pkl\", 'rb') as picklefile: \n",
    "    y_train = pickle.load(picklefile)\n",
    "\n",
    "with open(\"y_test_liv.pkl\", 'rb') as picklefile: \n",
    "    y_test = pickle.load(picklefile)\n",
    "\n",
    "with open(\"x_train_scaled_liv.pkl\", 'rb') as picklefile: \n",
    "    x_train = pickle.load(picklefile)\n",
    "\n",
    "with open(\"x_test_scaled_liv.pkl\", 'rb') as picklefile: \n",
    "    x_test = pickle.load(picklefile)"
   ]
  },
  {
   "cell_type": "markdown",
   "metadata": {},
   "source": [
    "## Binarizing the classes"
   ]
  },
  {
   "cell_type": "code",
   "execution_count": 3,
   "metadata": {
    "ExecuteTime": {
     "end_time": "2021-07-25T03:01:43.977438Z",
     "start_time": "2021-07-25T03:01:43.910562Z"
    }
   },
   "outputs": [],
   "source": [
    "y_test = y_test.str.replace('>30','NO')\n",
    "y_train = y_train.str.replace('>30','NO')"
   ]
  },
  {
   "cell_type": "markdown",
   "metadata": {},
   "source": [
    "## SVM with train test split and balanced class weights"
   ]
  },
  {
   "cell_type": "code",
   "execution_count": 4,
   "metadata": {
    "ExecuteTime": {
     "end_time": "2021-07-25T03:02:16.999439Z",
     "start_time": "2021-07-25T03:01:43.979643Z"
    }
   },
   "outputs": [
    {
     "name": "stderr",
     "output_type": "stream",
     "text": [
      "/usr/local/anaconda3/lib/python3.7/site-packages/sklearn/svm/_base.py:947: ConvergenceWarning: Liblinear failed to converge, increase the number of iterations.\n",
      "  \"the number of iterations.\", ConvergenceWarning)\n"
     ]
    },
    {
     "name": "stdout",
     "output_type": "stream",
     "text": [
      "              precision    recall  f1-score   support\n",
      "\n",
      "         <30       0.19      0.56      0.28      2839\n",
      "          NO       0.92      0.69      0.79     22190\n",
      "\n",
      "    accuracy                           0.68     25029\n",
      "   macro avg       0.56      0.62      0.54     25029\n",
      "weighted avg       0.84      0.68      0.73     25029\n",
      "\n"
     ]
    }
   ],
   "source": [
    "linearSVMmodel = svm.LinearSVC(class_weight=\"balanced\")\n",
    "linearSVMmodel.fit(x_train, y_train)\n",
    "\n",
    "y_pred = linearSVMmodel.predict(x_test)\n",
    "print(metrics.classification_report(y_test, y_pred))"
   ]
  },
  {
   "cell_type": "markdown",
   "metadata": {},
   "source": [
    "## Kernel RBF SVM with balanced class weights"
   ]
  },
  {
   "cell_type": "code",
   "execution_count": 5,
   "metadata": {
    "ExecuteTime": {
     "end_time": "2021-07-25T03:58:17.634424Z",
     "start_time": "2021-07-25T03:02:17.001430Z"
    }
   },
   "outputs": [
    {
     "name": "stdout",
     "output_type": "stream",
     "text": [
      "              precision    recall  f1-score   support\n",
      "\n",
      "         <30       0.19      0.56      0.28      2839\n",
      "          NO       0.93      0.70      0.79     22190\n",
      "\n",
      "    accuracy                           0.68     25029\n",
      "   macro avg       0.56      0.63      0.54     25029\n",
      "weighted avg       0.84      0.68      0.74     25029\n",
      "\n"
     ]
    }
   ],
   "source": [
    "RBFSVMmodel = svm.SVC(class_weight=\"balanced\")\n",
    "RBFSVMmodel.fit(x_train, y_train)\n",
    "\n",
    "y_pred = RBFSVMmodel.predict(x_test)\n",
    "\n",
    "print(metrics.classification_report(y_test, y_pred))"
   ]
  },
  {
   "cell_type": "markdown",
   "metadata": {},
   "source": [
    "## SMOTE:"
   ]
  },
  {
   "cell_type": "code",
   "execution_count": 6,
   "metadata": {
    "ExecuteTime": {
     "end_time": "2021-07-25T03:58:51.106143Z",
     "start_time": "2021-07-25T03:58:17.636361Z"
    }
   },
   "outputs": [
    {
     "name": "stderr",
     "output_type": "stream",
     "text": [
      "/usr/local/anaconda3/lib/python3.7/site-packages/sklearn/utils/deprecation.py:87: FutureWarning: Function safe_indexing is deprecated; safe_indexing is deprecated in version 0.22 and will be removed in version 0.24.\n",
      "  warnings.warn(msg, category=FutureWarning)\n"
     ]
    }
   ],
   "source": [
    "sm = SMOTE(random_state=42)\n",
    "x_train_smote, y_train_smote = sm.fit_sample(x_train, y_train)"
   ]
  },
  {
   "cell_type": "markdown",
   "metadata": {},
   "source": [
    "## Linear SVM with SMOTE:"
   ]
  },
  {
   "cell_type": "code",
   "execution_count": 7,
   "metadata": {
    "ExecuteTime": {
     "end_time": "2021-07-25T03:59:54.955859Z",
     "start_time": "2021-07-25T03:58:51.111084Z"
    }
   },
   "outputs": [
    {
     "name": "stderr",
     "output_type": "stream",
     "text": [
      "/usr/local/anaconda3/lib/python3.7/site-packages/sklearn/svm/_base.py:947: ConvergenceWarning: Liblinear failed to converge, increase the number of iterations.\n",
      "  \"the number of iterations.\", ConvergenceWarning)\n"
     ]
    },
    {
     "name": "stdout",
     "output_type": "stream",
     "text": [
      "              precision    recall  f1-score   support\n",
      "\n",
      "         <30       0.17      0.57      0.27      2839\n",
      "          NO       0.92      0.65      0.76     22190\n",
      "\n",
      "    accuracy                           0.64     25029\n",
      "   macro avg       0.55      0.61      0.52     25029\n",
      "weighted avg       0.84      0.64      0.71     25029\n",
      "\n"
     ]
    }
   ],
   "source": [
    "linearSVMmodel = svm.LinearSVC()\n",
    "linearSVMmodel.fit(x_train_smote, y_train_smote)\n",
    "\n",
    "y_pred = linearSVMmodel.predict(x_test)\n",
    "\n",
    "print(metrics.classification_report(y_test, y_pred))"
   ]
  },
  {
   "cell_type": "markdown",
   "metadata": {},
   "source": [
    "## Kernel RBF SVM with SMOTE:"
   ]
  },
  {
   "cell_type": "code",
   "execution_count": 8,
   "metadata": {
    "ExecuteTime": {
     "end_time": "2021-07-25T05:21:56.500064Z",
     "start_time": "2021-07-25T03:59:54.958473Z"
    }
   },
   "outputs": [
    {
     "name": "stdout",
     "output_type": "stream",
     "text": [
      "              precision    recall  f1-score   support\n",
      "\n",
      "         <30       0.32      0.10      0.15      2839\n",
      "          NO       0.89      0.97      0.93     22190\n",
      "\n",
      "    accuracy                           0.87     25029\n",
      "   macro avg       0.61      0.54      0.54     25029\n",
      "weighted avg       0.83      0.87      0.84     25029\n",
      "\n"
     ]
    }
   ],
   "source": [
    "RBFSVMmodel = svm.SVC()\n",
    "RBFSVMmodel.fit(x_train_smote, y_train_smote)\n",
    "\n",
    "y_pred = RBFSVMmodel.predict(x_test)\n",
    "\n",
    "print(metrics.classification_report(y_test, y_pred))"
   ]
  },
  {
   "cell_type": "markdown",
   "metadata": {},
   "source": [
    "## Random undersampling:"
   ]
  },
  {
   "cell_type": "code",
   "execution_count": 9,
   "metadata": {
    "ExecuteTime": {
     "end_time": "2021-07-25T05:21:56.959489Z",
     "start_time": "2021-07-25T05:21:56.502078Z"
    }
   },
   "outputs": [
    {
     "name": "stderr",
     "output_type": "stream",
     "text": [
      "/usr/local/anaconda3/lib/python3.7/site-packages/sklearn/utils/deprecation.py:87: FutureWarning: Function safe_indexing is deprecated; safe_indexing is deprecated in version 0.22 and will be removed in version 0.24.\n",
      "  warnings.warn(msg, category=FutureWarning)\n"
     ]
    }
   ],
   "source": [
    "rus = RandomUnderSampler(random_state=0)\n",
    "x_train_undersampled, y_train_undersampled = rus.fit_sample(x_train, y_train)"
   ]
  },
  {
   "cell_type": "markdown",
   "metadata": {},
   "source": [
    "## Linear SVM with random undersampling:"
   ]
  },
  {
   "cell_type": "code",
   "execution_count": 10,
   "metadata": {
    "ExecuteTime": {
     "end_time": "2021-07-25T05:22:02.627436Z",
     "start_time": "2021-07-25T05:21:56.961539Z"
    }
   },
   "outputs": [
    {
     "name": "stderr",
     "output_type": "stream",
     "text": [
      "/usr/local/anaconda3/lib/python3.7/site-packages/sklearn/svm/_base.py:947: ConvergenceWarning: Liblinear failed to converge, increase the number of iterations.\n",
      "  \"the number of iterations.\", ConvergenceWarning)\n"
     ]
    },
    {
     "name": "stdout",
     "output_type": "stream",
     "text": [
      "              precision    recall  f1-score   support\n",
      "\n",
      "         <30       0.18      0.57      0.28      2839\n",
      "          NO       0.93      0.67      0.78     22190\n",
      "\n",
      "    accuracy                           0.66     25029\n",
      "   macro avg       0.55      0.62      0.53     25029\n",
      "weighted avg       0.84      0.66      0.72     25029\n",
      "\n"
     ]
    }
   ],
   "source": [
    "linearSVMmodel = svm.LinearSVC()\n",
    "linearSVMmodel.fit(x_train_undersampled, y_train_undersampled)\n",
    "\n",
    "y_pred = linearSVMmodel.predict(x_test)\n",
    "\n",
    "print(metrics.classification_report(y_test, y_pred))"
   ]
  },
  {
   "cell_type": "markdown",
   "metadata": {},
   "source": [
    "## Kernel RBF SVM with random undersampling:"
   ]
  },
  {
   "cell_type": "code",
   "execution_count": 11,
   "metadata": {
    "ExecuteTime": {
     "end_time": "2021-07-25T05:25:12.215171Z",
     "start_time": "2021-07-25T05:22:02.629422Z"
    }
   },
   "outputs": [
    {
     "name": "stdout",
     "output_type": "stream",
     "text": [
      "              precision    recall  f1-score   support\n",
      "\n",
      "         <30       0.19      0.60      0.28      2839\n",
      "          NO       0.93      0.66      0.77     22190\n",
      "\n",
      "    accuracy                           0.66     25029\n",
      "   macro avg       0.56      0.63      0.53     25029\n",
      "weighted avg       0.84      0.66      0.72     25029\n",
      "\n"
     ]
    }
   ],
   "source": [
    "RBFSVMmodel = svm.SVC()\n",
    "RBFSVMmodel.fit(x_train_undersampled, y_train_undersampled)\n",
    "\n",
    "y_pred = RBFSVMmodel.predict(x_test)\n",
    "\n",
    "print(metrics.classification_report(y_test, y_pred))"
   ]
  }
 ],
 "metadata": {
  "kernelspec": {
   "display_name": "Python 3",
   "language": "python",
   "name": "python3"
  },
  "language_info": {
   "codemirror_mode": {
    "name": "ipython",
    "version": 3
   },
   "file_extension": ".py",
   "mimetype": "text/x-python",
   "name": "python",
   "nbconvert_exporter": "python",
   "pygments_lexer": "ipython3",
   "version": "3.7.3"
  },
  "toc": {
   "nav_menu": {},
   "number_sections": true,
   "sideBar": true,
   "skip_h1_title": false,
   "toc_cell": false,
   "toc_position": {},
   "toc_section_display": "block",
   "toc_window_display": false
  },
  "varInspector": {
   "cols": {
    "lenName": 16,
    "lenType": 16,
    "lenVar": 40
   },
   "kernels_config": {
    "python": {
     "delete_cmd_postfix": "",
     "delete_cmd_prefix": "del ",
     "library": "var_list.py",
     "varRefreshCmd": "print(var_dic_list())"
    },
    "r": {
     "delete_cmd_postfix": ") ",
     "delete_cmd_prefix": "rm(",
     "library": "var_list.r",
     "varRefreshCmd": "cat(var_dic_list()) "
    }
   },
   "position": {
    "height": "291px",
    "left": "1089px",
    "right": "20px",
    "top": "118px",
    "width": "304px"
   },
   "types_to_exclude": [
    "module",
    "function",
    "builtin_function_or_method",
    "instance",
    "_Feature"
   ],
   "window_display": false
  }
 },
 "nbformat": 4,
 "nbformat_minor": 2
}
