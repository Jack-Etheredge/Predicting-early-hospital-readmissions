{
 "cells": [
  {
   "cell_type": "markdown",
   "metadata": {},
   "source": [
    "# Logistic Regression:\n",
    "\n",
    "Classifying with supervised learning whether diabetic patients are readmitted, and if they are, if it's before or after 30 days.\n",
    "\n",
    "Using the dataset from here: https://archive.ics.uci.edu/ml/datasets/Diabetes+130-US+hospitals+for+years+1999-2008"
   ]
  },
  {
   "cell_type": "code",
   "execution_count": 1,
   "metadata": {
    "ExecuteTime": {
     "end_time": "2021-07-25T12:18:37.858174Z",
     "start_time": "2021-07-25T12:18:33.836050Z"
    }
   },
   "outputs": [
    {
     "name": "stderr",
     "output_type": "stream",
     "text": [
      "/usr/local/anaconda3/lib/python3.7/site-packages/sklearn/utils/deprecation.py:144: FutureWarning: The sklearn.neighbors.base module is  deprecated in version 0.22 and will be removed in version 0.24. The corresponding classes / functions should instead be imported from sklearn.neighbors. Anything that cannot be imported from sklearn.neighbors is now part of the private API.\n",
      "  warnings.warn(message, FutureWarning)\n",
      "/usr/local/anaconda3/lib/python3.7/site-packages/sklearn/utils/deprecation.py:144: FutureWarning: The sklearn.ensemble.bagging module is  deprecated in version 0.22 and will be removed in version 0.24. The corresponding classes / functions should instead be imported from sklearn.ensemble. Anything that cannot be imported from sklearn.ensemble is now part of the private API.\n",
      "  warnings.warn(message, FutureWarning)\n",
      "/usr/local/anaconda3/lib/python3.7/site-packages/sklearn/utils/deprecation.py:144: FutureWarning: The sklearn.ensemble.base module is  deprecated in version 0.22 and will be removed in version 0.24. The corresponding classes / functions should instead be imported from sklearn.ensemble. Anything that cannot be imported from sklearn.ensemble is now part of the private API.\n",
      "  warnings.warn(message, FutureWarning)\n",
      "/usr/local/anaconda3/lib/python3.7/site-packages/sklearn/utils/deprecation.py:144: FutureWarning: The sklearn.ensemble.forest module is  deprecated in version 0.22 and will be removed in version 0.24. The corresponding classes / functions should instead be imported from sklearn.ensemble. Anything that cannot be imported from sklearn.ensemble is now part of the private API.\n",
      "  warnings.warn(message, FutureWarning)\n",
      "Using TensorFlow backend.\n",
      "/usr/local/anaconda3/lib/python3.7/site-packages/sklearn/utils/deprecation.py:144: FutureWarning: The sklearn.utils.testing module is  deprecated in version 0.22 and will be removed in version 0.24. The corresponding classes / functions should instead be imported from sklearn.utils. Anything that cannot be imported from sklearn.utils is now part of the private API.\n",
      "  warnings.warn(message, FutureWarning)\n",
      "/usr/local/anaconda3/lib/python3.7/site-packages/sklearn/utils/deprecation.py:144: FutureWarning: The sklearn.metrics.classification module is  deprecated in version 0.22 and will be removed in version 0.24. The corresponding classes / functions should instead be imported from sklearn.metrics. Anything that cannot be imported from sklearn.metrics is now part of the private API.\n",
      "  warnings.warn(message, FutureWarning)\n"
     ]
    }
   ],
   "source": [
    "import pandas as pd\n",
    "import numpy as np\n",
    "import matplotlib.pyplot as plt\n",
    "import seaborn as sns\n",
    "\n",
    "from sklearn.model_selection import train_test_split\n",
    "from sklearn import preprocessing\n",
    "\n",
    "# SMOTE\n",
    "from imblearn.over_sampling import SMOTE\n",
    "\n",
    "# Undersampling\n",
    "from imblearn.under_sampling import RandomUnderSampler\n",
    "\n",
    "from sklearn import linear_model\n",
    "from sklearn.linear_model import LogisticRegression\n",
    "from sklearn.neighbors import KNeighborsClassifier\n",
    "\n",
    "from sklearn.model_selection import cross_val_score\n",
    "from sklearn.model_selection import GridSearchCV\n",
    "from sklearn import metrics\n",
    "\n",
    "import pickle"
   ]
  },
  {
   "cell_type": "code",
   "execution_count": 2,
   "metadata": {
    "ExecuteTime": {
     "end_time": "2021-07-25T12:18:37.912842Z",
     "start_time": "2021-07-25T12:18:37.860775Z"
    }
   },
   "outputs": [],
   "source": [
    "# Using scaled X_train and X_test because we will want to try regularization\n",
    "\n",
    "with open(\"y_train_liv.pkl\", 'rb') as picklefile: \n",
    "    y_train = pickle.load(picklefile)\n",
    "\n",
    "with open(\"y_test_liv.pkl\", 'rb') as picklefile: \n",
    "    y_test = pickle.load(picklefile)\n",
    "\n",
    "with open(\"x_train_scaled_liv.pkl\", 'rb') as picklefile: \n",
    "    x_train = pickle.load(picklefile)\n",
    "\n",
    "with open(\"x_test_scaled_liv.pkl\", 'rb') as picklefile: \n",
    "    x_test = pickle.load(picklefile)"
   ]
  },
  {
   "cell_type": "markdown",
   "metadata": {},
   "source": [
    "## Converting to binary classes:"
   ]
  },
  {
   "cell_type": "code",
   "execution_count": 3,
   "metadata": {
    "ExecuteTime": {
     "end_time": "2021-07-25T12:18:37.987080Z",
     "start_time": "2021-07-25T12:18:37.914920Z"
    }
   },
   "outputs": [],
   "source": [
    "y_test = y_test.str.replace('>30','NO')\n",
    "y_train = y_train.str.replace('>30','NO')"
   ]
  },
  {
   "cell_type": "markdown",
   "metadata": {},
   "source": [
    "## Logistic regression with balanced class weights with test/train split (25% for test):"
   ]
  },
  {
   "cell_type": "code",
   "execution_count": 4,
   "metadata": {
    "ExecuteTime": {
     "end_time": "2021-07-25T12:18:40.150704Z",
     "start_time": "2021-07-25T12:18:37.989277Z"
    }
   },
   "outputs": [
    {
     "name": "stderr",
     "output_type": "stream",
     "text": [
      "/usr/local/anaconda3/lib/python3.7/site-packages/sklearn/linear_model/_logistic.py:940: ConvergenceWarning: lbfgs failed to converge (status=1):\n",
      "STOP: TOTAL NO. of ITERATIONS REACHED LIMIT.\n",
      "\n",
      "Increase the number of iterations (max_iter) or scale the data as shown in:\n",
      "    https://scikit-learn.org/stable/modules/preprocessing.html\n",
      "Please also refer to the documentation for alternative solver options:\n",
      "    https://scikit-learn.org/stable/modules/linear_model.html#logistic-regression\n",
      "  extra_warning_msg=_LOGISTIC_SOLVER_CONVERGENCE_MSG)\n"
     ]
    },
    {
     "data": {
      "text/plain": [
       "LogisticRegression(C=1.0, class_weight='balanced', dual=False,\n",
       "                   fit_intercept=True, intercept_scaling=1, l1_ratio=None,\n",
       "                   max_iter=100, multi_class='auto', n_jobs=None, penalty='l2',\n",
       "                   random_state=None, solver='lbfgs', tol=0.0001, verbose=0,\n",
       "                   warm_start=False)"
      ]
     },
     "execution_count": 4,
     "metadata": {},
     "output_type": "execute_result"
    }
   ],
   "source": [
    "lrmodel = linear_model.LogisticRegression(class_weight=\"balanced\")\n",
    "lrmodel.fit(x_train, y_train)"
   ]
  },
  {
   "cell_type": "code",
   "execution_count": 5,
   "metadata": {
    "ExecuteTime": {
     "end_time": "2021-07-25T12:18:41.488624Z",
     "start_time": "2021-07-25T12:18:40.153116Z"
    }
   },
   "outputs": [
    {
     "name": "stdout",
     "output_type": "stream",
     "text": [
      "Accuracy: 0.670\n",
      "              precision    recall  f1-score   support\n",
      "\n",
      "         <30       0.19      0.57      0.28      2839\n",
      "          NO       0.92      0.68      0.79     22190\n",
      "\n",
      "    accuracy                           0.67     25029\n",
      "   macro avg       0.56      0.62      0.53     25029\n",
      "weighted avg       0.84      0.67      0.73     25029\n",
      "\n"
     ]
    }
   ],
   "source": [
    "# Predict on test\n",
    "y_pred = lrmodel.predict(x_test)\n",
    "\n",
    "# Score on test\n",
    "score = metrics.accuracy_score(y_test, y_pred)\n",
    "#print(score)\n",
    "print(\"Accuracy: %.3f\"% score)\n",
    "print(metrics.classification_report(y_test, y_pred))"
   ]
  },
  {
   "cell_type": "markdown",
   "metadata": {
    "ExecuteTime": {
     "end_time": "2018-05-05T20:11:39.386128Z",
     "start_time": "2018-05-04T19:46:42.534Z"
    }
   },
   "source": [
    "## Logistic regression with cross-validation:"
   ]
  },
  {
   "cell_type": "code",
   "execution_count": 6,
   "metadata": {
    "ExecuteTime": {
     "end_time": "2021-07-25T12:18:50.812618Z",
     "start_time": "2021-07-25T12:18:41.490637Z"
    }
   },
   "outputs": [
    {
     "name": "stderr",
     "output_type": "stream",
     "text": [
      "/usr/local/anaconda3/lib/python3.7/site-packages/sklearn/linear_model/_logistic.py:940: ConvergenceWarning: lbfgs failed to converge (status=1):\n",
      "STOP: TOTAL NO. of ITERATIONS REACHED LIMIT.\n",
      "\n",
      "Increase the number of iterations (max_iter) or scale the data as shown in:\n",
      "    https://scikit-learn.org/stable/modules/preprocessing.html\n",
      "Please also refer to the documentation for alternative solver options:\n",
      "    https://scikit-learn.org/stable/modules/linear_model.html#logistic-regression\n",
      "  extra_warning_msg=_LOGISTIC_SOLVER_CONVERGENCE_MSG)\n",
      "/usr/local/anaconda3/lib/python3.7/site-packages/sklearn/linear_model/_logistic.py:940: ConvergenceWarning: lbfgs failed to converge (status=1):\n",
      "STOP: TOTAL NO. of ITERATIONS REACHED LIMIT.\n",
      "\n",
      "Increase the number of iterations (max_iter) or scale the data as shown in:\n",
      "    https://scikit-learn.org/stable/modules/preprocessing.html\n",
      "Please also refer to the documentation for alternative solver options:\n",
      "    https://scikit-learn.org/stable/modules/linear_model.html#logistic-regression\n",
      "  extra_warning_msg=_LOGISTIC_SOLVER_CONVERGENCE_MSG)\n",
      "/usr/local/anaconda3/lib/python3.7/site-packages/sklearn/linear_model/_logistic.py:940: ConvergenceWarning: lbfgs failed to converge (status=1):\n",
      "STOP: TOTAL NO. of ITERATIONS REACHED LIMIT.\n",
      "\n",
      "Increase the number of iterations (max_iter) or scale the data as shown in:\n",
      "    https://scikit-learn.org/stable/modules/preprocessing.html\n",
      "Please also refer to the documentation for alternative solver options:\n",
      "    https://scikit-learn.org/stable/modules/linear_model.html#logistic-regression\n",
      "  extra_warning_msg=_LOGISTIC_SOLVER_CONVERGENCE_MSG)\n",
      "/usr/local/anaconda3/lib/python3.7/site-packages/sklearn/linear_model/_logistic.py:940: ConvergenceWarning: lbfgs failed to converge (status=1):\n",
      "STOP: TOTAL NO. of ITERATIONS REACHED LIMIT.\n",
      "\n",
      "Increase the number of iterations (max_iter) or scale the data as shown in:\n",
      "    https://scikit-learn.org/stable/modules/preprocessing.html\n",
      "Please also refer to the documentation for alternative solver options:\n",
      "    https://scikit-learn.org/stable/modules/linear_model.html#logistic-regression\n",
      "  extra_warning_msg=_LOGISTIC_SOLVER_CONVERGENCE_MSG)\n"
     ]
    },
    {
     "name": "stdout",
     "output_type": "stream",
     "text": [
      "0.5272561563748424\n"
     ]
    },
    {
     "name": "stderr",
     "output_type": "stream",
     "text": [
      "/usr/local/anaconda3/lib/python3.7/site-packages/sklearn/linear_model/_logistic.py:940: ConvergenceWarning: lbfgs failed to converge (status=1):\n",
      "STOP: TOTAL NO. of ITERATIONS REACHED LIMIT.\n",
      "\n",
      "Increase the number of iterations (max_iter) or scale the data as shown in:\n",
      "    https://scikit-learn.org/stable/modules/preprocessing.html\n",
      "Please also refer to the documentation for alternative solver options:\n",
      "    https://scikit-learn.org/stable/modules/linear_model.html#logistic-regression\n",
      "  extra_warning_msg=_LOGISTIC_SOLVER_CONVERGENCE_MSG)\n"
     ]
    }
   ],
   "source": [
    "# 10-fold cross-validation with logistic regression\n",
    "# stratifying the Kfold splits is default in CV\n",
    "# returning the average f1_macro score\n",
    "print(cross_val_score(lrmodel, x_train, y_train, cv=5, scoring='f1_macro').mean())"
   ]
  },
  {
   "cell_type": "code",
   "execution_count": 7,
   "metadata": {
    "ExecuteTime": {
     "end_time": "2021-07-25T12:18:50.824330Z",
     "start_time": "2021-07-25T12:18:50.818797Z"
    }
   },
   "outputs": [
    {
     "data": {
      "text/plain": [
       "array(['NO', '<30'], dtype=object)"
      ]
     },
     "execution_count": 7,
     "metadata": {},
     "output_type": "execute_result"
    }
   ],
   "source": [
    "y_test.unique()"
   ]
  },
  {
   "cell_type": "code",
   "execution_count": 8,
   "metadata": {
    "ExecuteTime": {
     "end_time": "2021-07-25T12:18:51.226278Z",
     "start_time": "2021-07-25T12:18:50.828535Z"
    }
   },
   "outputs": [
    {
     "data": {
      "image/png": "[encoded data removed]",
      "text/plain": [
       "<Figure size 720x720 with 2 Axes>"
      ]
     },
     "metadata": {
      "needs_background": "light"
     },
     "output_type": "display_data"
    }
   ],
   "source": [
    "cm = metrics.confusion_matrix(y_test, y_pred, labels=list(y_test.unique()))\n",
    "cm = cm.astype('float') / cm.sum(axis=1)[:, np.newaxis]\n",
    "\n",
    "plt.figure(figsize=(10,10))\n",
    "sns.heatmap(cm, annot=True, fmt=\".3f\", linewidths=.5, square = True, cmap = 'Blues_r');\n",
    "plt.ylabel('Actual label');\n",
    "plt.xlabel('Predicted label');\n",
    "all_sample_title = 'Accuracy Score: {0}'.format(score)\n",
    "plt.title(all_sample_title, size = 15);"
   ]
  },
  {
   "cell_type": "code",
   "execution_count": 9,
   "metadata": {
    "ExecuteTime": {
     "end_time": "2021-07-25T12:18:51.234222Z",
     "start_time": "2021-07-25T12:18:51.228228Z"
    }
   },
   "outputs": [
    {
     "data": {
      "text/plain": [
       "array([[0.68359621, 0.31640379],\n",
       "       [0.43395562, 0.56604438]])"
      ]
     },
     "execution_count": 9,
     "metadata": {},
     "output_type": "execute_result"
    }
   ],
   "source": [
    "cm = cm.astype('float') / cm.sum(axis=1)[:, np.newaxis]\n",
    "cm"
   ]
  },
  {
   "cell_type": "code",
   "execution_count": 10,
   "metadata": {
    "ExecuteTime": {
     "end_time": "2021-07-25T12:18:52.456513Z",
     "start_time": "2021-07-25T12:18:51.236230Z"
    }
   },
   "outputs": [
    {
     "name": "stdout",
     "output_type": "stream",
     "text": [
      "Accuracy: 0.670\n",
      "              precision    recall  f1-score   support\n",
      "\n",
      "         <30       0.19      0.57      0.28      2839\n",
      "          NO       0.92      0.68      0.79     22190\n",
      "\n",
      "    accuracy                           0.67     25029\n",
      "   macro avg       0.56      0.62      0.53     25029\n",
      "weighted avg       0.84      0.67      0.73     25029\n",
      "\n"
     ]
    }
   ],
   "source": [
    "print(\"Accuracy: %.3f\"% metrics.accuracy_score(y_test, y_pred))\n",
    "print(metrics.classification_report(y_test, y_pred))"
   ]
  },
  {
   "cell_type": "code",
   "execution_count": 11,
   "metadata": {
    "ExecuteTime": {
     "end_time": "2021-07-25T12:18:52.462337Z",
     "start_time": "2021-07-25T12:18:52.458547Z"
    }
   },
   "outputs": [
    {
     "data": {
      "text/plain": [
       "(1, 317)"
      ]
     },
     "execution_count": 11,
     "metadata": {},
     "output_type": "execute_result"
    }
   ],
   "source": [
    "lrmodel.coef_.shape"
   ]
  },
  {
   "cell_type": "markdown",
   "metadata": {},
   "source": [
    "## Get the coefficients:"
   ]
  },
  {
   "cell_type": "code",
   "execution_count": 12,
   "metadata": {
    "ExecuteTime": {
     "end_time": "2021-07-25T12:18:52.468197Z",
     "start_time": "2021-07-25T12:18:52.464253Z"
    }
   },
   "outputs": [],
   "source": [
    "coefficients = pd.DataFrame({\"Feature\":x_train.columns,\"Coefficients\":np.transpose(lrmodel.coef_[0,])})"
   ]
  },
  {
   "cell_type": "code",
   "execution_count": 13,
   "metadata": {
    "ExecuteTime": {
     "end_time": "2021-07-25T12:18:52.474049Z",
     "start_time": "2021-07-25T12:18:52.470071Z"
    }
   },
   "outputs": [],
   "source": [
    "coefficients['abs_val_coef'] = coefficients.Coefficients.abs()"
   ]
  },
  {
   "cell_type": "code",
   "execution_count": 14,
   "metadata": {
    "ExecuteTime": {
     "end_time": "2021-07-25T12:18:52.490626Z",
     "start_time": "2021-07-25T12:18:52.476157Z"
    }
   },
   "outputs": [
    {
     "data": {
      "text/html": [
       "<div>\n",
       "<style scoped>\n",
       "    .dataframe tbody tr th:only-of-type {\n",
       "        vertical-align: middle;\n",
       "    }\n",
       "\n",
       "    .dataframe tbody tr th {\n",
       "        vertical-align: top;\n",
       "    }\n",
       "\n",
       "    .dataframe thead th {\n",
       "        text-align: right;\n",
       "    }\n",
       "</style>\n",
       "<table border=\"1\" class=\"dataframe\">\n",
       "  <thead>\n",
       "    <tr style=\"text-align: right;\">\n",
       "      <th></th>\n",
       "      <th>Feature</th>\n",
       "      <th>Coefficients</th>\n",
       "      <th>abs_val_coef</th>\n",
       "    </tr>\n",
       "  </thead>\n",
       "  <tbody>\n",
       "    <tr>\n",
       "      <th>61</th>\n",
       "      <td>discharge_disposition_id_Hospice / home</td>\n",
       "      <td>1.750175</td>\n",
       "      <td>1.750175</td>\n",
       "    </tr>\n",
       "    <tr>\n",
       "      <th>49</th>\n",
       "      <td>discharge_disposition_id_Discharged/transferre...</td>\n",
       "      <td>-1.508944</td>\n",
       "      <td>1.508944</td>\n",
       "    </tr>\n",
       "    <tr>\n",
       "      <th>58</th>\n",
       "      <td>discharge_disposition_id_Discharged/transferre...</td>\n",
       "      <td>-1.494286</td>\n",
       "      <td>1.494286</td>\n",
       "    </tr>\n",
       "    <tr>\n",
       "      <th>118</th>\n",
       "      <td>medical_specialty_Hematology</td>\n",
       "      <td>-1.389276</td>\n",
       "      <td>1.389276</td>\n",
       "    </tr>\n",
       "    <tr>\n",
       "      <th>216</th>\n",
       "      <td>diag_3_Complications Of Pregnancy, Childbirth,...</td>\n",
       "      <td>1.126632</td>\n",
       "      <td>1.126632</td>\n",
       "    </tr>\n",
       "    <tr>\n",
       "      <th>196</th>\n",
       "      <td>diag_2_Complications Of Pregnancy, Childbirth,...</td>\n",
       "      <td>1.075358</td>\n",
       "      <td>1.075358</td>\n",
       "    </tr>\n",
       "    <tr>\n",
       "      <th>134</th>\n",
       "      <td>medical_specialty_Otolaryngology</td>\n",
       "      <td>1.014054</td>\n",
       "      <td>1.014054</td>\n",
       "    </tr>\n",
       "    <tr>\n",
       "      <th>53</th>\n",
       "      <td>discharge_disposition_id_Discharged/transferre...</td>\n",
       "      <td>-1.006723</td>\n",
       "      <td>1.006723</td>\n",
       "    </tr>\n",
       "    <tr>\n",
       "      <th>141</th>\n",
       "      <td>medical_specialty_Pediatrics-Endocrinology</td>\n",
       "      <td>0.981267</td>\n",
       "      <td>0.981267</td>\n",
       "    </tr>\n",
       "    <tr>\n",
       "      <th>62</th>\n",
       "      <td>discharge_disposition_id_Hospice / medical fac...</td>\n",
       "      <td>0.947778</td>\n",
       "      <td>0.947778</td>\n",
       "    </tr>\n",
       "  </tbody>\n",
       "</table>\n",
       "</div>"
      ],
      "text/plain": [
       "                                               Feature  Coefficients  \\\n",
       "61             discharge_disposition_id_Hospice / home      1.750175   \n",
       "49   discharge_disposition_id_Discharged/transferre...     -1.508944   \n",
       "58   discharge_disposition_id_Discharged/transferre...     -1.494286   \n",
       "118                       medical_specialty_Hematology     -1.389276   \n",
       "216  diag_3_Complications Of Pregnancy, Childbirth,...      1.126632   \n",
       "196  diag_2_Complications Of Pregnancy, Childbirth,...      1.075358   \n",
       "134                   medical_specialty_Otolaryngology      1.014054   \n",
       "53   discharge_disposition_id_Discharged/transferre...     -1.006723   \n",
       "141         medical_specialty_Pediatrics-Endocrinology      0.981267   \n",
       "62   discharge_disposition_id_Hospice / medical fac...      0.947778   \n",
       "\n",
       "     abs_val_coef  \n",
       "61       1.750175  \n",
       "49       1.508944  \n",
       "58       1.494286  \n",
       "118      1.389276  \n",
       "216      1.126632  \n",
       "196      1.075358  \n",
       "134      1.014054  \n",
       "53       1.006723  \n",
       "141      0.981267  \n",
       "62       0.947778  "
      ]
     },
     "execution_count": 14,
     "metadata": {},
     "output_type": "execute_result"
    }
   ],
   "source": [
    "coefficients.sort_values(by=['abs_val_coef'], ascending=False).head(10)"
   ]
  },
  {
   "cell_type": "markdown",
   "metadata": {
    "ExecuteTime": {
     "start_time": "2018-05-08T20:09:58.740Z"
    }
   },
   "source": [
    "## Grid search Logistic Regression:"
   ]
  },
  {
   "cell_type": "code",
   "execution_count": 15,
   "metadata": {
    "ExecuteTime": {
     "end_time": "2021-07-25T12:18:52.495280Z",
     "start_time": "2021-07-25T12:18:52.492648Z"
    }
   },
   "outputs": [],
   "source": [
    "# list(np.arange(0.0, 10.0, 0.1))"
   ]
  },
  {
   "cell_type": "code",
   "execution_count": 16,
   "metadata": {
    "ExecuteTime": {
     "end_time": "2021-07-25T12:18:52.502037Z",
     "start_time": "2021-07-25T12:18:52.497320Z"
    }
   },
   "outputs": [
    {
     "name": "stdout",
     "output_type": "stream",
     "text": [
      "testing values of C: [0.1, 0.30000000000000004, 0.5000000000000001, 0.7000000000000001, 0.9000000000000001, 1.1000000000000003, 1.3000000000000003, 1.5000000000000004, 1.7000000000000004, 1.9000000000000004, 2.1000000000000005, 2.3000000000000007, 2.5000000000000004, 2.7000000000000006, 2.900000000000001, 3.1000000000000005, 3.3000000000000007, 3.500000000000001, 3.7000000000000006, 3.900000000000001, 4.1000000000000005, 4.300000000000001, 4.500000000000001, 4.7, 4.9, 5.1000000000000005]\n"
     ]
    }
   ],
   "source": [
    "# define the parameter values that should be searched\n",
    "C_range = list(np.arange(0.1, 5.2, 0.2))\n",
    "print(f\"testing values of C: {C_range}\")\n",
    "\n",
    "# Logistic regression defaults to L2 normalization\n",
    "\n",
    "# create a parameter grid: map the parameter names to the values that should be searched \n",
    "param_grid = dict(C=C_range)\n",
    "\n",
    "# instantiate the grid\n",
    "grid = GridSearchCV(lrmodel, param_grid, cv=5, scoring='f1_macro', n_jobs=-1)"
   ]
  },
  {
   "cell_type": "code",
   "execution_count": 17,
   "metadata": {
    "ExecuteTime": {
     "end_time": "2021-07-25T12:20:57.721544Z",
     "start_time": "2021-07-25T12:18:52.504168Z"
    }
   },
   "outputs": [
    {
     "name": "stderr",
     "output_type": "stream",
     "text": [
      "/usr/local/anaconda3/lib/python3.7/site-packages/joblib/externals/loky/process_executor.py:706: UserWarning: A worker stopped while some jobs were given to the executor. This can be caused by a too short worker timeout or by a memory leak.\n",
      "  \"timeout or by a memory leak.\", UserWarning\n",
      "/usr/local/anaconda3/lib/python3.7/site-packages/sklearn/linear_model/_logistic.py:940: ConvergenceWarning: lbfgs failed to converge (status=1):\n",
      "STOP: TOTAL NO. of ITERATIONS REACHED LIMIT.\n",
      "\n",
      "Increase the number of iterations (max_iter) or scale the data as shown in:\n",
      "    https://scikit-learn.org/stable/modules/preprocessing.html\n",
      "Please also refer to the documentation for alternative solver options:\n",
      "    https://scikit-learn.org/stable/modules/linear_model.html#logistic-regression\n",
      "  extra_warning_msg=_LOGISTIC_SOLVER_CONVERGENCE_MSG)\n"
     ]
    }
   ],
   "source": [
    "# fit the grid with data \n",
    "grid.fit(x_train, y_train);"
   ]
  },
  {
   "cell_type": "code",
   "execution_count": 18,
   "metadata": {
    "ExecuteTime": {
     "end_time": "2021-07-25T12:20:57.738517Z",
     "start_time": "2021-07-25T12:20:57.724385Z"
    }
   },
   "outputs": [
    {
     "data": {
      "text/plain": [
       "{'mean_fit_time': array([10.65380592, 10.6126194 , 10.39031701, 10.18648119, 10.17440667,\n",
       "        10.38902926, 10.63782706, 10.61398916, 10.79053621, 10.49296846,\n",
       "        10.54726992, 10.5582828 , 10.47963719, 10.62003789, 10.45378795,\n",
       "        10.86197209, 10.91907597, 11.01838484, 11.17087007, 10.80050297,\n",
       "        10.6886466 , 10.71587329, 10.72065959, 10.7770422 ,  8.73774238,\n",
       "         7.64653211]),\n",
       " 'std_fit_time': array([0.14800072, 0.14223578, 0.37594546, 0.11294156, 0.1444248 ,\n",
       "        0.16760347, 0.10583314, 0.23252936, 0.16027968, 0.25235559,\n",
       "        0.12743481, 0.12276896, 0.20955047, 0.08958301, 0.12674261,\n",
       "        0.22395904, 0.13390933, 0.29349469, 0.2184719 , 0.18520161,\n",
       "        0.14716836, 0.16032241, 0.1427443 , 0.10092195, 0.30770193,\n",
       "        0.62130994]),\n",
       " 'mean_score_time': array([0.34717717, 0.34981208, 0.3091548 , 0.29223723, 0.28246155,\n",
       "        0.30764074, 0.31668024, 0.33294277, 0.3350421 , 0.31744671,\n",
       "        0.31342015, 0.31533475, 0.35217543, 0.34291162, 0.33604922,\n",
       "        0.37505121, 0.37531285, 0.37197452, 0.45176749, 0.364396  ,\n",
       "        0.36673779, 0.35515161, 0.3231708 , 0.38227396, 0.28135195,\n",
       "        0.20271382]),\n",
       " 'std_score_time': array([0.0175845 , 0.02168621, 0.0437289 , 0.01145197, 0.01253436,\n",
       "        0.00598003, 0.00541572, 0.02674618, 0.01604813, 0.01212953,\n",
       "        0.00835717, 0.01177581, 0.00587237, 0.011628  , 0.01685157,\n",
       "        0.0302232 , 0.03363791, 0.03957595, 0.05043557, 0.04863817,\n",
       "        0.0223422 , 0.01474975, 0.0407577 , 0.01992541, 0.05003484,\n",
       "        0.02075311]),\n",
       " 'param_C': masked_array(data=[0.1, 0.30000000000000004, 0.5000000000000001,\n",
       "                    0.7000000000000001, 0.9000000000000001,\n",
       "                    1.1000000000000003, 1.3000000000000003,\n",
       "                    1.5000000000000004, 1.7000000000000004,\n",
       "                    1.9000000000000004, 2.1000000000000005,\n",
       "                    2.3000000000000007, 2.5000000000000004,\n",
       "                    2.7000000000000006, 2.900000000000001,\n",
       "                    3.1000000000000005, 3.3000000000000007,\n",
       "                    3.500000000000001, 3.7000000000000006,\n",
       "                    3.900000000000001, 4.1000000000000005,\n",
       "                    4.300000000000001, 4.500000000000001, 4.7, 4.9,\n",
       "                    5.1000000000000005],\n",
       "              mask=[False, False, False, False, False, False, False, False,\n",
       "                    False, False, False, False, False, False, False, False,\n",
       "                    False, False, False, False, False, False, False, False,\n",
       "                    False, False],\n",
       "        fill_value='?',\n",
       "             dtype=object),\n",
       " 'params': [{'C': 0.1},\n",
       "  {'C': 0.30000000000000004},\n",
       "  {'C': 0.5000000000000001},\n",
       "  {'C': 0.7000000000000001},\n",
       "  {'C': 0.9000000000000001},\n",
       "  {'C': 1.1000000000000003},\n",
       "  {'C': 1.3000000000000003},\n",
       "  {'C': 1.5000000000000004},\n",
       "  {'C': 1.7000000000000004},\n",
       "  {'C': 1.9000000000000004},\n",
       "  {'C': 2.1000000000000005},\n",
       "  {'C': 2.3000000000000007},\n",
       "  {'C': 2.5000000000000004},\n",
       "  {'C': 2.7000000000000006},\n",
       "  {'C': 2.900000000000001},\n",
       "  {'C': 3.1000000000000005},\n",
       "  {'C': 3.3000000000000007},\n",
       "  {'C': 3.500000000000001},\n",
       "  {'C': 3.7000000000000006},\n",
       "  {'C': 3.900000000000001},\n",
       "  {'C': 4.1000000000000005},\n",
       "  {'C': 4.300000000000001},\n",
       "  {'C': 4.500000000000001},\n",
       "  {'C': 4.7},\n",
       "  {'C': 4.9},\n",
       "  {'C': 5.1000000000000005}],\n",
       " 'split0_test_score': array([0.52669205, 0.52542933, 0.52446516, 0.52585613, 0.52667362,\n",
       "        0.52579701, 0.52697276, 0.52422852, 0.5249676 , 0.52512216,\n",
       "        0.52405238, 0.52636242, 0.52511237, 0.52446742, 0.5249676 ,\n",
       "        0.52533981, 0.52520199, 0.52566604, 0.52542933, 0.52532976,\n",
       "        0.52584298, 0.525398  , 0.52548816, 0.52561314, 0.52441193,\n",
       "        0.52505155]),\n",
       " 'split1_test_score': array([0.52542829, 0.52463759, 0.52385171, 0.52434659, 0.52312924,\n",
       "        0.52406604, 0.52448347, 0.5250382 , 0.52363473, 0.52421654,\n",
       "        0.52327754, 0.52428835, 0.52445139, 0.52330879, 0.52436012,\n",
       "        0.52422712, 0.52389342, 0.52364889, 0.52618821, 0.52445512,\n",
       "        0.52534405, 0.52354364, 0.52307398, 0.5252727 , 0.52552685,\n",
       "        0.52473195]),\n",
       " 'split2_test_score': array([0.52855559, 0.52915901, 0.52887574, 0.52905403, 0.52817046,\n",
       "        0.52680383, 0.52863516, 0.5282592 , 0.52850942, 0.52867434,\n",
       "        0.52947641, 0.52888745, 0.5283122 , 0.52837388, 0.52794331,\n",
       "        0.528925  , 0.52984952, 0.5274857 , 0.52805994, 0.52806379,\n",
       "        0.52853945, 0.52840446, 0.52896812, 0.52917076, 0.52815973,\n",
       "        0.52857472]),\n",
       " 'split3_test_score': array([0.53005447, 0.53087288, 0.528818  , 0.52960229, 0.52984681,\n",
       "        0.52966205, 0.5308266 , 0.53045212, 0.53113719, 0.52975443,\n",
       "        0.53017897, 0.53058192, 0.53012407, 0.52974998, 0.52991096,\n",
       "        0.53072523, 0.53080856, 0.53096547, 0.5311325 , 0.52932068,\n",
       "        0.53165131, 0.53029987, 0.52988856, 0.53075755, 0.53111696,\n",
       "        0.52904857]),\n",
       " 'split4_test_score': array([0.52830544, 0.52940992, 0.52939488, 0.52709224, 0.5288822 ,\n",
       "        0.52810218, 0.52817996, 0.52828397, 0.52827931, 0.52869305,\n",
       "        0.52788734, 0.52843365, 0.5284037 , 0.52727574, 0.53002823,\n",
       "        0.52948219, 0.52824661, 0.52915851, 0.52966543, 0.5286078 ,\n",
       "        0.52804205, 0.52863369, 0.52814813, 0.52846798, 0.5290546 ,\n",
       "        0.52875895]),\n",
       " 'mean_test_score': array([0.52780717, 0.52790175, 0.5270811 , 0.52719026, 0.52734047,\n",
       "        0.52688622, 0.52781959, 0.5272524 , 0.52730565, 0.5272921 ,\n",
       "        0.52697453, 0.52771076, 0.52728075, 0.52663516, 0.52744204,\n",
       "        0.52773987, 0.52760002, 0.52738492, 0.52809508, 0.52715543,\n",
       "        0.52788397, 0.52725593, 0.52711339, 0.52785643, 0.52765401,\n",
       "        0.52723315]),\n",
       " 'std_test_score': array([0.00159758, 0.00242695, 0.00240263, 0.00195793, 0.00234635,\n",
       "        0.0019147 , 0.0020825 , 0.00229619, 0.00268402, 0.00219563,\n",
       "        0.0028131 , 0.00217631, 0.00215019, 0.00240414, 0.002394  ,\n",
       "        0.00250808, 0.00265565, 0.00256471, 0.00211828, 0.00191037,\n",
       "        0.00224785, 0.00243787, 0.00249682, 0.00210836, 0.00241848,\n",
       "        0.00192036]),\n",
       " 'rank_test_score': array([ 6,  2, 23, 20, 13, 25,  5, 18, 14, 15, 24,  8, 16, 26, 11,  7, 10,\n",
       "        12,  1, 21,  3, 17, 22,  4,  9, 19], dtype=int32)}"
      ]
     },
     "execution_count": 18,
     "metadata": {},
     "output_type": "execute_result"
    }
   ],
   "source": [
    "# view the complete results (list of named tuples)\n",
    "# grid.grid_scores_ # old name for this function\n",
    "grid.cv_results_"
   ]
  },
  {
   "cell_type": "code",
   "execution_count": 19,
   "metadata": {
    "ExecuteTime": {
     "end_time": "2021-07-25T12:20:57.748403Z",
     "start_time": "2021-07-25T12:20:57.741511Z"
    }
   },
   "outputs": [
    {
     "name": "stdout",
     "output_type": "stream",
     "text": [
      "0.5280950807096318\n",
      "{'C': 3.7000000000000006}\n",
      "LogisticRegression(C=3.7000000000000006, class_weight='balanced', dual=False,\n",
      "                   fit_intercept=True, intercept_scaling=1, l1_ratio=None,\n",
      "                   max_iter=100, multi_class='auto', n_jobs=None, penalty='l2',\n",
      "                   random_state=None, solver='lbfgs', tol=0.0001, verbose=0,\n",
      "                   warm_start=False)\n"
     ]
    }
   ],
   "source": [
    "# examine the best model\n",
    "print(grid.best_score_)\n",
    "print(grid.best_params_)\n",
    "print(grid.best_estimator_)"
   ]
  },
  {
   "cell_type": "markdown",
   "metadata": {},
   "source": [
    "## Plot precision-recall curve:"
   ]
  },
  {
   "cell_type": "code",
   "execution_count": 20,
   "metadata": {
    "ExecuteTime": {
     "end_time": "2021-07-25T12:20:58.188646Z",
     "start_time": "2021-07-25T12:20:57.751626Z"
    }
   },
   "outputs": [
    {
     "data": {
      "text/plain": [
       "<matplotlib.legend.Legend at 0x7facf18259b0>"
      ]
     },
     "execution_count": 20,
     "metadata": {},
     "output_type": "execute_result"
    },
    {
     "data": {
      "image/png": "[encoded data removed]",
      "text/plain": [
       "<Figure size 432x288 with 1 Axes>"
      ]
     },
     "metadata": {
      "needs_background": "light"
     },
     "output_type": "display_data"
    }
   ],
   "source": [
    "from sklearn.metrics import precision_recall_curve\n",
    "\n",
    "y_test_num = y_test.copy()\n",
    "y_test_num = y_test_num.replace('NO', 0)\n",
    "y_test_num = y_test_num.replace('<30', 1)\n",
    "\n",
    "model = lrmodel\n",
    "\n",
    "y_score = model.predict_proba(x_test)[:, 1]\n",
    "p, r, t = precision_recall_curve(y_test_num, y_score)\n",
    "# adding last threshold of 1. to threshold list\n",
    "t = np.concatenate((t, np.array([1.])))\n",
    "\n",
    "plt.plot(t, p, label='precision')\n",
    "plt.plot(t, r, label='recall')\n",
    "plt.title('Precision Recall Curve')\n",
    "plt.legend()"
   ]
  },
  {
   "cell_type": "markdown",
   "metadata": {},
   "source": [
    "## Random undersampling:"
   ]
  },
  {
   "cell_type": "code",
   "execution_count": 21,
   "metadata": {
    "ExecuteTime": {
     "end_time": "2021-07-25T12:20:58.667798Z",
     "start_time": "2021-07-25T12:20:58.190638Z"
    }
   },
   "outputs": [
    {
     "name": "stderr",
     "output_type": "stream",
     "text": [
      "/usr/local/anaconda3/lib/python3.7/site-packages/sklearn/utils/deprecation.py:87: FutureWarning: Function safe_indexing is deprecated; safe_indexing is deprecated in version 0.22 and will be removed in version 0.24.\n",
      "  warnings.warn(msg, category=FutureWarning)\n"
     ]
    }
   ],
   "source": [
    "rus = RandomUnderSampler(random_state=0)\n",
    "x_train_undersampled, y_train_undersampled = rus.fit_sample(x_train, y_train)"
   ]
  },
  {
   "cell_type": "code",
   "execution_count": 22,
   "metadata": {
    "ExecuteTime": {
     "end_time": "2021-07-25T12:20:59.188163Z",
     "start_time": "2021-07-25T12:20:58.671253Z"
    }
   },
   "outputs": [
    {
     "name": "stderr",
     "output_type": "stream",
     "text": [
      "/usr/local/anaconda3/lib/python3.7/site-packages/sklearn/linear_model/_logistic.py:940: ConvergenceWarning: lbfgs failed to converge (status=1):\n",
      "STOP: TOTAL NO. of ITERATIONS REACHED LIMIT.\n",
      "\n",
      "Increase the number of iterations (max_iter) or scale the data as shown in:\n",
      "    https://scikit-learn.org/stable/modules/preprocessing.html\n",
      "Please also refer to the documentation for alternative solver options:\n",
      "    https://scikit-learn.org/stable/modules/linear_model.html#logistic-regression\n",
      "  extra_warning_msg=_LOGISTIC_SOLVER_CONVERGENCE_MSG)\n"
     ]
    },
    {
     "data": {
      "text/plain": [
       "LogisticRegression(C=1.0, class_weight='balanced', dual=False,\n",
       "                   fit_intercept=True, intercept_scaling=1, l1_ratio=None,\n",
       "                   max_iter=100, multi_class='auto', n_jobs=None, penalty='l2',\n",
       "                   random_state=None, solver='lbfgs', tol=0.0001, verbose=0,\n",
       "                   warm_start=False)"
      ]
     },
     "execution_count": 22,
     "metadata": {},
     "output_type": "execute_result"
    }
   ],
   "source": [
    "lrmodel.fit(x_train_undersampled, y_train_undersampled)"
   ]
  },
  {
   "cell_type": "code",
   "execution_count": 23,
   "metadata": {
    "ExecuteTime": {
     "end_time": "2021-07-25T12:21:00.459774Z",
     "start_time": "2021-07-25T12:20:59.190812Z"
    }
   },
   "outputs": [
    {
     "name": "stdout",
     "output_type": "stream",
     "text": [
      "              precision    recall  f1-score   support\n",
      "\n",
      "         <30       0.18      0.58      0.28      2839\n",
      "          NO       0.93      0.67      0.78     22190\n",
      "\n",
      "    accuracy                           0.66     25029\n",
      "   macro avg       0.55      0.62      0.53     25029\n",
      "weighted avg       0.84      0.66      0.72     25029\n",
      "\n"
     ]
    }
   ],
   "source": [
    "# Predict on test\n",
    "y_pred = lrmodel.predict(x_test)\n",
    "print(metrics.classification_report(y_test, y_pred))"
   ]
  },
  {
   "cell_type": "markdown",
   "metadata": {
    "ExecuteTime": {
     "end_time": "2021-07-25T12:12:50.605388Z",
     "start_time": "2021-07-25T12:11:17.368Z"
    }
   },
   "source": [
    "## Grid search tuning of C for random undersampling:"
   ]
  },
  {
   "cell_type": "code",
   "execution_count": 24,
   "metadata": {
    "ExecuteTime": {
     "end_time": "2021-07-25T12:21:00.466562Z",
     "start_time": "2021-07-25T12:21:00.461801Z"
    }
   },
   "outputs": [
    {
     "name": "stdout",
     "output_type": "stream",
     "text": [
      "testing values of C: [0.1, 0.30000000000000004, 0.5000000000000001, 0.7000000000000001, 0.9000000000000001, 1.1000000000000003, 1.3000000000000003, 1.5000000000000004, 1.7000000000000004, 1.9000000000000004, 2.1000000000000005, 2.3000000000000007, 2.5000000000000004, 2.7000000000000006, 2.900000000000001, 3.1000000000000005, 3.3000000000000007, 3.500000000000001, 3.7000000000000006, 3.900000000000001, 4.1000000000000005, 4.300000000000001, 4.500000000000001, 4.7, 4.9, 5.1000000000000005]\n"
     ]
    }
   ],
   "source": [
    "# define the parameter values that should be searched\n",
    "C_range = list(np.arange(0.1, 5.2, 0.2))\n",
    "print(f\"testing values of C: {C_range}\")\n",
    "\n",
    "# Logistic regression defaults to L2 normalization\n",
    "\n",
    "# create a parameter grid: map the parameter names to the values that should be searched \n",
    "param_grid = dict(C=C_range)\n",
    "\n",
    "# instantiate the grid\n",
    "grid = GridSearchCV(lrmodel, param_grid, cv=3, scoring='f1_macro', n_jobs=-1)"
   ]
  },
  {
   "cell_type": "code",
   "execution_count": 25,
   "metadata": {
    "ExecuteTime": {
     "end_time": "2021-07-25T12:21:14.939121Z",
     "start_time": "2021-07-25T12:21:00.474924Z"
    }
   },
   "outputs": [
    {
     "name": "stderr",
     "output_type": "stream",
     "text": [
      "/usr/local/anaconda3/lib/python3.7/site-packages/sklearn/linear_model/_logistic.py:940: ConvergenceWarning: lbfgs failed to converge (status=1):\n",
      "STOP: TOTAL NO. of ITERATIONS REACHED LIMIT.\n",
      "\n",
      "Increase the number of iterations (max_iter) or scale the data as shown in:\n",
      "    https://scikit-learn.org/stable/modules/preprocessing.html\n",
      "Please also refer to the documentation for alternative solver options:\n",
      "    https://scikit-learn.org/stable/modules/linear_model.html#logistic-regression\n",
      "  extra_warning_msg=_LOGISTIC_SOLVER_CONVERGENCE_MSG)\n"
     ]
    }
   ],
   "source": [
    "# fit the grid with data \n",
    "grid.fit(x_train_undersampled, y_train_undersampled);"
   ]
  },
  {
   "cell_type": "code",
   "execution_count": 26,
   "metadata": {
    "ExecuteTime": {
     "end_time": "2021-07-25T12:21:14.949803Z",
     "start_time": "2021-07-25T12:21:14.943966Z"
    }
   },
   "outputs": [
    {
     "name": "stdout",
     "output_type": "stream",
     "text": [
      "0.6087679700134987\n",
      "{'C': 0.30000000000000004}\n",
      "LogisticRegression(C=0.30000000000000004, class_weight='balanced', dual=False,\n",
      "                   fit_intercept=True, intercept_scaling=1, l1_ratio=None,\n",
      "                   max_iter=100, multi_class='auto', n_jobs=None, penalty='l2',\n",
      "                   random_state=None, solver='lbfgs', tol=0.0001, verbose=0,\n",
      "                   warm_start=False)\n"
     ]
    }
   ],
   "source": [
    "# examine the best model\n",
    "print(grid.best_score_)\n",
    "print(grid.best_params_)\n",
    "print(grid.best_estimator_)"
   ]
  },
  {
   "cell_type": "code",
   "execution_count": 27,
   "metadata": {
    "ExecuteTime": {
     "end_time": "2021-07-25T12:21:16.700953Z",
     "start_time": "2021-07-25T12:21:14.953305Z"
    }
   },
   "outputs": [
    {
     "name": "stderr",
     "output_type": "stream",
     "text": [
      "/usr/local/anaconda3/lib/python3.7/site-packages/sklearn/linear_model/_logistic.py:940: ConvergenceWarning: lbfgs failed to converge (status=1):\n",
      "STOP: TOTAL NO. of ITERATIONS REACHED LIMIT.\n",
      "\n",
      "Increase the number of iterations (max_iter) or scale the data as shown in:\n",
      "    https://scikit-learn.org/stable/modules/preprocessing.html\n",
      "Please also refer to the documentation for alternative solver options:\n",
      "    https://scikit-learn.org/stable/modules/linear_model.html#logistic-regression\n",
      "  extra_warning_msg=_LOGISTIC_SOLVER_CONVERGENCE_MSG)\n"
     ]
    },
    {
     "name": "stdout",
     "output_type": "stream",
     "text": [
      "              precision    recall  f1-score   support\n",
      "\n",
      "         <30       0.19      0.58      0.28      2839\n",
      "          NO       0.93      0.67      0.78     22190\n",
      "\n",
      "    accuracy                           0.66     25029\n",
      "   macro avg       0.56      0.63      0.53     25029\n",
      "weighted avg       0.84      0.66      0.72     25029\n",
      "\n"
     ]
    }
   ],
   "source": [
    "lrmodel = grid.best_estimator_\n",
    "lrmodel.fit(x_train_undersampled, y_train_undersampled)\n",
    "# Predict on test\n",
    "y_pred = lrmodel.predict(x_test)\n",
    "\n",
    "print(metrics.classification_report(y_test, y_pred))"
   ]
  },
  {
   "cell_type": "markdown",
   "metadata": {},
   "source": [
    "## Get the coefficients:"
   ]
  },
  {
   "cell_type": "code",
   "execution_count": 29,
   "metadata": {
    "ExecuteTime": {
     "end_time": "2021-07-25T12:23:50.290597Z",
     "start_time": "2021-07-25T12:23:50.286535Z"
    }
   },
   "outputs": [],
   "source": [
    "coefficients = pd.DataFrame({\"Feature\":x_train.columns,\"Coefficients\":np.transpose(lrmodel.coef_[0,])})"
   ]
  },
  {
   "cell_type": "code",
   "execution_count": 30,
   "metadata": {
    "ExecuteTime": {
     "end_time": "2021-07-25T12:23:51.084239Z",
     "start_time": "2021-07-25T12:23:51.079946Z"
    }
   },
   "outputs": [],
   "source": [
    "coefficients['abs_val_coef'] = coefficients.Coefficients.abs()"
   ]
  },
  {
   "cell_type": "code",
   "execution_count": 31,
   "metadata": {
    "ExecuteTime": {
     "end_time": "2021-07-25T12:23:51.311338Z",
     "start_time": "2021-07-25T12:23:51.299824Z"
    },
    "scrolled": true
   },
   "outputs": [
    {
     "data": {
      "text/html": [
       "<div>\n",
       "<style scoped>\n",
       "    .dataframe tbody tr th:only-of-type {\n",
       "        vertical-align: middle;\n",
       "    }\n",
       "\n",
       "    .dataframe tbody tr th {\n",
       "        vertical-align: top;\n",
       "    }\n",
       "\n",
       "    .dataframe thead th {\n",
       "        text-align: right;\n",
       "    }\n",
       "</style>\n",
       "<table border=\"1\" class=\"dataframe\">\n",
       "  <thead>\n",
       "    <tr style=\"text-align: right;\">\n",
       "      <th></th>\n",
       "      <th>Feature</th>\n",
       "      <th>Coefficients</th>\n",
       "      <th>abs_val_coef</th>\n",
       "    </tr>\n",
       "  </thead>\n",
       "  <tbody>\n",
       "    <tr>\n",
       "      <th>61</th>\n",
       "      <td>discharge_disposition_id_Hospice / home</td>\n",
       "      <td>1.097108</td>\n",
       "      <td>1.097108</td>\n",
       "    </tr>\n",
       "    <tr>\n",
       "      <th>49</th>\n",
       "      <td>discharge_disposition_id_Discharged/transferre...</td>\n",
       "      <td>-1.070155</td>\n",
       "      <td>1.070155</td>\n",
       "    </tr>\n",
       "    <tr>\n",
       "      <th>53</th>\n",
       "      <td>discharge_disposition_id_Discharged/transferre...</td>\n",
       "      <td>-1.054416</td>\n",
       "      <td>1.054416</td>\n",
       "    </tr>\n",
       "    <tr>\n",
       "      <th>58</th>\n",
       "      <td>discharge_disposition_id_Discharged/transferre...</td>\n",
       "      <td>-0.781946</td>\n",
       "      <td>0.781946</td>\n",
       "    </tr>\n",
       "    <tr>\n",
       "      <th>62</th>\n",
       "      <td>discharge_disposition_id_Hospice / medical fac...</td>\n",
       "      <td>0.736354</td>\n",
       "      <td>0.736354</td>\n",
       "    </tr>\n",
       "    <tr>\n",
       "      <th>55</th>\n",
       "      <td>discharge_disposition_id_Discharged/transferre...</td>\n",
       "      <td>-0.699101</td>\n",
       "      <td>0.699101</td>\n",
       "    </tr>\n",
       "    <tr>\n",
       "      <th>118</th>\n",
       "      <td>medical_specialty_Hematology</td>\n",
       "      <td>-0.695105</td>\n",
       "      <td>0.695105</td>\n",
       "    </tr>\n",
       "    <tr>\n",
       "      <th>50</th>\n",
       "      <td>discharge_disposition_id_Discharged/transferre...</td>\n",
       "      <td>0.642474</td>\n",
       "      <td>0.642474</td>\n",
       "    </tr>\n",
       "    <tr>\n",
       "      <th>141</th>\n",
       "      <td>medical_specialty_Pediatrics-Endocrinology</td>\n",
       "      <td>0.636529</td>\n",
       "      <td>0.636529</td>\n",
       "    </tr>\n",
       "    <tr>\n",
       "      <th>163</th>\n",
       "      <td>medical_specialty_Surgery-Cardiovascular</td>\n",
       "      <td>0.623612</td>\n",
       "      <td>0.623612</td>\n",
       "    </tr>\n",
       "  </tbody>\n",
       "</table>\n",
       "</div>"
      ],
      "text/plain": [
       "                                               Feature  Coefficients  \\\n",
       "61             discharge_disposition_id_Hospice / home      1.097108   \n",
       "49   discharge_disposition_id_Discharged/transferre...     -1.070155   \n",
       "53   discharge_disposition_id_Discharged/transferre...     -1.054416   \n",
       "58   discharge_disposition_id_Discharged/transferre...     -0.781946   \n",
       "62   discharge_disposition_id_Hospice / medical fac...      0.736354   \n",
       "55   discharge_disposition_id_Discharged/transferre...     -0.699101   \n",
       "118                       medical_specialty_Hematology     -0.695105   \n",
       "50   discharge_disposition_id_Discharged/transferre...      0.642474   \n",
       "141         medical_specialty_Pediatrics-Endocrinology      0.636529   \n",
       "163           medical_specialty_Surgery-Cardiovascular      0.623612   \n",
       "\n",
       "     abs_val_coef  \n",
       "61       1.097108  \n",
       "49       1.070155  \n",
       "53       1.054416  \n",
       "58       0.781946  \n",
       "62       0.736354  \n",
       "55       0.699101  \n",
       "118      0.695105  \n",
       "50       0.642474  \n",
       "141      0.636529  \n",
       "163      0.623612  "
      ]
     },
     "execution_count": 31,
     "metadata": {},
     "output_type": "execute_result"
    }
   ],
   "source": [
    "coefficients.sort_values(by=['abs_val_coef'], ascending=False).head(10)"
   ]
  },
  {
   "cell_type": "markdown",
   "metadata": {},
   "source": [
    "## Polynomial features:"
   ]
  },
  {
   "cell_type": "code",
   "execution_count": 32,
   "metadata": {
    "ExecuteTime": {
     "end_time": "2021-07-25T12:23:58.466012Z",
     "start_time": "2021-07-25T12:23:52.495592Z"
    }
   },
   "outputs": [],
   "source": [
    "poly = preprocessing.PolynomialFeatures(2, interaction_only=True)\n",
    "x_train_poly_undersampled = poly.fit_transform(x_train_undersampled)"
   ]
  },
  {
   "cell_type": "code",
   "execution_count": 33,
   "metadata": {
    "ExecuteTime": {
     "end_time": "2021-07-25T12:23:58.472229Z",
     "start_time": "2021-07-25T12:23:58.468333Z"
    }
   },
   "outputs": [
    {
     "data": {
      "text/plain": [
       "(17036, 50404)"
      ]
     },
     "execution_count": 33,
     "metadata": {},
     "output_type": "execute_result"
    }
   ],
   "source": [
    "x_train_poly_undersampled.shape"
   ]
  },
  {
   "cell_type": "code",
   "execution_count": 34,
   "metadata": {
    "ExecuteTime": {
     "end_time": "2021-07-25T12:24:07.789895Z",
     "start_time": "2021-07-25T12:23:58.475000Z"
    }
   },
   "outputs": [],
   "source": [
    "x_test_poly_undersampled = poly.transform(x_test)"
   ]
  },
  {
   "cell_type": "code",
   "execution_count": 35,
   "metadata": {
    "ExecuteTime": {
     "end_time": "2021-07-25T12:24:44.458592Z",
     "start_time": "2021-07-25T12:24:07.792529Z"
    }
   },
   "outputs": [
    {
     "name": "stderr",
     "output_type": "stream",
     "text": [
      "/usr/local/anaconda3/lib/python3.7/site-packages/sklearn/linear_model/_logistic.py:940: ConvergenceWarning: lbfgs failed to converge (status=1):\n",
      "STOP: TOTAL NO. of ITERATIONS REACHED LIMIT.\n",
      "\n",
      "Increase the number of iterations (max_iter) or scale the data as shown in:\n",
      "    https://scikit-learn.org/stable/modules/preprocessing.html\n",
      "Please also refer to the documentation for alternative solver options:\n",
      "    https://scikit-learn.org/stable/modules/linear_model.html#logistic-regression\n",
      "  extra_warning_msg=_LOGISTIC_SOLVER_CONVERGENCE_MSG)\n"
     ]
    },
    {
     "data": {
      "text/plain": [
       "LogisticRegression(C=0.01, class_weight=None, dual=False, fit_intercept=True,\n",
       "                   intercept_scaling=1, l1_ratio=None, max_iter=100,\n",
       "                   multi_class='auto', n_jobs=None, penalty='l2',\n",
       "                   random_state=None, solver='lbfgs', tol=0.0001, verbose=0,\n",
       "                   warm_start=False)"
      ]
     },
     "execution_count": 35,
     "metadata": {},
     "output_type": "execute_result"
    }
   ],
   "source": [
    "lrmodel = linear_model.LogisticRegression(C=0.01) # increasing regularization due to polynomial features\n",
    "\n",
    "lrmodel.fit(x_train_poly_undersampled, y_train_undersampled)"
   ]
  },
  {
   "cell_type": "code",
   "execution_count": 36,
   "metadata": {
    "ExecuteTime": {
     "end_time": "2021-07-25T12:24:46.768759Z",
     "start_time": "2021-07-25T12:24:44.461144Z"
    }
   },
   "outputs": [
    {
     "name": "stdout",
     "output_type": "stream",
     "text": [
      "              precision    recall  f1-score   support\n",
      "\n",
      "         <30       0.17      0.59      0.27      2839\n",
      "          NO       0.92      0.64      0.75     22190\n",
      "\n",
      "    accuracy                           0.63     25029\n",
      "   macro avg       0.55      0.61      0.51     25029\n",
      "weighted avg       0.84      0.63      0.70     25029\n",
      "\n"
     ]
    }
   ],
   "source": [
    "# Predict on test\n",
    "y_pred = lrmodel.predict(x_test_poly_undersampled)\n",
    "\n",
    "print(metrics.classification_report(y_test, y_pred))"
   ]
  },
  {
   "cell_type": "markdown",
   "metadata": {},
   "source": [
    "## Get the coefficients:"
   ]
  },
  {
   "cell_type": "code",
   "execution_count": 38,
   "metadata": {
    "ExecuteTime": {
     "end_time": "2021-07-25T12:24:51.746803Z",
     "start_time": "2021-07-25T12:24:50.560428Z"
    }
   },
   "outputs": [
    {
     "data": {
      "text/html": [
       "<div>\n",
       "<style scoped>\n",
       "    .dataframe tbody tr th:only-of-type {\n",
       "        vertical-align: middle;\n",
       "    }\n",
       "\n",
       "    .dataframe tbody tr th {\n",
       "        vertical-align: top;\n",
       "    }\n",
       "\n",
       "    .dataframe thead th {\n",
       "        text-align: right;\n",
       "    }\n",
       "</style>\n",
       "<table border=\"1\" class=\"dataframe\">\n",
       "  <thead>\n",
       "    <tr style=\"text-align: right;\">\n",
       "      <th></th>\n",
       "      <th>Feature</th>\n",
       "      <th>Coefficients</th>\n",
       "      <th>abs_val_coef</th>\n",
       "    </tr>\n",
       "  </thead>\n",
       "  <tbody>\n",
       "    <tr>\n",
       "      <th>371</th>\n",
       "      <td>time_in_hospital discharge_disposition_id_Disc...</td>\n",
       "      <td>-0.212142</td>\n",
       "      <td>0.212142</td>\n",
       "    </tr>\n",
       "    <tr>\n",
       "      <th>1974</th>\n",
       "      <td>number_emergency payer_code_HM</td>\n",
       "      <td>-0.175270</td>\n",
       "      <td>0.175270</td>\n",
       "    </tr>\n",
       "    <tr>\n",
       "      <th>16077</th>\n",
       "      <td>discharge_disposition_id_Discharged/transferre...</td>\n",
       "      <td>0.148421</td>\n",
       "      <td>0.148421</td>\n",
       "    </tr>\n",
       "    <tr>\n",
       "      <th>1129</th>\n",
       "      <td>num_procedures diag_1_Diseases Of The Genitour...</td>\n",
       "      <td>-0.147806</td>\n",
       "      <td>0.147806</td>\n",
       "    </tr>\n",
       "    <tr>\n",
       "      <th>16860</th>\n",
       "      <td>discharge_disposition_id_Discharged/transferre...</td>\n",
       "      <td>0.146285</td>\n",
       "      <td>0.146285</td>\n",
       "    </tr>\n",
       "    <tr>\n",
       "      <th>1000</th>\n",
       "      <td>num_procedures discharge_disposition_id_Discha...</td>\n",
       "      <td>0.136372</td>\n",
       "      <td>0.136372</td>\n",
       "    </tr>\n",
       "    <tr>\n",
       "      <th>527</th>\n",
       "      <td>time_in_hospital diag_2_Neoplasms</td>\n",
       "      <td>0.129712</td>\n",
       "      <td>0.129712</td>\n",
       "    </tr>\n",
       "    <tr>\n",
       "      <th>1772</th>\n",
       "      <td>number_outpatient diag_2_Diseases Of The Diges...</td>\n",
       "      <td>0.126632</td>\n",
       "      <td>0.126632</td>\n",
       "    </tr>\n",
       "    <tr>\n",
       "      <th>2554</th>\n",
       "      <td>number_diagnoses discharge_disposition_id_Disc...</td>\n",
       "      <td>0.126348</td>\n",
       "      <td>0.126348</td>\n",
       "    </tr>\n",
       "    <tr>\n",
       "      <th>43648</th>\n",
       "      <td>diag_2_Diseases Of The Circulatory System diag...</td>\n",
       "      <td>0.125063</td>\n",
       "      <td>0.125063</td>\n",
       "    </tr>\n",
       "  </tbody>\n",
       "</table>\n",
       "</div>"
      ],
      "text/plain": [
       "                                                 Feature  Coefficients  \\\n",
       "371    time_in_hospital discharge_disposition_id_Disc...     -0.212142   \n",
       "1974                      number_emergency payer_code_HM     -0.175270   \n",
       "16077  discharge_disposition_id_Discharged/transferre...      0.148421   \n",
       "1129   num_procedures diag_1_Diseases Of The Genitour...     -0.147806   \n",
       "16860  discharge_disposition_id_Discharged/transferre...      0.146285   \n",
       "1000   num_procedures discharge_disposition_id_Discha...      0.136372   \n",
       "527                    time_in_hospital diag_2_Neoplasms      0.129712   \n",
       "1772   number_outpatient diag_2_Diseases Of The Diges...      0.126632   \n",
       "2554   number_diagnoses discharge_disposition_id_Disc...      0.126348   \n",
       "43648  diag_2_Diseases Of The Circulatory System diag...      0.125063   \n",
       "\n",
       "       abs_val_coef  \n",
       "371        0.212142  \n",
       "1974       0.175270  \n",
       "16077      0.148421  \n",
       "1129       0.147806  \n",
       "16860      0.146285  \n",
       "1000       0.136372  \n",
       "527        0.129712  \n",
       "1772       0.126632  \n",
       "2554       0.126348  \n",
       "43648      0.125063  "
      ]
     },
     "execution_count": 38,
     "metadata": {},
     "output_type": "execute_result"
    }
   ],
   "source": [
    "coefficients = pd.DataFrame({\"Feature\":list(poly.get_feature_names(x_train.columns)),\n",
    "                             \"Coefficients\":np.transpose(lrmodel.coef_[0,])})\n",
    "\n",
    "coefficients['abs_val_coef'] = coefficients.Coefficients.abs()\n",
    "\n",
    "coefficients.sort_values(by=['abs_val_coef'], ascending=False).head(10)"
   ]
  },
  {
   "cell_type": "markdown",
   "metadata": {},
   "source": [
    "## Logistic with SMOTE:"
   ]
  },
  {
   "cell_type": "code",
   "execution_count": 39,
   "metadata": {
    "ExecuteTime": {
     "end_time": "2021-07-25T12:25:25.350923Z",
     "start_time": "2021-07-25T12:24:51.749139Z"
    }
   },
   "outputs": [
    {
     "name": "stderr",
     "output_type": "stream",
     "text": [
      "/usr/local/anaconda3/lib/python3.7/site-packages/sklearn/utils/deprecation.py:87: FutureWarning: Function safe_indexing is deprecated; safe_indexing is deprecated in version 0.22 and will be removed in version 0.24.\n",
      "  warnings.warn(msg, category=FutureWarning)\n"
     ]
    }
   ],
   "source": [
    "sm = SMOTE(random_state=42)\n",
    "x_train_smote, y_train_smote = sm.fit_sample(x_train, y_train)"
   ]
  },
  {
   "cell_type": "code",
   "execution_count": 40,
   "metadata": {
    "ExecuteTime": {
     "end_time": "2021-07-25T12:25:25.356567Z",
     "start_time": "2021-07-25T12:25:25.353907Z"
    }
   },
   "outputs": [],
   "source": [
    "# sns.countplot(y_test)"
   ]
  },
  {
   "cell_type": "code",
   "execution_count": 41,
   "metadata": {
    "ExecuteTime": {
     "end_time": "2021-07-25T12:25:25.362888Z",
     "start_time": "2021-07-25T12:25:25.359990Z"
    }
   },
   "outputs": [],
   "source": [
    "# sns.countplot(y_train_smote)"
   ]
  },
  {
   "cell_type": "code",
   "execution_count": 42,
   "metadata": {
    "ExecuteTime": {
     "end_time": "2021-07-25T12:25:28.397058Z",
     "start_time": "2021-07-25T12:25:25.365847Z"
    }
   },
   "outputs": [
    {
     "name": "stderr",
     "output_type": "stream",
     "text": [
      "/usr/local/anaconda3/lib/python3.7/site-packages/sklearn/linear_model/_logistic.py:940: ConvergenceWarning: lbfgs failed to converge (status=1):\n",
      "STOP: TOTAL NO. of ITERATIONS REACHED LIMIT.\n",
      "\n",
      "Increase the number of iterations (max_iter) or scale the data as shown in:\n",
      "    https://scikit-learn.org/stable/modules/preprocessing.html\n",
      "Please also refer to the documentation for alternative solver options:\n",
      "    https://scikit-learn.org/stable/modules/linear_model.html#logistic-regression\n",
      "  extra_warning_msg=_LOGISTIC_SOLVER_CONVERGENCE_MSG)\n"
     ]
    },
    {
     "data": {
      "text/plain": [
       "LogisticRegression(C=1, class_weight=None, dual=False, fit_intercept=True,\n",
       "                   intercept_scaling=1, l1_ratio=None, max_iter=100,\n",
       "                   multi_class='auto', n_jobs=None, penalty='l2',\n",
       "                   random_state=None, solver='lbfgs', tol=0.0001, verbose=0,\n",
       "                   warm_start=False)"
      ]
     },
     "execution_count": 42,
     "metadata": {},
     "output_type": "execute_result"
    }
   ],
   "source": [
    "lrmodel = linear_model.LogisticRegression(C=1)\n",
    "lrmodel.fit(x_train_smote, y_train_smote)"
   ]
  },
  {
   "cell_type": "code",
   "execution_count": 43,
   "metadata": {
    "ExecuteTime": {
     "end_time": "2021-07-25T12:25:29.612101Z",
     "start_time": "2021-07-25T12:25:28.399575Z"
    }
   },
   "outputs": [
    {
     "name": "stdout",
     "output_type": "stream",
     "text": [
      "              precision    recall  f1-score   support\n",
      "\n",
      "         <30       0.17      0.57      0.27      2839\n",
      "          NO       0.92      0.65      0.76     22190\n",
      "\n",
      "    accuracy                           0.64     25029\n",
      "   macro avg       0.55      0.61      0.52     25029\n",
      "weighted avg       0.84      0.64      0.71     25029\n",
      "\n"
     ]
    }
   ],
   "source": [
    "# Predict on test\n",
    "y_pred = lrmodel.predict(x_test)\n",
    "print(metrics.classification_report(y_test, y_pred))"
   ]
  },
  {
   "cell_type": "markdown",
   "metadata": {},
   "source": [
    "## Get the coefficients:"
   ]
  },
  {
   "cell_type": "code",
   "execution_count": 44,
   "metadata": {
    "ExecuteTime": {
     "end_time": "2021-07-25T12:25:29.629266Z",
     "start_time": "2021-07-25T12:25:29.615481Z"
    }
   },
   "outputs": [
    {
     "data": {
      "text/html": [
       "<div>\n",
       "<style scoped>\n",
       "    .dataframe tbody tr th:only-of-type {\n",
       "        vertical-align: middle;\n",
       "    }\n",
       "\n",
       "    .dataframe tbody tr th {\n",
       "        vertical-align: top;\n",
       "    }\n",
       "\n",
       "    .dataframe thead th {\n",
       "        text-align: right;\n",
       "    }\n",
       "</style>\n",
       "<table border=\"1\" class=\"dataframe\">\n",
       "  <thead>\n",
       "    <tr style=\"text-align: right;\">\n",
       "      <th></th>\n",
       "      <th>Feature</th>\n",
       "      <th>Coefficients</th>\n",
       "      <th>abs_val_coef</th>\n",
       "    </tr>\n",
       "  </thead>\n",
       "  <tbody>\n",
       "    <tr>\n",
       "      <th>61</th>\n",
       "      <td>discharge_disposition_id_Hospice / home</td>\n",
       "      <td>2.035973</td>\n",
       "      <td>2.035973</td>\n",
       "    </tr>\n",
       "    <tr>\n",
       "      <th>58</th>\n",
       "      <td>discharge_disposition_id_Discharged/transferre...</td>\n",
       "      <td>-1.682194</td>\n",
       "      <td>1.682194</td>\n",
       "    </tr>\n",
       "    <tr>\n",
       "      <th>49</th>\n",
       "      <td>discharge_disposition_id_Discharged/transferre...</td>\n",
       "      <td>-1.590913</td>\n",
       "      <td>1.590913</td>\n",
       "    </tr>\n",
       "    <tr>\n",
       "      <th>62</th>\n",
       "      <td>discharge_disposition_id_Hospice / medical fac...</td>\n",
       "      <td>1.446880</td>\n",
       "      <td>1.446880</td>\n",
       "    </tr>\n",
       "    <tr>\n",
       "      <th>196</th>\n",
       "      <td>diag_2_Complications Of Pregnancy, Childbirth,...</td>\n",
       "      <td>1.376889</td>\n",
       "      <td>1.376889</td>\n",
       "    </tr>\n",
       "    <tr>\n",
       "      <th>53</th>\n",
       "      <td>discharge_disposition_id_Discharged/transferre...</td>\n",
       "      <td>-1.233454</td>\n",
       "      <td>1.233454</td>\n",
       "    </tr>\n",
       "    <tr>\n",
       "      <th>118</th>\n",
       "      <td>medical_specialty_Hematology</td>\n",
       "      <td>-1.209279</td>\n",
       "      <td>1.209279</td>\n",
       "    </tr>\n",
       "    <tr>\n",
       "      <th>216</th>\n",
       "      <td>diag_3_Complications Of Pregnancy, Childbirth,...</td>\n",
       "      <td>1.118615</td>\n",
       "      <td>1.118615</td>\n",
       "    </tr>\n",
       "    <tr>\n",
       "      <th>134</th>\n",
       "      <td>medical_specialty_Otolaryngology</td>\n",
       "      <td>1.056595</td>\n",
       "      <td>1.056595</td>\n",
       "    </tr>\n",
       "    <tr>\n",
       "      <th>50</th>\n",
       "      <td>discharge_disposition_id_Discharged/transferre...</td>\n",
       "      <td>1.022799</td>\n",
       "      <td>1.022799</td>\n",
       "    </tr>\n",
       "  </tbody>\n",
       "</table>\n",
       "</div>"
      ],
      "text/plain": [
       "                                               Feature  Coefficients  \\\n",
       "61             discharge_disposition_id_Hospice / home      2.035973   \n",
       "58   discharge_disposition_id_Discharged/transferre...     -1.682194   \n",
       "49   discharge_disposition_id_Discharged/transferre...     -1.590913   \n",
       "62   discharge_disposition_id_Hospice / medical fac...      1.446880   \n",
       "196  diag_2_Complications Of Pregnancy, Childbirth,...      1.376889   \n",
       "53   discharge_disposition_id_Discharged/transferre...     -1.233454   \n",
       "118                       medical_specialty_Hematology     -1.209279   \n",
       "216  diag_3_Complications Of Pregnancy, Childbirth,...      1.118615   \n",
       "134                   medical_specialty_Otolaryngology      1.056595   \n",
       "50   discharge_disposition_id_Discharged/transferre...      1.022799   \n",
       "\n",
       "     abs_val_coef  \n",
       "61       2.035973  \n",
       "58       1.682194  \n",
       "49       1.590913  \n",
       "62       1.446880  \n",
       "196      1.376889  \n",
       "53       1.233454  \n",
       "118      1.209279  \n",
       "216      1.118615  \n",
       "134      1.056595  \n",
       "50       1.022799  "
      ]
     },
     "execution_count": 44,
     "metadata": {},
     "output_type": "execute_result"
    }
   ],
   "source": [
    "coefficients = pd.DataFrame({\"Feature\":x_train.columns,\"Coefficients\":np.transpose(lrmodel.coef_[0,])})\n",
    "\n",
    "coefficients['abs_val_coef'] = coefficients.Coefficients.abs()\n",
    "\n",
    "coefficients.sort_values(by=['abs_val_coef'], ascending=False).head(10)"
   ]
  },
  {
   "cell_type": "code",
   "execution_count": null,
   "metadata": {},
   "outputs": [],
   "source": []
  }
 ],
 "metadata": {
  "kernelspec": {
   "display_name": "Python 3",
   "language": "python",
   "name": "python3"
  },
  "language_info": {
   "codemirror_mode": {
    "name": "ipython",
    "version": 3
   },
   "file_extension": ".py",
   "mimetype": "text/x-python",
   "name": "python",
   "nbconvert_exporter": "python",
   "pygments_lexer": "ipython3",
   "version": "3.7.3"
  }
 },
 "nbformat": 4,
 "nbformat_minor": 2
}
