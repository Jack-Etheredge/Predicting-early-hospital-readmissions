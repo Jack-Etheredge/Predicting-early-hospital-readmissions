{
 "cells": [
  {
   "cell_type": "code",
   "execution_count": 1,
   "metadata": {
    "ExecuteTime": {
     "end_time": "2018-05-11T01:06:23.716500Z",
     "start_time": "2018-05-11T01:06:22.262267Z"
    }
   },
   "outputs": [],
   "source": [
    "%matplotlib inline\n",
    "import matplotlib.cm as cm\n",
    "import random\n",
    "\n",
    "# Import tree stuff:\n",
    "from sklearn.tree import DecisionTreeClassifier\n",
    "from sklearn.tree import DecisionTreeRegressor\n",
    "from sklearn.ensemble import RandomForestClassifier\n",
    "from sklearn.ensemble import RandomForestRegressor\n",
    "from sklearn.ensemble import ExtraTreesClassifier\n",
    "from sklearn.ensemble import AdaBoostClassifier\n",
    "\n",
    "import pandas as pd\n",
    "import patsy as patsy\n",
    "import numpy as np\n",
    "import matplotlib.pyplot as plt\n",
    "import seaborn as sns\n",
    "\n",
    "from sklearn.model_selection import train_test_split\n",
    "from sklearn import preprocessing\n",
    "\n",
    "# SMOTE\n",
    "from imblearn.over_sampling import SMOTE\n",
    "\n",
    "# Undersampling\n",
    "from imblearn.under_sampling import RandomUnderSampler\n",
    "\n",
    "# Import other models:\n",
    "from sklearn import linear_model\n",
    "from sklearn.linear_model import LogisticRegression\n",
    "from sklearn.neighbors import KNeighborsClassifier\n",
    "from sklearn.svm import LinearSVC\n",
    "from sklearn.svm import SVC\n",
    "\n",
    "# Bagging:\n",
    "from sklearn.ensemble import BaggingClassifier\n",
    "\n",
    "# Searching hyperparameters and cross-validating\n",
    "from sklearn.model_selection import cross_val_score\n",
    "from sklearn.model_selection import GridSearchCV\n",
    "from sklearn.model_selection import RandomizedSearchCV\n",
    "\n",
    "from sklearn import metrics\n",
    "\n",
    "import pickle"
   ]
  },
  {
   "cell_type": "code",
   "execution_count": 2,
   "metadata": {
    "ExecuteTime": {
     "end_time": "2018-05-11T01:09:53.147319Z",
     "start_time": "2018-05-11T01:09:52.811781Z"
    }
   },
   "outputs": [],
   "source": [
    "with open(\"x_liv.pkl\", 'rb') as picklefile: \n",
    "    x_liv = pickle.load(picklefile)\n",
    "\n",
    "with open(\"y_liv.pkl\", 'rb') as picklefile: \n",
    "    y_liv = pickle.load(picklefile)"
   ]
  },
  {
   "cell_type": "code",
   "execution_count": 3,
   "metadata": {
    "ExecuteTime": {
     "end_time": "2018-05-11T01:09:54.701724Z",
     "start_time": "2018-05-11T01:09:53.300583Z"
    }
   },
   "outputs": [],
   "source": [
    "with open(\"y_train_liv.pkl\", 'rb') as picklefile: \n",
    "    y_train_liv = pickle.load(picklefile)\n",
    "\n",
    "with open(\"y_test_liv.pkl\", 'rb') as picklefile: \n",
    "    y_test_liv = pickle.load(picklefile)\n",
    "\n",
    "with open(\"x_train_liv.pkl\", 'rb') as picklefile: \n",
    "    x_train_liv = pickle.load(picklefile)\n",
    "\n",
    "with open(\"x_test_liv.pkl\", 'rb') as picklefile: \n",
    "    x_test_liv = pickle.load(picklefile)\n",
    "\n",
    "with open(\"x_train_scaled_liv.pkl\", 'rb') as picklefile: \n",
    "    x_train_scaled_liv = pickle.load(picklefile)\n",
    "\n",
    "with open(\"x_test_scaled_liv.pkl\", 'rb') as picklefile: \n",
    "    x_test_scaled_liv = pickle.load(picklefile)\n",
    "    \n",
    "with open(\"x_scaled_liv.pkl\", 'rb') as picklefile: \n",
    "    x_scaled_liv = pickle.load(picklefile)\n",
    "\n",
    "with open(\"patientdataICD9_liv.pkl\", 'rb') as picklefile: \n",
    "    patientdataICD9_liv = pickle.load(picklefile)"
   ]
  },
  {
   "cell_type": "code",
   "execution_count": 4,
   "metadata": {
    "ExecuteTime": {
     "end_time": "2018-05-11T01:13:35.478511Z",
     "start_time": "2018-05-11T01:13:35.475583Z"
    }
   },
   "outputs": [],
   "source": [
    "x_train = x_train_liv\n",
    "y_train = y_train_liv\n",
    "x_test = x_test_liv\n",
    "y_test = y_test_liv\n",
    "x = x_liv\n",
    "y = y_liv"
   ]
  },
  {
   "cell_type": "code",
   "execution_count": 6,
   "metadata": {
    "ExecuteTime": {
     "end_time": "2018-05-09T19:03:47.698912Z",
     "start_time": "2018-05-09T19:03:45.709016Z"
    }
   },
   "outputs": [],
   "source": [
    "# pulling these in from pickle now\n",
    "\n",
    "# x_train, x_test, y_train, y_test = train_test_split(x, y, test_size=0.25, random_state=42, stratify=y)"
   ]
  },
  {
   "cell_type": "code",
   "execution_count": 4,
   "metadata": {
    "ExecuteTime": {
     "end_time": "2018-05-10T01:11:04.388101Z",
     "start_time": "2018-05-10T01:11:04.384726Z"
    }
   },
   "outputs": [],
   "source": [
    "def quick_test(model, X, y):\n",
    "    xtrain, xtest, ytrain, ytest = train_test_split(X, y, test_size=0.3)\n",
    "    model.fit(xtrain, ytrain)\n",
    "    return model.score(xtest, ytest)\n",
    "\n",
    "def quick_test_afew_times(model, X, y, n=10):\n",
    "    return np.mean([quick_test(model, X, y) for j in range(n)])\n",
    "\n",
    "#linearsvc = LinearSVC()\n",
    "# Do the test 10 times with a LinearSVC and get the average score\n",
    "#quick_test_afew_times(linearsvc, X, y1)"
   ]
  },
  {
   "cell_type": "markdown",
   "metadata": {},
   "source": [
    "#### Decision tree and random forest:"
   ]
  },
  {
   "cell_type": "code",
   "execution_count": 5,
   "metadata": {
    "ExecuteTime": {
     "end_time": "2018-05-10T01:11:14.790573Z",
     "start_time": "2018-05-10T01:11:05.583230Z"
    }
   },
   "outputs": [
    {
     "data": {
      "text/plain": [
       "0.5653226334752702"
      ]
     },
     "execution_count": 5,
     "metadata": {},
     "output_type": "execute_result"
    }
   ],
   "source": [
    "decisiontree = DecisionTreeClassifier(max_depth=2)\n",
    "quick_test_afew_times(decisiontree, x, y)\n",
    "\n",
    "# using x train and x test with x that had been scaled before test-train split:\n",
    "# 0.5664330167048804"
   ]
  },
  {
   "cell_type": "code",
   "execution_count": 6,
   "metadata": {
    "ExecuteTime": {
     "end_time": "2018-05-10T01:11:44.592222Z",
     "start_time": "2018-05-10T01:11:14.792769Z"
    }
   },
   "outputs": [
    {
     "data": {
      "text/plain": [
       "0.5442875859810022"
      ]
     },
     "execution_count": 6,
     "metadata": {},
     "output_type": "execute_result"
    }
   ],
   "source": [
    "randomforest = RandomForestClassifier()\n",
    "quick_test_afew_times(randomforest, x, y)\n",
    "\n",
    "# using x train and x test with x that had been scaled before test-train split:\n",
    "# 0.5488994431706519"
   ]
  },
  {
   "cell_type": "code",
   "execution_count": 5,
   "metadata": {
    "ExecuteTime": {
     "end_time": "2018-05-11T01:13:50.748425Z",
     "start_time": "2018-05-11T01:13:47.307170Z"
    }
   },
   "outputs": [
    {
     "name": "stdout",
     "output_type": "stream",
     "text": [
      "Accuracy: 0.538\n",
      "             precision    recall  f1-score   support\n",
      "\n",
      "        <30       0.24      0.07      0.10      2839\n",
      "        >30       0.44      0.45      0.45      8887\n",
      "         NO       0.61      0.70      0.65     13303\n",
      "\n",
      "avg / total       0.51      0.54      0.52     25029\n",
      "\n"
     ]
    }
   ],
   "source": [
    "randomforest = RandomForestClassifier()\n",
    "randomforest.fit(x_train, y_train)\n",
    "randomforest.score(x_test, y_test)\n",
    "y_pred = randomforest.predict(x_test)\n",
    "print(\"Accuracy: %.3f\"% metrics.accuracy_score(y_test, y_pred))\n",
    "print(metrics.classification_report(y_test, y_pred))"
   ]
  },
  {
   "cell_type": "markdown",
   "metadata": {
    "ExecuteTime": {
     "end_time": "2018-05-10T01:12:13.295942Z",
     "start_time": "2018-05-10T01:12:13.293423Z"
    }
   },
   "source": [
    "#### SMOTE:"
   ]
  },
  {
   "cell_type": "code",
   "execution_count": 6,
   "metadata": {
    "ExecuteTime": {
     "end_time": "2018-05-11T01:14:50.310469Z",
     "start_time": "2018-05-11T01:14:16.074364Z"
    }
   },
   "outputs": [],
   "source": [
    "sm = SMOTE(random_state=42)\n",
    "x_train_smote, y_train_smote = sm.fit_sample(x_train, y_train)"
   ]
  },
  {
   "cell_type": "code",
   "execution_count": 7,
   "metadata": {
    "ExecuteTime": {
     "end_time": "2018-05-11T01:14:50.496804Z",
     "start_time": "2018-05-11T01:14:50.312294Z"
    }
   },
   "outputs": [
    {
     "data": {
      "image/png": "[encoded data removed]",
      "text/plain": [
       "<Figure size 432x288 with 1 Axes>"
      ]
     },
     "metadata": {},
     "output_type": "display_data"
    }
   ],
   "source": [
    "sns.countplot(y_train);"
   ]
  },
  {
   "cell_type": "code",
   "execution_count": 8,
   "metadata": {
    "ExecuteTime": {
     "end_time": "2018-05-11T01:14:50.691163Z",
     "start_time": "2018-05-11T01:14:50.498438Z"
    }
   },
   "outputs": [
    {
     "data": {
      "image/png": "[encoded data removed]",
      "text/plain": [
       "<Figure size 432x288 with 1 Axes>"
      ]
     },
     "metadata": {},
     "output_type": "display_data"
    }
   ],
   "source": [
    "sns.countplot(y_train_smote);"
   ]
  },
  {
   "cell_type": "code",
   "execution_count": 9,
   "metadata": {
    "ExecuteTime": {
     "end_time": "2018-05-11T01:14:56.035717Z",
     "start_time": "2018-05-11T01:14:50.693629Z"
    }
   },
   "outputs": [
    {
     "name": "stdout",
     "output_type": "stream",
     "text": [
      "Accuracy: 0.528\n",
      "             precision    recall  f1-score   support\n",
      "\n",
      "        <30       0.22      0.08      0.11      2839\n",
      "        >30       0.44      0.44      0.44      8887\n",
      "         NO       0.60      0.68      0.64     13303\n",
      "\n",
      "avg / total       0.50      0.53      0.51     25029\n",
      "\n"
     ]
    }
   ],
   "source": [
    "randomforest = RandomForestClassifier()\n",
    "randomforest.fit(x_train_smote, y_train_smote)\n",
    "randomforest.score(x_test, y_test)\n",
    "y_pred = randomforest.predict(x_test)\n",
    "print(\"Accuracy: %.3f\"% metrics.accuracy_score(y_test, y_pred))\n",
    "print(metrics.classification_report(y_test, y_pred))"
   ]
  },
  {
   "cell_type": "markdown",
   "metadata": {},
   "source": [
    "#### Undersampling:"
   ]
  },
  {
   "cell_type": "code",
   "execution_count": 10,
   "metadata": {
    "ExecuteTime": {
     "end_time": "2018-05-11T01:14:56.274917Z",
     "start_time": "2018-05-11T01:14:56.037471Z"
    }
   },
   "outputs": [],
   "source": [
    "rus = RandomUnderSampler(random_state=0)\n",
    "x_train_undersampled, y_train_undersampled = rus.fit_sample(x_train, y_train)"
   ]
  },
  {
   "cell_type": "code",
   "execution_count": 11,
   "metadata": {
    "ExecuteTime": {
     "end_time": "2018-05-11T01:14:56.383927Z",
     "start_time": "2018-05-11T01:14:56.276644Z"
    }
   },
   "outputs": [
    {
     "data": {
      "image/png": "[encoded data removed]",
      "text/plain": [
       "<Figure size 432x288 with 1 Axes>"
      ]
     },
     "metadata": {},
     "output_type": "display_data"
    }
   ],
   "source": [
    "sns.countplot(y_train_undersampled);"
   ]
  },
  {
   "cell_type": "code",
   "execution_count": 12,
   "metadata": {
    "ExecuteTime": {
     "end_time": "2018-05-11T01:15:13.082578Z",
     "start_time": "2018-05-11T01:14:56.385536Z"
    }
   },
   "outputs": [
    {
     "name": "stdout",
     "output_type": "stream",
     "text": [
      "Accuracy: 0.482\n",
      "             precision    recall  f1-score   support\n",
      "\n",
      "        <30       0.20      0.48      0.28      2839\n",
      "        >30       0.46      0.37      0.41      8887\n",
      "         NO       0.68      0.55      0.61     13303\n",
      "\n",
      "avg / total       0.54      0.48      0.50     25029\n",
      "\n"
     ]
    }
   ],
   "source": [
    "randomforest = RandomForestClassifier(n_estimators=200)\n",
    "randomforest.fit(x_train_undersampled, y_train_undersampled)\n",
    "randomforest.score(x_test, y_test)\n",
    "y_pred = randomforest.predict(x_test)\n",
    "print(\"Accuracy: %.3f\"% metrics.accuracy_score(y_test, y_pred))\n",
    "print(metrics.classification_report(y_test, y_pred))"
   ]
  },
  {
   "cell_type": "code",
   "execution_count": 13,
   "metadata": {
    "ExecuteTime": {
     "end_time": "2018-05-11T01:15:27.302159Z",
     "start_time": "2018-05-11T01:15:13.084866Z"
    }
   },
   "outputs": [
    {
     "name": "stdout",
     "output_type": "stream",
     "text": [
      "Accuracy: 0.493\n",
      "             precision    recall  f1-score   support\n",
      "\n",
      "        <30       0.20      0.47      0.28      2839\n",
      "        >30       0.47      0.38      0.42      8887\n",
      "         NO       0.68      0.57      0.62     13303\n",
      "\n",
      "avg / total       0.55      0.49      0.51     25029\n",
      "\n"
     ]
    }
   ],
   "source": [
    "randomforest = RandomForestClassifier(n_estimators=200, min_samples_split=10)\n",
    "randomforest.fit(x_train_undersampled, y_train_undersampled)\n",
    "randomforest.score(x_test, y_test)\n",
    "y_pred = randomforest.predict(x_test)\n",
    "print(\"Accuracy: %.3f\"% metrics.accuracy_score(y_test, y_pred))\n",
    "print(metrics.classification_report(y_test, y_pred))"
   ]
  },
  {
   "cell_type": "code",
   "execution_count": 19,
   "metadata": {
    "ExecuteTime": {
     "end_time": "2018-05-10T17:10:21.697288Z",
     "start_time": "2018-05-10T17:10:08.504745Z"
    }
   },
   "outputs": [
    {
     "name": "stdout",
     "output_type": "stream",
     "text": [
      "Accuracy: 0.491\n",
      "             precision    recall  f1-score   support\n",
      "\n",
      "        <30       0.19      0.47      0.27      2839\n",
      "        >30       0.46      0.37      0.41      8887\n",
      "         NO       0.69      0.57      0.63     13716\n",
      "\n",
      "avg / total       0.56      0.49      0.51     25442\n",
      "\n"
     ]
    }
   ],
   "source": [
    "randomforest = RandomForestClassifier(n_estimators=200, min_samples_split=20)\n",
    "randomforest.fit(x_train_undersampled, y_train_undersampled)\n",
    "randomforest.score(x_test, y_test)\n",
    "y_pred = randomforest.predict(x_test)\n",
    "print(\"Accuracy: %.3f\"% metrics.accuracy_score(y_test, y_pred))\n",
    "print(metrics.classification_report(y_test, y_pred))"
   ]
  },
  {
   "cell_type": "code",
   "execution_count": 18,
   "metadata": {
    "ExecuteTime": {
     "end_time": "2018-05-10T17:10:08.502875Z",
     "start_time": "2018-05-10T17:08:59.430462Z"
    }
   },
   "outputs": [
    {
     "name": "stdout",
     "output_type": "stream",
     "text": [
      "Accuracy: 0.492\n",
      "             precision    recall  f1-score   support\n",
      "\n",
      "        <30       0.20      0.48      0.28      2839\n",
      "        >30       0.46      0.38      0.42      8887\n",
      "         NO       0.69      0.57      0.62     13716\n",
      "\n",
      "avg / total       0.55      0.49      0.51     25442\n",
      "\n"
     ]
    }
   ],
   "source": [
    "randomforest = RandomForestClassifier(n_estimators=1000, min_samples_split=10)\n",
    "randomforest.fit(x_train_undersampled, y_train_undersampled)\n",
    "randomforest.score(x_test, y_test)\n",
    "y_pred = randomforest.predict(x_test)\n",
    "print(\"Accuracy: %.3f\"% metrics.accuracy_score(y_test, y_pred))\n",
    "print(metrics.classification_report(y_test, y_pred))"
   ]
  },
  {
   "cell_type": "code",
   "execution_count": null,
   "metadata": {},
   "outputs": [],
   "source": []
  },
  {
   "cell_type": "code",
   "execution_count": 8,
   "metadata": {
    "ExecuteTime": {
     "end_time": "2018-05-10T16:58:29.630948Z",
     "start_time": "2018-05-10T16:58:29.627659Z"
    }
   },
   "outputs": [],
   "source": [
    "# tune random forest hyperparameters\n",
    "# try grid-search CV\n",
    "# try ensembling with the RBF"
   ]
  },
  {
   "cell_type": "code",
   "execution_count": null,
   "metadata": {},
   "outputs": [],
   "source": []
  },
  {
   "cell_type": "code",
   "execution_count": null,
   "metadata": {},
   "outputs": [],
   "source": []
  },
  {
   "cell_type": "code",
   "execution_count": null,
   "metadata": {},
   "outputs": [],
   "source": []
  },
  {
   "cell_type": "markdown",
   "metadata": {
    "ExecuteTime": {
     "end_time": "2018-05-10T18:06:49.685164Z",
     "start_time": "2018-05-10T18:06:49.675374Z"
    }
   },
   "source": [
    "#### Extra-random trees:"
   ]
  },
  {
   "cell_type": "code",
   "execution_count": 14,
   "metadata": {
    "ExecuteTime": {
     "end_time": "2018-05-11T01:15:57.732458Z",
     "start_time": "2018-05-11T01:15:38.219282Z"
    }
   },
   "outputs": [
    {
     "name": "stdout",
     "output_type": "stream",
     "text": [
      "Accuracy: 0.477\n",
      "             precision    recall  f1-score   support\n",
      "\n",
      "        <30       0.19      0.46      0.27      2839\n",
      "        >30       0.46      0.40      0.43      8887\n",
      "         NO       0.68      0.53      0.59     13303\n",
      "\n",
      "avg / total       0.54      0.48      0.50     25029\n",
      "\n"
     ]
    }
   ],
   "source": [
    "extraforest = ExtraTreesClassifier(n_estimators=200, min_samples_split=10)\n",
    "extraforest.fit(x_train_undersampled, y_train_undersampled)\n",
    "extraforest.score(x_test, y_test)\n",
    "y_pred = extraforest.predict(x_test)\n",
    "print(\"Accuracy: %.3f\"% metrics.accuracy_score(y_test, y_pred))\n",
    "print(metrics.classification_report(y_test, y_pred))"
   ]
  },
  {
   "cell_type": "code",
   "execution_count": 23,
   "metadata": {
    "ExecuteTime": {
     "end_time": "2018-05-10T18:11:20.462370Z",
     "start_time": "2018-05-10T18:07:20.358014Z"
    }
   },
   "outputs": [
    {
     "name": "stdout",
     "output_type": "stream",
     "text": [
      "Accuracy: 0.464\n",
      "             precision    recall  f1-score   support\n",
      "\n",
      "        <30       0.18      0.46      0.26      2839\n",
      "        >30       0.44      0.41      0.42      8887\n",
      "         NO       0.68      0.50      0.58     13716\n",
      "\n",
      "avg / total       0.54      0.46      0.49     25442\n",
      "\n"
     ]
    }
   ],
   "source": [
    "extraforest = ExtraTreesClassifier(n_estimators=2000)\n",
    "extraforest.fit(x_train_undersampled, y_train_undersampled)\n",
    "extraforest.score(x_test, y_test)\n",
    "y_pred = extraforest.predict(x_test)\n",
    "print(\"Accuracy: %.3f\"% metrics.accuracy_score(y_test, y_pred))\n",
    "print(metrics.classification_report(y_test, y_pred))"
   ]
  },
  {
   "cell_type": "code",
   "execution_count": null,
   "metadata": {},
   "outputs": [],
   "source": [
    "for n_estimator in range(100, 2000, 100):\n",
    "    extraforest = ExtraTreesClassifier(n_estimators=n_estimator)\n",
    "    extraforest.fit(x_train_undersampled, y_train_undersampled)\n",
    "    extraforest.score(x_test, y_test)\n",
    "    y_pred = extraforest.predict(x_test)\n",
    "    print(\"Number of estimators: %.3f\"% n_estimator)\n",
    "    print(\"Accuracy: %.3f\"% metrics.accuracy_score(y_test, y_pred))\n",
    "    print(metrics.classification_report(y_test, y_pred))"
   ]
  },
  {
   "cell_type": "code",
   "execution_count": null,
   "metadata": {},
   "outputs": [],
   "source": []
  },
  {
   "cell_type": "markdown",
   "metadata": {},
   "source": [
    "#### Boosted trees:"
   ]
  },
  {
   "cell_type": "code",
   "execution_count": 15,
   "metadata": {
    "ExecuteTime": {
     "end_time": "2018-05-11T01:17:35.371111Z",
     "start_time": "2018-05-11T01:15:57.734136Z"
    }
   },
   "outputs": [
    {
     "name": "stdout",
     "output_type": "stream",
     "text": [
      "Accuracy: 0.578\n",
      "             precision    recall  f1-score   support\n",
      "\n",
      "        <30       0.36      0.03      0.06      2839\n",
      "        >30       0.50      0.37      0.42      8887\n",
      "         NO       0.61      0.84      0.70     13303\n",
      "\n",
      "avg / total       0.54      0.58      0.53     25029\n",
      "\n"
     ]
    }
   ],
   "source": [
    "# boosted no resampling\n",
    "\n",
    "boostforest = AdaBoostClassifier(n_estimators=200)\n",
    "boostforest.fit(x_train, y_train)\n",
    "boostforest.score(x_test, y_test)\n",
    "y_pred = boostforest.predict(x_test)\n",
    "print(\"Accuracy: %.3f\"% metrics.accuracy_score(y_test, y_pred))\n",
    "print(metrics.classification_report(y_test, y_pred))"
   ]
  },
  {
   "cell_type": "code",
   "execution_count": 16,
   "metadata": {
    "ExecuteTime": {
     "end_time": "2018-05-11T01:18:01.408698Z",
     "start_time": "2018-05-11T01:17:35.373263Z"
    }
   },
   "outputs": [
    {
     "name": "stdout",
     "output_type": "stream",
     "text": [
      "Accuracy: 0.498\n",
      "             precision    recall  f1-score   support\n",
      "\n",
      "        <30       0.20      0.39      0.27      2839\n",
      "        >30       0.46      0.40      0.43      8887\n",
      "         NO       0.67      0.59      0.62     13303\n",
      "\n",
      "avg / total       0.54      0.50      0.51     25029\n",
      "\n"
     ]
    }
   ],
   "source": [
    "# boosted undersampled\n",
    "\n",
    "boostforest = AdaBoostClassifier(n_estimators=200)\n",
    "boostforest.fit(x_train_undersampled, y_train_undersampled)\n",
    "boostforest.score(x_test, y_test)\n",
    "y_pred = boostforest.predict(x_test)\n",
    "print(\"Accuracy: %.3f\"% metrics.accuracy_score(y_test, y_pred))\n",
    "print(metrics.classification_report(y_test, y_pred))"
   ]
  },
  {
   "cell_type": "code",
   "execution_count": 21,
   "metadata": {
    "ExecuteTime": {
     "end_time": "2018-05-10T17:48:21.193570Z",
     "start_time": "2018-05-10T17:43:46.625127Z"
    }
   },
   "outputs": [
    {
     "name": "stdout",
     "output_type": "stream",
     "text": [
      "Accuracy: 0.496\n",
      "             precision    recall  f1-score   support\n",
      "\n",
      "        <30       0.20      0.42      0.27      2839\n",
      "        >30       0.45      0.41      0.43      8887\n",
      "         NO       0.68      0.57      0.62     13716\n",
      "\n",
      "avg / total       0.55      0.50      0.51     25442\n",
      "\n"
     ]
    }
   ],
   "source": [
    "# boosted undersampled\n",
    "\n",
    "boostforest = AdaBoostClassifier(n_estimators=2000)\n",
    "boostforest.fit(x_train_undersampled, y_train_undersampled)\n",
    "boostforest.score(x_test, y_test)\n",
    "y_pred = boostforest.predict(x_test)\n",
    "print(\"Accuracy: %.3f\"% metrics.accuracy_score(y_test, y_pred))\n",
    "print(metrics.classification_report(y_test, y_pred))"
   ]
  },
  {
   "cell_type": "code",
   "execution_count": 17,
   "metadata": {
    "ExecuteTime": {
     "end_time": "2018-05-10T17:08:59.428646Z",
     "start_time": "2018-05-10T17:05:50.383634Z"
    }
   },
   "outputs": [
    {
     "name": "stdout",
     "output_type": "stream",
     "text": [
      "Accuracy: 0.581\n",
      "             precision    recall  f1-score   support\n",
      "\n",
      "        <30       0.35      0.04      0.07      2839\n",
      "        >30       0.49      0.43      0.45      8887\n",
      "         NO       0.63      0.80      0.70     13716\n",
      "\n",
      "avg / total       0.55      0.58      0.54     25442\n",
      "\n"
     ]
    }
   ],
   "source": [
    "# boosted SMOTE\n",
    "\n",
    "boostforest = AdaBoostClassifier(n_estimators=200)\n",
    "boostforest.fit(x_train_smote, y_train_smote)\n",
    "boostforest.score(x_test, y_test)\n",
    "y_pred = boostforest.predict(x_test)\n",
    "print(\"Accuracy: %.3f\"% metrics.accuracy_score(y_test, y_pred))\n",
    "print(metrics.classification_report(y_test, y_pred))"
   ]
  },
  {
   "cell_type": "code",
   "execution_count": null,
   "metadata": {},
   "outputs": [],
   "source": []
  },
  {
   "cell_type": "markdown",
   "metadata": {},
   "source": [
    "#### Randomized grid search:"
   ]
  },
  {
   "cell_type": "code",
   "execution_count": 4,
   "metadata": {
    "ExecuteTime": {
     "end_time": "2018-05-10T15:56:09.172775Z",
     "start_time": "2018-05-10T15:56:09.168125Z"
    }
   },
   "outputs": [
    {
     "name": "stdout",
     "output_type": "stream",
     "text": [
      "{'n_estimators': [200, 400, 600, 800, 1000, 1200, 1400, 1600, 1800, 2000], 'max_features': ['auto', 'sqrt'], 'max_depth': [10, 20, 30, 40, 50, 60, 70, 80, 90, 100, 110, None], 'min_samples_split': [2, 5, 10], 'min_samples_leaf': [1, 2, 4], 'bootstrap': [True, False]}\n"
     ]
    }
   ],
   "source": [
    "# Number of trees in random forest\n",
    "n_estimators = [int(x) for x in np.linspace(start = 200, stop = 2000, num = 10)]\n",
    "# Number of features to consider at every split\n",
    "max_features = ['auto', 'sqrt']\n",
    "# Maximum number of levels in tree\n",
    "max_depth = [int(x) for x in np.linspace(10, 110, num = 11)]\n",
    "max_depth.append(None)\n",
    "# Minimum number of samples required to split a node\n",
    "min_samples_split = [2, 5, 10]\n",
    "# Minimum number of samples required at each leaf node\n",
    "min_samples_leaf = [1, 2, 4]\n",
    "# Method of selecting samples for training each tree\n",
    "bootstrap = [True, False]\n",
    "# Create the random grid\n",
    "random_grid = {'n_estimators': n_estimators,\n",
    "               'max_features': max_features,\n",
    "               'max_depth': max_depth,\n",
    "               'min_samples_split': min_samples_split,\n",
    "               'min_samples_leaf': min_samples_leaf,\n",
    "               'bootstrap': bootstrap}\n",
    "print(random_grid)"
   ]
  },
  {
   "cell_type": "code",
   "execution_count": null,
   "metadata": {
    "ExecuteTime": {
     "start_time": "2018-05-10T15:56:09.725Z"
    }
   },
   "outputs": [
    {
     "name": "stdout",
     "output_type": "stream",
     "text": [
      "Fitting 3 folds for each of 20 candidates, totalling 60 fits\n",
      "[CV] n_estimators=200, min_samples_split=10, min_samples_leaf=2, max_features=sqrt, max_depth=50, bootstrap=True \n",
      "[CV] n_estimators=200, min_samples_split=10, min_samples_leaf=2, max_features=sqrt, max_depth=50, bootstrap=True \n",
      "[CV] n_estimators=200, min_samples_split=10, min_samples_leaf=2, max_features=sqrt, max_depth=50, bootstrap=True \n",
      "[CV] n_estimators=600, min_samples_split=10, min_samples_leaf=4, max_features=sqrt, max_depth=90, bootstrap=False \n",
      "[CV] n_estimators=600, min_samples_split=10, min_samples_leaf=4, max_features=sqrt, max_depth=90, bootstrap=False \n",
      "[CV] n_estimators=600, min_samples_split=10, min_samples_leaf=4, max_features=sqrt, max_depth=90, bootstrap=False \n",
      "[CV] n_estimators=600, min_samples_split=2, min_samples_leaf=2, max_features=auto, max_depth=60, bootstrap=False \n",
      "[CV] n_estimators=600, min_samples_split=2, min_samples_leaf=2, max_features=auto, max_depth=60, bootstrap=False \n",
      "[CV]  n_estimators=200, min_samples_split=10, min_samples_leaf=2, max_features=sqrt, max_depth=50, bootstrap=True, total= 1.1min\n",
      "[CV] n_estimators=600, min_samples_split=2, min_samples_leaf=2, max_features=auto, max_depth=60, bootstrap=False \n",
      "[CV]  n_estimators=200, min_samples_split=10, min_samples_leaf=2, max_features=sqrt, max_depth=50, bootstrap=True, total= 1.1min\n",
      "[CV]  n_estimators=200, min_samples_split=10, min_samples_leaf=2, max_features=sqrt, max_depth=50, bootstrap=True, total= 1.1min\n",
      "[CV] n_estimators=1400, min_samples_split=5, min_samples_leaf=1, max_features=sqrt, max_depth=30, bootstrap=True \n",
      "[CV] n_estimators=1400, min_samples_split=5, min_samples_leaf=1, max_features=sqrt, max_depth=30, bootstrap=True \n",
      "[CV]  n_estimators=600, min_samples_split=10, min_samples_leaf=4, max_features=sqrt, max_depth=90, bootstrap=False, total= 5.1min\n",
      "[CV] n_estimators=1400, min_samples_split=5, min_samples_leaf=1, max_features=sqrt, max_depth=30, bootstrap=True \n",
      "[CV]  n_estimators=600, min_samples_split=10, min_samples_leaf=4, max_features=sqrt, max_depth=90, bootstrap=False, total= 5.1min\n",
      "[CV] n_estimators=1000, min_samples_split=10, min_samples_leaf=1, max_features=auto, max_depth=80, bootstrap=False \n",
      "[CV]  n_estimators=600, min_samples_split=10, min_samples_leaf=4, max_features=sqrt, max_depth=90, bootstrap=False, total= 5.1min\n",
      "[CV] n_estimators=1000, min_samples_split=10, min_samples_leaf=1, max_features=auto, max_depth=80, bootstrap=False \n",
      "[CV]  n_estimators=600, min_samples_split=2, min_samples_leaf=2, max_features=auto, max_depth=60, bootstrap=False, total= 5.6min\n",
      "[CV]  n_estimators=600, min_samples_split=2, min_samples_leaf=2, max_features=auto, max_depth=60, bootstrap=False, total= 5.6min\n",
      "[CV] n_estimators=1000, min_samples_split=10, min_samples_leaf=1, max_features=auto, max_depth=80, bootstrap=False \n",
      "[CV] n_estimators=400, min_samples_split=10, min_samples_leaf=1, max_features=sqrt, max_depth=60, bootstrap=False \n",
      "[CV]  n_estimators=600, min_samples_split=2, min_samples_leaf=2, max_features=auto, max_depth=60, bootstrap=False, total= 5.6min\n",
      "[CV] n_estimators=400, min_samples_split=10, min_samples_leaf=1, max_features=sqrt, max_depth=60, bootstrap=False \n",
      "[CV]  n_estimators=400, min_samples_split=10, min_samples_leaf=1, max_features=sqrt, max_depth=60, bootstrap=False, total= 3.9min\n",
      "[CV] n_estimators=400, min_samples_split=10, min_samples_leaf=1, max_features=sqrt, max_depth=60, bootstrap=False \n",
      "[CV]  n_estimators=1400, min_samples_split=5, min_samples_leaf=1, max_features=sqrt, max_depth=30, bootstrap=True, total= 8.4min\n",
      "[CV]  n_estimators=1400, min_samples_split=5, min_samples_leaf=1, max_features=sqrt, max_depth=30, bootstrap=True, total= 8.4min\n",
      "[CV] n_estimators=2000, min_samples_split=2, min_samples_leaf=2, max_features=auto, max_depth=50, bootstrap=False \n",
      "[CV] n_estimators=2000, min_samples_split=2, min_samples_leaf=2, max_features=auto, max_depth=50, bootstrap=False \n",
      "[CV]  n_estimators=400, min_samples_split=10, min_samples_leaf=1, max_features=sqrt, max_depth=60, bootstrap=False, total= 3.8min\n",
      "[CV] n_estimators=2000, min_samples_split=2, min_samples_leaf=2, max_features=auto, max_depth=50, bootstrap=False \n",
      "[CV]  n_estimators=400, min_samples_split=10, min_samples_leaf=1, max_features=sqrt, max_depth=60, bootstrap=False, total= 4.0min\n",
      "[CV] n_estimators=200, min_samples_split=5, min_samples_leaf=2, max_features=sqrt, max_depth=10, bootstrap=True \n",
      "[CV]  n_estimators=1400, min_samples_split=5, min_samples_leaf=1, max_features=sqrt, max_depth=30, bootstrap=True, total= 8.5min\n",
      "[CV] n_estimators=200, min_samples_split=5, min_samples_leaf=2, max_features=sqrt, max_depth=10, bootstrap=True \n",
      "[CV]  n_estimators=200, min_samples_split=5, min_samples_leaf=2, max_features=sqrt, max_depth=10, bootstrap=True, total=  40.0s\n",
      "[CV] n_estimators=200, min_samples_split=5, min_samples_leaf=2, max_features=sqrt, max_depth=10, bootstrap=True \n",
      "[CV]  n_estimators=200, min_samples_split=5, min_samples_leaf=2, max_features=sqrt, max_depth=10, bootstrap=True, total=  39.6s\n",
      "[CV] n_estimators=1200, min_samples_split=2, min_samples_leaf=4, max_features=auto, max_depth=100, bootstrap=True \n",
      "[CV]  n_estimators=1000, min_samples_split=10, min_samples_leaf=1, max_features=auto, max_depth=80, bootstrap=False, total= 9.8min\n",
      "[CV] n_estimators=1200, min_samples_split=2, min_samples_leaf=4, max_features=auto, max_depth=100, bootstrap=True \n",
      "[CV]  n_estimators=200, min_samples_split=5, min_samples_leaf=2, max_features=sqrt, max_depth=10, bootstrap=True, total=  38.6s\n",
      "[CV] n_estimators=1200, min_samples_split=2, min_samples_leaf=4, max_features=auto, max_depth=100, bootstrap=True \n",
      "[CV]  n_estimators=1000, min_samples_split=10, min_samples_leaf=1, max_features=auto, max_depth=80, bootstrap=False, total= 9.8min\n",
      "[CV] n_estimators=2000, min_samples_split=5, min_samples_leaf=2, max_features=auto, max_depth=50, bootstrap=True \n",
      "[CV]  n_estimators=1000, min_samples_split=10, min_samples_leaf=1, max_features=auto, max_depth=80, bootstrap=False, total= 9.9min\n",
      "[CV] n_estimators=2000, min_samples_split=5, min_samples_leaf=2, max_features=auto, max_depth=50, bootstrap=True \n",
      "[CV]  n_estimators=1200, min_samples_split=2, min_samples_leaf=4, max_features=auto, max_depth=100, bootstrap=True, total= 6.9min\n",
      "[CV] n_estimators=2000, min_samples_split=5, min_samples_leaf=2, max_features=auto, max_depth=50, bootstrap=True \n",
      "[CV]  n_estimators=1200, min_samples_split=2, min_samples_leaf=4, max_features=auto, max_depth=100, bootstrap=True, total= 6.8min\n",
      "[CV] n_estimators=400, min_samples_split=10, min_samples_leaf=2, max_features=auto, max_depth=20, bootstrap=False \n",
      "[CV]  n_estimators=1200, min_samples_split=2, min_samples_leaf=4, max_features=auto, max_depth=100, bootstrap=True, total= 6.9min\n",
      "[CV] n_estimators=400, min_samples_split=10, min_samples_leaf=2, max_features=auto, max_depth=20, bootstrap=False \n",
      "[CV]  n_estimators=400, min_samples_split=10, min_samples_leaf=2, max_features=auto, max_depth=20, bootstrap=False, total= 2.8min\n",
      "[CV] n_estimators=400, min_samples_split=10, min_samples_leaf=2, max_features=auto, max_depth=20, bootstrap=False \n"
     ]
    },
    {
     "name": "stderr",
     "output_type": "stream",
     "text": [
      "[Parallel(n_jobs=-1)]: Done  25 tasks      | elapsed: 26.4min\n"
     ]
    },
    {
     "name": "stdout",
     "output_type": "stream",
     "text": [
      "[CV]  n_estimators=400, min_samples_split=10, min_samples_leaf=2, max_features=auto, max_depth=20, bootstrap=False, total= 2.8min\n",
      "[CV] n_estimators=800, min_samples_split=2, min_samples_leaf=1, max_features=sqrt, max_depth=20, bootstrap=False \n",
      "[CV]  n_estimators=2000, min_samples_split=5, min_samples_leaf=2, max_features=auto, max_depth=50, bootstrap=True, total=11.9min\n",
      "[CV] n_estimators=800, min_samples_split=2, min_samples_leaf=1, max_features=sqrt, max_depth=20, bootstrap=False \n",
      "[CV]  n_estimators=400, min_samples_split=10, min_samples_leaf=2, max_features=auto, max_depth=20, bootstrap=False, total= 2.7min\n",
      "[CV] n_estimators=800, min_samples_split=2, min_samples_leaf=1, max_features=sqrt, max_depth=20, bootstrap=False \n",
      "[CV]  n_estimators=2000, min_samples_split=5, min_samples_leaf=2, max_features=auto, max_depth=50, bootstrap=True, total=11.9min\n",
      "[CV] n_estimators=1000, min_samples_split=5, min_samples_leaf=1, max_features=sqrt, max_depth=70, bootstrap=True \n",
      "[CV]  n_estimators=2000, min_samples_split=2, min_samples_leaf=2, max_features=auto, max_depth=50, bootstrap=False, total=19.0min\n",
      "[CV]  n_estimators=2000, min_samples_split=2, min_samples_leaf=2, max_features=auto, max_depth=50, bootstrap=False, total=19.0min\n",
      "[CV] n_estimators=1000, min_samples_split=5, min_samples_leaf=1, max_features=sqrt, max_depth=70, bootstrap=True \n",
      "[CV] n_estimators=1000, min_samples_split=5, min_samples_leaf=1, max_features=sqrt, max_depth=70, bootstrap=True \n",
      "[CV]  n_estimators=2000, min_samples_split=2, min_samples_leaf=2, max_features=auto, max_depth=50, bootstrap=False, total=18.8min\n",
      "[CV] n_estimators=1200, min_samples_split=10, min_samples_leaf=2, max_features=sqrt, max_depth=70, bootstrap=False \n",
      "[CV]  n_estimators=800, min_samples_split=2, min_samples_leaf=1, max_features=sqrt, max_depth=20, bootstrap=False, total= 5.6min\n",
      "[CV] n_estimators=1200, min_samples_split=10, min_samples_leaf=2, max_features=sqrt, max_depth=70, bootstrap=False \n",
      "[CV]  n_estimators=800, min_samples_split=2, min_samples_leaf=1, max_features=sqrt, max_depth=20, bootstrap=False, total= 5.5min\n",
      "[CV] n_estimators=1200, min_samples_split=10, min_samples_leaf=2, max_features=sqrt, max_depth=70, bootstrap=False \n",
      "[CV]  n_estimators=2000, min_samples_split=5, min_samples_leaf=2, max_features=auto, max_depth=50, bootstrap=True, total=11.0min\n",
      "[CV] n_estimators=1600, min_samples_split=2, min_samples_leaf=4, max_features=sqrt, max_depth=110, bootstrap=False \n",
      "[CV]  n_estimators=800, min_samples_split=2, min_samples_leaf=1, max_features=sqrt, max_depth=20, bootstrap=False, total= 5.5min\n",
      "[CV] n_estimators=1600, min_samples_split=2, min_samples_leaf=4, max_features=sqrt, max_depth=110, bootstrap=False \n",
      "[CV]  n_estimators=1000, min_samples_split=5, min_samples_leaf=1, max_features=sqrt, max_depth=70, bootstrap=True, total= 5.8min\n",
      "[CV] n_estimators=1600, min_samples_split=2, min_samples_leaf=4, max_features=sqrt, max_depth=110, bootstrap=False \n",
      "[CV]  n_estimators=1000, min_samples_split=5, min_samples_leaf=1, max_features=sqrt, max_depth=70, bootstrap=True, total= 5.7min\n",
      "[CV]  n_estimators=1000, min_samples_split=5, min_samples_leaf=1, max_features=sqrt, max_depth=70, bootstrap=True, total= 5.8min\n",
      "[CV] n_estimators=1000, min_samples_split=10, min_samples_leaf=1, max_features=auto, max_depth=50, bootstrap=False \n",
      "[CV] n_estimators=1000, min_samples_split=10, min_samples_leaf=1, max_features=auto, max_depth=50, bootstrap=False \n",
      "[CV]  n_estimators=1200, min_samples_split=10, min_samples_leaf=2, max_features=sqrt, max_depth=70, bootstrap=False, total= 9.8min\n",
      "[CV] n_estimators=1000, min_samples_split=10, min_samples_leaf=1, max_features=auto, max_depth=50, bootstrap=False \n",
      "[CV]  n_estimators=1200, min_samples_split=10, min_samples_leaf=2, max_features=sqrt, max_depth=70, bootstrap=False, total= 9.9min\n",
      "[CV] n_estimators=1000, min_samples_split=10, min_samples_leaf=1, max_features=sqrt, max_depth=30, bootstrap=True \n",
      "[CV]  n_estimators=1200, min_samples_split=10, min_samples_leaf=2, max_features=sqrt, max_depth=70, bootstrap=False, total= 9.8min\n",
      "[CV] n_estimators=1000, min_samples_split=10, min_samples_leaf=1, max_features=sqrt, max_depth=30, bootstrap=True \n",
      "[CV]  n_estimators=1000, min_samples_split=10, min_samples_leaf=1, max_features=auto, max_depth=50, bootstrap=False, total= 8.7min\n",
      "[CV] n_estimators=1000, min_samples_split=10, min_samples_leaf=1, max_features=sqrt, max_depth=30, bootstrap=True \n",
      "[CV]  n_estimators=1000, min_samples_split=10, min_samples_leaf=1, max_features=auto, max_depth=50, bootstrap=False, total= 8.7min\n",
      "[CV] n_estimators=600, min_samples_split=2, min_samples_leaf=1, max_features=auto, max_depth=70, bootstrap=True \n",
      "[CV]  n_estimators=1600, min_samples_split=2, min_samples_leaf=4, max_features=sqrt, max_depth=110, bootstrap=False, total=12.5min\n",
      "[CV] n_estimators=600, min_samples_split=2, min_samples_leaf=1, max_features=auto, max_depth=70, bootstrap=True \n",
      "[CV]  n_estimators=1600, min_samples_split=2, min_samples_leaf=4, max_features=sqrt, max_depth=110, bootstrap=False, total=12.5min\n",
      "[CV] n_estimators=600, min_samples_split=2, min_samples_leaf=1, max_features=auto, max_depth=70, bootstrap=True \n",
      "[CV]  n_estimators=1000, min_samples_split=10, min_samples_leaf=1, max_features=sqrt, max_depth=30, bootstrap=True, total= 5.2min\n",
      "[CV] n_estimators=1800, min_samples_split=2, min_samples_leaf=2, max_features=auto, max_depth=30, bootstrap=False \n",
      "[CV]  n_estimators=1600, min_samples_split=2, min_samples_leaf=4, max_features=sqrt, max_depth=110, bootstrap=False, total=12.4min\n",
      "[CV] n_estimators=1800, min_samples_split=2, min_samples_leaf=2, max_features=auto, max_depth=30, bootstrap=False \n",
      "[CV]  n_estimators=600, min_samples_split=2, min_samples_leaf=1, max_features=auto, max_depth=70, bootstrap=True, total= 3.6min\n",
      "[CV] n_estimators=1800, min_samples_split=2, min_samples_leaf=2, max_features=auto, max_depth=30, bootstrap=False \n",
      "[CV]  n_estimators=1000, min_samples_split=10, min_samples_leaf=1, max_features=auto, max_depth=50, bootstrap=False, total= 8.5min\n",
      "[CV] n_estimators=1600, min_samples_split=2, min_samples_leaf=4, max_features=auto, max_depth=None, bootstrap=True \n",
      "[CV]  n_estimators=1000, min_samples_split=10, min_samples_leaf=1, max_features=sqrt, max_depth=30, bootstrap=True, total= 5.1min\n",
      "[CV] n_estimators=1600, min_samples_split=2, min_samples_leaf=4, max_features=auto, max_depth=None, bootstrap=True \n",
      "[CV]  n_estimators=1000, min_samples_split=10, min_samples_leaf=1, max_features=sqrt, max_depth=30, bootstrap=True, total= 5.0min\n",
      "[CV] n_estimators=1600, min_samples_split=2, min_samples_leaf=4, max_features=auto, max_depth=None, bootstrap=True \n",
      "[CV]  n_estimators=600, min_samples_split=2, min_samples_leaf=1, max_features=auto, max_depth=70, bootstrap=True, total= 3.7min\n",
      "[CV]  n_estimators=600, min_samples_split=2, min_samples_leaf=1, max_features=auto, max_depth=70, bootstrap=True, total= 3.6min\n"
     ]
    }
   ],
   "source": [
    "# Use the random grid to search for best hyperparameters\n",
    "# First create the base model to tune\n",
    "rf = RandomForestClassifier()\n",
    "\n",
    "# Random search of parameters\n",
    "\n",
    "# using x-num fold cross validation\n",
    "cv_num = 3\n",
    "\n",
    "# search across 100 different combinations\n",
    "n_iter_num = 20\n",
    "\n",
    "# and use all available cores\n",
    "\n",
    "rf_random = RandomizedSearchCV(estimator=rf, param_distributions=random_grid,\n",
    "                               n_iter=n_iter_num, cv=cv_num, verbose=2, random_state=42, n_jobs=-1)\n",
    "\n",
    "# Fit the random search model\n",
    "rf_random.fit(x_train, y_train)"
   ]
  },
  {
   "cell_type": "code",
   "execution_count": null,
   "metadata": {},
   "outputs": [],
   "source": [
    "def evaluate(model, test_features, test_labels):\n",
    "    predictions = model.predict(test_features)\n",
    "    errors = abs(predictions - test_labels)\n",
    "    mape = 100 * np.mean(errors / test_labels)\n",
    "    accuracy = 100 - mape\n",
    "    print('Model Performance')\n",
    "    print('Average Error: {:0.4f} degrees.'.format(np.mean(errors)))\n",
    "    print('Accuracy = {:0.2f}%.'.format(accuracy))\n",
    "    \n",
    "    return accuracy"
   ]
  },
  {
   "cell_type": "code",
   "execution_count": null,
   "metadata": {},
   "outputs": [],
   "source": [
    "# How does the baseline/benchmark model perform?\n",
    "base_model = RandomForestClassifier(n_estimators = 10, random_state = 42)\n",
    "base_model.fit(train_features, train_labels)\n",
    "base_accuracy = evaluate(base_model, test_features, test_labels)"
   ]
  },
  {
   "cell_type": "code",
   "execution_count": null,
   "metadata": {},
   "outputs": [],
   "source": [
    "# How does the new model perform?\n",
    "best_random = rf_random.best_estimator_\n",
    "random_accuracy = evaluate(best_random, test_features, test_labels)"
   ]
  },
  {
   "cell_type": "code",
   "execution_count": null,
   "metadata": {},
   "outputs": [],
   "source": [
    "# How much did we improve?\n",
    "print('Improvement of {:0.2f}%.'.format( 100 * (random_accuracy - base_accuracy) / base_accuracy))"
   ]
  },
  {
   "cell_type": "code",
   "execution_count": 20,
   "metadata": {
    "ExecuteTime": {
     "end_time": "2018-05-10T17:33:49.552172Z",
     "start_time": "2018-05-10T17:25:46.261363Z"
    }
   },
   "outputs": [
    {
     "name": "stdout",
     "output_type": "stream",
     "text": [
      "Accuracy: 0.591\n",
      "             precision    recall  f1-score   support\n",
      "\n",
      "        <30       0.70      0.01      0.02      2839\n",
      "        >30       0.52      0.36      0.43      8887\n",
      "         NO       0.61      0.86      0.72     13716\n",
      "\n",
      "avg / total       0.59      0.59      0.54     25442\n",
      "\n"
     ]
    }
   ],
   "source": [
    "randomforest = RandomForestClassifier(bootstrap=False, class_weight=None, criterion='gini',\n",
    "            max_depth=70, max_features='sqrt', max_leaf_nodes=None,\n",
    "            min_impurity_decrease=0.0, min_impurity_split=None,\n",
    "            min_samples_leaf=2, min_samples_split=10,\n",
    "            min_weight_fraction_leaf=0.0, n_estimators=1200, n_jobs=1,\n",
    "            oob_score=False, random_state=None, verbose=0,\n",
    "            warm_start=False)\n",
    "\n",
    "randomforest.fit(x_train, y_train)\n",
    "randomforest.score(x_test, y_test)\n",
    "y_pred = randomforest.predict(x_test)\n",
    "print(\"Accuracy: %.3f\"% metrics.accuracy_score(y_test, y_pred))\n",
    "print(metrics.classification_report(y_test, y_pred))"
   ]
  },
  {
   "cell_type": "code",
   "execution_count": null,
   "metadata": {},
   "outputs": [],
   "source": [
    "randomforest = RandomForestClassifier(bootstrap=False, class_weight=None, criterion='gini',\n",
    "            max_depth=70, max_features='sqrt', max_leaf_nodes=None,\n",
    "            min_impurity_decrease=0.0, min_impurity_split=None,\n",
    "            min_samples_leaf=2, min_samples_split=10,\n",
    "            min_weight_fraction_leaf=0.0, n_estimators=1200, n_jobs=1,\n",
    "            oob_score=False, random_state=None, verbose=0,\n",
    "            warm_start=False)\n",
    "\n",
    "randomforest.fit(x_train, y_train)\n",
    "randomforest.score(x_test, y_test)\n",
    "y_pred = randomforest.predict(x_test)\n",
    "print(\"Accuracy: %.3f\"% metrics.accuracy_score(y_test, y_pred))\n",
    "print(metrics.classification_report(y_test, y_pred))"
   ]
  }
 ],
 "metadata": {
  "kernelspec": {
   "display_name": "Python 3",
   "language": "python",
   "name": "python3"
  },
  "language_info": {
   "codemirror_mode": {
    "name": "ipython",
    "version": 3
   },
   "file_extension": ".py",
   "mimetype": "text/x-python",
   "name": "python",
   "nbconvert_exporter": "python",
   "pygments_lexer": "ipython3",
   "version": "3.6.5"
  }
 },
 "nbformat": 4,
 "nbformat_minor": 1
}
