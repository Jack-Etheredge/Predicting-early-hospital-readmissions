{
 "cells": [
  {
   "cell_type": "markdown",
   "metadata": {},
   "source": [
    "### Classifying and predicting early hospital readmissions:\n",
    "\n",
    "Classifying with supervised learning whether diabetic patients are readmitted, and if they are, if it's before or after 30 days.\n",
    "\n",
    "Using the dataset from here: https://archive.ics.uci.edu/ml/datasets/Diabetes+130-US+hospitals+for+years+1999-2008"
   ]
  },
  {
   "cell_type": "code",
   "execution_count": 74,
   "metadata": {
    "ExecuteTime": {
     "end_time": "2019-10-05T01:58:19.302835Z",
     "start_time": "2019-10-05T01:58:19.295110Z"
    }
   },
   "outputs": [],
   "source": [
    "import pandas as pd\n",
    "import patsy as patsy\n",
    "import numpy as np\n",
    "import matplotlib.pyplot as plt\n",
    "import seaborn as sns\n",
    "\n",
    "from sklearn import preprocessing\n",
    "\n",
    "# SMOTE\n",
    "from imblearn.over_sampling import SMOTE\n",
    "\n",
    "# Undersampling\n",
    "from imblearn.under_sampling import RandomUnderSampler\n",
    "\n",
    "from sklearn import metrics\n",
    "from sklearn.metrics import precision_recall_curve\n",
    "\n",
    "from sklearn.model_selection import cross_val_score, GridSearchCV, StratifiedKFold, RandomizedSearchCV, train_test_split\n",
    "from sklearn.metrics import confusion_matrix\n",
    "from sklearn.utils.multiclass import unique_labels\n",
    "from sklearn.preprocessing import StandardScaler\n",
    "\n",
    "import pickle\n",
    "\n",
    "# models\n",
    "from sklearn.linear_model import LogisticRegression\n",
    "from sklearn.tree import DecisionTreeClassifier\n",
    "from sklearn.neighbors import KNeighborsClassifier\n",
    "from sklearn.discriminant_analysis import LinearDiscriminantAnalysis\n",
    "from sklearn.naive_bayes import GaussianNB\n",
    "from sklearn.svm import SVC\n",
    "from sklearn.ensemble import ExtraTreesClassifier\n",
    "from sklearn.ensemble import RandomForestClassifier\n",
    "from sklearn.ensemble import AdaBoostClassifier\n",
    "from sklearn.ensemble import GradientBoostingClassifier"
   ]
  },
  {
   "cell_type": "code",
   "execution_count": 48,
   "metadata": {
    "ExecuteTime": {
     "end_time": "2019-10-04T22:46:55.266558Z",
     "start_time": "2019-10-04T22:46:54.930969Z"
    }
   },
   "outputs": [],
   "source": [
    "with open(\"x_liv.pkl\", 'rb') as picklefile:\n",
    "    X = pickle.load(picklefile)\n",
    "\n",
    "with open(\"y_liv.pkl\", 'rb') as picklefile:\n",
    "    y = pickle.load(picklefile)"
   ]
  },
  {
   "cell_type": "code",
   "execution_count": 49,
   "metadata": {
    "ExecuteTime": {
     "end_time": "2019-10-04T22:46:55.306117Z",
     "start_time": "2019-10-04T22:46:55.268471Z"
    }
   },
   "outputs": [],
   "source": [
    "y = y.replace({'<30': 1, '>30': 0, 'NO': 0})"
   ]
  },
  {
   "cell_type": "code",
   "execution_count": 50,
   "metadata": {
    "ExecuteTime": {
     "end_time": "2019-10-04T22:46:55.357683Z",
     "start_time": "2019-10-04T22:46:55.355207Z"
    }
   },
   "outputs": [],
   "source": [
    "# y.head()\n",
    "# set(list(y))\n",
    "# y.describe()"
   ]
  },
  {
   "cell_type": "code",
   "execution_count": 51,
   "metadata": {
    "ExecuteTime": {
     "end_time": "2019-10-04T22:46:55.722751Z",
     "start_time": "2019-10-04T22:46:55.539697Z"
    }
   },
   "outputs": [],
   "source": [
    "# stratified split\n",
    "X_train, X_test, y_train, y_test = train_test_split(\n",
    "    X, y, test_size=0.2, random_state=42, stratify=y)"
   ]
  },
  {
   "cell_type": "code",
   "execution_count": 52,
   "metadata": {
    "ExecuteTime": {
     "end_time": "2019-10-04T22:46:56.382900Z",
     "start_time": "2019-10-04T22:46:55.724565Z"
    }
   },
   "outputs": [],
   "source": [
    "# standard scale\n",
    "scaler = StandardScaler()\n",
    "X_train = scaler.fit_transform(X_train)\n",
    "X_test = scaler.transform(X_test)"
   ]
  },
  {
   "cell_type": "code",
   "execution_count": 53,
   "metadata": {
    "ExecuteTime": {
     "end_time": "2019-10-04T22:47:24.945134Z",
     "start_time": "2019-10-04T22:46:56.385551Z"
    }
   },
   "outputs": [],
   "source": [
    "# smote oversampling\n",
    "smote = SMOTE()\n",
    "X_train, y_train = smote.fit_sample(X_train, y_train)"
   ]
  },
  {
   "cell_type": "code",
   "execution_count": 54,
   "metadata": {
    "ExecuteTime": {
     "end_time": "2019-10-04T22:47:24.954786Z",
     "start_time": "2019-10-04T22:47:24.947420Z"
    }
   },
   "outputs": [],
   "source": [
    "models = []\n",
    "models.append(('LR', LogisticRegression()))\n",
    "models.append(('LDA', LinearDiscriminantAnalysis()))\n",
    "# models.append(('KNN', KNeighborsClassifier())) # can take a very long time\n",
    "models.append(('DT', DecisionTreeClassifier()))\n",
    "models.append(('NB', GaussianNB()))\n",
    "models.append(('ETC', ExtraTreesClassifier()))\n",
    "models.append(('RF', RandomForestClassifier()))\n",
    "models.append(('ADA', AdaBoostClassifier()))\n",
    "models.append(('GBM', GradientBoostingClassifier()))\n",
    "# models.append(('SVM', SVC())) # can take a very long time\n",
    "# evaluate each model in turn\n",
    "results = []\n",
    "names = []\n",
    "scoring = 'f1'"
   ]
  },
  {
   "cell_type": "code",
   "execution_count": 55,
   "metadata": {
    "ExecuteTime": {
     "end_time": "2019-10-04T23:09:11.800378Z",
     "start_time": "2019-10-04T22:47:24.957229Z"
    }
   },
   "outputs": [
    {
     "name": "stderr",
     "output_type": "stream",
     "text": [
      "/usr/local/anaconda3/lib/python3.7/site-packages/sklearn/linear_model/logistic.py:432: FutureWarning: Default solver will be changed to 'lbfgs' in 0.22. Specify a solver to silence this warning.\n",
      "  FutureWarning)\n",
      "/usr/local/anaconda3/lib/python3.7/site-packages/sklearn/linear_model/logistic.py:432: FutureWarning: Default solver will be changed to 'lbfgs' in 0.22. Specify a solver to silence this warning.\n",
      "  FutureWarning)\n",
      "/usr/local/anaconda3/lib/python3.7/site-packages/sklearn/linear_model/logistic.py:432: FutureWarning: Default solver will be changed to 'lbfgs' in 0.22. Specify a solver to silence this warning.\n",
      "  FutureWarning)\n",
      "/usr/local/anaconda3/lib/python3.7/site-packages/sklearn/linear_model/logistic.py:432: FutureWarning: Default solver will be changed to 'lbfgs' in 0.22. Specify a solver to silence this warning.\n",
      "  FutureWarning)\n",
      "/usr/local/anaconda3/lib/python3.7/site-packages/sklearn/linear_model/logistic.py:432: FutureWarning: Default solver will be changed to 'lbfgs' in 0.22. Specify a solver to silence this warning.\n",
      "  FutureWarning)\n"
     ]
    },
    {
     "name": "stdout",
     "output_type": "stream",
     "text": [
      "LR: 0.634865 (0.016725)\n"
     ]
    },
    {
     "name": "stderr",
     "output_type": "stream",
     "text": [
      "/usr/local/anaconda3/lib/python3.7/site-packages/sklearn/discriminant_analysis.py:388: UserWarning: Variables are collinear.\n",
      "  warnings.warn(\"Variables are collinear.\")\n",
      "/usr/local/anaconda3/lib/python3.7/site-packages/sklearn/discriminant_analysis.py:388: UserWarning: Variables are collinear.\n",
      "  warnings.warn(\"Variables are collinear.\")\n",
      "/usr/local/anaconda3/lib/python3.7/site-packages/sklearn/discriminant_analysis.py:388: UserWarning: Variables are collinear.\n",
      "  warnings.warn(\"Variables are collinear.\")\n",
      "/usr/local/anaconda3/lib/python3.7/site-packages/sklearn/discriminant_analysis.py:388: UserWarning: Variables are collinear.\n",
      "  warnings.warn(\"Variables are collinear.\")\n",
      "/usr/local/anaconda3/lib/python3.7/site-packages/sklearn/discriminant_analysis.py:388: UserWarning: Variables are collinear.\n",
      "  warnings.warn(\"Variables are collinear.\")\n"
     ]
    },
    {
     "name": "stdout",
     "output_type": "stream",
     "text": [
      "LDA: 0.633105 (0.016809)\n",
      "DT: 0.861213 (0.139239)\n",
      "NB: 0.668586 (0.000482)\n"
     ]
    },
    {
     "name": "stderr",
     "output_type": "stream",
     "text": [
      "/usr/local/anaconda3/lib/python3.7/site-packages/sklearn/ensemble/forest.py:245: FutureWarning: The default value of n_estimators will change from 10 in version 0.20 to 100 in 0.22.\n",
      "  \"10 in version 0.20 to 100 in 0.22.\", FutureWarning)\n",
      "/usr/local/anaconda3/lib/python3.7/site-packages/sklearn/ensemble/forest.py:245: FutureWarning: The default value of n_estimators will change from 10 in version 0.20 to 100 in 0.22.\n",
      "  \"10 in version 0.20 to 100 in 0.22.\", FutureWarning)\n",
      "/usr/local/anaconda3/lib/python3.7/site-packages/sklearn/ensemble/forest.py:245: FutureWarning: The default value of n_estimators will change from 10 in version 0.20 to 100 in 0.22.\n",
      "  \"10 in version 0.20 to 100 in 0.22.\", FutureWarning)\n",
      "/usr/local/anaconda3/lib/python3.7/site-packages/sklearn/ensemble/forest.py:245: FutureWarning: The default value of n_estimators will change from 10 in version 0.20 to 100 in 0.22.\n",
      "  \"10 in version 0.20 to 100 in 0.22.\", FutureWarning)\n",
      "/usr/local/anaconda3/lib/python3.7/site-packages/sklearn/ensemble/forest.py:245: FutureWarning: The default value of n_estimators will change from 10 in version 0.20 to 100 in 0.22.\n",
      "  \"10 in version 0.20 to 100 in 0.22.\", FutureWarning)\n"
     ]
    },
    {
     "name": "stdout",
     "output_type": "stream",
     "text": [
      "ETC: 0.937967 (0.109162)\n"
     ]
    },
    {
     "name": "stderr",
     "output_type": "stream",
     "text": [
      "/usr/local/anaconda3/lib/python3.7/site-packages/sklearn/ensemble/forest.py:245: FutureWarning: The default value of n_estimators will change from 10 in version 0.20 to 100 in 0.22.\n",
      "  \"10 in version 0.20 to 100 in 0.22.\", FutureWarning)\n",
      "/usr/local/anaconda3/lib/python3.7/site-packages/sklearn/ensemble/forest.py:245: FutureWarning: The default value of n_estimators will change from 10 in version 0.20 to 100 in 0.22.\n",
      "  \"10 in version 0.20 to 100 in 0.22.\", FutureWarning)\n",
      "/usr/local/anaconda3/lib/python3.7/site-packages/sklearn/ensemble/forest.py:245: FutureWarning: The default value of n_estimators will change from 10 in version 0.20 to 100 in 0.22.\n",
      "  \"10 in version 0.20 to 100 in 0.22.\", FutureWarning)\n",
      "/usr/local/anaconda3/lib/python3.7/site-packages/sklearn/ensemble/forest.py:245: FutureWarning: The default value of n_estimators will change from 10 in version 0.20 to 100 in 0.22.\n",
      "  \"10 in version 0.20 to 100 in 0.22.\", FutureWarning)\n",
      "/usr/local/anaconda3/lib/python3.7/site-packages/sklearn/ensemble/forest.py:245: FutureWarning: The default value of n_estimators will change from 10 in version 0.20 to 100 in 0.22.\n",
      "  \"10 in version 0.20 to 100 in 0.22.\", FutureWarning)\n"
     ]
    },
    {
     "name": "stdout",
     "output_type": "stream",
     "text": [
      "RF: 0.904494 (0.175557)\n",
      "ADA: 0.865103 (0.175758)\n",
      "GBM: 0.897632 (0.188569)\n"
     ]
    }
   ],
   "source": [
    "for name, model in models:\n",
    "    kfold = StratifiedKFold(n_splits=5, random_state=42)\n",
    "    cv_results = cross_val_score(\n",
    "        model, X_train, y_train, cv=kfold, scoring=scoring)\n",
    "    results.append(cv_results)\n",
    "    names.append(name)\n",
    "    msg = \"%s: %f (%f)\" % (name, cv_results.mean(), cv_results.std())\n",
    "    print(msg)"
   ]
  },
  {
   "cell_type": "code",
   "execution_count": 56,
   "metadata": {
    "ExecuteTime": {
     "end_time": "2019-10-04T23:09:12.096626Z",
     "start_time": "2019-10-04T23:09:11.802975Z"
    }
   },
   "outputs": [
    {
     "data": {
      "image/png": "[encoded data removed]",
      "text/plain": [
       "<Figure size 720x720 with 1 Axes>"
      ]
     },
     "metadata": {
      "needs_background": "light"
     },
     "output_type": "display_data"
    }
   ],
   "source": [
    "# boxplot algorithm comparison\n",
    "fig = plt.figure(figsize=(10,10))\n",
    "fig.suptitle('Algorithm Comparison')\n",
    "ax = fig.add_subplot(111)\n",
    "plt.boxplot(results)\n",
    "ax.set_xticklabels(names)\n",
    "plt.show()"
   ]
  },
  {
   "cell_type": "code",
   "execution_count": 57,
   "metadata": {
    "ExecuteTime": {
     "end_time": "2019-10-04T23:09:12.103543Z",
     "start_time": "2019-10-04T23:09:12.098588Z"
    }
   },
   "outputs": [],
   "source": [
    "# Best model was extra trees:\n",
    "\n",
    "param_grid = {'n_estimators': range(50, 201, 25),\n",
    "              'max_features': range(50, X.shape[1], 50),\n",
    "              'min_samples_leaf': range(20, 50, 5),\n",
    "              'min_samples_split': range(15, 36, 5)}\n",
    "\n",
    "model = ExtraTreesClassifier(n_estimators=100, n_jobs=-1, min_samples_split=25,\n",
    "                             min_samples_leaf=35, max_features=150)\n",
    "\n",
    "kfold = StratifiedKFold(n_splits=5, random_state=42)"
   ]
  },
  {
   "cell_type": "code",
   "execution_count": 58,
   "metadata": {
    "ExecuteTime": {
     "end_time": "2019-10-04T23:09:12.110845Z",
     "start_time": "2019-10-04T23:09:12.105388Z"
    }
   },
   "outputs": [],
   "source": [
    "def grid_or_random_cv(grid_or_random='random'):\n",
    "    if grid_or_random == 'grid':\n",
    "        grid_search = GridSearchCV(estimator=model,\n",
    "                                   param_grid=param_grid,\n",
    "                                   scoring='f1',\n",
    "                                   cv=kfold)\n",
    "\n",
    "        grid_result = grid_search.fit(X_train, y_train)\n",
    "\n",
    "    if grid_or_random == 'random':\n",
    "        n_iter_search = 25\n",
    "\n",
    "        random_search = RandomizedSearchCV(estimator=model,\n",
    "                                           param_distributions=param_grid,\n",
    "                                           scoring='roc_auc',\n",
    "                                           n_iter=n_iter_search,\n",
    "                                           cv=kfold)\n",
    "\n",
    "        grid_result = random_search.fit(X_train, y_train)\n",
    "\n",
    "    return grid_result"
   ]
  },
  {
   "cell_type": "code",
   "execution_count": 59,
   "metadata": {
    "ExecuteTime": {
     "end_time": "2019-10-05T01:46:39.868670Z",
     "start_time": "2019-10-04T23:09:12.113038Z"
    }
   },
   "outputs": [
    {
     "name": "stdout",
     "output_type": "stream",
     "text": [
      "Best: 0.970951 using {'n_estimators': 125, 'min_samples_split': 30, 'min_samples_leaf': 20, 'max_features': 150}\n"
     ]
    }
   ],
   "source": [
    "grid_result = grid_or_random_cv(grid_or_random='random')\n",
    "\n",
    "print(\"Best: %f using %s\" % (grid_result.best_score_, grid_result.best_params_))"
   ]
  },
  {
   "cell_type": "code",
   "execution_count": 60,
   "metadata": {
    "ExecuteTime": {
     "end_time": "2019-10-05T01:46:39.879721Z",
     "start_time": "2019-10-05T01:46:39.871889Z"
    }
   },
   "outputs": [
    {
     "name": "stdout",
     "output_type": "stream",
     "text": [
      "0 Test avg: 0.966892 \n",
      " Test std: 0.062633 with: \n",
      " {'n_estimators': 125, 'min_samples_split': 15, 'min_samples_leaf': 30, 'max_features': 150}\n",
      "1 Test avg: 0.966295 \n",
      " Test std: 0.063265 with: \n",
      " {'n_estimators': 125, 'min_samples_split': 15, 'min_samples_leaf': 30, 'max_features': 100}\n",
      "2 Test avg: 0.970951 \n",
      " Test std: 0.056112 with: \n",
      " {'n_estimators': 125, 'min_samples_split': 30, 'min_samples_leaf': 20, 'max_features': 150}\n",
      "3 Test avg: 0.960821 \n",
      " Test std: 0.070546 with: \n",
      " {'n_estimators': 50, 'min_samples_split': 35, 'min_samples_leaf': 45, 'max_features': 100}\n",
      "4 Test avg: 0.968438 \n",
      " Test std: 0.060562 with: \n",
      " {'n_estimators': 75, 'min_samples_split': 35, 'min_samples_leaf': 25, 'max_features': 250}\n",
      "5 Test avg: 0.962024 \n",
      " Test std: 0.070114 with: \n",
      " {'n_estimators': 50, 'min_samples_split': 35, 'min_samples_leaf': 45, 'max_features': 200}\n",
      "6 Test avg: 0.962103 \n",
      " Test std: 0.070137 with: \n",
      " {'n_estimators': 50, 'min_samples_split': 15, 'min_samples_leaf': 45, 'max_features': 200}\n",
      "7 Test avg: 0.963699 \n",
      " Test std: 0.068066 with: \n",
      " {'n_estimators': 100, 'min_samples_split': 20, 'min_samples_leaf': 40, 'max_features': 250}\n",
      "8 Test avg: 0.962081 \n",
      " Test std: 0.070057 with: \n",
      " {'n_estimators': 75, 'min_samples_split': 15, 'min_samples_leaf': 45, 'max_features': 150}\n",
      "9 Test avg: 0.967835 \n",
      " Test std: 0.061400 with: \n",
      " {'n_estimators': 50, 'min_samples_split': 20, 'min_samples_leaf': 25, 'max_features': 150}\n",
      "10 Test avg: 0.970864 \n",
      " Test std: 0.055971 with: \n",
      " {'n_estimators': 125, 'min_samples_split': 30, 'min_samples_leaf': 20, 'max_features': 100}\n",
      "11 Test avg: 0.970949 \n",
      " Test std: 0.056347 with: \n",
      " {'n_estimators': 125, 'min_samples_split': 35, 'min_samples_leaf': 20, 'max_features': 200}\n",
      "12 Test avg: 0.968427 \n",
      " Test std: 0.058628 with: \n",
      " {'n_estimators': 50, 'min_samples_split': 30, 'min_samples_leaf': 20, 'max_features': 50}\n",
      "13 Test avg: 0.962073 \n",
      " Test std: 0.070225 with: \n",
      " {'n_estimators': 50, 'min_samples_split': 15, 'min_samples_leaf': 45, 'max_features': 250}\n",
      "14 Test avg: 0.968505 \n",
      " Test std: 0.060159 with: \n",
      " {'n_estimators': 100, 'min_samples_split': 15, 'min_samples_leaf': 25, 'max_features': 150}\n",
      "15 Test avg: 0.966389 \n",
      " Test std: 0.063907 with: \n",
      " {'n_estimators': 100, 'min_samples_split': 25, 'min_samples_leaf': 30, 'max_features': 200}\n",
      "16 Test avg: 0.966148 \n",
      " Test std: 0.063423 with: \n",
      " {'n_estimators': 100, 'min_samples_split': 30, 'min_samples_leaf': 30, 'max_features': 100}\n",
      "17 Test avg: 0.970921 \n",
      " Test std: 0.056339 with: \n",
      " {'n_estimators': 125, 'min_samples_split': 30, 'min_samples_leaf': 20, 'max_features': 200}\n",
      "18 Test avg: 0.961129 \n",
      " Test std: 0.068813 with: \n",
      " {'n_estimators': 50, 'min_samples_split': 25, 'min_samples_leaf': 35, 'max_features': 50}\n",
      "19 Test avg: 0.961470 \n",
      " Test std: 0.070079 with: \n",
      " {'n_estimators': 75, 'min_samples_split': 15, 'min_samples_leaf': 45, 'max_features': 100}\n",
      "20 Test avg: 0.966151 \n",
      " Test std: 0.064119 with: \n",
      " {'n_estimators': 50, 'min_samples_split': 35, 'min_samples_leaf': 30, 'max_features': 200}\n",
      "21 Test avg: 0.970833 \n",
      " Test std: 0.056046 with: \n",
      " {'n_estimators': 125, 'min_samples_split': 35, 'min_samples_leaf': 20, 'max_features': 100}\n",
      "22 Test avg: 0.963862 \n",
      " Test std: 0.065033 with: \n",
      " {'n_estimators': 75, 'min_samples_split': 20, 'min_samples_leaf': 30, 'max_features': 50}\n",
      "23 Test avg: 0.963360 \n",
      " Test std: 0.068432 with: \n",
      " {'n_estimators': 50, 'min_samples_split': 20, 'min_samples_leaf': 40, 'max_features': 250}\n",
      "24 Test avg: 0.970885 \n",
      " Test std: 0.056371 with: \n",
      " {'n_estimators': 125, 'min_samples_split': 15, 'min_samples_leaf': 20, 'max_features': 150}\n"
     ]
    }
   ],
   "source": [
    "for i, (test_mean, test_std, param) in enumerate(zip(\n",
    "        grid_result.cv_results_['mean_test_score'],\n",
    "        grid_result.cv_results_['std_test_score'],\n",
    "        grid_result.cv_results_['params'])):\n",
    "    print(\"%i Test avg: %f \\n Test std: %f with: \\n %r\" %\n",
    "          (i, test_mean, test_std, param))"
   ]
  },
  {
   "cell_type": "code",
   "execution_count": 61,
   "metadata": {
    "ExecuteTime": {
     "end_time": "2019-10-05T01:46:39.885406Z",
     "start_time": "2019-10-05T01:46:39.881989Z"
    }
   },
   "outputs": [],
   "source": [
    "model = ExtraTreesClassifier(**grid_result.best_params_)"
   ]
  },
  {
   "cell_type": "code",
   "execution_count": 62,
   "metadata": {
    "ExecuteTime": {
     "end_time": "2019-10-05T01:56:49.041062Z",
     "start_time": "2019-10-05T01:46:39.887833Z"
    }
   },
   "outputs": [
    {
     "data": {
      "text/plain": [
       "ExtraTreesClassifier(bootstrap=False, class_weight=None, criterion='gini',\n",
       "                     max_depth=None, max_features=150, max_leaf_nodes=None,\n",
       "                     min_impurity_decrease=0.0, min_impurity_split=None,\n",
       "                     min_samples_leaf=20, min_samples_split=30,\n",
       "                     min_weight_fraction_leaf=0.0, n_estimators=125,\n",
       "                     n_jobs=None, oob_score=False, random_state=None, verbose=0,\n",
       "                     warm_start=False)"
      ]
     },
     "execution_count": 62,
     "metadata": {},
     "output_type": "execute_result"
    }
   ],
   "source": [
    "model.fit(X_train, y_train)"
   ]
  },
  {
   "cell_type": "code",
   "execution_count": 63,
   "metadata": {
    "ExecuteTime": {
     "end_time": "2019-10-05T01:56:49.688731Z",
     "start_time": "2019-10-05T01:56:49.042808Z"
    }
   },
   "outputs": [],
   "source": [
    "y_pred = model.predict(X_test)"
   ]
  },
  {
   "cell_type": "code",
   "execution_count": 64,
   "metadata": {
    "ExecuteTime": {
     "end_time": "2019-10-05T01:56:50.321199Z",
     "start_time": "2019-10-05T01:56:49.691024Z"
    }
   },
   "outputs": [],
   "source": [
    "y_pred_proba = model.predict_proba(X_test)"
   ]
  },
  {
   "cell_type": "code",
   "execution_count": 65,
   "metadata": {
    "ExecuteTime": {
     "end_time": "2019-10-05T01:56:50.325475Z",
     "start_time": "2019-10-05T01:56:50.322998Z"
    }
   },
   "outputs": [],
   "source": [
    "# import plots"
   ]
  },
  {
   "cell_type": "code",
   "execution_count": 66,
   "metadata": {
    "ExecuteTime": {
     "end_time": "2019-10-05T01:56:50.352605Z",
     "start_time": "2019-10-05T01:56:50.327301Z"
    }
   },
   "outputs": [
    {
     "name": "stdout",
     "output_type": "stream",
     "text": [
      "              precision    recall  f1-score   support\n",
      "\n",
      "           0       0.89      0.99      0.94     17752\n",
      "           1       0.47      0.04      0.07      2271\n",
      "\n",
      "    accuracy                           0.89     20023\n",
      "   macro avg       0.68      0.52      0.50     20023\n",
      "weighted avg       0.84      0.89      0.84     20023\n",
      "\n"
     ]
    }
   ],
   "source": [
    "print(metrics.classification_report(y_test, y_pred))"
   ]
  },
  {
   "cell_type": "code",
   "execution_count": 67,
   "metadata": {
    "ExecuteTime": {
     "end_time": "2019-10-05T01:56:50.360403Z",
     "start_time": "2019-10-05T01:56:50.354916Z"
    }
   },
   "outputs": [],
   "source": [
    "def precision_recall_plot(y_test, y_pred_proba):\n",
    "    p, r, t = precision_recall_curve(y_test, y_pred_proba[:, 1])\n",
    "\n",
    "    # adding last threshold of '1' to threshold list\n",
    "    t = np.vstack([t.reshape([-1, 1]), 1])\n",
    "    \n",
    "    # boxplot algorithm comparison\n",
    "    fig = plt.figure(figsize=(10,10))\n",
    "    fig.suptitle('Precision Recall Curve')\n",
    "    ax = fig.add_subplot(111)\n",
    "    plt.plot(t, p, label=\"precision\")\n",
    "    plt.plot(t, r, label=\"recall\")\n",
    "    plt.show()\n",
    "\n",
    "    return fig"
   ]
  },
  {
   "cell_type": "code",
   "execution_count": 68,
   "metadata": {
    "ExecuteTime": {
     "end_time": "2019-10-05T01:56:50.704198Z",
     "start_time": "2019-10-05T01:56:50.362220Z"
    }
   },
   "outputs": [
    {
     "data": {
      "image/png": "[encoded data removed]",
      "text/plain": [
       "<Figure size 720x720 with 1 Axes>"
      ]
     },
     "metadata": {
      "needs_background": "light"
     },
     "output_type": "display_data"
    },
    {
     "data": {
      "image/png": "[encoded data removed]",
      "text/plain": [
       "<Figure size 720x720 with 1 Axes>"
      ]
     },
     "execution_count": 68,
     "metadata": {},
     "output_type": "execute_result"
    }
   ],
   "source": [
    "precision_recall_plot(y_test, y_pred_proba)"
   ]
  },
  {
   "cell_type": "code",
   "execution_count": 70,
   "metadata": {
    "ExecuteTime": {
     "end_time": "2019-10-05T01:56:50.734717Z",
     "start_time": "2019-10-05T01:56:50.732001Z"
    }
   },
   "outputs": [],
   "source": [
    "class_names = [\"not early readmit\", \"early readmit\"]"
   ]
  },
  {
   "cell_type": "code",
   "execution_count": 71,
   "metadata": {
    "ExecuteTime": {
     "end_time": "2019-10-05T01:56:50.746966Z",
     "start_time": "2019-10-05T01:56:50.736453Z"
    }
   },
   "outputs": [],
   "source": [
    "def plot_confusion_matrix(y_true, y_pred, classes,\n",
    "                          normalize=False,\n",
    "                          title=None,\n",
    "                          cmap=sns.color_palette(\"Blues\")):\n",
    "    \"\"\"\n",
    "    This function prints and plots the confusion matrix.\n",
    "    Normalization can be applied by setting `normalize=True`.\n",
    "    \"\"\"\n",
    "    if not title:\n",
    "        if normalize:\n",
    "            title = 'Normalized confusion matrix'\n",
    "        else:\n",
    "            title = 'Confusion matrix, without normalization'\n",
    "\n",
    "    # Compute confusion matrix\n",
    "    cm = confusion_matrix(y_true, y_pred)\n",
    "    \n",
    "    # Only use the labels that appear in the data\n",
    "#     classes = classes[unique_labels(y_true, y_pred)]\n",
    "    if normalize:\n",
    "        cm = cm.astype('float') / cm.sum(axis=1)[:, np.newaxis]\n",
    "        print(\"Normalized confusion matrix\")\n",
    "    else:\n",
    "        print('Confusion matrix, without normalization')\n",
    "\n",
    "    print(cm)\n",
    "\n",
    "    fig, ax = plt.subplots()\n",
    "    ax = sns.heatmap(cm, cmap = cmap, annot=True, xticklabels=classes, yticklabels=classes)\n",
    "\n",
    "    ax.set(title=title,\n",
    "           ylabel='True label',\n",
    "           xlabel='Predicted label')\n",
    "\n",
    "    # Rotate the x labels and set their alignment\n",
    "    plt.setp(ax.get_xticklabels(), rotation=45, ha=\"right\",\n",
    "             rotation_mode=\"anchor\")\n",
    "\n",
    "    # Vertically center y labels\n",
    "    plt.setp(ax.get_yticklabels(), va=\"center\")\n",
    "    \n",
    "    bottom, top = ax.get_ylim()\n",
    "    ax.set_ylim(bottom + 0.5, top - 0.5)\n",
    "    \n",
    "    return ax"
   ]
  },
  {
   "cell_type": "code",
   "execution_count": 75,
   "metadata": {
    "ExecuteTime": {
     "end_time": "2019-10-05T01:58:23.721505Z",
     "start_time": "2019-10-05T01:58:23.526372Z"
    }
   },
   "outputs": [
    {
     "name": "stdout",
     "output_type": "stream",
     "text": [
      "Confusion matrix, without normalization\n",
      "[[17662    90]\n",
      " [ 2190    81]]\n"
     ]
    },
    {
     "data": {
      "image/png": "[encoded data removed]",
      "text/plain": [
       "<Figure size 432x288 with 2 Axes>"
      ]
     },
     "metadata": {
      "needs_background": "light"
     },
     "output_type": "display_data"
    }
   ],
   "source": [
    "# Plot non-normalized confusion matrix\n",
    "ax = plot_confusion_matrix(y_test, y_pred, classes=class_names,\n",
    "                      title='Confusion matrix, without normalization')\n",
    "\n",
    "# plt.savefig('confusion_matrix_test.png', bbox_inches=\"tight\")"
   ]
  },
  {
   "cell_type": "code",
   "execution_count": 76,
   "metadata": {
    "ExecuteTime": {
     "end_time": "2019-10-05T01:58:39.846688Z",
     "start_time": "2019-10-05T01:58:39.821699Z"
    }
   },
   "outputs": [
    {
     "data": {
      "text/plain": [
       "array([0.00000000e+00, 7.38531472e-03, 6.02615810e-05, 1.13920327e-02,\n",
       "       1.43444380e-04, 5.46818845e-05, 9.03100422e-02, 0.00000000e+00,\n",
       "       2.97790111e-05, 1.17065438e-03, 4.73011631e-04, 1.75031376e-03,\n",
       "       1.95846595e-02, 1.80081108e-02, 4.36688376e-02, 1.26350403e-02,\n",
       "       5.65913964e-04, 3.85340525e-04, 0.00000000e+00, 1.27184153e-04,\n",
       "       0.00000000e+00, 0.00000000e+00, 0.00000000e+00, 2.01446618e-06,\n",
       "       1.14865924e-04, 2.24361107e-04, 3.06640853e-02, 4.90774403e-04,\n",
       "       0.00000000e+00, 5.16895355e-04, 1.41802979e-05, 0.00000000e+00,\n",
       "       1.02621033e-02, 6.34476209e-02, 1.13487808e-04, 1.18801385e-02,\n",
       "       1.40862746e-04, 7.96625135e-06, 0.00000000e+00, 0.00000000e+00,\n",
       "       6.86128360e-03, 1.56871792e-03, 8.98106399e-04, 5.73104985e-06,\n",
       "       9.64148799e-03, 1.13927336e-04, 0.00000000e+00, 0.00000000e+00,\n",
       "       1.03563566e-05, 2.29517041e-05, 1.12538136e-04, 8.94100560e-04,\n",
       "       0.00000000e+00, 1.45157838e-04, 0.00000000e+00, 1.05910756e-04,\n",
       "       0.00000000e+00, 1.44182141e-02, 0.00000000e+00, 5.93410642e-05,\n",
       "       0.00000000e+00, 6.13574994e-06, 1.60407694e-02, 0.00000000e+00,\n",
       "       5.43630448e-04, 0.00000000e+00, 6.40952132e-05, 3.84566550e-04,\n",
       "       2.11788181e-04, 0.00000000e+00, 2.82550833e-05, 3.97492052e-04,\n",
       "       3.32069744e-06, 1.91421054e-04, 1.13113144e-04, 8.40612176e-05,\n",
       "       0.00000000e+00, 1.00255946e-03, 3.43989327e-02, 3.85408417e-04,\n",
       "       3.42955278e-06, 1.86717724e-04, 0.00000000e+00, 2.26198646e-05,\n",
       "       0.00000000e+00, 8.25657769e-04, 2.24706349e-04, 0.00000000e+00,\n",
       "       0.00000000e+00, 0.00000000e+00, 0.00000000e+00, 1.08385543e-03,\n",
       "       0.00000000e+00, 0.00000000e+00, 0.00000000e+00, 0.00000000e+00,\n",
       "       1.02632371e-03, 0.00000000e+00, 0.00000000e+00, 1.08416478e-03,\n",
       "       3.37035694e-05, 0.00000000e+00, 3.97210109e-04, 9.08892078e-05,\n",
       "       0.00000000e+00, 0.00000000e+00, 4.12669304e-03, 4.58547597e-04,\n",
       "       3.86756956e-08, 0.00000000e+00, 0.00000000e+00, 0.00000000e+00,\n",
       "       9.78765634e-05, 3.45210595e-04, 0.00000000e+00, 4.19417388e-04,\n",
       "       4.62316385e-05, 0.00000000e+00, 0.00000000e+00, 0.00000000e+00,\n",
       "       0.00000000e+00, 3.67740031e-06, 0.00000000e+00, 5.58580434e-07,\n",
       "       0.00000000e+00, 1.29874301e-05, 0.00000000e+00, 0.00000000e+00,\n",
       "       0.00000000e+00, 0.00000000e+00, 0.00000000e+00, 1.91921617e-04,\n",
       "       0.00000000e+00, 4.14653929e-06, 0.00000000e+00, 1.21081745e-04,\n",
       "       0.00000000e+00, 0.00000000e+00, 1.69863666e-06, 5.60090234e-05,\n",
       "       2.01755165e-04, 0.00000000e+00, 0.00000000e+00, 0.00000000e+00,\n",
       "       0.00000000e+00, 0.00000000e+00, 0.00000000e+00, 2.75516623e-07,\n",
       "       5.84525880e-05, 0.00000000e+00, 2.82203249e-04, 0.00000000e+00,\n",
       "       1.27668813e-05, 0.00000000e+00, 1.17863719e-05, 0.00000000e+00,\n",
       "       7.94416372e-05, 5.57810526e-05, 0.00000000e+00, 1.26034098e-04,\n",
       "       1.49847146e-04, 0.00000000e+00, 2.88890647e-03, 2.66360171e-04,\n",
       "       5.63411776e-02, 2.09605269e-03, 7.55285779e-04, 5.17044646e-04,\n",
       "       5.80329864e-05, 3.37553228e-03, 1.65497122e-04, 3.68989061e-04,\n",
       "       1.05050093e-03, 4.02114710e-04, 4.29843906e-04, 3.17659477e-04,\n",
       "       1.10342461e-03, 1.30853861e-03, 2.94548710e-05, 0.00000000e+00,\n",
       "       2.17340208e-03, 2.95332927e-04, 6.10195179e-02, 4.54414462e-04,\n",
       "       1.82227011e-03, 5.51947292e-05, 2.12849983e-04, 2.66218264e-03,\n",
       "       6.50757038e-04, 1.24272189e-04, 2.24829208e-04, 1.71988987e-04,\n",
       "       9.33269488e-04, 8.74025871e-03, 1.82732854e-04, 4.69912231e-04,\n",
       "       6.36245728e-05, 3.20955161e-05, 0.00000000e+00, 1.73375131e-03,\n",
       "       1.60407935e-04, 3.56459877e-02, 5.51639561e-04, 2.10016516e-03,\n",
       "       1.02595558e-04, 1.14479178e-04, 1.49246171e-03, 3.21695366e-04,\n",
       "       7.95724155e-05, 1.96926231e-04, 3.34108133e-04, 3.87171840e-04,\n",
       "       2.26827565e-02, 3.17754757e-04, 6.16443856e-04, 2.71651055e-04,\n",
       "       5.91004002e-04, 2.96971383e-04, 2.21640528e-03, 2.08222076e-02,\n",
       "       5.59515560e-04, 1.25537019e-04, 1.42392667e-04, 1.58537461e-05,\n",
       "       4.19865086e-05, 5.35599578e-05, 0.00000000e+00, 0.00000000e+00,\n",
       "       0.00000000e+00, 0.00000000e+00, 3.66455309e-04, 3.70737586e-04,\n",
       "       2.04990889e-05, 0.00000000e+00, 1.66853250e-03, 1.63549316e-03,\n",
       "       5.25576747e-05, 1.32768443e-03, 1.06469378e-03, 3.58812696e-05,\n",
       "       0.00000000e+00, 1.91547648e-06, 0.00000000e+00, 0.00000000e+00,\n",
       "       0.00000000e+00, 0.00000000e+00, 0.00000000e+00, 0.00000000e+00,\n",
       "       0.00000000e+00, 0.00000000e+00, 4.65939508e-02, 3.48139282e-02,\n",
       "       4.85188903e-03, 2.00673093e-02, 1.75169388e-02, 5.10323285e-04,\n",
       "       2.93386862e-02, 1.62023777e-02, 8.89615478e-03, 2.73951855e-03,\n",
       "       1.06699122e-02, 2.99047841e-03, 1.38214914e-03, 2.47359344e-03,\n",
       "       1.16682144e-01, 7.80680059e-03])"
      ]
     },
     "execution_count": 76,
     "metadata": {},
     "output_type": "execute_result"
    }
   ],
   "source": [
    "model.feature_importances_"
   ]
  },
  {
   "cell_type": "code",
   "execution_count": null,
   "metadata": {},
   "outputs": [],
   "source": []
  },
  {
   "cell_type": "code",
   "execution_count": null,
   "metadata": {},
   "outputs": [],
   "source": []
  },
  {
   "cell_type": "code",
   "execution_count": null,
   "metadata": {},
   "outputs": [],
   "source": []
  },
  {
   "cell_type": "code",
   "execution_count": null,
   "metadata": {},
   "outputs": [],
   "source": []
  },
  {
   "cell_type": "markdown",
   "metadata": {},
   "source": [
    "Combining grid search and model selection:"
   ]
  },
  {
   "cell_type": "code",
   "execution_count": null,
   "metadata": {},
   "outputs": [],
   "source": [
    "import numpy as np\n",
    "import pandas as pd\n",
    "\n",
    "from sklearn.model_selection import GridSearchCV\n",
    "\n",
    "\n",
    "class EstimatorSelectionHelper:\n",
    "\n",
    "    def __init__(self, models, params):\n",
    "        self.models = models\n",
    "        self.params = params\n",
    "        self.keys = models.keys()\n",
    "        self.grid_searches = {}\n",
    "\n",
    "    def fit(self, X, y, **grid_kwargs):\n",
    "        for key in self.keys:\n",
    "            print('Running GridSearchCV for %s.' % key)\n",
    "            model = self.models[key]\n",
    "            params = self.params[key]\n",
    "            grid_search = GridSearchCV(model, params, **grid_kwargs)\n",
    "            grid_search.fit(X, y)\n",
    "            self.grid_searches[key] = grid_search\n",
    "        print('Done.')\n",
    "\n",
    "    def score_summary(self, sort_by='mean_test_score'):\n",
    "        frames = []\n",
    "        for name, grid_search in self.grid_searches.items():\n",
    "            frame = pd.DataFrame(grid_search.cv_results_)\n",
    "            frame = frame.filter(regex='^(?!.*param_).*$')\n",
    "            frame['estimator'] = len(frame)*[name]\n",
    "            frames.append(frame)\n",
    "        df = pd.concat(frames)\n",
    "\n",
    "        df = df.sort_values([sort_by], ascending=False)\n",
    "        df = df.reset_index()\n",
    "        df = df.drop(['rank_test_score', 'index'], 1)\n",
    "\n",
    "        columns = df.columns.tolist()\n",
    "        columns.remove('estimator')\n",
    "        columns = ['estimator']+columns\n",
    "        df = df[columns]\n",
    "        return df"
   ]
  },
  {
   "cell_type": "code",
   "execution_count": null,
   "metadata": {},
   "outputs": [],
   "source": [
    "models = {\n",
    "    'ExtraTreesClassifier': ExtraTreesClassifier(),\n",
    "    'RandomForestClassifier': RandomForestClassifier(),\n",
    "    'AdaBoostClassifier': AdaBoostClassifier(),\n",
    "    'GradientBoostingClassifier': GradientBoostingClassifier()\n",
    "}\n",
    "\n",
    "params = {\n",
    "    'ExtraTreesClassifier': {'n_estimators': [16, 32]},\n",
    "    'RandomForestClassifier': [\n",
    "        {'n_estimators': [16, 32]},\n",
    "        {'criterion': ['gini', 'entropy'], 'n_estimators': [8, 16]}],\n",
    "    'AdaBoostClassifier':  {'n_estimators': [16, 32]},\n",
    "    'GradientBoostingClassifier': {'n_estimators': [16, 32], 'learning_rate': [0.8, 1.0]}\n",
    "}"
   ]
  },
  {
   "cell_type": "code",
   "execution_count": null,
   "metadata": {},
   "outputs": [],
   "source": [
    "X_train, X_test, y_train, y_test = train_test_split(\n",
    "    X, y, test_size=0.25, random_state=42, stratify=y)"
   ]
  },
  {
   "cell_type": "code",
   "execution_count": null,
   "metadata": {},
   "outputs": [],
   "source": [
    "helper = EstimatorSelectionHelper(models, params)\n",
    "helper.fit(X, y, scoring='f1', n_jobs=-1)\n",
    "helper.fit(X, y, scoring='neg_log_loss', n_jobs=-1)\n",
    "helper.score_summary()"
   ]
  }
 ],
 "metadata": {
  "kernelspec": {
   "display_name": "Python 3",
   "language": "python",
   "name": "python3"
  },
  "language_info": {
   "codemirror_mode": {
    "name": "ipython",
    "version": 3
   },
   "file_extension": ".py",
   "mimetype": "text/x-python",
   "name": "python",
   "nbconvert_exporter": "python",
   "pygments_lexer": "ipython3",
   "version": "3.7.3"
  }
 },
 "nbformat": 4,
 "nbformat_minor": 2
}
