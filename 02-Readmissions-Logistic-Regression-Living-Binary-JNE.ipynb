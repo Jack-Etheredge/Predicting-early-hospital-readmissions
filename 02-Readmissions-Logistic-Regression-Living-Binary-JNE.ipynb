{
 "cells": [
  {
   "cell_type": "markdown",
   "metadata": {},
   "source": [
    "### Classification project for logistic regression:\n",
    "\n",
    "Classifying with supervised learning whether diabetic patients are readmitted, and if they are, if it's before or after 30 days.\n",
    "\n",
    "Using the dataset from here: https://archive.ics.uci.edu/ml/datasets/Diabetes+130-US+hospitals+for+years+1999-2008"
   ]
  },
  {
   "cell_type": "code",
   "execution_count": 1,
   "metadata": {
    "ExecuteTime": {
     "end_time": "2018-05-14T21:11:31.633369Z",
     "start_time": "2018-05-14T21:11:30.060018Z"
    }
   },
   "outputs": [],
   "source": [
    "import pandas as pd\n",
    "import patsy as patsy\n",
    "import numpy as np\n",
    "import matplotlib.pyplot as plt\n",
    "import seaborn as sns\n",
    "\n",
    "from sklearn.model_selection import train_test_split\n",
    "from sklearn import preprocessing\n",
    "\n",
    "# SMOTE\n",
    "from imblearn.over_sampling import SMOTE\n",
    "\n",
    "# Undersampling\n",
    "from imblearn.under_sampling import RandomUnderSampler\n",
    "\n",
    "from sklearn import linear_model\n",
    "from sklearn.linear_model import LogisticRegression\n",
    "from sklearn.neighbors import KNeighborsClassifier\n",
    "\n",
    "from sklearn.model_selection import cross_val_score\n",
    "from sklearn.model_selection import GridSearchCV\n",
    "from sklearn import metrics\n",
    "\n",
    "import pickle"
   ]
  },
  {
   "cell_type": "code",
   "execution_count": 2,
   "metadata": {
    "ExecuteTime": {
     "end_time": "2018-05-14T21:11:32.115784Z",
     "start_time": "2018-05-14T21:11:31.635242Z"
    }
   },
   "outputs": [],
   "source": [
    "with open(\"x_liv.pkl\", 'rb') as picklefile: \n",
    "    x_liv = pickle.load(picklefile)\n",
    "\n",
    "with open(\"y_liv.pkl\", 'rb') as picklefile: \n",
    "    y_liv = pickle.load(picklefile)"
   ]
  },
  {
   "cell_type": "code",
   "execution_count": 3,
   "metadata": {
    "ExecuteTime": {
     "end_time": "2018-05-14T21:11:33.405207Z",
     "start_time": "2018-05-14T21:11:32.117645Z"
    }
   },
   "outputs": [],
   "source": [
    "with open(\"y_train_liv.pkl\", 'rb') as picklefile: \n",
    "    y_train_liv = pickle.load(picklefile)\n",
    "\n",
    "with open(\"y_test_liv.pkl\", 'rb') as picklefile: \n",
    "    y_test_liv = pickle.load(picklefile)\n",
    "\n",
    "with open(\"x_train_liv.pkl\", 'rb') as picklefile: \n",
    "    x_train_liv = pickle.load(picklefile)\n",
    "\n",
    "with open(\"x_test_liv.pkl\", 'rb') as picklefile: \n",
    "    x_test_liv = pickle.load(picklefile)\n",
    "\n",
    "with open(\"x_train_scaled_liv.pkl\", 'rb') as picklefile: \n",
    "    x_train_scaled_liv = pickle.load(picklefile)\n",
    "\n",
    "with open(\"x_test_scaled_liv.pkl\", 'rb') as picklefile: \n",
    "    x_test_scaled_liv = pickle.load(picklefile)\n",
    "    \n",
    "with open(\"x_scaled_liv.pkl\", 'rb') as picklefile: \n",
    "    x_scaled_liv = pickle.load(picklefile)\n",
    "\n",
    "with open(\"patientdataICD9_liv.pkl\", 'rb') as picklefile: \n",
    "    patientdataICD9_liv = pickle.load(picklefile)"
   ]
  },
  {
   "cell_type": "code",
   "execution_count": 4,
   "metadata": {
    "ExecuteTime": {
     "end_time": "2018-05-14T21:11:33.409802Z",
     "start_time": "2018-05-14T21:11:33.407039Z"
    }
   },
   "outputs": [],
   "source": [
    "# using the scaled x-train and x-test because it's Logistic\n",
    "x_train = x_train_scaled_liv\n",
    "y_train = y_train_liv\n",
    "x_test = x_test_scaled_liv\n",
    "y_test = y_test_liv\n",
    "x = x_scaled_liv\n",
    "y = y_liv"
   ]
  },
  {
   "cell_type": "code",
   "execution_count": 5,
   "metadata": {
    "ExecuteTime": {
     "end_time": "2018-05-14T21:11:34.349043Z",
     "start_time": "2018-05-14T21:11:34.207867Z"
    }
   },
   "outputs": [],
   "source": [
    "y = y.str.replace('>30','NO')\n",
    "y_test = y_test.str.replace('>30','NO')\n",
    "y_train = y_train.str.replace('>30','NO')"
   ]
  },
  {
   "cell_type": "code",
   "execution_count": null,
   "metadata": {},
   "outputs": [],
   "source": []
  },
  {
   "cell_type": "markdown",
   "metadata": {},
   "source": [
    "#### Logistic regression with test/train split (25% for test):"
   ]
  },
  {
   "cell_type": "code",
   "execution_count": 7,
   "metadata": {
    "ExecuteTime": {
     "end_time": "2018-05-08T20:29:05.725220Z",
     "start_time": "2018-05-08T20:29:04.111427Z"
    }
   },
   "outputs": [],
   "source": [
    "# this is being pulled in from pickle\n",
    "\n",
    "#x_train, x_test, y_train, y_test = train_test_split(x, y, test_size=0.25, random_state=42, stratify=y)"
   ]
  },
  {
   "cell_type": "code",
   "execution_count": 29,
   "metadata": {
    "ExecuteTime": {
     "end_time": "2018-05-14T21:19:16.766990Z",
     "start_time": "2018-05-14T21:19:11.582360Z"
    }
   },
   "outputs": [
    {
     "data": {
      "text/plain": [
       "LogisticRegression(C=1.0, class_weight='balanced', dual=False,\n",
       "          fit_intercept=True, intercept_scaling=1, max_iter=100,\n",
       "          multi_class='ovr', n_jobs=1, penalty='l2', random_state=None,\n",
       "          solver='liblinear', tol=0.0001, verbose=0, warm_start=False)"
      ]
     },
     "execution_count": 29,
     "metadata": {},
     "output_type": "execute_result"
    }
   ],
   "source": [
    "lrmodel = linear_model.LogisticRegression(class_weight=\"balanced\")\n",
    "lrmodel.fit(x_train,y_train)\n",
    "#lrmodel.score(x_test,y_test)"
   ]
  },
  {
   "cell_type": "code",
   "execution_count": 30,
   "metadata": {
    "ExecuteTime": {
     "end_time": "2018-05-14T21:19:17.085966Z",
     "start_time": "2018-05-14T21:19:16.768827Z"
    }
   },
   "outputs": [
    {
     "name": "stdout",
     "output_type": "stream",
     "text": [
      "Accuracy: 0.670\n",
      "             precision    recall  f1-score   support\n",
      "\n",
      "        <30       0.19      0.57      0.28      2839\n",
      "         NO       0.93      0.68      0.79     22190\n",
      "\n",
      "avg / total       0.84      0.67      0.73     25029\n",
      "\n"
     ]
    }
   ],
   "source": [
    "# This code achieves the same thing as lrmodel.score(x_test,y_test)\n",
    "\n",
    "# Predict on test\n",
    "y_pred = lrmodel.predict(x_test)\n",
    "\n",
    "# Score on test\n",
    "score = metrics.accuracy_score(y_test, y_pred)\n",
    "#print(score)\n",
    "print(\"Accuracy: %.3f\"% score)\n",
    "print(metrics.classification_report(y_test, y_pred))"
   ]
  },
  {
   "cell_type": "markdown",
   "metadata": {
    "ExecuteTime": {
     "end_time": "2018-05-05T20:11:39.386128Z",
     "start_time": "2018-05-04T19:46:42.534Z"
    }
   },
   "source": [
    "#### Logistic regression with cross-validation:"
   ]
  },
  {
   "cell_type": "code",
   "execution_count": 31,
   "metadata": {
    "ExecuteTime": {
     "end_time": "2018-05-14T21:20:35.818531Z",
     "start_time": "2018-05-14T21:19:33.329225Z"
    }
   },
   "outputs": [
    {
     "name": "stdout",
     "output_type": "stream",
     "text": [
      "0.6647017964057517\n"
     ]
    }
   ],
   "source": [
    "# 10-fold cross-validation with logistic regression\n",
    "# stratifying the Kfold splits is default in CV\n",
    "# returning the average score\n",
    "print(cross_val_score(lrmodel, x, y, cv=10, scoring='accuracy').mean())"
   ]
  },
  {
   "cell_type": "code",
   "execution_count": 32,
   "metadata": {
    "ExecuteTime": {
     "end_time": "2018-05-14T21:20:35.827758Z",
     "start_time": "2018-05-14T21:20:35.820755Z"
    }
   },
   "outputs": [
    {
     "data": {
      "text/plain": [
       "array(['NO', '<30'], dtype=object)"
      ]
     },
     "execution_count": 32,
     "metadata": {},
     "output_type": "execute_result"
    }
   ],
   "source": [
    "y_test.unique()"
   ]
  },
  {
   "cell_type": "code",
   "execution_count": 33,
   "metadata": {
    "ExecuteTime": {
     "end_time": "2018-05-14T21:20:36.198367Z",
     "start_time": "2018-05-14T21:20:35.830398Z"
    }
   },
   "outputs": [
    {
     "data": {
      "image/png": "[encoded data removed]",
      "text/plain": [
       "<Figure size 720x720 with 2 Axes>"
      ]
     },
     "metadata": {},
     "output_type": "display_data"
    }
   ],
   "source": [
    "cm = metrics.confusion_matrix(y_test, y_pred, labels=list(y_test.unique()))\n",
    "cm = cm.astype('float') / cm.sum(axis=1)[:, np.newaxis]\n",
    "\n",
    "plt.figure(figsize=(10,10))\n",
    "sns.heatmap(cm, annot=True, fmt=\".3f\", linewidths=.5, square = True, cmap = 'Blues_r');\n",
    "plt.ylabel('Actual label');\n",
    "plt.xlabel('Predicted label');\n",
    "all_sample_title = 'Accuracy Score: {0}'.format(score)\n",
    "plt.title(all_sample_title, size = 15);"
   ]
  },
  {
   "cell_type": "code",
   "execution_count": 34,
   "metadata": {
    "ExecuteTime": {
     "end_time": "2018-05-14T21:20:36.204783Z",
     "start_time": "2018-05-14T21:20:36.200051Z"
    }
   },
   "outputs": [
    {
     "data": {
      "text/plain": [
       "array([[0.68273997, 0.31726003],\n",
       "       [0.42831983, 0.57168017]])"
      ]
     },
     "execution_count": 34,
     "metadata": {},
     "output_type": "execute_result"
    }
   ],
   "source": [
    "cm = cm.astype('float') / cm.sum(axis=1)[:, np.newaxis]\n",
    "cm"
   ]
  },
  {
   "cell_type": "code",
   "execution_count": 35,
   "metadata": {
    "ExecuteTime": {
     "end_time": "2018-05-14T21:20:36.453040Z",
     "start_time": "2018-05-14T21:20:36.206258Z"
    }
   },
   "outputs": [
    {
     "name": "stdout",
     "output_type": "stream",
     "text": [
      "Accuracy: 0.670\n",
      "             precision    recall  f1-score   support\n",
      "\n",
      "        <30       0.19      0.57      0.28      2839\n",
      "         NO       0.93      0.68      0.79     22190\n",
      "\n",
      "avg / total       0.84      0.67      0.73     25029\n",
      "\n"
     ]
    }
   ],
   "source": [
    "print(\"Accuracy: %.3f\"% metrics.accuracy_score(y_test, y_pred))\n",
    "print(metrics.classification_report(y_test, y_pred))"
   ]
  },
  {
   "cell_type": "code",
   "execution_count": 36,
   "metadata": {
    "ExecuteTime": {
     "end_time": "2018-05-14T21:20:36.459558Z",
     "start_time": "2018-05-14T21:20:36.455430Z"
    }
   },
   "outputs": [
    {
     "data": {
      "text/plain": [
       "(1, 266)"
      ]
     },
     "execution_count": 36,
     "metadata": {},
     "output_type": "execute_result"
    }
   ],
   "source": [
    "lrmodel.coef_.shape"
   ]
  },
  {
   "cell_type": "markdown",
   "metadata": {},
   "source": [
    "#### Get the coefficients:"
   ]
  },
  {
   "cell_type": "code",
   "execution_count": 37,
   "metadata": {
    "ExecuteTime": {
     "end_time": "2018-05-14T21:20:36.465010Z",
     "start_time": "2018-05-14T21:20:36.461393Z"
    }
   },
   "outputs": [],
   "source": [
    "coefficients = pd.DataFrame({\"Feature\":x.columns,\"Coefficients\":np.transpose(lrmodel.coef_[0,])})"
   ]
  },
  {
   "cell_type": "code",
   "execution_count": 38,
   "metadata": {
    "ExecuteTime": {
     "end_time": "2018-05-14T21:20:36.470063Z",
     "start_time": "2018-05-14T21:20:36.466767Z"
    }
   },
   "outputs": [],
   "source": [
    "coefficients['abs_val_coef'] = coefficients.Coefficients.abs()"
   ]
  },
  {
   "cell_type": "code",
   "execution_count": 39,
   "metadata": {
    "ExecuteTime": {
     "end_time": "2018-05-14T21:20:36.482385Z",
     "start_time": "2018-05-14T21:20:36.471921Z"
    }
   },
   "outputs": [
    {
     "data": {
      "text/html": [
       "<div>\n",
       "<style scoped>\n",
       "    .dataframe tbody tr th:only-of-type {\n",
       "        vertical-align: middle;\n",
       "    }\n",
       "\n",
       "    .dataframe tbody tr th {\n",
       "        vertical-align: top;\n",
       "    }\n",
       "\n",
       "    .dataframe thead th {\n",
       "        text-align: right;\n",
       "    }\n",
       "</style>\n",
       "<table border=\"1\" class=\"dataframe\">\n",
       "  <thead>\n",
       "    <tr style=\"text-align: right;\">\n",
       "      <th></th>\n",
       "      <th>Coefficients</th>\n",
       "      <th>Feature</th>\n",
       "      <th>abs_val_coef</th>\n",
       "    </tr>\n",
       "  </thead>\n",
       "  <tbody>\n",
       "    <tr>\n",
       "      <th>101</th>\n",
       "      <td>1.957845</td>\n",
       "      <td>medical_specialty[T.Gynecology]</td>\n",
       "      <td>1.957845</td>\n",
       "    </tr>\n",
       "    <tr>\n",
       "      <th>48</th>\n",
       "      <td>1.630531</td>\n",
       "      <td>discharge_disposition_id[T.Hospice / home]</td>\n",
       "      <td>1.630531</td>\n",
       "    </tr>\n",
       "    <tr>\n",
       "      <th>31</th>\n",
       "      <td>1.491997</td>\n",
       "      <td>admission_type_id[T.Trauma Center]</td>\n",
       "      <td>1.491997</td>\n",
       "    </tr>\n",
       "    <tr>\n",
       "      <th>125</th>\n",
       "      <td>1.459379</td>\n",
       "      <td>medical_specialty[T.Pediatrics-Endocrinology]</td>\n",
       "      <td>1.459379</td>\n",
       "    </tr>\n",
       "    <tr>\n",
       "      <th>197</th>\n",
       "      <td>1.410071</td>\n",
       "      <td>diag_3[T.Complications Of Pregnancy, Childbirt...</td>\n",
       "      <td>1.410071</td>\n",
       "    </tr>\n",
       "    <tr>\n",
       "      <th>226</th>\n",
       "      <td>1.402369</td>\n",
       "      <td>nateglinide[T.Up]</td>\n",
       "      <td>1.402369</td>\n",
       "    </tr>\n",
       "    <tr>\n",
       "      <th>178</th>\n",
       "      <td>1.396141</td>\n",
       "      <td>diag_2[T.Complications Of Pregnancy, Childbirt...</td>\n",
       "      <td>1.396141</td>\n",
       "    </tr>\n",
       "    <tr>\n",
       "      <th>47</th>\n",
       "      <td>1.285121</td>\n",
       "      <td>discharge_disposition_id[T.Discharged/transfer...</td>\n",
       "      <td>1.285121</td>\n",
       "    </tr>\n",
       "    <tr>\n",
       "      <th>46</th>\n",
       "      <td>1.253131</td>\n",
       "      <td>discharge_disposition_id[T.Discharged/transfer...</td>\n",
       "      <td>1.253131</td>\n",
       "    </tr>\n",
       "    <tr>\n",
       "      <th>118</th>\n",
       "      <td>1.249518</td>\n",
       "      <td>medical_specialty[T.Otolaryngology]</td>\n",
       "      <td>1.249518</td>\n",
       "    </tr>\n",
       "  </tbody>\n",
       "</table>\n",
       "</div>"
      ],
      "text/plain": [
       "     Coefficients                                            Feature  \\\n",
       "101      1.957845                    medical_specialty[T.Gynecology]   \n",
       "48       1.630531         discharge_disposition_id[T.Hospice / home]   \n",
       "31       1.491997                 admission_type_id[T.Trauma Center]   \n",
       "125      1.459379      medical_specialty[T.Pediatrics-Endocrinology]   \n",
       "197      1.410071  diag_3[T.Complications Of Pregnancy, Childbirt...   \n",
       "226      1.402369                                  nateglinide[T.Up]   \n",
       "178      1.396141  diag_2[T.Complications Of Pregnancy, Childbirt...   \n",
       "47       1.285121  discharge_disposition_id[T.Discharged/transfer...   \n",
       "46       1.253131  discharge_disposition_id[T.Discharged/transfer...   \n",
       "118      1.249518                medical_specialty[T.Otolaryngology]   \n",
       "\n",
       "     abs_val_coef  \n",
       "101      1.957845  \n",
       "48       1.630531  \n",
       "31       1.491997  \n",
       "125      1.459379  \n",
       "197      1.410071  \n",
       "226      1.402369  \n",
       "178      1.396141  \n",
       "47       1.285121  \n",
       "46       1.253131  \n",
       "118      1.249518  "
      ]
     },
     "execution_count": 39,
     "metadata": {},
     "output_type": "execute_result"
    }
   ],
   "source": [
    "coefficients.sort_values(by=['abs_val_coef'], ascending=False).head(10)"
   ]
  },
  {
   "cell_type": "markdown",
   "metadata": {
    "ExecuteTime": {
     "start_time": "2018-05-08T20:09:58.740Z"
    }
   },
   "source": [
    "#### Grid search Logistic Regression:"
   ]
  },
  {
   "cell_type": "code",
   "execution_count": 40,
   "metadata": {
    "ExecuteTime": {
     "end_time": "2018-05-14T21:20:36.485777Z",
     "start_time": "2018-05-14T21:20:36.483807Z"
    }
   },
   "outputs": [],
   "source": [
    "# list(np.arange(0.0, 10.0, 0.1))"
   ]
  },
  {
   "cell_type": "code",
   "execution_count": 41,
   "metadata": {
    "ExecuteTime": {
     "end_time": "2018-05-14T21:20:36.490560Z",
     "start_time": "2018-05-14T21:20:36.487316Z"
    }
   },
   "outputs": [],
   "source": [
    "# define the parameter values that should be searched\n",
    "C_range = list(np.arange(0.1, 1.0, 0.1))\n",
    "\n",
    "# Logistic regression defaults to L2 normalization\n",
    "\n",
    "# create a parameter grid: map the parameter names to the values that should be searched \n",
    "param_grid = dict(C=C_range)\n",
    "\n",
    "# instantiate the grid\n",
    "grid = GridSearchCV(lrmodel, param_grid, cv=10, scoring='accuracy')"
   ]
  },
  {
   "cell_type": "code",
   "execution_count": 42,
   "metadata": {
    "ExecuteTime": {
     "end_time": "2018-05-14T21:28:00.866264Z",
     "start_time": "2018-05-14T21:20:36.492506Z"
    }
   },
   "outputs": [],
   "source": [
    "# fit the grid with data \n",
    "grid.fit(x, y);"
   ]
  },
  {
   "cell_type": "code",
   "execution_count": 43,
   "metadata": {
    "ExecuteTime": {
     "end_time": "2018-05-14T21:28:00.876896Z",
     "start_time": "2018-05-14T21:28:00.868309Z"
    }
   },
   "outputs": [
    {
     "name": "stderr",
     "output_type": "stream",
     "text": [
      "/Users/etheredgej/anaconda/lib/python3.6/site-packages/sklearn/model_selection/_search.py:761: DeprecationWarning: The grid_scores_ attribute was deprecated in version 0.18 in favor of the more elaborate cv_results_ attribute. The grid_scores_ attribute will not be available from 0.20\n",
      "  DeprecationWarning)\n"
     ]
    },
    {
     "data": {
      "text/plain": [
       "[mean: 0.66548, std: 0.03442, params: {'C': 0.1},\n",
       " mean: 0.66508, std: 0.03491, params: {'C': 0.2},\n",
       " mean: 0.66511, std: 0.03507, params: {'C': 0.30000000000000004},\n",
       " mean: 0.66497, std: 0.03516, params: {'C': 0.4},\n",
       " mean: 0.66486, std: 0.03517, params: {'C': 0.5},\n",
       " mean: 0.66475, std: 0.03513, params: {'C': 0.6},\n",
       " mean: 0.66473, std: 0.03512, params: {'C': 0.7000000000000001},\n",
       " mean: 0.66470, std: 0.03511, params: {'C': 0.8},\n",
       " mean: 0.66471, std: 0.03512, params: {'C': 0.9}]"
      ]
     },
     "execution_count": 43,
     "metadata": {},
     "output_type": "execute_result"
    }
   ],
   "source": [
    "# view the complete results (list of named tuples)\n",
    "grid.grid_scores_"
   ]
  },
  {
   "cell_type": "code",
   "execution_count": 44,
   "metadata": {
    "ExecuteTime": {
     "end_time": "2018-05-14T21:28:00.882716Z",
     "start_time": "2018-05-14T21:28:00.879199Z"
    }
   },
   "outputs": [
    {
     "name": "stdout",
     "output_type": "stream",
     "text": [
      "0.6654813512595641\n",
      "{'C': 0.1}\n",
      "LogisticRegression(C=0.1, class_weight='balanced', dual=False,\n",
      "          fit_intercept=True, intercept_scaling=1, max_iter=100,\n",
      "          multi_class='ovr', n_jobs=1, penalty='l2', random_state=None,\n",
      "          solver='liblinear', tol=0.0001, verbose=0, warm_start=False)\n"
     ]
    }
   ],
   "source": [
    "# examine the best model\n",
    "print(grid.best_score_)\n",
    "print(grid.best_params_)\n",
    "print(grid.best_estimator_)"
   ]
  },
  {
   "cell_type": "markdown",
   "metadata": {},
   "source": [
    "#### Using GridSearchCV, I found that a lower C than default performs better, but trivially so\n",
    "0.581 for C=0.1 vs 0.578 for C=1"
   ]
  },
  {
   "cell_type": "code",
   "execution_count": null,
   "metadata": {},
   "outputs": [],
   "source": []
  },
  {
   "cell_type": "markdown",
   "metadata": {},
   "source": [
    "#### Random undersampling:"
   ]
  },
  {
   "cell_type": "code",
   "execution_count": 13,
   "metadata": {
    "ExecuteTime": {
     "end_time": "2018-05-14T21:13:33.482431Z",
     "start_time": "2018-05-14T21:13:33.094687Z"
    }
   },
   "outputs": [],
   "source": [
    "rus = RandomUnderSampler(random_state=0)\n",
    "x_train_undersampled, y_train_undersampled = rus.fit_sample(x_train, y_train)"
   ]
  },
  {
   "cell_type": "code",
   "execution_count": 14,
   "metadata": {
    "ExecuteTime": {
     "end_time": "2018-05-14T21:13:34.599487Z",
     "start_time": "2018-05-14T21:13:34.142222Z"
    }
   },
   "outputs": [
    {
     "data": {
      "text/plain": [
       "LogisticRegression(C=1.0, class_weight='balanced', dual=False,\n",
       "          fit_intercept=True, intercept_scaling=1, max_iter=100,\n",
       "          multi_class='ovr', n_jobs=1, penalty='l2', random_state=None,\n",
       "          solver='liblinear', tol=0.0001, verbose=0, warm_start=False)"
      ]
     },
     "execution_count": 14,
     "metadata": {},
     "output_type": "execute_result"
    }
   ],
   "source": [
    "lrmodel.fit(x_train_undersampled, y_train_undersampled)"
   ]
  },
  {
   "cell_type": "code",
   "execution_count": 15,
   "metadata": {
    "ExecuteTime": {
     "end_time": "2018-05-14T21:13:39.996928Z",
     "start_time": "2018-05-14T21:13:39.733858Z"
    }
   },
   "outputs": [
    {
     "name": "stdout",
     "output_type": "stream",
     "text": [
      "Accuracy: 0.662\n",
      "             precision    recall  f1-score   support\n",
      "\n",
      "        <30       0.19      0.58      0.28      2839\n",
      "         NO       0.93      0.67      0.78     22190\n",
      "\n",
      "avg / total       0.84      0.66      0.72     25029\n",
      "\n"
     ]
    }
   ],
   "source": [
    "# Predict on test\n",
    "y_pred = lrmodel.predict(x_test)\n",
    "\n",
    "# Score on test\n",
    "score = metrics.accuracy_score(y_test, y_pred)\n",
    "#print(score)\n",
    "print(\"Accuracy: %.3f\"% score)\n",
    "print(metrics.classification_report(y_test, y_pred))"
   ]
  },
  {
   "cell_type": "code",
   "execution_count": 45,
   "metadata": {
    "ExecuteTime": {
     "end_time": "2018-05-15T20:37:38.552031Z",
     "start_time": "2018-05-15T20:37:38.311316Z"
    }
   },
   "outputs": [
    {
     "data": {
      "text/plain": [
       "Text(0.5,1,'Precision Recall Curve')"
      ]
     },
     "execution_count": 45,
     "metadata": {},
     "output_type": "execute_result"
    },
    {
     "data": {
      "image/png": "[encoded data removed]",
      "text/plain": [
       "<Figure size 432x288 with 1 Axes>"
      ]
     },
     "metadata": {},
     "output_type": "display_data"
    }
   ],
   "source": [
    "from sklearn.metrics import precision_recall_curve\n",
    "\n",
    "y_test_num = y_test.copy()\n",
    "y_test_num = y_test_num.replace('NO', 0)\n",
    "y_test_num = y_test_num.replace('<30', 1)\n",
    "\n",
    "model = lrmodel\n",
    "\n",
    "y_score = model.predict_proba(x_test)[:, 1]\n",
    "p, r, t = precision_recall_curve(y_test_num, y_score)\n",
    "\n",
    "# adding last threshold of '1' to threshold list\n",
    "t = np.vstack([t.reshape([-1, 1]), 1])\n",
    "\n",
    "plt.plot(t, p)\n",
    "plt.plot(t, r)\n",
    "plt.title('Precision Recall Curve')\n",
    "# yellow = recall\n",
    "# blue = precision"
   ]
  },
  {
   "cell_type": "code",
   "execution_count": 17,
   "metadata": {
    "ExecuteTime": {
     "end_time": "2018-05-11T02:14:15.631666Z",
     "start_time": "2018-05-11T02:14:15.628292Z"
    }
   },
   "outputs": [],
   "source": [
    "# define the parameter values that should be searched\n",
    "C_range = list(np.arange(0.1, 1.0, 0.1))\n",
    "\n",
    "# Logistic regression defaults to L2 normalization\n",
    "\n",
    "# create a parameter grid: map the parameter names to the values that should be searched \n",
    "param_grid = dict(C=C_range)\n",
    "\n",
    "# instantiate the grid\n",
    "grid = GridSearchCV(lrmodel, param_grid, cv=3, scoring='recall_micro')"
   ]
  },
  {
   "cell_type": "code",
   "execution_count": 20,
   "metadata": {
    "ExecuteTime": {
     "end_time": "2018-05-11T02:14:45.504045Z",
     "start_time": "2018-05-11T02:14:45.054268Z"
    }
   },
   "outputs": [],
   "source": [
    "x_scaled_undersampled, y_undersampled = rus.fit_sample(x_scaled_liv, y)"
   ]
  },
  {
   "cell_type": "code",
   "execution_count": 21,
   "metadata": {
    "ExecuteTime": {
     "end_time": "2018-05-11T02:14:58.944505Z",
     "start_time": "2018-05-11T02:14:48.405827Z"
    }
   },
   "outputs": [],
   "source": [
    "# fit the grid with data \n",
    "grid.fit(x_scaled_undersampled, y_undersampled);"
   ]
  },
  {
   "cell_type": "code",
   "execution_count": 22,
   "metadata": {
    "ExecuteTime": {
     "end_time": "2018-05-11T02:15:06.709697Z",
     "start_time": "2018-05-11T02:15:06.705527Z"
    }
   },
   "outputs": [
    {
     "name": "stdout",
     "output_type": "stream",
     "text": [
      "0.4871885180945672\n",
      "{'C': 0.1}\n",
      "LogisticRegression(C=0.1, class_weight=None, dual=False, fit_intercept=True,\n",
      "          intercept_scaling=1, max_iter=100, multi_class='ovr', n_jobs=1,\n",
      "          penalty='l2', random_state=None, solver='liblinear', tol=0.0001,\n",
      "          verbose=0, warm_start=False)\n"
     ]
    }
   ],
   "source": [
    "# examine the best model\n",
    "print(grid.best_score_)\n",
    "print(grid.best_params_)\n",
    "print(grid.best_estimator_)"
   ]
  },
  {
   "cell_type": "code",
   "execution_count": 23,
   "metadata": {
    "ExecuteTime": {
     "end_time": "2018-05-11T02:15:43.369200Z",
     "start_time": "2018-05-11T02:15:42.920502Z"
    }
   },
   "outputs": [
    {
     "name": "stdout",
     "output_type": "stream",
     "text": [
      "Accuracy: 0.666\n",
      "             precision    recall  f1-score   support\n",
      "\n",
      "        <30       0.19      0.58      0.28      2839\n",
      "         NO       0.93      0.68      0.78     22190\n",
      "\n",
      "avg / total       0.84      0.67      0.73     25029\n",
      "\n"
     ]
    }
   ],
   "source": [
    "lrmodel = linear_model.LogisticRegression(C=0.1)\n",
    "lrmodel.fit(x_train_undersampled, y_train_undersampled)\n",
    "# Predict on test\n",
    "y_pred = lrmodel.predict(x_test)\n",
    "\n",
    "# Score on test\n",
    "score = metrics.accuracy_score(y_test, y_pred)\n",
    "#print(score)\n",
    "print(\"Accuracy: %.3f\"% score)\n",
    "print(metrics.classification_report(y_test, y_pred))"
   ]
  },
  {
   "cell_type": "markdown",
   "metadata": {},
   "source": [
    "#### Get the coefficients:"
   ]
  },
  {
   "cell_type": "code",
   "execution_count": 26,
   "metadata": {
    "ExecuteTime": {
     "end_time": "2018-05-11T00:43:24.336505Z",
     "start_time": "2018-05-11T00:43:24.329814Z"
    }
   },
   "outputs": [],
   "source": [
    "coefficients = pd.DataFrame({\"Feature\":x.columns,\"Coefficients\":np.transpose(lrmodel.coef_[0,])})"
   ]
  },
  {
   "cell_type": "code",
   "execution_count": 27,
   "metadata": {
    "ExecuteTime": {
     "end_time": "2018-05-11T00:43:25.455124Z",
     "start_time": "2018-05-11T00:43:25.449293Z"
    }
   },
   "outputs": [],
   "source": [
    "coefficients['abs_val_coef'] = coefficients.Coefficients.abs()"
   ]
  },
  {
   "cell_type": "code",
   "execution_count": 28,
   "metadata": {
    "ExecuteTime": {
     "end_time": "2018-05-11T00:43:25.737461Z",
     "start_time": "2018-05-11T00:43:25.707804Z"
    },
    "scrolled": true
   },
   "outputs": [
    {
     "data": {
      "text/html": [
       "<div>\n",
       "<style scoped>\n",
       "    .dataframe tbody tr th:only-of-type {\n",
       "        vertical-align: middle;\n",
       "    }\n",
       "\n",
       "    .dataframe tbody tr th {\n",
       "        vertical-align: top;\n",
       "    }\n",
       "\n",
       "    .dataframe thead th {\n",
       "        text-align: right;\n",
       "    }\n",
       "</style>\n",
       "<table border=\"1\" class=\"dataframe\">\n",
       "  <thead>\n",
       "    <tr style=\"text-align: right;\">\n",
       "      <th></th>\n",
       "      <th>Coefficients</th>\n",
       "      <th>Feature</th>\n",
       "      <th>abs_val_coef</th>\n",
       "    </tr>\n",
       "  </thead>\n",
       "  <tbody>\n",
       "    <tr>\n",
       "      <th>48</th>\n",
       "      <td>-1.926929</td>\n",
       "      <td>discharge_disposition_id[T.Expired]</td>\n",
       "      <td>1.926929</td>\n",
       "    </tr>\n",
       "    <tr>\n",
       "      <th>40</th>\n",
       "      <td>1.099186</td>\n",
       "      <td>discharge_disposition_id[T.Discharged/transfer...</td>\n",
       "      <td>1.099186</td>\n",
       "    </tr>\n",
       "    <tr>\n",
       "      <th>51</th>\n",
       "      <td>-0.731982</td>\n",
       "      <td>discharge_disposition_id[T.Hospice / home]</td>\n",
       "      <td>0.731982</td>\n",
       "    </tr>\n",
       "    <tr>\n",
       "      <th>42</th>\n",
       "      <td>0.675508</td>\n",
       "      <td>discharge_disposition_id[T.Discharged/transfer...</td>\n",
       "      <td>0.675508</td>\n",
       "    </tr>\n",
       "    <tr>\n",
       "      <th>36</th>\n",
       "      <td>0.632479</td>\n",
       "      <td>discharge_disposition_id[T.Discharged/transfer...</td>\n",
       "      <td>0.632479</td>\n",
       "    </tr>\n",
       "    <tr>\n",
       "      <th>105</th>\n",
       "      <td>0.610922</td>\n",
       "      <td>medical_specialty[T.Hematology]</td>\n",
       "      <td>0.610922</td>\n",
       "    </tr>\n",
       "    <tr>\n",
       "      <th>37</th>\n",
       "      <td>-0.509578</td>\n",
       "      <td>discharge_disposition_id[T.Discharged/transfer...</td>\n",
       "      <td>0.509578</td>\n",
       "    </tr>\n",
       "    <tr>\n",
       "      <th>45</th>\n",
       "      <td>0.493708</td>\n",
       "      <td>discharge_disposition_id[T.Discharged/transfer...</td>\n",
       "      <td>0.493708</td>\n",
       "    </tr>\n",
       "    <tr>\n",
       "      <th>151</th>\n",
       "      <td>-0.411070</td>\n",
       "      <td>medical_specialty[T.Surgery-Cardiovascular/Tho...</td>\n",
       "      <td>0.411070</td>\n",
       "    </tr>\n",
       "    <tr>\n",
       "      <th>181</th>\n",
       "      <td>-0.410666</td>\n",
       "      <td>diag_2[T.Complications Of Pregnancy, Childbirt...</td>\n",
       "      <td>0.410666</td>\n",
       "    </tr>\n",
       "  </tbody>\n",
       "</table>\n",
       "</div>"
      ],
      "text/plain": [
       "     Coefficients                                            Feature  \\\n",
       "48      -1.926929                discharge_disposition_id[T.Expired]   \n",
       "40       1.099186  discharge_disposition_id[T.Discharged/transfer...   \n",
       "51      -0.731982         discharge_disposition_id[T.Hospice / home]   \n",
       "42       0.675508  discharge_disposition_id[T.Discharged/transfer...   \n",
       "36       0.632479  discharge_disposition_id[T.Discharged/transfer...   \n",
       "105      0.610922                    medical_specialty[T.Hematology]   \n",
       "37      -0.509578  discharge_disposition_id[T.Discharged/transfer...   \n",
       "45       0.493708  discharge_disposition_id[T.Discharged/transfer...   \n",
       "151     -0.411070  medical_specialty[T.Surgery-Cardiovascular/Tho...   \n",
       "181     -0.410666  diag_2[T.Complications Of Pregnancy, Childbirt...   \n",
       "\n",
       "     abs_val_coef  \n",
       "48       1.926929  \n",
       "40       1.099186  \n",
       "51       0.731982  \n",
       "42       0.675508  \n",
       "36       0.632479  \n",
       "105      0.610922  \n",
       "37       0.509578  \n",
       "45       0.493708  \n",
       "151      0.411070  \n",
       "181      0.410666  "
      ]
     },
     "execution_count": 28,
     "metadata": {},
     "output_type": "execute_result"
    }
   ],
   "source": [
    "coefficients.sort_values(by=['abs_val_coef'], ascending=False).head(10)"
   ]
  },
  {
   "cell_type": "code",
   "execution_count": null,
   "metadata": {},
   "outputs": [],
   "source": []
  },
  {
   "cell_type": "code",
   "execution_count": null,
   "metadata": {},
   "outputs": [],
   "source": []
  },
  {
   "cell_type": "code",
   "execution_count": 63,
   "metadata": {
    "ExecuteTime": {
     "end_time": "2018-05-10T23:37:54.067821Z",
     "start_time": "2018-05-10T23:37:54.063023Z"
    }
   },
   "outputs": [],
   "source": [
    "# define the parameter values that should be searched\n",
    "C_range = list(np.arange(0.1, 1.0, 0.1))\n",
    "\n",
    "# Logistic regression defaults to L2 normalization\n",
    "\n",
    "# create a parameter grid: map the parameter names to the values that should be searched \n",
    "param_grid = dict(C=C_range)\n",
    "\n",
    "# instantiate the grid\n",
    "grid = GridSearchCV(lrmodel, param_grid, cv=10, scoring='accuracy')"
   ]
  },
  {
   "cell_type": "code",
   "execution_count": null,
   "metadata": {
    "ExecuteTime": {
     "end_time": "2018-05-10T23:50:18.600643Z",
     "start_time": "2018-05-10T23:48:10.938Z"
    }
   },
   "outputs": [],
   "source": [
    "# fit the grid with data \n",
    "grid.fit(x_scaled, y);"
   ]
  },
  {
   "cell_type": "code",
   "execution_count": null,
   "metadata": {
    "ExecuteTime": {
     "end_time": "2018-05-10T23:50:18.601644Z",
     "start_time": "2018-05-10T23:48:11.753Z"
    }
   },
   "outputs": [],
   "source": [
    "# examine the best model\n",
    "print(grid.best_score_)\n",
    "print(grid.best_params_)\n",
    "print(grid.best_estimator_)"
   ]
  },
  {
   "cell_type": "code",
   "execution_count": null,
   "metadata": {
    "ExecuteTime": {
     "end_time": "2018-05-11T00:07:13.635522Z",
     "start_time": "2018-05-11T00:07:13.629791Z"
    }
   },
   "outputs": [],
   "source": []
  },
  {
   "cell_type": "code",
   "execution_count": null,
   "metadata": {},
   "outputs": [],
   "source": []
  },
  {
   "cell_type": "code",
   "execution_count": 23,
   "metadata": {
    "ExecuteTime": {
     "end_time": "2018-05-14T21:15:55.749893Z",
     "start_time": "2018-05-14T21:15:26.441072Z"
    }
   },
   "outputs": [],
   "source": [
    "poly = preprocessing.PolynomialFeatures(2, interaction_only=True)\n",
    "x_train_poly_undersampled = poly.fit_transform(x_train_undersampled)"
   ]
  },
  {
   "cell_type": "code",
   "execution_count": 24,
   "metadata": {
    "ExecuteTime": {
     "end_time": "2018-05-14T21:15:55.755493Z",
     "start_time": "2018-05-14T21:15:55.751845Z"
    }
   },
   "outputs": [
    {
     "data": {
      "text/plain": [
       "(17036, 35512)"
      ]
     },
     "execution_count": 24,
     "metadata": {},
     "output_type": "execute_result"
    }
   ],
   "source": [
    "x_train_poly_undersampled.shape"
   ]
  },
  {
   "cell_type": "code",
   "execution_count": 25,
   "metadata": {
    "ExecuteTime": {
     "end_time": "2018-05-14T21:16:25.695575Z",
     "start_time": "2018-05-14T21:15:55.757219Z"
    }
   },
   "outputs": [],
   "source": [
    "x_test_poly_undersampled = poly.transform(x_test)"
   ]
  },
  {
   "cell_type": "code",
   "execution_count": 26,
   "metadata": {
    "ExecuteTime": {
     "end_time": "2018-05-14T21:16:38.451786Z",
     "start_time": "2018-05-14T21:16:25.703300Z"
    }
   },
   "outputs": [
    {
     "data": {
      "text/plain": [
       "LogisticRegression(C=0.01, class_weight=None, dual=False, fit_intercept=True,\n",
       "          intercept_scaling=1, max_iter=100, multi_class='ovr', n_jobs=1,\n",
       "          penalty='l2', random_state=None, solver='liblinear', tol=0.0001,\n",
       "          verbose=0, warm_start=False)"
      ]
     },
     "execution_count": 26,
     "metadata": {},
     "output_type": "execute_result"
    }
   ],
   "source": [
    "lrmodel = linear_model.LogisticRegression(C=0.01)\n",
    "\n",
    "lrmodel.fit(x_train_poly_undersampled, y_train_undersampled)"
   ]
  },
  {
   "cell_type": "code",
   "execution_count": 27,
   "metadata": {
    "ExecuteTime": {
     "end_time": "2018-05-14T21:16:48.452587Z",
     "start_time": "2018-05-14T21:16:38.454718Z"
    }
   },
   "outputs": [
    {
     "name": "stdout",
     "output_type": "stream",
     "text": [
      "Accuracy: 0.634\n",
      "             precision    recall  f1-score   support\n",
      "\n",
      "        <30       0.17      0.59      0.27      2839\n",
      "         NO       0.92      0.64      0.76     22190\n",
      "\n",
      "avg / total       0.84      0.63      0.70     25029\n",
      "\n"
     ]
    }
   ],
   "source": [
    "# Predict on test\n",
    "y_pred = lrmodel.predict(x_test_poly_undersampled)\n",
    "\n",
    "# Score on test\n",
    "score = metrics.accuracy_score(y_test, y_pred)\n",
    "#print(score)\n",
    "print(\"Accuracy: %.3f\"% score)\n",
    "print(metrics.classification_report(y_test, y_pred))"
   ]
  },
  {
   "cell_type": "code",
   "execution_count": 28,
   "metadata": {
    "ExecuteTime": {
     "end_time": "2018-05-14T21:16:48.461871Z",
     "start_time": "2018-05-14T21:16:48.456424Z"
    }
   },
   "outputs": [],
   "source": [
    "storelrmodel = lrmodel"
   ]
  },
  {
   "cell_type": "markdown",
   "metadata": {},
   "source": [
    "#### Get the coefficients:"
   ]
  },
  {
   "cell_type": "code",
   "execution_count": 14,
   "metadata": {
    "ExecuteTime": {
     "end_time": "2018-05-11T00:33:58.125835Z",
     "start_time": "2018-05-11T00:33:58.116585Z"
    }
   },
   "outputs": [
    {
     "ename": "AttributeError",
     "evalue": "'numpy.ndarray' object has no attribute 'columns'",
     "output_type": "error",
     "traceback": [
      "\u001b[0;31m---------------------------------------------------------------------------\u001b[0m",
      "\u001b[0;31mAttributeError\u001b[0m                            Traceback (most recent call last)",
      "\u001b[0;32m<ipython-input-14-fdb24bb9d3ca>\u001b[0m in \u001b[0;36m<module>\u001b[0;34m()\u001b[0m\n\u001b[0;32m----> 1\u001b[0;31m \u001b[0mcoefficients\u001b[0m \u001b[0;34m=\u001b[0m \u001b[0mpd\u001b[0m\u001b[0;34m.\u001b[0m\u001b[0mDataFrame\u001b[0m\u001b[0;34m(\u001b[0m\u001b[0;34m{\u001b[0m\u001b[0;34m\"Feature\"\u001b[0m\u001b[0;34m:\u001b[0m\u001b[0mx_test_poly_undersampled\u001b[0m\u001b[0;34m.\u001b[0m\u001b[0mcolumns\u001b[0m\u001b[0;34m,\u001b[0m\u001b[0;34m\"Coefficients\"\u001b[0m\u001b[0;34m:\u001b[0m\u001b[0mnp\u001b[0m\u001b[0;34m.\u001b[0m\u001b[0mtranspose\u001b[0m\u001b[0;34m(\u001b[0m\u001b[0mlrmodel\u001b[0m\u001b[0;34m.\u001b[0m\u001b[0mcoef_\u001b[0m\u001b[0;34m[\u001b[0m\u001b[0;36m0\u001b[0m\u001b[0;34m,\u001b[0m\u001b[0;34m]\u001b[0m\u001b[0;34m)\u001b[0m\u001b[0;34m}\u001b[0m\u001b[0;34m)\u001b[0m\u001b[0;34m\u001b[0m\u001b[0m\n\u001b[0m",
      "\u001b[0;31mAttributeError\u001b[0m: 'numpy.ndarray' object has no attribute 'columns'"
     ]
    }
   ],
   "source": [
    "#### Get the coefficients:\n",
    "\n",
    "coefficients = pd.DataFrame({\"Feature\":x.columns,\"Coefficients\":np.transpose(lrmodel.coef_[0,])})\n",
    "\n",
    "coefficients['abs_val_coef'] = coefficients.Coefficients.abs()\n",
    "\n",
    "coefficients.sort_values(by=['abs_val_coef'], ascending=False).head(10)"
   ]
  },
  {
   "cell_type": "code",
   "execution_count": null,
   "metadata": {},
   "outputs": [],
   "source": []
  },
  {
   "cell_type": "markdown",
   "metadata": {},
   "source": [
    "#### Logistic with SMOTE:"
   ]
  },
  {
   "cell_type": "code",
   "execution_count": 16,
   "metadata": {
    "ExecuteTime": {
     "end_time": "2018-05-14T21:15:15.112807Z",
     "start_time": "2018-05-14T21:14:47.836494Z"
    }
   },
   "outputs": [],
   "source": [
    "sm = SMOTE(random_state=42)\n",
    "x_train_smote, y_train_smote = sm.fit_sample(x_train, y_train)"
   ]
  },
  {
   "cell_type": "code",
   "execution_count": 17,
   "metadata": {
    "ExecuteTime": {
     "end_time": "2018-05-14T21:15:15.335999Z",
     "start_time": "2018-05-14T21:15:15.114867Z"
    }
   },
   "outputs": [
    {
     "data": {
      "text/plain": [
       "<matplotlib.axes._subplots.AxesSubplot at 0x1041b5780>"
      ]
     },
     "execution_count": 17,
     "metadata": {},
     "output_type": "execute_result"
    },
    {
     "data": {
      "image/png": "[encoded data removed]",
      "text/plain": [
       "<Figure size 432x288 with 1 Axes>"
      ]
     },
     "metadata": {},
     "output_type": "display_data"
    }
   ],
   "source": [
    "sns.countplot(y_train_smote)"
   ]
  },
  {
   "cell_type": "code",
   "execution_count": 18,
   "metadata": {
    "ExecuteTime": {
     "end_time": "2018-05-14T21:15:15.438823Z",
     "start_time": "2018-05-14T21:15:15.338220Z"
    }
   },
   "outputs": [
    {
     "data": {
      "text/plain": [
       "<matplotlib.axes._subplots.AxesSubplot at 0x1a15709198>"
      ]
     },
     "execution_count": 18,
     "metadata": {},
     "output_type": "execute_result"
    },
    {
     "data": {
      "image/png": "[encoded data removed]",
      "text/plain": [
       "<Figure size 432x288 with 1 Axes>"
      ]
     },
     "metadata": {},
     "output_type": "display_data"
    }
   ],
   "source": [
    "sns.countplot(y_test)"
   ]
  },
  {
   "cell_type": "code",
   "execution_count": 19,
   "metadata": {
    "ExecuteTime": {
     "end_time": "2018-05-14T21:15:22.076108Z",
     "start_time": "2018-05-14T21:15:15.440722Z"
    }
   },
   "outputs": [
    {
     "data": {
      "text/plain": [
       "LogisticRegression(C=1, class_weight=None, dual=False, fit_intercept=True,\n",
       "          intercept_scaling=1, max_iter=100, multi_class='ovr', n_jobs=1,\n",
       "          penalty='l2', random_state=None, solver='liblinear', tol=0.0001,\n",
       "          verbose=0, warm_start=False)"
      ]
     },
     "execution_count": 19,
     "metadata": {},
     "output_type": "execute_result"
    }
   ],
   "source": [
    "lrmodel = linear_model.LogisticRegression(C=1)\n",
    "lrmodel.fit(x_train_smote, y_train_smote)"
   ]
  },
  {
   "cell_type": "code",
   "execution_count": 20,
   "metadata": {
    "ExecuteTime": {
     "end_time": "2018-05-14T21:15:22.087270Z",
     "start_time": "2018-05-14T21:15:22.078091Z"
    }
   },
   "outputs": [],
   "source": [
    "# Predict on test\n",
    "y_pred = lrmodel.predict(x_test)"
   ]
  },
  {
   "cell_type": "code",
   "execution_count": 21,
   "metadata": {
    "ExecuteTime": {
     "end_time": "2018-05-14T21:15:22.359602Z",
     "start_time": "2018-05-14T21:15:22.089509Z"
    }
   },
   "outputs": [
    {
     "name": "stdout",
     "output_type": "stream",
     "text": [
      "Accuracy: 0.644\n",
      "             precision    recall  f1-score   support\n",
      "\n",
      "        <30       0.18      0.58      0.27      2839\n",
      "         NO       0.92      0.65      0.77     22190\n",
      "\n",
      "avg / total       0.84      0.64      0.71     25029\n",
      "\n"
     ]
    }
   ],
   "source": [
    "# Score on test\n",
    "score = metrics.accuracy_score(y_test, y_pred)\n",
    "#print(score)\n",
    "print(\"Accuracy: %.3f\"% score)\n",
    "print(metrics.classification_report(y_test, y_pred))\n",
    "\n",
    "# recall @ C = 0.1: ?, ?, ?"
   ]
  },
  {
   "cell_type": "code",
   "execution_count": 22,
   "metadata": {
    "ExecuteTime": {
     "end_time": "2018-05-14T21:15:22.372179Z",
     "start_time": "2018-05-14T21:15:22.362220Z"
    }
   },
   "outputs": [
    {
     "data": {
      "text/html": [
       "<div>\n",
       "<style scoped>\n",
       "    .dataframe tbody tr th:only-of-type {\n",
       "        vertical-align: middle;\n",
       "    }\n",
       "\n",
       "    .dataframe tbody tr th {\n",
       "        vertical-align: top;\n",
       "    }\n",
       "\n",
       "    .dataframe thead th {\n",
       "        text-align: right;\n",
       "    }\n",
       "</style>\n",
       "<table border=\"1\" class=\"dataframe\">\n",
       "  <thead>\n",
       "    <tr style=\"text-align: right;\">\n",
       "      <th></th>\n",
       "      <th>Coefficients</th>\n",
       "      <th>Feature</th>\n",
       "      <th>abs_val_coef</th>\n",
       "    </tr>\n",
       "  </thead>\n",
       "  <tbody>\n",
       "    <tr>\n",
       "      <th>101</th>\n",
       "      <td>2.368216</td>\n",
       "      <td>medical_specialty[T.Gynecology]</td>\n",
       "      <td>2.368216</td>\n",
       "    </tr>\n",
       "    <tr>\n",
       "      <th>178</th>\n",
       "      <td>2.208711</td>\n",
       "      <td>diag_2[T.Complications Of Pregnancy, Childbirt...</td>\n",
       "      <td>2.208711</td>\n",
       "    </tr>\n",
       "    <tr>\n",
       "      <th>48</th>\n",
       "      <td>2.115362</td>\n",
       "      <td>discharge_disposition_id[T.Hospice / home]</td>\n",
       "      <td>2.115362</td>\n",
       "    </tr>\n",
       "    <tr>\n",
       "      <th>197</th>\n",
       "      <td>1.877295</td>\n",
       "      <td>diag_3[T.Complications Of Pregnancy, Childbirt...</td>\n",
       "      <td>1.877295</td>\n",
       "    </tr>\n",
       "    <tr>\n",
       "      <th>118</th>\n",
       "      <td>1.807369</td>\n",
       "      <td>medical_specialty[T.Otolaryngology]</td>\n",
       "      <td>1.807369</td>\n",
       "    </tr>\n",
       "    <tr>\n",
       "      <th>125</th>\n",
       "      <td>1.804284</td>\n",
       "      <td>medical_specialty[T.Pediatrics-Endocrinology]</td>\n",
       "      <td>1.804284</td>\n",
       "    </tr>\n",
       "    <tr>\n",
       "      <th>31</th>\n",
       "      <td>1.800548</td>\n",
       "      <td>admission_type_id[T.Trauma Center]</td>\n",
       "      <td>1.800548</td>\n",
       "    </tr>\n",
       "    <tr>\n",
       "      <th>45</th>\n",
       "      <td>-1.662399</td>\n",
       "      <td>discharge_disposition_id[T.Discharged/transfer...</td>\n",
       "      <td>1.662399</td>\n",
       "    </tr>\n",
       "    <tr>\n",
       "      <th>226</th>\n",
       "      <td>1.575760</td>\n",
       "      <td>nateglinide[T.Up]</td>\n",
       "      <td>1.575760</td>\n",
       "    </tr>\n",
       "    <tr>\n",
       "      <th>47</th>\n",
       "      <td>1.520799</td>\n",
       "      <td>discharge_disposition_id[T.Discharged/transfer...</td>\n",
       "      <td>1.520799</td>\n",
       "    </tr>\n",
       "  </tbody>\n",
       "</table>\n",
       "</div>"
      ],
      "text/plain": [
       "     Coefficients                                            Feature  \\\n",
       "101      2.368216                    medical_specialty[T.Gynecology]   \n",
       "178      2.208711  diag_2[T.Complications Of Pregnancy, Childbirt...   \n",
       "48       2.115362         discharge_disposition_id[T.Hospice / home]   \n",
       "197      1.877295  diag_3[T.Complications Of Pregnancy, Childbirt...   \n",
       "118      1.807369                medical_specialty[T.Otolaryngology]   \n",
       "125      1.804284      medical_specialty[T.Pediatrics-Endocrinology]   \n",
       "31       1.800548                 admission_type_id[T.Trauma Center]   \n",
       "45      -1.662399  discharge_disposition_id[T.Discharged/transfer...   \n",
       "226      1.575760                                  nateglinide[T.Up]   \n",
       "47       1.520799  discharge_disposition_id[T.Discharged/transfer...   \n",
       "\n",
       "     abs_val_coef  \n",
       "101      2.368216  \n",
       "178      2.208711  \n",
       "48       2.115362  \n",
       "197      1.877295  \n",
       "118      1.807369  \n",
       "125      1.804284  \n",
       "31       1.800548  \n",
       "45       1.662399  \n",
       "226      1.575760  \n",
       "47       1.520799  "
      ]
     },
     "execution_count": 22,
     "metadata": {},
     "output_type": "execute_result"
    }
   ],
   "source": [
    "#### Get the coefficients:\n",
    "\n",
    "coefficients = pd.DataFrame({\"Feature\":x.columns,\"Coefficients\":np.transpose(lrmodel.coef_[0,])})\n",
    "\n",
    "coefficients['abs_val_coef'] = coefficients.Coefficients.abs()\n",
    "\n",
    "coefficients.sort_values(by=['abs_val_coef'], ascending=False).head(10)"
   ]
  },
  {
   "cell_type": "code",
   "execution_count": null,
   "metadata": {},
   "outputs": [],
   "source": []
  }
 ],
 "metadata": {
  "kernelspec": {
   "display_name": "Python 3",
   "language": "python",
   "name": "python3"
  },
  "language_info": {
   "codemirror_mode": {
    "name": "ipython",
    "version": 3
   },
   "file_extension": ".py",
   "mimetype": "text/x-python",
   "name": "python",
   "nbconvert_exporter": "python",
   "pygments_lexer": "ipython3",
   "version": "3.6.5"
  }
 },
 "nbformat": 4,
 "nbformat_minor": 2
}
