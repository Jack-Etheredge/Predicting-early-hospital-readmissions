{
 "cells": [
  {
   "cell_type": "markdown",
   "metadata": {},
   "source": [
    "### Classifying and predicting early hospital readmissions:\n",
    "\n",
    "Classifying with supervised learning whether diabetic patients are readmitted, and if they are, if it's before or after 30 days.\n",
    "\n",
    "Using the dataset from here: https://archive.ics.uci.edu/ml/datasets/Diabetes+130-US+hospitals+for+years+1999-2008"
   ]
  },
  {
   "cell_type": "code",
   "execution_count": 164,
   "metadata": {
    "ExecuteTime": {
     "end_time": "2019-10-04T04:56:04.051398Z",
     "start_time": "2019-10-04T04:56:04.046867Z"
    }
   },
   "outputs": [],
   "source": [
    "from fastai.tabular import * \n",
    "from fastai.callbacks import *\n",
    "from sklearn.model_selection import StratifiedKFold\n",
    "from sklearn.model_selection import train_test_split\n",
    "from sklearn import metrics\n",
    "from sklearn.metrics import confusion_matrix\n",
    "from sklearn.metrics import precision_recall_curve\n",
    "from sklearn.utils.multiclass import unique_labels\n",
    "import seaborn as sns"
   ]
  },
  {
   "cell_type": "code",
   "execution_count": 165,
   "metadata": {
    "ExecuteTime": {
     "end_time": "2019-10-04T04:56:04.226244Z",
     "start_time": "2019-10-04T04:56:04.223182Z"
    }
   },
   "outputs": [],
   "source": [
    "plt.rcParams['figure.figsize'] = [10, 10]"
   ]
  },
  {
   "cell_type": "code",
   "execution_count": 166,
   "metadata": {
    "ExecuteTime": {
     "end_time": "2019-10-04T04:56:04.768391Z",
     "start_time": "2019-10-04T04:56:04.430165Z"
    }
   },
   "outputs": [],
   "source": [
    "with open(\"x_liv.pkl\", 'rb') as picklefile: \n",
    "    df = pickle.load(picklefile)\n",
    "\n",
    "with open(\"y_liv.pkl\", 'rb') as picklefile: \n",
    "    df['early_readmit'] = pickle.load(picklefile)"
   ]
  },
  {
   "cell_type": "code",
   "execution_count": 167,
   "metadata": {
    "ExecuteTime": {
     "end_time": "2019-10-04T04:56:04.799382Z",
     "start_time": "2019-10-04T04:56:04.770285Z"
    }
   },
   "outputs": [
    {
     "data": {
      "text/plain": [
       "array(['<30', '>30', 'NO'], dtype='<U3')"
      ]
     },
     "execution_count": 167,
     "metadata": {},
     "output_type": "execute_result"
    }
   ],
   "source": [
    "np.unique(list(df['early_readmit']))"
   ]
  },
  {
   "cell_type": "code",
   "execution_count": 168,
   "metadata": {
    "ExecuteTime": {
     "end_time": "2019-10-04T04:56:04.863724Z",
     "start_time": "2019-10-04T04:56:04.859065Z"
    }
   },
   "outputs": [
    {
     "data": {
      "text/plain": [
       "100114"
      ]
     },
     "execution_count": 168,
     "metadata": {},
     "output_type": "execute_result"
    }
   ],
   "source": [
    "len(df)"
   ]
  },
  {
   "cell_type": "code",
   "execution_count": 169,
   "metadata": {
    "ExecuteTime": {
     "end_time": "2019-10-04T04:56:05.049336Z",
     "start_time": "2019-10-04T04:56:05.024348Z"
    }
   },
   "outputs": [
    {
     "data": {
      "text/html": [
       "<div>\n",
       "<style scoped>\n",
       "    .dataframe tbody tr th:only-of-type {\n",
       "        vertical-align: middle;\n",
       "    }\n",
       "\n",
       "    .dataframe tbody tr th {\n",
       "        vertical-align: top;\n",
       "    }\n",
       "\n",
       "    .dataframe thead th {\n",
       "        text-align: right;\n",
       "    }\n",
       "</style>\n",
       "<table border=\"1\" class=\"dataframe\">\n",
       "  <thead>\n",
       "    <tr style=\"text-align: right;\">\n",
       "      <th></th>\n",
       "      <th>Intercept</th>\n",
       "      <th>race[T.AfricanAmerican]</th>\n",
       "      <th>race[T.Asian]</th>\n",
       "      <th>race[T.Caucasian]</th>\n",
       "      <th>race[T.Hispanic]</th>\n",
       "      <th>race[T.Other]</th>\n",
       "      <th>gender[T.Male]</th>\n",
       "      <th>gender[T.Unknown/Invalid]</th>\n",
       "      <th>age[T.[10-20)]</th>\n",
       "      <th>age[T.[20-30)]</th>\n",
       "      <th>...</th>\n",
       "      <th>diabetesMed[T.Yes]</th>\n",
       "      <th>time_in_hospital</th>\n",
       "      <th>num_lab_procedures</th>\n",
       "      <th>num_procedures</th>\n",
       "      <th>num_medications</th>\n",
       "      <th>number_outpatient</th>\n",
       "      <th>number_emergency</th>\n",
       "      <th>number_inpatient</th>\n",
       "      <th>number_diagnoses</th>\n",
       "      <th>early_readmit</th>\n",
       "    </tr>\n",
       "  </thead>\n",
       "  <tbody>\n",
       "    <tr>\n",
       "      <td>0</td>\n",
       "      <td>1.0</td>\n",
       "      <td>0.0</td>\n",
       "      <td>0.0</td>\n",
       "      <td>1.0</td>\n",
       "      <td>0.0</td>\n",
       "      <td>0.0</td>\n",
       "      <td>0.0</td>\n",
       "      <td>0.0</td>\n",
       "      <td>0.0</td>\n",
       "      <td>0.0</td>\n",
       "      <td>...</td>\n",
       "      <td>0.0</td>\n",
       "      <td>1.0</td>\n",
       "      <td>41.0</td>\n",
       "      <td>0.0</td>\n",
       "      <td>1.0</td>\n",
       "      <td>0.0</td>\n",
       "      <td>0.0</td>\n",
       "      <td>0.0</td>\n",
       "      <td>1.0</td>\n",
       "      <td>NO</td>\n",
       "    </tr>\n",
       "    <tr>\n",
       "      <td>1</td>\n",
       "      <td>1.0</td>\n",
       "      <td>0.0</td>\n",
       "      <td>0.0</td>\n",
       "      <td>1.0</td>\n",
       "      <td>0.0</td>\n",
       "      <td>0.0</td>\n",
       "      <td>0.0</td>\n",
       "      <td>0.0</td>\n",
       "      <td>1.0</td>\n",
       "      <td>0.0</td>\n",
       "      <td>...</td>\n",
       "      <td>1.0</td>\n",
       "      <td>3.0</td>\n",
       "      <td>59.0</td>\n",
       "      <td>0.0</td>\n",
       "      <td>18.0</td>\n",
       "      <td>0.0</td>\n",
       "      <td>0.0</td>\n",
       "      <td>0.0</td>\n",
       "      <td>9.0</td>\n",
       "      <td>&gt;30</td>\n",
       "    </tr>\n",
       "    <tr>\n",
       "      <td>2</td>\n",
       "      <td>1.0</td>\n",
       "      <td>1.0</td>\n",
       "      <td>0.0</td>\n",
       "      <td>0.0</td>\n",
       "      <td>0.0</td>\n",
       "      <td>0.0</td>\n",
       "      <td>0.0</td>\n",
       "      <td>0.0</td>\n",
       "      <td>0.0</td>\n",
       "      <td>1.0</td>\n",
       "      <td>...</td>\n",
       "      <td>1.0</td>\n",
       "      <td>2.0</td>\n",
       "      <td>11.0</td>\n",
       "      <td>5.0</td>\n",
       "      <td>13.0</td>\n",
       "      <td>2.0</td>\n",
       "      <td>0.0</td>\n",
       "      <td>1.0</td>\n",
       "      <td>6.0</td>\n",
       "      <td>NO</td>\n",
       "    </tr>\n",
       "    <tr>\n",
       "      <td>3</td>\n",
       "      <td>1.0</td>\n",
       "      <td>0.0</td>\n",
       "      <td>0.0</td>\n",
       "      <td>1.0</td>\n",
       "      <td>0.0</td>\n",
       "      <td>0.0</td>\n",
       "      <td>1.0</td>\n",
       "      <td>0.0</td>\n",
       "      <td>0.0</td>\n",
       "      <td>0.0</td>\n",
       "      <td>...</td>\n",
       "      <td>1.0</td>\n",
       "      <td>2.0</td>\n",
       "      <td>44.0</td>\n",
       "      <td>1.0</td>\n",
       "      <td>16.0</td>\n",
       "      <td>0.0</td>\n",
       "      <td>0.0</td>\n",
       "      <td>0.0</td>\n",
       "      <td>7.0</td>\n",
       "      <td>NO</td>\n",
       "    </tr>\n",
       "    <tr>\n",
       "      <td>4</td>\n",
       "      <td>1.0</td>\n",
       "      <td>0.0</td>\n",
       "      <td>0.0</td>\n",
       "      <td>1.0</td>\n",
       "      <td>0.0</td>\n",
       "      <td>0.0</td>\n",
       "      <td>1.0</td>\n",
       "      <td>0.0</td>\n",
       "      <td>0.0</td>\n",
       "      <td>0.0</td>\n",
       "      <td>...</td>\n",
       "      <td>1.0</td>\n",
       "      <td>1.0</td>\n",
       "      <td>51.0</td>\n",
       "      <td>0.0</td>\n",
       "      <td>8.0</td>\n",
       "      <td>0.0</td>\n",
       "      <td>0.0</td>\n",
       "      <td>0.0</td>\n",
       "      <td>5.0</td>\n",
       "      <td>NO</td>\n",
       "    </tr>\n",
       "  </tbody>\n",
       "</table>\n",
       "<p>5 rows × 267 columns</p>\n",
       "</div>"
      ],
      "text/plain": [
       "   Intercept  race[T.AfricanAmerican]  race[T.Asian]  race[T.Caucasian]  \\\n",
       "0        1.0                      0.0            0.0                1.0   \n",
       "1        1.0                      0.0            0.0                1.0   \n",
       "2        1.0                      1.0            0.0                0.0   \n",
       "3        1.0                      0.0            0.0                1.0   \n",
       "4        1.0                      0.0            0.0                1.0   \n",
       "\n",
       "   race[T.Hispanic]  race[T.Other]  gender[T.Male]  gender[T.Unknown/Invalid]  \\\n",
       "0               0.0            0.0             0.0                        0.0   \n",
       "1               0.0            0.0             0.0                        0.0   \n",
       "2               0.0            0.0             0.0                        0.0   \n",
       "3               0.0            0.0             1.0                        0.0   \n",
       "4               0.0            0.0             1.0                        0.0   \n",
       "\n",
       "   age[T.[10-20)]  age[T.[20-30)]  ...  diabetesMed[T.Yes]  time_in_hospital  \\\n",
       "0             0.0             0.0  ...                 0.0               1.0   \n",
       "1             1.0             0.0  ...                 1.0               3.0   \n",
       "2             0.0             1.0  ...                 1.0               2.0   \n",
       "3             0.0             0.0  ...                 1.0               2.0   \n",
       "4             0.0             0.0  ...                 1.0               1.0   \n",
       "\n",
       "   num_lab_procedures  num_procedures  num_medications  number_outpatient  \\\n",
       "0                41.0             0.0              1.0                0.0   \n",
       "1                59.0             0.0             18.0                0.0   \n",
       "2                11.0             5.0             13.0                2.0   \n",
       "3                44.0             1.0             16.0                0.0   \n",
       "4                51.0             0.0              8.0                0.0   \n",
       "\n",
       "   number_emergency  number_inpatient  number_diagnoses  early_readmit  \n",
       "0               0.0               0.0               1.0             NO  \n",
       "1               0.0               0.0               9.0            >30  \n",
       "2               0.0               1.0               6.0             NO  \n",
       "3               0.0               0.0               7.0             NO  \n",
       "4               0.0               0.0               5.0             NO  \n",
       "\n",
       "[5 rows x 267 columns]"
      ]
     },
     "execution_count": 169,
     "metadata": {},
     "output_type": "execute_result"
    }
   ],
   "source": [
    "df.head()"
   ]
  },
  {
   "cell_type": "code",
   "execution_count": 170,
   "metadata": {
    "ExecuteTime": {
     "end_time": "2019-10-04T04:56:05.298589Z",
     "start_time": "2019-10-04T04:56:05.239141Z"
    }
   },
   "outputs": [
    {
     "data": {
      "text/html": [
       "<div>\n",
       "<style scoped>\n",
       "    .dataframe tbody tr th:only-of-type {\n",
       "        vertical-align: middle;\n",
       "    }\n",
       "\n",
       "    .dataframe tbody tr th {\n",
       "        vertical-align: top;\n",
       "    }\n",
       "\n",
       "    .dataframe thead th {\n",
       "        text-align: right;\n",
       "    }\n",
       "</style>\n",
       "<table border=\"1\" class=\"dataframe\">\n",
       "  <thead>\n",
       "    <tr style=\"text-align: right;\">\n",
       "      <th></th>\n",
       "      <th>Intercept</th>\n",
       "      <th>race[T.AfricanAmerican]</th>\n",
       "      <th>race[T.Asian]</th>\n",
       "      <th>race[T.Caucasian]</th>\n",
       "      <th>race[T.Hispanic]</th>\n",
       "      <th>race[T.Other]</th>\n",
       "      <th>gender[T.Male]</th>\n",
       "      <th>gender[T.Unknown/Invalid]</th>\n",
       "      <th>age[T.[10-20)]</th>\n",
       "      <th>age[T.[20-30)]</th>\n",
       "      <th>...</th>\n",
       "      <th>diabetesMed[T.Yes]</th>\n",
       "      <th>time_in_hospital</th>\n",
       "      <th>num_lab_procedures</th>\n",
       "      <th>num_procedures</th>\n",
       "      <th>num_medications</th>\n",
       "      <th>number_outpatient</th>\n",
       "      <th>number_emergency</th>\n",
       "      <th>number_inpatient</th>\n",
       "      <th>number_diagnoses</th>\n",
       "      <th>early_readmit</th>\n",
       "    </tr>\n",
       "  </thead>\n",
       "  <tbody>\n",
       "    <tr>\n",
       "      <td>0</td>\n",
       "      <td>1.0</td>\n",
       "      <td>0.0</td>\n",
       "      <td>0.0</td>\n",
       "      <td>1.0</td>\n",
       "      <td>0.0</td>\n",
       "      <td>0.0</td>\n",
       "      <td>0.0</td>\n",
       "      <td>0.0</td>\n",
       "      <td>0.0</td>\n",
       "      <td>0.0</td>\n",
       "      <td>...</td>\n",
       "      <td>0.0</td>\n",
       "      <td>1.0</td>\n",
       "      <td>41.0</td>\n",
       "      <td>0.0</td>\n",
       "      <td>1.0</td>\n",
       "      <td>0.0</td>\n",
       "      <td>0.0</td>\n",
       "      <td>0.0</td>\n",
       "      <td>1.0</td>\n",
       "      <td>0</td>\n",
       "    </tr>\n",
       "    <tr>\n",
       "      <td>1</td>\n",
       "      <td>1.0</td>\n",
       "      <td>0.0</td>\n",
       "      <td>0.0</td>\n",
       "      <td>1.0</td>\n",
       "      <td>0.0</td>\n",
       "      <td>0.0</td>\n",
       "      <td>0.0</td>\n",
       "      <td>0.0</td>\n",
       "      <td>1.0</td>\n",
       "      <td>0.0</td>\n",
       "      <td>...</td>\n",
       "      <td>1.0</td>\n",
       "      <td>3.0</td>\n",
       "      <td>59.0</td>\n",
       "      <td>0.0</td>\n",
       "      <td>18.0</td>\n",
       "      <td>0.0</td>\n",
       "      <td>0.0</td>\n",
       "      <td>0.0</td>\n",
       "      <td>9.0</td>\n",
       "      <td>0</td>\n",
       "    </tr>\n",
       "    <tr>\n",
       "      <td>2</td>\n",
       "      <td>1.0</td>\n",
       "      <td>1.0</td>\n",
       "      <td>0.0</td>\n",
       "      <td>0.0</td>\n",
       "      <td>0.0</td>\n",
       "      <td>0.0</td>\n",
       "      <td>0.0</td>\n",
       "      <td>0.0</td>\n",
       "      <td>0.0</td>\n",
       "      <td>1.0</td>\n",
       "      <td>...</td>\n",
       "      <td>1.0</td>\n",
       "      <td>2.0</td>\n",
       "      <td>11.0</td>\n",
       "      <td>5.0</td>\n",
       "      <td>13.0</td>\n",
       "      <td>2.0</td>\n",
       "      <td>0.0</td>\n",
       "      <td>1.0</td>\n",
       "      <td>6.0</td>\n",
       "      <td>0</td>\n",
       "    </tr>\n",
       "    <tr>\n",
       "      <td>3</td>\n",
       "      <td>1.0</td>\n",
       "      <td>0.0</td>\n",
       "      <td>0.0</td>\n",
       "      <td>1.0</td>\n",
       "      <td>0.0</td>\n",
       "      <td>0.0</td>\n",
       "      <td>1.0</td>\n",
       "      <td>0.0</td>\n",
       "      <td>0.0</td>\n",
       "      <td>0.0</td>\n",
       "      <td>...</td>\n",
       "      <td>1.0</td>\n",
       "      <td>2.0</td>\n",
       "      <td>44.0</td>\n",
       "      <td>1.0</td>\n",
       "      <td>16.0</td>\n",
       "      <td>0.0</td>\n",
       "      <td>0.0</td>\n",
       "      <td>0.0</td>\n",
       "      <td>7.0</td>\n",
       "      <td>0</td>\n",
       "    </tr>\n",
       "    <tr>\n",
       "      <td>4</td>\n",
       "      <td>1.0</td>\n",
       "      <td>0.0</td>\n",
       "      <td>0.0</td>\n",
       "      <td>1.0</td>\n",
       "      <td>0.0</td>\n",
       "      <td>0.0</td>\n",
       "      <td>1.0</td>\n",
       "      <td>0.0</td>\n",
       "      <td>0.0</td>\n",
       "      <td>0.0</td>\n",
       "      <td>...</td>\n",
       "      <td>1.0</td>\n",
       "      <td>1.0</td>\n",
       "      <td>51.0</td>\n",
       "      <td>0.0</td>\n",
       "      <td>8.0</td>\n",
       "      <td>0.0</td>\n",
       "      <td>0.0</td>\n",
       "      <td>0.0</td>\n",
       "      <td>5.0</td>\n",
       "      <td>0</td>\n",
       "    </tr>\n",
       "  </tbody>\n",
       "</table>\n",
       "<p>5 rows × 267 columns</p>\n",
       "</div>"
      ],
      "text/plain": [
       "   Intercept  race[T.AfricanAmerican]  race[T.Asian]  race[T.Caucasian]  \\\n",
       "0        1.0                      0.0            0.0                1.0   \n",
       "1        1.0                      0.0            0.0                1.0   \n",
       "2        1.0                      1.0            0.0                0.0   \n",
       "3        1.0                      0.0            0.0                1.0   \n",
       "4        1.0                      0.0            0.0                1.0   \n",
       "\n",
       "   race[T.Hispanic]  race[T.Other]  gender[T.Male]  gender[T.Unknown/Invalid]  \\\n",
       "0               0.0            0.0             0.0                        0.0   \n",
       "1               0.0            0.0             0.0                        0.0   \n",
       "2               0.0            0.0             0.0                        0.0   \n",
       "3               0.0            0.0             1.0                        0.0   \n",
       "4               0.0            0.0             1.0                        0.0   \n",
       "\n",
       "   age[T.[10-20)]  age[T.[20-30)]  ...  diabetesMed[T.Yes]  time_in_hospital  \\\n",
       "0             0.0             0.0  ...                 0.0               1.0   \n",
       "1             1.0             0.0  ...                 1.0               3.0   \n",
       "2             0.0             1.0  ...                 1.0               2.0   \n",
       "3             0.0             0.0  ...                 1.0               2.0   \n",
       "4             0.0             0.0  ...                 1.0               1.0   \n",
       "\n",
       "   num_lab_procedures  num_procedures  num_medications  number_outpatient  \\\n",
       "0                41.0             0.0              1.0                0.0   \n",
       "1                59.0             0.0             18.0                0.0   \n",
       "2                11.0             5.0             13.0                2.0   \n",
       "3                44.0             1.0             16.0                0.0   \n",
       "4                51.0             0.0              8.0                0.0   \n",
       "\n",
       "   number_emergency  number_inpatient  number_diagnoses  early_readmit  \n",
       "0               0.0               0.0               1.0              0  \n",
       "1               0.0               0.0               9.0              0  \n",
       "2               0.0               1.0               6.0              0  \n",
       "3               0.0               0.0               7.0              0  \n",
       "4               0.0               0.0               5.0              0  \n",
       "\n",
       "[5 rows x 267 columns]"
      ]
     },
     "execution_count": 170,
     "metadata": {},
     "output_type": "execute_result"
    }
   ],
   "source": [
    "df['early_readmit'] = df['early_readmit'].replace({'<30':1, '>30':0, 'NO':0})\n",
    "df.head()"
   ]
  },
  {
   "cell_type": "code",
   "execution_count": 171,
   "metadata": {
    "ExecuteTime": {
     "end_time": "2019-10-04T04:56:05.600937Z",
     "start_time": "2019-10-04T04:56:05.598328Z"
    }
   },
   "outputs": [],
   "source": [
    "dep_var = 'early_readmit'"
   ]
  },
  {
   "cell_type": "code",
   "execution_count": 172,
   "metadata": {
    "ExecuteTime": {
     "end_time": "2019-10-04T04:56:05.786315Z",
     "start_time": "2019-10-04T04:56:05.783329Z"
    }
   },
   "outputs": [],
   "source": [
    "procs = [FillMissing, Categorify, Normalize]"
   ]
  },
  {
   "cell_type": "code",
   "execution_count": null,
   "metadata": {},
   "outputs": [],
   "source": [
    "import torch\n",
    "import torch.utils.data\n",
    "import torchvision\n",
    "import numpy as np\n",
    "\n",
    "class ImbalancedDatasetSampler(torch.utils.data.sampler.Sampler):\n",
    "    \"\"\"Samples elements randomly from a given list of indices for imbalanced dataset\n",
    "    Arguments:\n",
    "        indices (list, optional): a list of indices\n",
    "        num_samples (int, optional): number of samples to draw\n",
    "    \"\"\"\n",
    "\n",
    "    def __init__(self, dataset, indices=None, num_samples=None):\n",
    "                \n",
    "        # if indices is not provided, \n",
    "        # all elements in the dataset will be considered\n",
    "        self.indices = list(range(len(dataset))) \\\n",
    "            if indices is None else indices\n",
    "            \n",
    "        # if num_samples is not provided, \n",
    "        # draw `len(indices)` samples in each iteration\n",
    "        self.num_samples = len(self.indices) \\\n",
    "            if num_samples is None else num_samples\n",
    "\n",
    "        #FOR MULTICATEGORY\n",
    "#         # distribution of classes in the dataset \n",
    "#         label_to_count = {}\n",
    "#         for idx in self.indices:\n",
    "#             label = self._get_label(dataset, idx)\n",
    "#             for l in label:\n",
    "#                 if l in label_to_count:\n",
    "#                     label_to_count[l] += 1\n",
    "#                 else: label_to_count[l]=1\n",
    "\n",
    "        # single category \n",
    "        # distribution of classes in the dataset \n",
    "        label_to_count = {}\n",
    "        for idx in self.indices:\n",
    "            label = self._get_label(dataset, idx)\n",
    "            if label in label_to_count:\n",
    "              label_to_count[label] += 1\n",
    "            else: label_to_count[label]=1\n",
    "        \n",
    "        \n",
    "#         #Multicategory\n",
    "#         # weight for each sample\n",
    "#         weights = [1.0 / min([label_to_count[l] for l in self._get_label(dataset, idx)])\n",
    "#                    for idx in self.indices]\n",
    "        weights = [1.0 / label_to_count[self._get_label(dataset, idx)]  for idx in self.indices]\n",
    "        self.weights = torch.DoubleTensor(weights)\n",
    "\n",
    "    def _get_label(self, dataset, idx):\n",
    "        return dataset.y[idx].obj #for category obj\n",
    "                \n",
    "    def __iter__(self):\n",
    "        return (self.indices[i] for i in torch.multinomial(\n",
    "            self.weights, self.num_samples, replacement=True))\n",
    "\n",
    "    def __len__(self):\n",
    "        return self.num_samples"
   ]
  },
  {
   "cell_type": "code",
   "execution_count": 173,
   "metadata": {
    "ExecuteTime": {
     "end_time": "2019-10-04T04:56:06.163411Z",
     "start_time": "2019-10-04T04:56:05.974369Z"
    }
   },
   "outputs": [],
   "source": [
    "df, X_test, df['early_readmit'], y_test = train_test_split(df, df['early_readmit'], test_size=0.33, random_state=42, stratify=df['early_readmit'])"
   ]
  },
  {
   "cell_type": "code",
   "execution_count": 174,
   "metadata": {
    "ExecuteTime": {
     "end_time": "2019-10-04T04:56:06.196580Z",
     "start_time": "2019-10-04T04:56:06.173943Z"
    }
   },
   "outputs": [],
   "source": [
    "train_idx, valid_idx = next(StratifiedKFold(n_splits=10).split(df, df['early_readmit']))"
   ]
  },
  {
   "cell_type": "code",
   "execution_count": 175,
   "metadata": {
    "ExecuteTime": {
     "end_time": "2019-10-04T04:56:08.460016Z",
     "start_time": "2019-10-04T04:56:06.374792Z"
    }
   },
   "outputs": [],
   "source": [
    "data = TabularDataBunch.from_df(df=df, test_df=X_test, path='.', dep_var=dep_var, valid_idx=valid_idx, procs=procs)"
   ]
  },
  {
   "cell_type": "code",
   "execution_count": 176,
   "metadata": {
    "ExecuteTime": {
     "end_time": "2019-10-04T04:56:08.466210Z",
     "start_time": "2019-10-04T04:56:08.461911Z"
    }
   },
   "outputs": [
    {
     "data": {
      "text/plain": [
       "60368"
      ]
     },
     "execution_count": 176,
     "metadata": {},
     "output_type": "execute_result"
    }
   ],
   "source": [
    "len(data.train_ds)"
   ]
  },
  {
   "cell_type": "code",
   "execution_count": 177,
   "metadata": {
    "ExecuteTime": {
     "end_time": "2019-10-04T04:56:08.474158Z",
     "start_time": "2019-10-04T04:56:08.469017Z"
    }
   },
   "outputs": [
    {
     "data": {
      "text/plain": [
       "6708"
      ]
     },
     "execution_count": 177,
     "metadata": {},
     "output_type": "execute_result"
    }
   ],
   "source": [
    "len(data.valid_ds)"
   ]
  },
  {
   "cell_type": "code",
   "execution_count": 178,
   "metadata": {
    "ExecuteTime": {
     "end_time": "2019-10-04T04:56:08.480912Z",
     "start_time": "2019-10-04T04:56:08.476489Z"
    }
   },
   "outputs": [
    {
     "data": {
      "text/plain": [
       "33038"
      ]
     },
     "execution_count": 178,
     "metadata": {},
     "output_type": "execute_result"
    }
   ],
   "source": [
    "len(data.test_ds)"
   ]
  },
  {
   "cell_type": "code",
   "execution_count": 204,
   "metadata": {
    "ExecuteTime": {
     "end_time": "2019-10-04T05:16:37.473035Z",
     "start_time": "2019-10-04T05:16:37.469938Z"
    }
   },
   "outputs": [],
   "source": [
    "callback_fns = [ShowGraph, \n",
    "#                 SaveModelCallback(learn, every='improvement', monitor='val_loss', name='fastaimodel'),\n",
    "                partial(EarlyStoppingCallback, monitor='val_loss', min_delta=0.01, patience=4)]"
   ]
  },
  {
   "cell_type": "code",
   "execution_count": 265,
   "metadata": {
    "ExecuteTime": {
     "end_time": "2019-10-04T06:06:07.781562Z",
     "start_time": "2019-10-04T06:06:02.590631Z"
    }
   },
   "outputs": [
    {
     "data": {
      "text/html": [],
      "text/plain": [
       "<IPython.core.display.HTML object>"
      ]
     },
     "metadata": {},
     "output_type": "display_data"
    },
    {
     "name": "stdout",
     "output_type": "stream",
     "text": [
      "LR Finder is complete, type {learner_name}.recorder.plot() to see the graph.\n"
     ]
    },
    {
     "data": {
      "image/png": "[encoded data removed]",
      "text/plain": [
       "<Figure size 720x720 with 1 Axes>"
      ]
     },
     "metadata": {
      "needs_background": "light"
     },
     "output_type": "display_data"
    }
   ],
   "source": [
    "# Create deep learning model\n",
    "learn = tabular_learner(data, \n",
    "                        layers=[1000,650,500,250,125,50,25,10], \n",
    "                        metrics=[AUROC()], \n",
    "                        emb_drop=0.1, \n",
    "                        callback_fns=callback_fns)\n",
    "# learn.data.add_test(X_test)\n",
    "\n",
    "# select the appropriate learning rate\n",
    "learn.lr_find()\n",
    "\n",
    "# we typically find the point where the slope is steepest\n",
    "learn.recorder.plot()"
   ]
  },
  {
   "cell_type": "code",
   "execution_count": 266,
   "metadata": {
    "ExecuteTime": {
     "end_time": "2019-10-04T06:06:07.788742Z",
     "start_time": "2019-10-04T06:06:07.783613Z"
    }
   },
   "outputs": [
    {
     "data": {
      "text/plain": [
       "33038"
      ]
     },
     "execution_count": 266,
     "metadata": {},
     "output_type": "execute_result"
    }
   ],
   "source": [
    "len(data.test_ds)"
   ]
  },
  {
   "cell_type": "code",
   "execution_count": null,
   "metadata": {
    "ExecuteTime": {
     "start_time": "2019-10-04T06:06:04.682Z"
    }
   },
   "outputs": [
    {
     "data": {
      "text/html": [
       "<table border=\"1\" class=\"dataframe\">\n",
       "  <thead>\n",
       "    <tr style=\"text-align: left;\">\n",
       "      <th>epoch</th>\n",
       "      <th>train_loss</th>\n",
       "      <th>valid_loss</th>\n",
       "      <th>auroc</th>\n",
       "      <th>time</th>\n",
       "    </tr>\n",
       "  </thead>\n",
       "  <tbody>\n",
       "    <tr>\n",
       "      <td>0</td>\n",
       "      <td>0.346303</td>\n",
       "      <td>0.381884</td>\n",
       "      <td>0.631427</td>\n",
       "      <td>00:42</td>\n",
       "    </tr>\n",
       "  </tbody>\n",
       "</table>"
      ],
      "text/plain": [
       "<IPython.core.display.HTML object>"
      ]
     },
     "metadata": {},
     "output_type": "display_data"
    },
    {
     "data": {
      "image/png": "[encoded data removed]",
      "text/plain": [
       "<Figure size 432x288 with 1 Axes>"
      ]
     },
     "metadata": {},
     "output_type": "display_data"
    },
    {
     "data": {
      "text/html": [
       "\n",
       "    <div>\n",
       "        <style>\n",
       "            /* Turns off some styling */\n",
       "            progress {\n",
       "                /* gets rid of default border in Firefox and Opera. */\n",
       "                border: none;\n",
       "                /* Needs to be in here for Safari polyfill so background images work as expected. */\n",
       "                background-size: auto;\n",
       "            }\n",
       "            .progress-bar-interrupted, .progress-bar-interrupted::-webkit-progress-bar {\n",
       "                background: #F44336;\n",
       "            }\n",
       "        </style>\n",
       "      <progress value='4' class='' max='10', style='width:300px; height:20px; vertical-align: middle;'></progress>\n",
       "      40.00% [4/10 02:49<04:14]\n",
       "    </div>\n",
       "    \n",
       "<table border=\"1\" class=\"dataframe\">\n",
       "  <thead>\n",
       "    <tr style=\"text-align: left;\">\n",
       "      <th>epoch</th>\n",
       "      <th>train_loss</th>\n",
       "      <th>valid_loss</th>\n",
       "      <th>auroc</th>\n",
       "      <th>time</th>\n",
       "    </tr>\n",
       "  </thead>\n",
       "  <tbody>\n",
       "    <tr>\n",
       "      <td>0</td>\n",
       "      <td>0.324767</td>\n",
       "      <td>0.353572</td>\n",
       "      <td>0.632796</td>\n",
       "      <td>00:41</td>\n",
       "    </tr>\n",
       "    <tr>\n",
       "      <td>1</td>\n",
       "      <td>0.325920</td>\n",
       "      <td>0.377187</td>\n",
       "      <td>0.640467</td>\n",
       "      <td>00:42</td>\n",
       "    </tr>\n",
       "    <tr>\n",
       "      <td>2</td>\n",
       "      <td>0.337056</td>\n",
       "      <td>0.368675</td>\n",
       "      <td>0.639345</td>\n",
       "      <td>00:41</td>\n",
       "    </tr>\n",
       "    <tr>\n",
       "      <td>3</td>\n",
       "      <td>0.339401</td>\n",
       "      <td>0.434936</td>\n",
       "      <td>0.641847</td>\n",
       "      <td>00:42</td>\n",
       "    </tr>\n",
       "  </tbody>\n",
       "</table><p>\n",
       "\n",
       "    <div>\n",
       "        <style>\n",
       "            /* Turns off some styling */\n",
       "            progress {\n",
       "                /* gets rid of default border in Firefox and Opera. */\n",
       "                border: none;\n",
       "                /* Needs to be in here for Safari polyfill so background images work as expected. */\n",
       "                background-size: auto;\n",
       "            }\n",
       "            .progress-bar-interrupted, .progress-bar-interrupted::-webkit-progress-bar {\n",
       "                background: #F44336;\n",
       "            }\n",
       "        </style>\n",
       "      <progress value='881' class='' max='943', style='width:300px; height:20px; vertical-align: middle;'></progress>\n",
       "      93.43% [881/943 00:39<00:02 0.3318]\n",
       "    </div>\n",
       "    "
      ],
      "text/plain": [
       "<IPython.core.display.HTML object>"
      ]
     },
     "metadata": {},
     "output_type": "display_data"
    },
    {
     "data": {
      "image/png": "[encoded data removed]",
      "text/plain": [
       "<Figure size 432x288 with 1 Axes>"
      ]
     },
     "metadata": {},
     "output_type": "display_data"
    }
   ],
   "source": [
    "# Fit the model based on selected learning rate\n",
    "learn.fit_one_cycle(1, max_lr=5e-03)\n",
    "\n",
    "learn.fit(epochs=10, lr=1e-05)\n",
    "\n",
    "# Analyse our model\n",
    "learn.model\n",
    "learn.recorder.plot_losses()"
   ]
  },
  {
   "cell_type": "code",
   "execution_count": 248,
   "metadata": {
    "ExecuteTime": {
     "end_time": "2019-10-04T05:56:48.769361Z",
     "start_time": "2019-10-04T05:56:47.130875Z"
    }
   },
   "outputs": [],
   "source": [
    "y_preds_probas, y = learn.get_preds(ds_type=DatasetType.Test)"
   ]
  },
  {
   "cell_type": "code",
   "execution_count": 249,
   "metadata": {
    "ExecuteTime": {
     "end_time": "2019-10-04T05:56:48.778548Z",
     "start_time": "2019-10-04T05:56:48.772862Z"
    }
   },
   "outputs": [],
   "source": [
    "y_pred = torch.argmax(y_preds_probas, dim=1)"
   ]
  },
  {
   "cell_type": "code",
   "execution_count": 250,
   "metadata": {
    "ExecuteTime": {
     "end_time": "2019-10-04T05:56:48.784008Z",
     "start_time": "2019-10-04T05:56:48.780785Z"
    }
   },
   "outputs": [],
   "source": [
    "y_pred = np.array(y_pred)"
   ]
  },
  {
   "cell_type": "code",
   "execution_count": 251,
   "metadata": {
    "ExecuteTime": {
     "end_time": "2019-10-04T05:56:48.828035Z",
     "start_time": "2019-10-04T05:56:48.786207Z"
    }
   },
   "outputs": [
    {
     "name": "stdout",
     "output_type": "stream",
     "text": [
      "              precision    recall  f1-score   support\n",
      "\n",
      "           0       0.89      0.99      0.94     29290\n",
      "           1       0.40      0.03      0.06      3748\n",
      "\n",
      "    accuracy                           0.88     33038\n",
      "   macro avg       0.64      0.51      0.50     33038\n",
      "weighted avg       0.83      0.88      0.84     33038\n",
      "\n"
     ]
    }
   ],
   "source": [
    "print(metrics.classification_report(y_test, y_pred))"
   ]
  },
  {
   "cell_type": "code",
   "execution_count": 262,
   "metadata": {
    "ExecuteTime": {
     "end_time": "2019-10-04T06:03:13.115326Z",
     "start_time": "2019-10-04T06:03:13.110227Z"
    }
   },
   "outputs": [
    {
     "data": {
      "text/plain": [
       "array([0.096392, 0.442958, 0.066255, 0.052812, ..., 0.104604, 0.109285, 0.124798, 0.106693], dtype=float32)"
      ]
     },
     "execution_count": 262,
     "metadata": {},
     "output_type": "execute_result"
    }
   ],
   "source": [
    "# np.array(list(y_preds_probas))[:,0]\n",
    "np.array(y_preds_probas[:,1])"
   ]
  },
  {
   "cell_type": "code",
   "execution_count": 264,
   "metadata": {
    "ExecuteTime": {
     "end_time": "2019-10-04T06:03:32.682494Z",
     "start_time": "2019-10-04T06:03:32.463938Z"
    }
   },
   "outputs": [
    {
     "data": {
      "text/plain": [
       "Text(0.5, 1.0, 'Precision Recall Curve')"
      ]
     },
     "execution_count": 264,
     "metadata": {},
     "output_type": "execute_result"
    },
    {
     "data": {
      "image/png": "[encoded data removed]",
      "text/plain": [
       "<Figure size 720x720 with 1 Axes>"
      ]
     },
     "metadata": {
      "needs_background": "light"
     },
     "output_type": "display_data"
    }
   ],
   "source": [
    "p, r, t = precision_recall_curve(y_test, np.array(y_preds_probas[:,1]))\n",
    "\n",
    "# adding last threshold of '1' to threshold list\n",
    "t = np.vstack([t.reshape([-1, 1]), 1])\n",
    "\n",
    "plt.plot(t, p)\n",
    "plt.plot(t, r)\n",
    "plt.title('Precision Recall Curve')"
   ]
  },
  {
   "cell_type": "code",
   "execution_count": null,
   "metadata": {
    "ExecuteTime": {
     "end_time": "2019-10-04T05:18:11.842382Z",
     "start_time": "2019-10-04T05:16:54.971Z"
    }
   },
   "outputs": [],
   "source": [
    "class_names = [\"not early readmit\", \"early readmit\"]"
   ]
  },
  {
   "cell_type": "code",
   "execution_count": null,
   "metadata": {
    "ExecuteTime": {
     "end_time": "2019-10-04T05:18:11.844731Z",
     "start_time": "2019-10-04T05:16:55.467Z"
    }
   },
   "outputs": [],
   "source": [
    "def plot_confusion_matrix(y_true, y_pred, classes,\n",
    "                          normalize=False,\n",
    "                          title=None,\n",
    "                          cmap=sns.color_palette(\"Blues\")):\n",
    "    \"\"\"\n",
    "    This function prints and plots the confusion matrix.\n",
    "    Normalization can be applied by setting `normalize=True`.\n",
    "    \"\"\"\n",
    "    if not title:\n",
    "        if normalize:\n",
    "            title = 'Normalized confusion matrix'\n",
    "        else:\n",
    "            title = 'Confusion matrix, without normalization'\n",
    "\n",
    "    # Compute confusion matrix\n",
    "    cm = confusion_matrix(y_true, y_pred)\n",
    "    \n",
    "    # Only use the labels that appear in the data\n",
    "#     classes = classes[unique_labels(y_true, y_pred)]\n",
    "    if normalize:\n",
    "        cm = cm.astype('float') / cm.sum(axis=1)[:, np.newaxis]\n",
    "        print(\"Normalized confusion matrix\")\n",
    "    else:\n",
    "        print('Confusion matrix, without normalization')\n",
    "\n",
    "    print(cm)\n",
    "\n",
    "    fig, ax = plt.subplots()\n",
    "    ax = sns.heatmap(cm, cmap = cmap, annot=True, xticklabels=classes, yticklabels=classes)\n",
    "\n",
    "    ax.set(title=title,\n",
    "           ylabel='True label',\n",
    "           xlabel='Predicted label')\n",
    "\n",
    "    # Rotate the x labels and set their alignment\n",
    "    plt.setp(ax.get_xticklabels(), rotation=45, ha=\"right\",\n",
    "             rotation_mode=\"anchor\")\n",
    "\n",
    "    # Vertically center y labels\n",
    "    plt.setp(ax.get_yticklabels(), va=\"center\")\n",
    "    \n",
    "    bottom, top = ax.get_ylim()\n",
    "    ax.set_ylim(bottom + 0.5, top - 0.5)\n",
    "    \n",
    "    return ax"
   ]
  },
  {
   "cell_type": "code",
   "execution_count": null,
   "metadata": {
    "ExecuteTime": {
     "end_time": "2019-10-04T05:18:11.846223Z",
     "start_time": "2019-10-04T05:16:56.190Z"
    }
   },
   "outputs": [],
   "source": [
    "# Plot non-normalized confusion matrix\n",
    "ax = plot_confusion_matrix(y_test, y_pred, classes=class_names,\n",
    "                      title='Confusion matrix, without normalization')\n",
    "\n",
    "# plt.savefig('confusion_matrix_test.png', bbox_inches=\"tight\")"
   ]
  },
  {
   "cell_type": "code",
   "execution_count": null,
   "metadata": {
    "ExecuteTime": {
     "end_time": "2019-10-04T05:18:11.847547Z",
     "start_time": "2019-10-04T05:16:57.068Z"
    }
   },
   "outputs": [],
   "source": [
    "def feature_importance(learner): \n",
    "  # based on: https://medium.com/@mp.music93/neural-networks-feature-importance-with-fastai-5c393cf65815\n",
    "    data = learner.data.train_ds.x\n",
    "    cat_names = data.cat_names\n",
    "    cont_names = data.cont_names\n",
    "    loss0=np.array([learner.loss_func(learner.pred_batch(batch=(x,y.to(\"cpu\"))), y.to(\"cpu\")) for x,y in iter(learner.data.valid_dl)]).mean()\n",
    "    fi=dict()\n",
    "    types=[cat_names, cont_names]\n",
    "    for j, t in enumerate(types):\n",
    "      for i, c in enumerate(t):\n",
    "        loss=[]\n",
    "        for x,y in iter(learner.data.valid_dl):\n",
    "          col=x[j][:,i]    #x[0] da hier cat-vars\n",
    "          idx = torch.randperm(col.nelement())\n",
    "          x[j][:,i] = col.view(-1)[idx].view(col.size())\n",
    "          y=y.to('cpu')\n",
    "          loss.append(learner.loss_func(learner.pred_batch(batch=(x,y)), y))\n",
    "        fi[c]=np.array(loss).mean()-loss0\n",
    "    d = sorted(fi.items(), key=lambda kv: kv[1], reverse=True)\n",
    "    return pd.DataFrame({'cols': [l for l, v in d], 'imp': np.log1p([v for l, v in d])})\n",
    "  \n",
    "## my model is called 'learn'\n",
    "features = feature_importance(learn)\n",
    "\n",
    "## plot 'em!\n",
    "features.plot('cols', 'imp', 'barh', figsize=(12,15), legend=False)"
   ]
  },
  {
   "cell_type": "code",
   "execution_count": null,
   "metadata": {
    "ExecuteTime": {
     "end_time": "2019-10-04T05:18:11.849092Z",
     "start_time": "2019-10-04T05:16:58.612Z"
    }
   },
   "outputs": [],
   "source": [
    "features"
   ]
  },
  {
   "cell_type": "code",
   "execution_count": null,
   "metadata": {
    "ExecuteTime": {
     "end_time": "2019-10-04T05:18:11.850724Z",
     "start_time": "2019-10-04T05:16:58.846Z"
    }
   },
   "outputs": [],
   "source": [
    "features['abs'] = [abs(elem) for elem in features['imp']]\n",
    "features.sort_values(by='abs', ascending=False).head(10)"
   ]
  }
 ],
 "metadata": {
  "kernelspec": {
   "display_name": "Python 3",
   "language": "python",
   "name": "python3"
  },
  "language_info": {
   "codemirror_mode": {
    "name": "ipython",
    "version": 3
   },
   "file_extension": ".py",
   "mimetype": "text/x-python",
   "name": "python",
   "nbconvert_exporter": "python",
   "pygments_lexer": "ipython3",
   "version": "3.7.3"
  }
 },
 "nbformat": 4,
 "nbformat_minor": 2
}
