{
 "cells": [
  {
   "cell_type": "markdown",
   "metadata": {},
   "source": [
    "### Classifying and predicting early hospital readmissions:\n",
    "\n",
    "Classifying with supervised learning whether diabetic patients are readmitted, and if they are, if it's before or after 30 days.\n",
    "\n",
    "Using the dataset from here: https://archive.ics.uci.edu/ml/datasets/Diabetes+130-US+hospitals+for+years+1999-2008"
   ]
  },
  {
   "cell_type": "code",
   "execution_count": 2,
   "metadata": {
    "ExecuteTime": {
     "end_time": "2018-05-11T00:55:18.664980Z",
     "start_time": "2018-05-11T00:55:17.292057Z"
    }
   },
   "outputs": [],
   "source": [
    "import pandas as pd\n",
    "import patsy as patsy\n",
    "import seaborn as sns\n",
    "import pickle\n",
    "import numpy as np\n",
    "from sklearn import preprocessing\n",
    "from sklearn.model_selection import train_test_split"
   ]
  },
  {
   "cell_type": "code",
   "execution_count": 3,
   "metadata": {
    "ExecuteTime": {
     "end_time": "2018-05-11T00:55:19.352217Z",
     "start_time": "2018-05-11T00:55:18.666664Z"
    }
   },
   "outputs": [],
   "source": [
    "patientdata = pd.read_csv('diabetic_data.csv')"
   ]
  },
  {
   "cell_type": "code",
   "execution_count": 4,
   "metadata": {
    "ExecuteTime": {
     "end_time": "2018-05-11T00:55:19.381605Z",
     "start_time": "2018-05-11T00:55:19.353917Z"
    }
   },
   "outputs": [
    {
     "data": {
      "text/html": [
       "<div>\n",
       "<style scoped>\n",
       "    .dataframe tbody tr th:only-of-type {\n",
       "        vertical-align: middle;\n",
       "    }\n",
       "\n",
       "    .dataframe tbody tr th {\n",
       "        vertical-align: top;\n",
       "    }\n",
       "\n",
       "    .dataframe thead th {\n",
       "        text-align: right;\n",
       "    }\n",
       "</style>\n",
       "<table border=\"1\" class=\"dataframe\">\n",
       "  <thead>\n",
       "    <tr style=\"text-align: right;\">\n",
       "      <th></th>\n",
       "      <th>encounter_id</th>\n",
       "      <th>patient_nbr</th>\n",
       "      <th>race</th>\n",
       "      <th>gender</th>\n",
       "      <th>age</th>\n",
       "      <th>weight</th>\n",
       "      <th>admission_type_id</th>\n",
       "      <th>discharge_disposition_id</th>\n",
       "      <th>admission_source_id</th>\n",
       "      <th>time_in_hospital</th>\n",
       "      <th>...</th>\n",
       "      <th>citoglipton</th>\n",
       "      <th>insulin</th>\n",
       "      <th>glyburide-metformin</th>\n",
       "      <th>glipizide-metformin</th>\n",
       "      <th>glimepiride-pioglitazone</th>\n",
       "      <th>metformin-rosiglitazone</th>\n",
       "      <th>metformin-pioglitazone</th>\n",
       "      <th>change</th>\n",
       "      <th>diabetesMed</th>\n",
       "      <th>readmitted</th>\n",
       "    </tr>\n",
       "  </thead>\n",
       "  <tbody>\n",
       "    <tr>\n",
       "      <th>0</th>\n",
       "      <td>2278392</td>\n",
       "      <td>8222157</td>\n",
       "      <td>Caucasian</td>\n",
       "      <td>Female</td>\n",
       "      <td>[0-10)</td>\n",
       "      <td>?</td>\n",
       "      <td>6</td>\n",
       "      <td>25</td>\n",
       "      <td>1</td>\n",
       "      <td>1</td>\n",
       "      <td>...</td>\n",
       "      <td>No</td>\n",
       "      <td>No</td>\n",
       "      <td>No</td>\n",
       "      <td>No</td>\n",
       "      <td>No</td>\n",
       "      <td>No</td>\n",
       "      <td>No</td>\n",
       "      <td>No</td>\n",
       "      <td>No</td>\n",
       "      <td>NO</td>\n",
       "    </tr>\n",
       "    <tr>\n",
       "      <th>1</th>\n",
       "      <td>149190</td>\n",
       "      <td>55629189</td>\n",
       "      <td>Caucasian</td>\n",
       "      <td>Female</td>\n",
       "      <td>[10-20)</td>\n",
       "      <td>?</td>\n",
       "      <td>1</td>\n",
       "      <td>1</td>\n",
       "      <td>7</td>\n",
       "      <td>3</td>\n",
       "      <td>...</td>\n",
       "      <td>No</td>\n",
       "      <td>Up</td>\n",
       "      <td>No</td>\n",
       "      <td>No</td>\n",
       "      <td>No</td>\n",
       "      <td>No</td>\n",
       "      <td>No</td>\n",
       "      <td>Ch</td>\n",
       "      <td>Yes</td>\n",
       "      <td>&gt;30</td>\n",
       "    </tr>\n",
       "    <tr>\n",
       "      <th>2</th>\n",
       "      <td>64410</td>\n",
       "      <td>86047875</td>\n",
       "      <td>AfricanAmerican</td>\n",
       "      <td>Female</td>\n",
       "      <td>[20-30)</td>\n",
       "      <td>?</td>\n",
       "      <td>1</td>\n",
       "      <td>1</td>\n",
       "      <td>7</td>\n",
       "      <td>2</td>\n",
       "      <td>...</td>\n",
       "      <td>No</td>\n",
       "      <td>No</td>\n",
       "      <td>No</td>\n",
       "      <td>No</td>\n",
       "      <td>No</td>\n",
       "      <td>No</td>\n",
       "      <td>No</td>\n",
       "      <td>No</td>\n",
       "      <td>Yes</td>\n",
       "      <td>NO</td>\n",
       "    </tr>\n",
       "    <tr>\n",
       "      <th>3</th>\n",
       "      <td>500364</td>\n",
       "      <td>82442376</td>\n",
       "      <td>Caucasian</td>\n",
       "      <td>Male</td>\n",
       "      <td>[30-40)</td>\n",
       "      <td>?</td>\n",
       "      <td>1</td>\n",
       "      <td>1</td>\n",
       "      <td>7</td>\n",
       "      <td>2</td>\n",
       "      <td>...</td>\n",
       "      <td>No</td>\n",
       "      <td>Up</td>\n",
       "      <td>No</td>\n",
       "      <td>No</td>\n",
       "      <td>No</td>\n",
       "      <td>No</td>\n",
       "      <td>No</td>\n",
       "      <td>Ch</td>\n",
       "      <td>Yes</td>\n",
       "      <td>NO</td>\n",
       "    </tr>\n",
       "    <tr>\n",
       "      <th>4</th>\n",
       "      <td>16680</td>\n",
       "      <td>42519267</td>\n",
       "      <td>Caucasian</td>\n",
       "      <td>Male</td>\n",
       "      <td>[40-50)</td>\n",
       "      <td>?</td>\n",
       "      <td>1</td>\n",
       "      <td>1</td>\n",
       "      <td>7</td>\n",
       "      <td>1</td>\n",
       "      <td>...</td>\n",
       "      <td>No</td>\n",
       "      <td>Steady</td>\n",
       "      <td>No</td>\n",
       "      <td>No</td>\n",
       "      <td>No</td>\n",
       "      <td>No</td>\n",
       "      <td>No</td>\n",
       "      <td>Ch</td>\n",
       "      <td>Yes</td>\n",
       "      <td>NO</td>\n",
       "    </tr>\n",
       "  </tbody>\n",
       "</table>\n",
       "<p>5 rows × 50 columns</p>\n",
       "</div>"
      ],
      "text/plain": [
       "   encounter_id  patient_nbr             race  gender      age weight  \\\n",
       "0       2278392      8222157        Caucasian  Female   [0-10)      ?   \n",
       "1        149190     55629189        Caucasian  Female  [10-20)      ?   \n",
       "2         64410     86047875  AfricanAmerican  Female  [20-30)      ?   \n",
       "3        500364     82442376        Caucasian    Male  [30-40)      ?   \n",
       "4         16680     42519267        Caucasian    Male  [40-50)      ?   \n",
       "\n",
       "   admission_type_id  discharge_disposition_id  admission_source_id  \\\n",
       "0                  6                        25                    1   \n",
       "1                  1                         1                    7   \n",
       "2                  1                         1                    7   \n",
       "3                  1                         1                    7   \n",
       "4                  1                         1                    7   \n",
       "\n",
       "   time_in_hospital    ...     citoglipton insulin  glyburide-metformin  \\\n",
       "0                 1    ...              No      No                   No   \n",
       "1                 3    ...              No      Up                   No   \n",
       "2                 2    ...              No      No                   No   \n",
       "3                 2    ...              No      Up                   No   \n",
       "4                 1    ...              No  Steady                   No   \n",
       "\n",
       "   glipizide-metformin  glimepiride-pioglitazone  metformin-rosiglitazone  \\\n",
       "0                   No                        No                       No   \n",
       "1                   No                        No                       No   \n",
       "2                   No                        No                       No   \n",
       "3                   No                        No                       No   \n",
       "4                   No                        No                       No   \n",
       "\n",
       "   metformin-pioglitazone  change diabetesMed readmitted  \n",
       "0                      No      No          No         NO  \n",
       "1                      No      Ch         Yes        >30  \n",
       "2                      No      No         Yes         NO  \n",
       "3                      No      Ch         Yes         NO  \n",
       "4                      No      Ch         Yes         NO  \n",
       "\n",
       "[5 rows x 50 columns]"
      ]
     },
     "execution_count": 4,
     "metadata": {},
     "output_type": "execute_result"
    }
   ],
   "source": [
    "patientdata.head()"
   ]
  },
  {
   "cell_type": "code",
   "execution_count": 5,
   "metadata": {
    "ExecuteTime": {
     "end_time": "2018-05-11T00:55:20.807197Z",
     "start_time": "2018-05-11T00:55:20.803303Z"
    }
   },
   "outputs": [
    {
     "data": {
      "text/plain": [
       "(101766, 50)"
      ]
     },
     "execution_count": 5,
     "metadata": {},
     "output_type": "execute_result"
    }
   ],
   "source": [
    "patientdata.shape"
   ]
  },
  {
   "cell_type": "code",
   "execution_count": 6,
   "metadata": {
    "ExecuteTime": {
     "end_time": "2018-05-11T00:55:22.151498Z",
     "start_time": "2018-05-11T00:55:22.060297Z"
    }
   },
   "outputs": [
    {
     "data": {
      "text/html": [
       "<div>\n",
       "<style scoped>\n",
       "    .dataframe tbody tr th:only-of-type {\n",
       "        vertical-align: middle;\n",
       "    }\n",
       "\n",
       "    .dataframe tbody tr th {\n",
       "        vertical-align: top;\n",
       "    }\n",
       "\n",
       "    .dataframe thead th {\n",
       "        text-align: right;\n",
       "    }\n",
       "</style>\n",
       "<table border=\"1\" class=\"dataframe\">\n",
       "  <thead>\n",
       "    <tr style=\"text-align: right;\">\n",
       "      <th></th>\n",
       "      <th>encounter_id</th>\n",
       "      <th>patient_nbr</th>\n",
       "      <th>admission_type_id</th>\n",
       "      <th>discharge_disposition_id</th>\n",
       "      <th>admission_source_id</th>\n",
       "      <th>time_in_hospital</th>\n",
       "      <th>num_lab_procedures</th>\n",
       "      <th>num_procedures</th>\n",
       "      <th>num_medications</th>\n",
       "      <th>number_outpatient</th>\n",
       "      <th>number_emergency</th>\n",
       "      <th>number_inpatient</th>\n",
       "      <th>number_diagnoses</th>\n",
       "    </tr>\n",
       "  </thead>\n",
       "  <tbody>\n",
       "    <tr>\n",
       "      <th>count</th>\n",
       "      <td>1.017660e+05</td>\n",
       "      <td>1.017660e+05</td>\n",
       "      <td>101766.000000</td>\n",
       "      <td>101766.000000</td>\n",
       "      <td>101766.000000</td>\n",
       "      <td>101766.000000</td>\n",
       "      <td>101766.000000</td>\n",
       "      <td>101766.000000</td>\n",
       "      <td>101766.000000</td>\n",
       "      <td>101766.000000</td>\n",
       "      <td>101766.000000</td>\n",
       "      <td>101766.000000</td>\n",
       "      <td>101766.000000</td>\n",
       "    </tr>\n",
       "    <tr>\n",
       "      <th>mean</th>\n",
       "      <td>1.652016e+08</td>\n",
       "      <td>5.433040e+07</td>\n",
       "      <td>2.024006</td>\n",
       "      <td>3.715642</td>\n",
       "      <td>5.754437</td>\n",
       "      <td>4.395987</td>\n",
       "      <td>43.095641</td>\n",
       "      <td>1.339730</td>\n",
       "      <td>16.021844</td>\n",
       "      <td>0.369357</td>\n",
       "      <td>0.197836</td>\n",
       "      <td>0.635566</td>\n",
       "      <td>7.422607</td>\n",
       "    </tr>\n",
       "    <tr>\n",
       "      <th>std</th>\n",
       "      <td>1.026403e+08</td>\n",
       "      <td>3.869636e+07</td>\n",
       "      <td>1.445403</td>\n",
       "      <td>5.280166</td>\n",
       "      <td>4.064081</td>\n",
       "      <td>2.985108</td>\n",
       "      <td>19.674362</td>\n",
       "      <td>1.705807</td>\n",
       "      <td>8.127566</td>\n",
       "      <td>1.267265</td>\n",
       "      <td>0.930472</td>\n",
       "      <td>1.262863</td>\n",
       "      <td>1.933600</td>\n",
       "    </tr>\n",
       "    <tr>\n",
       "      <th>min</th>\n",
       "      <td>1.252200e+04</td>\n",
       "      <td>1.350000e+02</td>\n",
       "      <td>1.000000</td>\n",
       "      <td>1.000000</td>\n",
       "      <td>1.000000</td>\n",
       "      <td>1.000000</td>\n",
       "      <td>1.000000</td>\n",
       "      <td>0.000000</td>\n",
       "      <td>1.000000</td>\n",
       "      <td>0.000000</td>\n",
       "      <td>0.000000</td>\n",
       "      <td>0.000000</td>\n",
       "      <td>1.000000</td>\n",
       "    </tr>\n",
       "    <tr>\n",
       "      <th>25%</th>\n",
       "      <td>8.496119e+07</td>\n",
       "      <td>2.341322e+07</td>\n",
       "      <td>1.000000</td>\n",
       "      <td>1.000000</td>\n",
       "      <td>1.000000</td>\n",
       "      <td>2.000000</td>\n",
       "      <td>31.000000</td>\n",
       "      <td>0.000000</td>\n",
       "      <td>10.000000</td>\n",
       "      <td>0.000000</td>\n",
       "      <td>0.000000</td>\n",
       "      <td>0.000000</td>\n",
       "      <td>6.000000</td>\n",
       "    </tr>\n",
       "    <tr>\n",
       "      <th>50%</th>\n",
       "      <td>1.523890e+08</td>\n",
       "      <td>4.550514e+07</td>\n",
       "      <td>1.000000</td>\n",
       "      <td>1.000000</td>\n",
       "      <td>7.000000</td>\n",
       "      <td>4.000000</td>\n",
       "      <td>44.000000</td>\n",
       "      <td>1.000000</td>\n",
       "      <td>15.000000</td>\n",
       "      <td>0.000000</td>\n",
       "      <td>0.000000</td>\n",
       "      <td>0.000000</td>\n",
       "      <td>8.000000</td>\n",
       "    </tr>\n",
       "    <tr>\n",
       "      <th>75%</th>\n",
       "      <td>2.302709e+08</td>\n",
       "      <td>8.754595e+07</td>\n",
       "      <td>3.000000</td>\n",
       "      <td>4.000000</td>\n",
       "      <td>7.000000</td>\n",
       "      <td>6.000000</td>\n",
       "      <td>57.000000</td>\n",
       "      <td>2.000000</td>\n",
       "      <td>20.000000</td>\n",
       "      <td>0.000000</td>\n",
       "      <td>0.000000</td>\n",
       "      <td>1.000000</td>\n",
       "      <td>9.000000</td>\n",
       "    </tr>\n",
       "    <tr>\n",
       "      <th>max</th>\n",
       "      <td>4.438672e+08</td>\n",
       "      <td>1.895026e+08</td>\n",
       "      <td>8.000000</td>\n",
       "      <td>28.000000</td>\n",
       "      <td>25.000000</td>\n",
       "      <td>14.000000</td>\n",
       "      <td>132.000000</td>\n",
       "      <td>6.000000</td>\n",
       "      <td>81.000000</td>\n",
       "      <td>42.000000</td>\n",
       "      <td>76.000000</td>\n",
       "      <td>21.000000</td>\n",
       "      <td>16.000000</td>\n",
       "    </tr>\n",
       "  </tbody>\n",
       "</table>\n",
       "</div>"
      ],
      "text/plain": [
       "       encounter_id   patient_nbr  admission_type_id  \\\n",
       "count  1.017660e+05  1.017660e+05      101766.000000   \n",
       "mean   1.652016e+08  5.433040e+07           2.024006   \n",
       "std    1.026403e+08  3.869636e+07           1.445403   \n",
       "min    1.252200e+04  1.350000e+02           1.000000   \n",
       "25%    8.496119e+07  2.341322e+07           1.000000   \n",
       "50%    1.523890e+08  4.550514e+07           1.000000   \n",
       "75%    2.302709e+08  8.754595e+07           3.000000   \n",
       "max    4.438672e+08  1.895026e+08           8.000000   \n",
       "\n",
       "       discharge_disposition_id  admission_source_id  time_in_hospital  \\\n",
       "count             101766.000000        101766.000000     101766.000000   \n",
       "mean                   3.715642             5.754437          4.395987   \n",
       "std                    5.280166             4.064081          2.985108   \n",
       "min                    1.000000             1.000000          1.000000   \n",
       "25%                    1.000000             1.000000          2.000000   \n",
       "50%                    1.000000             7.000000          4.000000   \n",
       "75%                    4.000000             7.000000          6.000000   \n",
       "max                   28.000000            25.000000         14.000000   \n",
       "\n",
       "       num_lab_procedures  num_procedures  num_medications  number_outpatient  \\\n",
       "count       101766.000000   101766.000000    101766.000000      101766.000000   \n",
       "mean            43.095641        1.339730        16.021844           0.369357   \n",
       "std             19.674362        1.705807         8.127566           1.267265   \n",
       "min              1.000000        0.000000         1.000000           0.000000   \n",
       "25%             31.000000        0.000000        10.000000           0.000000   \n",
       "50%             44.000000        1.000000        15.000000           0.000000   \n",
       "75%             57.000000        2.000000        20.000000           0.000000   \n",
       "max            132.000000        6.000000        81.000000          42.000000   \n",
       "\n",
       "       number_emergency  number_inpatient  number_diagnoses  \n",
       "count     101766.000000     101766.000000     101766.000000  \n",
       "mean           0.197836          0.635566          7.422607  \n",
       "std            0.930472          1.262863          1.933600  \n",
       "min            0.000000          0.000000          1.000000  \n",
       "25%            0.000000          0.000000          6.000000  \n",
       "50%            0.000000          0.000000          8.000000  \n",
       "75%            0.000000          1.000000          9.000000  \n",
       "max           76.000000         21.000000         16.000000  "
      ]
     },
     "execution_count": 6,
     "metadata": {},
     "output_type": "execute_result"
    }
   ],
   "source": [
    "patientdata.describe()"
   ]
  },
  {
   "cell_type": "code",
   "execution_count": 7,
   "metadata": {
    "ExecuteTime": {
     "end_time": "2018-05-11T00:55:23.305809Z",
     "start_time": "2018-05-11T00:55:22.985745Z"
    }
   },
   "outputs": [
    {
     "name": "stdout",
     "output_type": "stream",
     "text": [
      "<class 'pandas.core.frame.DataFrame'>\n",
      "RangeIndex: 101766 entries, 0 to 101765\n",
      "Data columns (total 50 columns):\n",
      "encounter_id                101766 non-null int64\n",
      "patient_nbr                 101766 non-null int64\n",
      "race                        101766 non-null object\n",
      "gender                      101766 non-null object\n",
      "age                         101766 non-null object\n",
      "weight                      101766 non-null object\n",
      "admission_type_id           101766 non-null int64\n",
      "discharge_disposition_id    101766 non-null int64\n",
      "admission_source_id         101766 non-null int64\n",
      "time_in_hospital            101766 non-null int64\n",
      "payer_code                  101766 non-null object\n",
      "medical_specialty           101766 non-null object\n",
      "num_lab_procedures          101766 non-null int64\n",
      "num_procedures              101766 non-null int64\n",
      "num_medications             101766 non-null int64\n",
      "number_outpatient           101766 non-null int64\n",
      "number_emergency            101766 non-null int64\n",
      "number_inpatient            101766 non-null int64\n",
      "diag_1                      101766 non-null object\n",
      "diag_2                      101766 non-null object\n",
      "diag_3                      101766 non-null object\n",
      "number_diagnoses            101766 non-null int64\n",
      "max_glu_serum               101766 non-null object\n",
      "A1Cresult                   101766 non-null object\n",
      "metformin                   101766 non-null object\n",
      "repaglinide                 101766 non-null object\n",
      "nateglinide                 101766 non-null object\n",
      "chlorpropamide              101766 non-null object\n",
      "glimepiride                 101766 non-null object\n",
      "acetohexamide               101766 non-null object\n",
      "glipizide                   101766 non-null object\n",
      "glyburide                   101766 non-null object\n",
      "tolbutamide                 101766 non-null object\n",
      "pioglitazone                101766 non-null object\n",
      "rosiglitazone               101766 non-null object\n",
      "acarbose                    101766 non-null object\n",
      "miglitol                    101766 non-null object\n",
      "troglitazone                101766 non-null object\n",
      "tolazamide                  101766 non-null object\n",
      "examide                     101766 non-null object\n",
      "citoglipton                 101766 non-null object\n",
      "insulin                     101766 non-null object\n",
      "glyburide-metformin         101766 non-null object\n",
      "glipizide-metformin         101766 non-null object\n",
      "glimepiride-pioglitazone    101766 non-null object\n",
      "metformin-rosiglitazone     101766 non-null object\n",
      "metformin-pioglitazone      101766 non-null object\n",
      "change                      101766 non-null object\n",
      "diabetesMed                 101766 non-null object\n",
      "readmitted                  101766 non-null object\n",
      "dtypes: int64(13), object(37)\n",
      "memory usage: 38.8+ MB\n"
     ]
    }
   ],
   "source": [
    "patientdata.info()"
   ]
  },
  {
   "cell_type": "markdown",
   "metadata": {},
   "source": [
    "#### Age and weight should be numeric, not object - weight and age are both given as ranges rather than a discrete value\n",
    "#### Also No and Yes should be changed to 0 and 1"
   ]
  },
  {
   "cell_type": "code",
   "execution_count": 8,
   "metadata": {
    "ExecuteTime": {
     "end_time": "2018-05-09T21:30:53.153863Z",
     "start_time": "2018-05-09T21:30:53.148317Z"
    }
   },
   "outputs": [
    {
     "data": {
      "text/plain": [
       "array(['?', '[75-100)', '[50-75)', '[0-25)', '[100-125)', '[25-50)',\n",
       "       '[125-150)', '[175-200)', '[150-175)', '>200'], dtype=object)"
      ]
     },
     "execution_count": 8,
     "metadata": {},
     "output_type": "execute_result"
    }
   ],
   "source": [
    "patientdata.weight.unique()"
   ]
  },
  {
   "cell_type": "code",
   "execution_count": 9,
   "metadata": {
    "ExecuteTime": {
     "end_time": "2018-05-09T21:30:53.980773Z",
     "start_time": "2018-05-09T21:30:53.956447Z"
    }
   },
   "outputs": [
    {
     "data": {
      "text/html": [
       "<div>\n",
       "<style scoped>\n",
       "    .dataframe tbody tr th:only-of-type {\n",
       "        vertical-align: middle;\n",
       "    }\n",
       "\n",
       "    .dataframe tbody tr th {\n",
       "        vertical-align: top;\n",
       "    }\n",
       "\n",
       "    .dataframe thead th {\n",
       "        text-align: right;\n",
       "    }\n",
       "</style>\n",
       "<table border=\"1\" class=\"dataframe\">\n",
       "  <thead>\n",
       "    <tr style=\"text-align: right;\">\n",
       "      <th></th>\n",
       "      <th>encounter_id</th>\n",
       "      <th>patient_nbr</th>\n",
       "      <th>race</th>\n",
       "      <th>gender</th>\n",
       "      <th>age</th>\n",
       "      <th>weight</th>\n",
       "      <th>admission_type_id</th>\n",
       "      <th>discharge_disposition_id</th>\n",
       "      <th>admission_source_id</th>\n",
       "      <th>time_in_hospital</th>\n",
       "      <th>...</th>\n",
       "      <th>citoglipton</th>\n",
       "      <th>insulin</th>\n",
       "      <th>glyburide-metformin</th>\n",
       "      <th>glipizide-metformin</th>\n",
       "      <th>glimepiride-pioglitazone</th>\n",
       "      <th>metformin-rosiglitazone</th>\n",
       "      <th>metformin-pioglitazone</th>\n",
       "      <th>change</th>\n",
       "      <th>diabetesMed</th>\n",
       "      <th>readmitted</th>\n",
       "    </tr>\n",
       "  </thead>\n",
       "  <tbody>\n",
       "    <tr>\n",
       "      <th>0</th>\n",
       "      <td>2278392</td>\n",
       "      <td>8222157</td>\n",
       "      <td>Caucasian</td>\n",
       "      <td>Female</td>\n",
       "      <td>[0-10)</td>\n",
       "      <td>?</td>\n",
       "      <td>6</td>\n",
       "      <td>25</td>\n",
       "      <td>1</td>\n",
       "      <td>1</td>\n",
       "      <td>...</td>\n",
       "      <td>No</td>\n",
       "      <td>No</td>\n",
       "      <td>No</td>\n",
       "      <td>No</td>\n",
       "      <td>No</td>\n",
       "      <td>No</td>\n",
       "      <td>No</td>\n",
       "      <td>No</td>\n",
       "      <td>No</td>\n",
       "      <td>NO</td>\n",
       "    </tr>\n",
       "    <tr>\n",
       "      <th>1</th>\n",
       "      <td>149190</td>\n",
       "      <td>55629189</td>\n",
       "      <td>Caucasian</td>\n",
       "      <td>Female</td>\n",
       "      <td>[10-20)</td>\n",
       "      <td>?</td>\n",
       "      <td>1</td>\n",
       "      <td>1</td>\n",
       "      <td>7</td>\n",
       "      <td>3</td>\n",
       "      <td>...</td>\n",
       "      <td>No</td>\n",
       "      <td>Up</td>\n",
       "      <td>No</td>\n",
       "      <td>No</td>\n",
       "      <td>No</td>\n",
       "      <td>No</td>\n",
       "      <td>No</td>\n",
       "      <td>Ch</td>\n",
       "      <td>Yes</td>\n",
       "      <td>&gt;30</td>\n",
       "    </tr>\n",
       "    <tr>\n",
       "      <th>2</th>\n",
       "      <td>64410</td>\n",
       "      <td>86047875</td>\n",
       "      <td>AfricanAmerican</td>\n",
       "      <td>Female</td>\n",
       "      <td>[20-30)</td>\n",
       "      <td>?</td>\n",
       "      <td>1</td>\n",
       "      <td>1</td>\n",
       "      <td>7</td>\n",
       "      <td>2</td>\n",
       "      <td>...</td>\n",
       "      <td>No</td>\n",
       "      <td>No</td>\n",
       "      <td>No</td>\n",
       "      <td>No</td>\n",
       "      <td>No</td>\n",
       "      <td>No</td>\n",
       "      <td>No</td>\n",
       "      <td>No</td>\n",
       "      <td>Yes</td>\n",
       "      <td>NO</td>\n",
       "    </tr>\n",
       "    <tr>\n",
       "      <th>3</th>\n",
       "      <td>500364</td>\n",
       "      <td>82442376</td>\n",
       "      <td>Caucasian</td>\n",
       "      <td>Male</td>\n",
       "      <td>[30-40)</td>\n",
       "      <td>?</td>\n",
       "      <td>1</td>\n",
       "      <td>1</td>\n",
       "      <td>7</td>\n",
       "      <td>2</td>\n",
       "      <td>...</td>\n",
       "      <td>No</td>\n",
       "      <td>Up</td>\n",
       "      <td>No</td>\n",
       "      <td>No</td>\n",
       "      <td>No</td>\n",
       "      <td>No</td>\n",
       "      <td>No</td>\n",
       "      <td>Ch</td>\n",
       "      <td>Yes</td>\n",
       "      <td>NO</td>\n",
       "    </tr>\n",
       "    <tr>\n",
       "      <th>4</th>\n",
       "      <td>16680</td>\n",
       "      <td>42519267</td>\n",
       "      <td>Caucasian</td>\n",
       "      <td>Male</td>\n",
       "      <td>[40-50)</td>\n",
       "      <td>?</td>\n",
       "      <td>1</td>\n",
       "      <td>1</td>\n",
       "      <td>7</td>\n",
       "      <td>1</td>\n",
       "      <td>...</td>\n",
       "      <td>No</td>\n",
       "      <td>Steady</td>\n",
       "      <td>No</td>\n",
       "      <td>No</td>\n",
       "      <td>No</td>\n",
       "      <td>No</td>\n",
       "      <td>No</td>\n",
       "      <td>Ch</td>\n",
       "      <td>Yes</td>\n",
       "      <td>NO</td>\n",
       "    </tr>\n",
       "  </tbody>\n",
       "</table>\n",
       "<p>5 rows × 50 columns</p>\n",
       "</div>"
      ],
      "text/plain": [
       "   encounter_id  patient_nbr             race  gender      age weight  \\\n",
       "0       2278392      8222157        Caucasian  Female   [0-10)      ?   \n",
       "1        149190     55629189        Caucasian  Female  [10-20)      ?   \n",
       "2         64410     86047875  AfricanAmerican  Female  [20-30)      ?   \n",
       "3        500364     82442376        Caucasian    Male  [30-40)      ?   \n",
       "4         16680     42519267        Caucasian    Male  [40-50)      ?   \n",
       "\n",
       "   admission_type_id  discharge_disposition_id  admission_source_id  \\\n",
       "0                  6                        25                    1   \n",
       "1                  1                         1                    7   \n",
       "2                  1                         1                    7   \n",
       "3                  1                         1                    7   \n",
       "4                  1                         1                    7   \n",
       "\n",
       "   time_in_hospital    ...     citoglipton insulin  glyburide-metformin  \\\n",
       "0                 1    ...              No      No                   No   \n",
       "1                 3    ...              No      Up                   No   \n",
       "2                 2    ...              No      No                   No   \n",
       "3                 2    ...              No      Up                   No   \n",
       "4                 1    ...              No  Steady                   No   \n",
       "\n",
       "   glipizide-metformin  glimepiride-pioglitazone  metformin-rosiglitazone  \\\n",
       "0                   No                        No                       No   \n",
       "1                   No                        No                       No   \n",
       "2                   No                        No                       No   \n",
       "3                   No                        No                       No   \n",
       "4                   No                        No                       No   \n",
       "\n",
       "   metformin-pioglitazone  change diabetesMed readmitted  \n",
       "0                      No      No          No         NO  \n",
       "1                      No      Ch         Yes        >30  \n",
       "2                      No      No         Yes         NO  \n",
       "3                      No      Ch         Yes         NO  \n",
       "4                      No      Ch         Yes         NO  \n",
       "\n",
       "[5 rows x 50 columns]"
      ]
     },
     "execution_count": 9,
     "metadata": {},
     "output_type": "execute_result"
    }
   ],
   "source": [
    "patientdata.head()"
   ]
  },
  {
   "cell_type": "markdown",
   "metadata": {},
   "source": [
    "#### Replacing the codes with their actual meanings:"
   ]
  },
  {
   "cell_type": "code",
   "execution_count": 10,
   "metadata": {
    "ExecuteTime": {
     "end_time": "2018-05-11T00:55:31.047655Z",
     "start_time": "2018-05-11T00:55:31.020713Z"
    }
   },
   "outputs": [],
   "source": [
    "patientdata.admission_type_id.replace(\n",
    "list(range(1,9)),['Emergency',\n",
    "'Urgent',\n",
    "'Elective',\n",
    "'Newborn',\n",
    "'Not Available',\n",
    "'NULL',\n",
    "'Trauma Center',\n",
    "'Not Mapped'], inplace=True)\n",
    "#patientdata.admission_type_id.head()"
   ]
  },
  {
   "cell_type": "code",
   "execution_count": 11,
   "metadata": {
    "ExecuteTime": {
     "end_time": "2018-05-11T00:55:31.974723Z",
     "start_time": "2018-05-11T00:55:31.891340Z"
    }
   },
   "outputs": [
    {
     "data": {
      "text/plain": [
       "0            Not Mapped\n",
       "1    Discharged to home\n",
       "2    Discharged to home\n",
       "3    Discharged to home\n",
       "4    Discharged to home\n",
       "Name: discharge_disposition_id, dtype: object"
      ]
     },
     "execution_count": 11,
     "metadata": {},
     "output_type": "execute_result"
    }
   ],
   "source": [
    "id_list = ['Discharged to home',\n",
    "'Discharged/transferred to another short term hospital',\n",
    "'Discharged/transferred to SNF',\n",
    "'Discharged/transferred to ICF',\n",
    "'Discharged/transferred to another type of inpatient care institution',\n",
    "'Discharged/transferred to home with home health service',\n",
    "'Left AMA',\n",
    "'Discharged/transferred to home under care of Home IV provider',\n",
    "'Admitted as an inpatient to this hospital',\n",
    "'Neonate discharged to another hospital for neonatal aftercare',\n",
    "'Expired',\n",
    "'Still patient or expected to return for outpatient services',\n",
    "'Hospice / home',\n",
    "'Hospice / medical facility',\n",
    "'Discharged/transferred within this institution to Medicare approved swing bed',\n",
    "'Discharged/transferred/referred another institution for outpatient services',\n",
    "'Discharged/transferred/referred to this institution for outpatient services',\n",
    "'NULL',\n",
    "'Expired at home. Medicaid only, hospice.',\n",
    "'Expired in a medical facility. Medicaid only, hospice.',\n",
    "'Expired, place unknown. Medicaid only, hospice.',\n",
    "'Discharged/transferred to another rehab fac including rehab units of a hospital .',\n",
    "'Discharged/transferred to a long term care hospital.',\n",
    "'Discharged/transferred to a nursing facility certified under Medicaid but not certified under Medicare.',\n",
    "'Not Mapped',\n",
    "'Unknown/Invalid',\n",
    "'Discharged/transferred to another Type of Health Care Institution not Defined Elsewhere',\n",
    "'Discharged/transferred to a federal health care facility.',\n",
    "'Discharged/transferred/referred to a psychiatric hospital of psychiatric distinct part unit of a hospital',\n",
    "'Discharged/transferred to a Critical Access Hospital (CAH).']\n",
    "\n",
    "patientdata.discharge_disposition_id.replace(list(range(1,len(id_list)+1)),id_list, inplace=True)\n",
    "patientdata.discharge_disposition_id.head()"
   ]
  },
  {
   "cell_type": "code",
   "execution_count": 12,
   "metadata": {
    "ExecuteTime": {
     "end_time": "2018-05-11T00:55:32.719099Z",
     "start_time": "2018-05-11T00:55:32.651110Z"
    }
   },
   "outputs": [
    {
     "data": {
      "text/plain": [
       "0    Physician Referral\n",
       "1        Emergency Room\n",
       "2        Emergency Room\n",
       "3        Emergency Room\n",
       "4        Emergency Room\n",
       "Name: admission_source_id, dtype: object"
      ]
     },
     "execution_count": 12,
     "metadata": {},
     "output_type": "execute_result"
    }
   ],
   "source": [
    "id_list = ['Physician Referral',\n",
    "'Clinic Referral',\n",
    "'HMO Referral',\n",
    "'Transfer from a hospital',\n",
    "'Transfer from a Skilled Nursing Facility (SNF)',\n",
    "'Transfer from another health care facility',\n",
    "'Emergency Room',\n",
    "'Court/Law Enforcement',\n",
    "'Not Available',\n",
    "'Transfer from critial access hospital',\n",
    "'Normal Delivery',\n",
    "'Premature Delivery',\n",
    "'Sick Baby',\n",
    "'Extramural Birth',\n",
    "'Not Available',\n",
    "'NULL',\n",
    "'Transfer From Another Home Health Agency',\n",
    "'Readmission to Same Home Health Agency',\n",
    "'Not Mapped',\n",
    "'Unknown/Invalid',\n",
    "'Transfer from hospital inpt/same fac reslt in a sep claim',\n",
    "'Born inside this hospital',\n",
    "'Born outside this hospital',\n",
    "'Transfer from Ambulatory Surgery Center',\n",
    "'Transfer from Hospice']\n",
    "\n",
    "patientdata.admission_source_id.replace(list(range(1,len(id_list)+1)),id_list, inplace=True)\n",
    "patientdata.admission_source_id.head()"
   ]
  },
  {
   "cell_type": "code",
   "execution_count": 13,
   "metadata": {
    "ExecuteTime": {
     "end_time": "2018-05-11T00:55:34.027085Z",
     "start_time": "2018-05-11T00:55:34.004145Z"
    }
   },
   "outputs": [
    {
     "data": {
      "text/html": [
       "<div>\n",
       "<style scoped>\n",
       "    .dataframe tbody tr th:only-of-type {\n",
       "        vertical-align: middle;\n",
       "    }\n",
       "\n",
       "    .dataframe tbody tr th {\n",
       "        vertical-align: top;\n",
       "    }\n",
       "\n",
       "    .dataframe thead th {\n",
       "        text-align: right;\n",
       "    }\n",
       "</style>\n",
       "<table border=\"1\" class=\"dataframe\">\n",
       "  <thead>\n",
       "    <tr style=\"text-align: right;\">\n",
       "      <th></th>\n",
       "      <th>encounter_id</th>\n",
       "      <th>patient_nbr</th>\n",
       "      <th>race</th>\n",
       "      <th>gender</th>\n",
       "      <th>age</th>\n",
       "      <th>weight</th>\n",
       "      <th>admission_type_id</th>\n",
       "      <th>discharge_disposition_id</th>\n",
       "      <th>admission_source_id</th>\n",
       "      <th>time_in_hospital</th>\n",
       "      <th>...</th>\n",
       "      <th>citoglipton</th>\n",
       "      <th>insulin</th>\n",
       "      <th>glyburide-metformin</th>\n",
       "      <th>glipizide-metformin</th>\n",
       "      <th>glimepiride-pioglitazone</th>\n",
       "      <th>metformin-rosiglitazone</th>\n",
       "      <th>metformin-pioglitazone</th>\n",
       "      <th>change</th>\n",
       "      <th>diabetesMed</th>\n",
       "      <th>readmitted</th>\n",
       "    </tr>\n",
       "  </thead>\n",
       "  <tbody>\n",
       "    <tr>\n",
       "      <th>0</th>\n",
       "      <td>2278392</td>\n",
       "      <td>8222157</td>\n",
       "      <td>Caucasian</td>\n",
       "      <td>Female</td>\n",
       "      <td>[0-10)</td>\n",
       "      <td>?</td>\n",
       "      <td>NULL</td>\n",
       "      <td>Not Mapped</td>\n",
       "      <td>Physician Referral</td>\n",
       "      <td>1</td>\n",
       "      <td>...</td>\n",
       "      <td>No</td>\n",
       "      <td>No</td>\n",
       "      <td>No</td>\n",
       "      <td>No</td>\n",
       "      <td>No</td>\n",
       "      <td>No</td>\n",
       "      <td>No</td>\n",
       "      <td>No</td>\n",
       "      <td>No</td>\n",
       "      <td>NO</td>\n",
       "    </tr>\n",
       "    <tr>\n",
       "      <th>1</th>\n",
       "      <td>149190</td>\n",
       "      <td>55629189</td>\n",
       "      <td>Caucasian</td>\n",
       "      <td>Female</td>\n",
       "      <td>[10-20)</td>\n",
       "      <td>?</td>\n",
       "      <td>Emergency</td>\n",
       "      <td>Discharged to home</td>\n",
       "      <td>Emergency Room</td>\n",
       "      <td>3</td>\n",
       "      <td>...</td>\n",
       "      <td>No</td>\n",
       "      <td>Up</td>\n",
       "      <td>No</td>\n",
       "      <td>No</td>\n",
       "      <td>No</td>\n",
       "      <td>No</td>\n",
       "      <td>No</td>\n",
       "      <td>Ch</td>\n",
       "      <td>Yes</td>\n",
       "      <td>&gt;30</td>\n",
       "    </tr>\n",
       "    <tr>\n",
       "      <th>2</th>\n",
       "      <td>64410</td>\n",
       "      <td>86047875</td>\n",
       "      <td>AfricanAmerican</td>\n",
       "      <td>Female</td>\n",
       "      <td>[20-30)</td>\n",
       "      <td>?</td>\n",
       "      <td>Emergency</td>\n",
       "      <td>Discharged to home</td>\n",
       "      <td>Emergency Room</td>\n",
       "      <td>2</td>\n",
       "      <td>...</td>\n",
       "      <td>No</td>\n",
       "      <td>No</td>\n",
       "      <td>No</td>\n",
       "      <td>No</td>\n",
       "      <td>No</td>\n",
       "      <td>No</td>\n",
       "      <td>No</td>\n",
       "      <td>No</td>\n",
       "      <td>Yes</td>\n",
       "      <td>NO</td>\n",
       "    </tr>\n",
       "    <tr>\n",
       "      <th>3</th>\n",
       "      <td>500364</td>\n",
       "      <td>82442376</td>\n",
       "      <td>Caucasian</td>\n",
       "      <td>Male</td>\n",
       "      <td>[30-40)</td>\n",
       "      <td>?</td>\n",
       "      <td>Emergency</td>\n",
       "      <td>Discharged to home</td>\n",
       "      <td>Emergency Room</td>\n",
       "      <td>2</td>\n",
       "      <td>...</td>\n",
       "      <td>No</td>\n",
       "      <td>Up</td>\n",
       "      <td>No</td>\n",
       "      <td>No</td>\n",
       "      <td>No</td>\n",
       "      <td>No</td>\n",
       "      <td>No</td>\n",
       "      <td>Ch</td>\n",
       "      <td>Yes</td>\n",
       "      <td>NO</td>\n",
       "    </tr>\n",
       "    <tr>\n",
       "      <th>4</th>\n",
       "      <td>16680</td>\n",
       "      <td>42519267</td>\n",
       "      <td>Caucasian</td>\n",
       "      <td>Male</td>\n",
       "      <td>[40-50)</td>\n",
       "      <td>?</td>\n",
       "      <td>Emergency</td>\n",
       "      <td>Discharged to home</td>\n",
       "      <td>Emergency Room</td>\n",
       "      <td>1</td>\n",
       "      <td>...</td>\n",
       "      <td>No</td>\n",
       "      <td>Steady</td>\n",
       "      <td>No</td>\n",
       "      <td>No</td>\n",
       "      <td>No</td>\n",
       "      <td>No</td>\n",
       "      <td>No</td>\n",
       "      <td>Ch</td>\n",
       "      <td>Yes</td>\n",
       "      <td>NO</td>\n",
       "    </tr>\n",
       "  </tbody>\n",
       "</table>\n",
       "<p>5 rows × 50 columns</p>\n",
       "</div>"
      ],
      "text/plain": [
       "   encounter_id  patient_nbr             race  gender      age weight  \\\n",
       "0       2278392      8222157        Caucasian  Female   [0-10)      ?   \n",
       "1        149190     55629189        Caucasian  Female  [10-20)      ?   \n",
       "2         64410     86047875  AfricanAmerican  Female  [20-30)      ?   \n",
       "3        500364     82442376        Caucasian    Male  [30-40)      ?   \n",
       "4         16680     42519267        Caucasian    Male  [40-50)      ?   \n",
       "\n",
       "  admission_type_id discharge_disposition_id admission_source_id  \\\n",
       "0              NULL               Not Mapped  Physician Referral   \n",
       "1         Emergency       Discharged to home      Emergency Room   \n",
       "2         Emergency       Discharged to home      Emergency Room   \n",
       "3         Emergency       Discharged to home      Emergency Room   \n",
       "4         Emergency       Discharged to home      Emergency Room   \n",
       "\n",
       "   time_in_hospital    ...     citoglipton insulin  glyburide-metformin  \\\n",
       "0                 1    ...              No      No                   No   \n",
       "1                 3    ...              No      Up                   No   \n",
       "2                 2    ...              No      No                   No   \n",
       "3                 2    ...              No      Up                   No   \n",
       "4                 1    ...              No  Steady                   No   \n",
       "\n",
       "   glipizide-metformin  glimepiride-pioglitazone  metformin-rosiglitazone  \\\n",
       "0                   No                        No                       No   \n",
       "1                   No                        No                       No   \n",
       "2                   No                        No                       No   \n",
       "3                   No                        No                       No   \n",
       "4                   No                        No                       No   \n",
       "\n",
       "   metformin-pioglitazone  change diabetesMed readmitted  \n",
       "0                      No      No          No         NO  \n",
       "1                      No      Ch         Yes        >30  \n",
       "2                      No      No         Yes         NO  \n",
       "3                      No      Ch         Yes         NO  \n",
       "4                      No      Ch         Yes         NO  \n",
       "\n",
       "[5 rows x 50 columns]"
      ]
     },
     "execution_count": 13,
     "metadata": {},
     "output_type": "execute_result"
    }
   ],
   "source": [
    "patientdata.head()"
   ]
  },
  {
   "cell_type": "code",
   "execution_count": 14,
   "metadata": {
    "ExecuteTime": {
     "end_time": "2018-05-11T00:57:37.795045Z",
     "start_time": "2018-05-11T00:57:37.707258Z"
    }
   },
   "outputs": [],
   "source": [
    "#patientdata.drop(patientdata['discharge_disposition_id'].str.contains(\"Expired\"),inplace=True)\n",
    "patientdata = patientdata[patientdata.discharge_disposition_id.str.contains(\"Expired\") == False]"
   ]
  },
  {
   "cell_type": "code",
   "execution_count": 15,
   "metadata": {
    "ExecuteTime": {
     "end_time": "2018-05-11T00:58:03.585703Z",
     "start_time": "2018-05-11T00:58:03.582586Z"
    }
   },
   "outputs": [
    {
     "data": {
      "text/plain": [
       "(100114, 50)"
      ]
     },
     "execution_count": 15,
     "metadata": {},
     "output_type": "execute_result"
    }
   ],
   "source": [
    "patientdata.shape"
   ]
  },
  {
   "cell_type": "markdown",
   "metadata": {},
   "source": [
    "#### ICD9 codes from here:\n",
    "    http://www.icd9data.com/"
   ]
  },
  {
   "cell_type": "code",
   "execution_count": 16,
   "metadata": {
    "ExecuteTime": {
     "end_time": "2018-05-11T00:58:11.213306Z",
     "start_time": "2018-05-11T00:58:11.206906Z"
    }
   },
   "outputs": [],
   "source": [
    "numeric_code_ranges = [(1,139),\n",
    "(140,239),\n",
    "(240,279),\n",
    "(280,289),\n",
    "(290,319),\n",
    "(320,389),\n",
    "(390,459),\n",
    "(460,519),\n",
    "(520,579),\n",
    "(580,629),\n",
    "(630,677),\n",
    "(680,709),\n",
    "(710,739),\n",
    "(740,759),  \n",
    "(760,779),  \n",
    "(780,799),  \n",
    "(800,999)]"
   ]
  },
  {
   "cell_type": "code",
   "execution_count": 17,
   "metadata": {
    "ExecuteTime": {
     "end_time": "2018-05-11T00:58:11.395446Z",
     "start_time": "2018-05-11T00:58:11.391419Z"
    }
   },
   "outputs": [
    {
     "data": {
      "text/plain": [
       "[(1, 139),\n",
       " (140, 239),\n",
       " (240, 279),\n",
       " (280, 289),\n",
       " (290, 319),\n",
       " (320, 389),\n",
       " (390, 459),\n",
       " (460, 519),\n",
       " (520, 579),\n",
       " (580, 629),\n",
       " (630, 677),\n",
       " (680, 709),\n",
       " (710, 739),\n",
       " (740, 759),\n",
       " (760, 779),\n",
       " (780, 799),\n",
       " (800, 999)]"
      ]
     },
     "execution_count": 17,
     "metadata": {},
     "output_type": "execute_result"
    }
   ],
   "source": [
    "numeric_code_ranges"
   ]
  },
  {
   "cell_type": "code",
   "execution_count": 18,
   "metadata": {
    "ExecuteTime": {
     "end_time": "2018-05-11T00:58:12.530923Z",
     "start_time": "2018-05-11T00:58:12.526317Z"
    }
   },
   "outputs": [],
   "source": [
    "ICD9_diagnosis_groups = ['Infectious And Parasitic Diseases',\n",
    "'Neoplasms',\n",
    "'Endocrine, Nutritional And Metabolic Diseases, And Immunity Disorders',\n",
    "'Diseases Of The Blood And Blood-Forming Organs',\n",
    "'Mental Disorders',\n",
    "'Diseases Of The Nervous System And Sense Organs',\n",
    "'Diseases Of The Circulatory System',\n",
    "'Diseases Of The Respiratory System',\n",
    "'Diseases Of The Digestive System',\n",
    "'Diseases Of The Genitourinary System',\n",
    "'Complications Of Pregnancy, Childbirth, And The Puerperium',\n",
    "'Diseases Of The Skin And Subcutaneous Tissue',\n",
    "'Diseases Of The Musculoskeletal System And Connective Tissue',\n",
    "'Congential Anomalies',\n",
    "'Certain Conditions Originating In The Perinatal Period',\n",
    "'Symptoms, Signs, And Ill-Defined Conditions',\n",
    "'Injury And Poisoning']"
   ]
  },
  {
   "cell_type": "code",
   "execution_count": 19,
   "metadata": {
    "ExecuteTime": {
     "end_time": "2018-05-11T00:58:13.601583Z",
     "start_time": "2018-05-11T00:58:13.597618Z"
    }
   },
   "outputs": [
    {
     "data": {
      "text/plain": [
       "['Infectious And Parasitic Diseases',\n",
       " 'Neoplasms',\n",
       " 'Endocrine, Nutritional And Metabolic Diseases, And Immunity Disorders',\n",
       " 'Diseases Of The Blood And Blood-Forming Organs',\n",
       " 'Mental Disorders',\n",
       " 'Diseases Of The Nervous System And Sense Organs',\n",
       " 'Diseases Of The Circulatory System',\n",
       " 'Diseases Of The Respiratory System',\n",
       " 'Diseases Of The Digestive System',\n",
       " 'Diseases Of The Genitourinary System',\n",
       " 'Complications Of Pregnancy, Childbirth, And The Puerperium',\n",
       " 'Diseases Of The Skin And Subcutaneous Tissue',\n",
       " 'Diseases Of The Musculoskeletal System And Connective Tissue',\n",
       " 'Congential Anomalies',\n",
       " 'Certain Conditions Originating In The Perinatal Period',\n",
       " 'Symptoms, Signs, And Ill-Defined Conditions',\n",
       " 'Injury And Poisoning']"
      ]
     },
     "execution_count": 19,
     "metadata": {},
     "output_type": "execute_result"
    }
   ],
   "source": [
    "ICD9_diagnosis_groups"
   ]
  },
  {
   "cell_type": "code",
   "execution_count": 20,
   "metadata": {
    "ExecuteTime": {
     "end_time": "2018-05-11T00:58:14.360135Z",
     "start_time": "2018-05-11T00:58:14.357622Z"
    }
   },
   "outputs": [],
   "source": [
    "codes = zip(numeric_code_ranges, ICD9_diagnosis_groups)\n",
    "codeSet = set(codes)"
   ]
  },
  {
   "cell_type": "code",
   "execution_count": 21,
   "metadata": {
    "ExecuteTime": {
     "end_time": "2018-05-11T00:58:15.250535Z",
     "start_time": "2018-05-11T00:58:15.245760Z"
    }
   },
   "outputs": [
    {
     "data": {
      "text/plain": [
       "{((1, 139), 'Infectious And Parasitic Diseases'),\n",
       " ((140, 239), 'Neoplasms'),\n",
       " ((240, 279),\n",
       "  'Endocrine, Nutritional And Metabolic Diseases, And Immunity Disorders'),\n",
       " ((280, 289), 'Diseases Of The Blood And Blood-Forming Organs'),\n",
       " ((290, 319), 'Mental Disorders'),\n",
       " ((320, 389), 'Diseases Of The Nervous System And Sense Organs'),\n",
       " ((390, 459), 'Diseases Of The Circulatory System'),\n",
       " ((460, 519), 'Diseases Of The Respiratory System'),\n",
       " ((520, 579), 'Diseases Of The Digestive System'),\n",
       " ((580, 629), 'Diseases Of The Genitourinary System'),\n",
       " ((630, 677), 'Complications Of Pregnancy, Childbirth, And The Puerperium'),\n",
       " ((680, 709), 'Diseases Of The Skin And Subcutaneous Tissue'),\n",
       " ((710, 739), 'Diseases Of The Musculoskeletal System And Connective Tissue'),\n",
       " ((740, 759), 'Congential Anomalies'),\n",
       " ((760, 779), 'Certain Conditions Originating In The Perinatal Period'),\n",
       " ((780, 799), 'Symptoms, Signs, And Ill-Defined Conditions'),\n",
       " ((800, 999), 'Injury And Poisoning')}"
      ]
     },
     "execution_count": 21,
     "metadata": {},
     "output_type": "execute_result"
    }
   ],
   "source": [
    "codeSet"
   ]
  },
  {
   "cell_type": "code",
   "execution_count": 22,
   "metadata": {
    "ExecuteTime": {
     "end_time": "2018-05-11T00:58:40.248570Z",
     "start_time": "2018-05-11T00:58:40.153081Z"
    }
   },
   "outputs": [],
   "source": [
    "patientdataICD9 = patientdata.copy()"
   ]
  },
  {
   "cell_type": "code",
   "execution_count": 23,
   "metadata": {
    "ExecuteTime": {
     "end_time": "2018-05-11T00:58:52.651791Z",
     "start_time": "2018-05-11T00:58:41.719925Z"
    }
   },
   "outputs": [],
   "source": [
    "for num_range, diagnosis in codeSet:\n",
    "    #print(num_range)\n",
    "    oldlist = range(num_range[0],num_range[1]+1)\n",
    "    oldlist = [str(x) for x in oldlist]\n",
    "    newlist = [diagnosis] * len(oldlist)\n",
    "    for curr_col in ['diag_1', 'diag_2', 'diag_3']:\n",
    "        patientdataICD9[curr_col].replace(oldlist, newlist, inplace=True)"
   ]
  },
  {
   "cell_type": "code",
   "execution_count": 24,
   "metadata": {
    "ExecuteTime": {
     "end_time": "2018-05-11T00:58:53.726892Z",
     "start_time": "2018-05-11T00:58:52.653603Z"
    }
   },
   "outputs": [],
   "source": [
    "for curr_col in ['diag_1', 'diag_2', 'diag_3']:\n",
    "    patientdataICD9[curr_col].replace(oldlist, newlist, inplace=True)\n",
    "    patientdataICD9.loc[patientdataICD9[curr_col].str.contains('V'), curr_col] = 'Supplementary Classification Of Factors Influencing Health Status And Contact With Health Services'"
   ]
  },
  {
   "cell_type": "code",
   "execution_count": 25,
   "metadata": {
    "ExecuteTime": {
     "end_time": "2018-05-11T00:58:54.852047Z",
     "start_time": "2018-05-11T00:58:53.728625Z"
    }
   },
   "outputs": [],
   "source": [
    "for curr_col in ['diag_1', 'diag_2', 'diag_3']:\n",
    "    patientdataICD9[curr_col].replace(oldlist, newlist, inplace=True)\n",
    "    patientdataICD9.loc[patientdataICD9[curr_col].str.contains('E'), curr_col] = 'Supplementary Classification Of External Causes Of Injury And Poisoning'"
   ]
  },
  {
   "cell_type": "code",
   "execution_count": 26,
   "metadata": {
    "ExecuteTime": {
     "end_time": "2018-05-11T00:58:55.977380Z",
     "start_time": "2018-05-11T00:58:54.853950Z"
    }
   },
   "outputs": [],
   "source": [
    "for curr_col in ['diag_1', 'diag_2', 'diag_3']:\n",
    "    patientdataICD9[curr_col].replace(oldlist, newlist, inplace=True)\n",
    "    patientdataICD9.loc[patientdataICD9[curr_col].str.contains('250'), curr_col] = 'Diabetes mellitus'"
   ]
  },
  {
   "cell_type": "code",
   "execution_count": 27,
   "metadata": {
    "ExecuteTime": {
     "end_time": "2018-05-11T00:58:55.996336Z",
     "start_time": "2018-05-11T00:58:55.979806Z"
    }
   },
   "outputs": [
    {
     "name": "stdout",
     "output_type": "stream",
     "text": [
      "['Diabetes mellitus'\n",
      " 'Supplementary Classification Of External Causes Of Injury And Poisoning'\n",
      " 'Complications Of Pregnancy, Childbirth, And The Puerperium'\n",
      " 'Infectious And Parasitic Diseases' 'Neoplasms'\n",
      " 'Diseases Of The Circulatory System' 'Diseases Of The Respiratory System'\n",
      " 'Injury And Poisoning' 'Diseases Of The Skin And Subcutaneous Tissue'\n",
      " 'Diseases Of The Musculoskeletal System And Connective Tissue'\n",
      " 'Diseases Of The Digestive System'\n",
      " 'Supplementary Classification Of Factors Influencing Health Status And Contact With Health Services'\n",
      " 'Symptoms, Signs, And Ill-Defined Conditions'\n",
      " 'Diseases Of The Genitourinary System' 'Mental Disorders'\n",
      " 'Diseases Of The Nervous System And Sense Organs'\n",
      " 'Diseases Of The Blood And Blood-Forming Organs' '?'\n",
      " 'Congential Anomalies']\n",
      "19\n"
     ]
    }
   ],
   "source": [
    "print(patientdataICD9['diag_1'].unique())\n",
    "print(len(patientdataICD9['diag_1'].unique()))"
   ]
  },
  {
   "cell_type": "code",
   "execution_count": 28,
   "metadata": {
    "ExecuteTime": {
     "end_time": "2018-05-11T00:58:56.016822Z",
     "start_time": "2018-05-11T00:58:55.998279Z"
    }
   },
   "outputs": [
    {
     "data": {
      "text/plain": [
       "'race + gender + age + weight + admission_type_id + discharge_disposition_id + admission_source_id + time_in_hospital + payer_code + medical_specialty + num_lab_procedures + num_procedures + num_medications + number_outpatient + number_emergency + number_inpatient + diag_1 + diag_2 + diag_3 + number_diagnoses + max_glu_serum + A1Cresult + metformin + repaglinide + nateglinide + chlorpropamide + glimepiride + acetohexamide + glipizide + glyburide + tolbutamide + pioglitazone + rosiglitazone + acarbose + miglitol + troglitazone + tolazamide + examide + citoglipton + insulin + glyburide-metformin + glipizide-metformin + glimepiride-pioglitazone + metformin-rosiglitazone + metformin-pioglitazone + change + diabetesMed'"
      ]
     },
     "execution_count": 28,
     "metadata": {},
     "output_type": "execute_result"
    }
   ],
   "source": [
    "collist = list(patientdata.columns)\n",
    "collist.remove('readmitted')\n",
    "collist.remove('encounter_id')\n",
    "collist.remove('patient_nbr')\n",
    "patsy_x_string = (' + ').join(collist)\n",
    "patsy_x_string"
   ]
  },
  {
   "cell_type": "code",
   "execution_count": 29,
   "metadata": {
    "ExecuteTime": {
     "end_time": "2018-05-11T00:59:05.972210Z",
     "start_time": "2018-05-11T00:58:56.018210Z"
    }
   },
   "outputs": [],
   "source": [
    "y, x = patsy.dmatrices(f'readmitted ~ {patsy_x_string}', data=patientdataICD9, return_type=\"dataframe\")\n",
    "\n",
    "# making dummy columns from the categoricals using patsy\n",
    "\n",
    "#model = sm.OLS(y, x)\n",
    "#fit = model.fit()\n",
    "#fit.summary()"
   ]
  },
  {
   "cell_type": "code",
   "execution_count": 30,
   "metadata": {
    "ExecuteTime": {
     "end_time": "2018-05-11T00:59:05.976534Z",
     "start_time": "2018-05-11T00:59:05.973915Z"
    }
   },
   "outputs": [],
   "source": [
    "y = patientdata.readmitted"
   ]
  },
  {
   "cell_type": "code",
   "execution_count": 31,
   "metadata": {
    "ExecuteTime": {
     "end_time": "2018-05-11T00:59:05.983104Z",
     "start_time": "2018-05-11T00:59:05.978005Z"
    }
   },
   "outputs": [
    {
     "data": {
      "text/plain": [
       "0     NO\n",
       "1    >30\n",
       "2     NO\n",
       "3     NO\n",
       "4     NO\n",
       "Name: readmitted, dtype: object"
      ]
     },
     "execution_count": 31,
     "metadata": {},
     "output_type": "execute_result"
    }
   ],
   "source": [
    "y.head()"
   ]
  },
  {
   "cell_type": "code",
   "execution_count": 32,
   "metadata": {
    "ExecuteTime": {
     "end_time": "2018-05-11T00:59:06.180578Z",
     "start_time": "2018-05-11T00:59:05.984555Z"
    }
   },
   "outputs": [
    {
     "data": {
      "image/png": "[encoded data removed]",
      "text/plain": [
       "<Figure size 432x288 with 1 Axes>"
      ]
     },
     "metadata": {
      "needs_background": "light"
     },
     "output_type": "display_data"
    }
   ],
   "source": [
    "sns.countplot(y);"
   ]
  },
  {
   "cell_type": "markdown",
   "metadata": {},
   "source": [
    "#### The classes are biased, so I'll need to keep that in mind going forward. I'll need to stratify and/or use SMOTE, etc."
   ]
  },
  {
   "cell_type": "markdown",
   "metadata": {},
   "source": [
    "#### Logistic regression, KNN, and SVM all need to be scaled. \n",
    "\n",
    "#### I'll use standard scaler (transform to have mean of 0, std of 1)."
   ]
  },
  {
   "cell_type": "code",
   "execution_count": 33,
   "metadata": {
    "ExecuteTime": {
     "end_time": "2018-05-11T00:59:06.194071Z",
     "start_time": "2018-05-11T00:59:06.182288Z"
    }
   },
   "outputs": [
    {
     "data": {
      "text/plain": [
       "['time_in_hospital',\n",
       " 'num_lab_procedures',\n",
       " 'num_procedures',\n",
       " 'num_medications',\n",
       " 'number_outpatient',\n",
       " 'number_emergency',\n",
       " 'number_inpatient',\n",
       " 'number_diagnoses']"
      ]
     },
     "execution_count": 33,
     "metadata": {},
     "output_type": "execute_result"
    }
   ],
   "source": [
    "numeric_columns = list(patientdata.select_dtypes(\"int64\").columns)\n",
    "numeric_columns.remove('encounter_id')\n",
    "numeric_columns.remove('patient_nbr')\n",
    "numeric_columns"
   ]
  },
  {
   "cell_type": "code",
   "execution_count": 34,
   "metadata": {
    "ExecuteTime": {
     "end_time": "2018-05-11T00:59:06.197616Z",
     "start_time": "2018-05-11T00:59:06.195330Z"
    }
   },
   "outputs": [],
   "source": [
    "scaler = preprocessing.StandardScaler()"
   ]
  },
  {
   "cell_type": "code",
   "execution_count": 35,
   "metadata": {
    "ExecuteTime": {
     "end_time": "2018-05-11T00:59:06.684013Z",
     "start_time": "2018-05-11T00:59:06.199321Z"
    }
   },
   "outputs": [],
   "source": [
    "# saving this scaled version of x in case I want to use it outside of test-train split somewhere\n",
    "\n",
    "x_scaled = x.copy()\n",
    "x_scaled[numeric_columns] = scaler.fit_transform(x_scaled[numeric_columns])"
   ]
  },
  {
   "cell_type": "code",
   "execution_count": 36,
   "metadata": {
    "ExecuteTime": {
     "end_time": "2018-05-11T00:59:06.943350Z",
     "start_time": "2018-05-11T00:59:06.686531Z"
    }
   },
   "outputs": [],
   "source": [
    "x_train, x_test, y_train, y_test = train_test_split(x, y, test_size=0.25, random_state=42, stratify=y)"
   ]
  },
  {
   "cell_type": "code",
   "execution_count": 37,
   "metadata": {
    "ExecuteTime": {
     "end_time": "2018-05-11T00:59:07.277558Z",
     "start_time": "2018-05-11T00:59:06.945032Z"
    }
   },
   "outputs": [],
   "source": [
    "x_train_scaled = x_train.copy()\n",
    "x_test_scaled = x_test.copy()"
   ]
  },
  {
   "cell_type": "code",
   "execution_count": 38,
   "metadata": {
    "ExecuteTime": {
     "end_time": "2018-05-11T00:59:07.301732Z",
     "start_time": "2018-05-11T00:59:07.279434Z"
    }
   },
   "outputs": [],
   "source": [
    "# fit_transform on train\n",
    "x_train_scaled[numeric_columns] = scaler.fit_transform(x_train_scaled[numeric_columns])\n",
    "\n",
    "# transform on test\n",
    "x_test_scaled[numeric_columns] = scaler.transform(x_test_scaled[numeric_columns])"
   ]
  },
  {
   "cell_type": "code",
   "execution_count": 39,
   "metadata": {
    "ExecuteTime": {
     "end_time": "2018-05-11T00:59:09.899671Z",
     "start_time": "2018-05-11T00:59:09.877289Z"
    }
   },
   "outputs": [
    {
     "data": {
      "text/html": [
       "<div>\n",
       "<style scoped>\n",
       "    .dataframe tbody tr th:only-of-type {\n",
       "        vertical-align: middle;\n",
       "    }\n",
       "\n",
       "    .dataframe tbody tr th {\n",
       "        vertical-align: top;\n",
       "    }\n",
       "\n",
       "    .dataframe thead th {\n",
       "        text-align: right;\n",
       "    }\n",
       "</style>\n",
       "<table border=\"1\" class=\"dataframe\">\n",
       "  <thead>\n",
       "    <tr style=\"text-align: right;\">\n",
       "      <th></th>\n",
       "      <th>Intercept</th>\n",
       "      <th>race[T.AfricanAmerican]</th>\n",
       "      <th>race[T.Asian]</th>\n",
       "      <th>race[T.Caucasian]</th>\n",
       "      <th>race[T.Hispanic]</th>\n",
       "      <th>race[T.Other]</th>\n",
       "      <th>gender[T.Male]</th>\n",
       "      <th>gender[T.Unknown/Invalid]</th>\n",
       "      <th>age[T.[10-20)]</th>\n",
       "      <th>age[T.[20-30)]</th>\n",
       "      <th>...</th>\n",
       "      <th>change[T.No]</th>\n",
       "      <th>diabetesMed[T.Yes]</th>\n",
       "      <th>time_in_hospital</th>\n",
       "      <th>num_lab_procedures</th>\n",
       "      <th>num_procedures</th>\n",
       "      <th>num_medications</th>\n",
       "      <th>number_outpatient</th>\n",
       "      <th>number_emergency</th>\n",
       "      <th>number_inpatient</th>\n",
       "      <th>number_diagnoses</th>\n",
       "    </tr>\n",
       "  </thead>\n",
       "  <tbody>\n",
       "    <tr>\n",
       "      <th>0</th>\n",
       "      <td>1.0</td>\n",
       "      <td>0.0</td>\n",
       "      <td>0.0</td>\n",
       "      <td>1.0</td>\n",
       "      <td>0.0</td>\n",
       "      <td>0.0</td>\n",
       "      <td>0.0</td>\n",
       "      <td>0.0</td>\n",
       "      <td>0.0</td>\n",
       "      <td>0.0</td>\n",
       "      <td>...</td>\n",
       "      <td>1.0</td>\n",
       "      <td>0.0</td>\n",
       "      <td>1.0</td>\n",
       "      <td>41.0</td>\n",
       "      <td>0.0</td>\n",
       "      <td>1.0</td>\n",
       "      <td>0.0</td>\n",
       "      <td>0.0</td>\n",
       "      <td>0.0</td>\n",
       "      <td>1.0</td>\n",
       "    </tr>\n",
       "    <tr>\n",
       "      <th>1</th>\n",
       "      <td>1.0</td>\n",
       "      <td>0.0</td>\n",
       "      <td>0.0</td>\n",
       "      <td>1.0</td>\n",
       "      <td>0.0</td>\n",
       "      <td>0.0</td>\n",
       "      <td>0.0</td>\n",
       "      <td>0.0</td>\n",
       "      <td>1.0</td>\n",
       "      <td>0.0</td>\n",
       "      <td>...</td>\n",
       "      <td>0.0</td>\n",
       "      <td>1.0</td>\n",
       "      <td>3.0</td>\n",
       "      <td>59.0</td>\n",
       "      <td>0.0</td>\n",
       "      <td>18.0</td>\n",
       "      <td>0.0</td>\n",
       "      <td>0.0</td>\n",
       "      <td>0.0</td>\n",
       "      <td>9.0</td>\n",
       "    </tr>\n",
       "    <tr>\n",
       "      <th>2</th>\n",
       "      <td>1.0</td>\n",
       "      <td>1.0</td>\n",
       "      <td>0.0</td>\n",
       "      <td>0.0</td>\n",
       "      <td>0.0</td>\n",
       "      <td>0.0</td>\n",
       "      <td>0.0</td>\n",
       "      <td>0.0</td>\n",
       "      <td>0.0</td>\n",
       "      <td>1.0</td>\n",
       "      <td>...</td>\n",
       "      <td>1.0</td>\n",
       "      <td>1.0</td>\n",
       "      <td>2.0</td>\n",
       "      <td>11.0</td>\n",
       "      <td>5.0</td>\n",
       "      <td>13.0</td>\n",
       "      <td>2.0</td>\n",
       "      <td>0.0</td>\n",
       "      <td>1.0</td>\n",
       "      <td>6.0</td>\n",
       "    </tr>\n",
       "    <tr>\n",
       "      <th>3</th>\n",
       "      <td>1.0</td>\n",
       "      <td>0.0</td>\n",
       "      <td>0.0</td>\n",
       "      <td>1.0</td>\n",
       "      <td>0.0</td>\n",
       "      <td>0.0</td>\n",
       "      <td>1.0</td>\n",
       "      <td>0.0</td>\n",
       "      <td>0.0</td>\n",
       "      <td>0.0</td>\n",
       "      <td>...</td>\n",
       "      <td>0.0</td>\n",
       "      <td>1.0</td>\n",
       "      <td>2.0</td>\n",
       "      <td>44.0</td>\n",
       "      <td>1.0</td>\n",
       "      <td>16.0</td>\n",
       "      <td>0.0</td>\n",
       "      <td>0.0</td>\n",
       "      <td>0.0</td>\n",
       "      <td>7.0</td>\n",
       "    </tr>\n",
       "    <tr>\n",
       "      <th>4</th>\n",
       "      <td>1.0</td>\n",
       "      <td>0.0</td>\n",
       "      <td>0.0</td>\n",
       "      <td>1.0</td>\n",
       "      <td>0.0</td>\n",
       "      <td>0.0</td>\n",
       "      <td>1.0</td>\n",
       "      <td>0.0</td>\n",
       "      <td>0.0</td>\n",
       "      <td>0.0</td>\n",
       "      <td>...</td>\n",
       "      <td>0.0</td>\n",
       "      <td>1.0</td>\n",
       "      <td>1.0</td>\n",
       "      <td>51.0</td>\n",
       "      <td>0.0</td>\n",
       "      <td>8.0</td>\n",
       "      <td>0.0</td>\n",
       "      <td>0.0</td>\n",
       "      <td>0.0</td>\n",
       "      <td>5.0</td>\n",
       "    </tr>\n",
       "  </tbody>\n",
       "</table>\n",
       "<p>5 rows × 266 columns</p>\n",
       "</div>"
      ],
      "text/plain": [
       "   Intercept  race[T.AfricanAmerican]  race[T.Asian]  race[T.Caucasian]  \\\n",
       "0        1.0                      0.0            0.0                1.0   \n",
       "1        1.0                      0.0            0.0                1.0   \n",
       "2        1.0                      1.0            0.0                0.0   \n",
       "3        1.0                      0.0            0.0                1.0   \n",
       "4        1.0                      0.0            0.0                1.0   \n",
       "\n",
       "   race[T.Hispanic]  race[T.Other]  gender[T.Male]  gender[T.Unknown/Invalid]  \\\n",
       "0               0.0            0.0             0.0                        0.0   \n",
       "1               0.0            0.0             0.0                        0.0   \n",
       "2               0.0            0.0             0.0                        0.0   \n",
       "3               0.0            0.0             1.0                        0.0   \n",
       "4               0.0            0.0             1.0                        0.0   \n",
       "\n",
       "   age[T.[10-20)]  age[T.[20-30)]        ...         change[T.No]  \\\n",
       "0             0.0             0.0        ...                  1.0   \n",
       "1             1.0             0.0        ...                  0.0   \n",
       "2             0.0             1.0        ...                  1.0   \n",
       "3             0.0             0.0        ...                  0.0   \n",
       "4             0.0             0.0        ...                  0.0   \n",
       "\n",
       "   diabetesMed[T.Yes]  time_in_hospital  num_lab_procedures  num_procedures  \\\n",
       "0                 0.0               1.0                41.0             0.0   \n",
       "1                 1.0               3.0                59.0             0.0   \n",
       "2                 1.0               2.0                11.0             5.0   \n",
       "3                 1.0               2.0                44.0             1.0   \n",
       "4                 1.0               1.0                51.0             0.0   \n",
       "\n",
       "   num_medications  number_outpatient  number_emergency  number_inpatient  \\\n",
       "0              1.0                0.0               0.0               0.0   \n",
       "1             18.0                0.0               0.0               0.0   \n",
       "2             13.0                2.0               0.0               1.0   \n",
       "3             16.0                0.0               0.0               0.0   \n",
       "4              8.0                0.0               0.0               0.0   \n",
       "\n",
       "   number_diagnoses  \n",
       "0               1.0  \n",
       "1               9.0  \n",
       "2               6.0  \n",
       "3               7.0  \n",
       "4               5.0  \n",
       "\n",
       "[5 rows x 266 columns]"
      ]
     },
     "execution_count": 39,
     "metadata": {},
     "output_type": "execute_result"
    }
   ],
   "source": [
    "x.head()"
   ]
  },
  {
   "cell_type": "code",
   "execution_count": 40,
   "metadata": {
    "ExecuteTime": {
     "end_time": "2018-05-11T00:59:13.070779Z",
     "start_time": "2018-05-11T00:59:13.066475Z"
    }
   },
   "outputs": [
    {
     "data": {
      "text/plain": [
       "(100114, 266)"
      ]
     },
     "execution_count": 40,
     "metadata": {},
     "output_type": "execute_result"
    }
   ],
   "source": [
    "x.shape"
   ]
  },
  {
   "cell_type": "markdown",
   "metadata": {},
   "source": [
    "#### Using the broad ICD9 codes brought my x columns down to 269 from 2467"
   ]
  },
  {
   "cell_type": "code",
   "execution_count": 41,
   "metadata": {
    "ExecuteTime": {
     "end_time": "2018-05-11T01:05:18.723460Z",
     "start_time": "2018-05-11T01:05:18.720149Z"
    }
   },
   "outputs": [],
   "source": [
    "x_liv = x\n",
    "y_liv = y\n",
    "x_train_liv = x_train\n",
    "x_test_liv = x_test\n",
    "y_train_liv = y_train\n",
    "y_test_liv = y_test    \n",
    "x_train_scaled_liv = x_train_scaled    \n",
    "x_test_scaled_liv = x_test_scaled    \n",
    "x_scaled_liv = x_scaled    \n",
    "patientdataICD9_liv = patientdataICD9"
   ]
  },
  {
   "cell_type": "markdown",
   "metadata": {},
   "source": [
    "#### Now that these look nice, time to pickle my stuff to use in different models:"
   ]
  },
  {
   "cell_type": "code",
   "execution_count": 42,
   "metadata": {
    "ExecuteTime": {
     "end_time": "2018-05-11T01:05:22.991396Z",
     "start_time": "2018-05-11T01:05:20.054572Z"
    }
   },
   "outputs": [],
   "source": [
    "with open('x_liv.pkl', 'wb') as picklefile:\n",
    "    pickle.dump(x_liv, picklefile)\n",
    "    \n",
    "with open('y_liv.pkl', 'wb') as picklefile:\n",
    "    pickle.dump(y_liv, picklefile)\n",
    "    \n",
    "    \n",
    "with open('x_train_liv.pkl', 'wb') as picklefile:\n",
    "    pickle.dump(x_train_liv, picklefile)\n",
    "    \n",
    "with open('x_test_liv.pkl', 'wb') as picklefile:\n",
    "    pickle.dump(x_test_liv, picklefile)\n",
    "    \n",
    "    \n",
    "with open('y_train_liv.pkl', 'wb') as picklefile:\n",
    "    pickle.dump(y_train_liv, picklefile)\n",
    "\n",
    "with open('y_test_liv.pkl', 'wb') as picklefile:\n",
    "    pickle.dump(y_test_liv, picklefile)\n",
    "\n",
    "\n",
    "with open('x_train_scaled_liv.pkl', 'wb') as picklefile:\n",
    "    pickle.dump(x_train_scaled_liv, picklefile)\n",
    "    \n",
    "with open('x_test_scaled_liv.pkl', 'wb') as picklefile:\n",
    "    pickle.dump(x_test_scaled_liv, picklefile)\n",
    "    \n",
    "with open('x_scaled_liv.pkl', 'wb') as picklefile:\n",
    "    pickle.dump(x_scaled_liv, picklefile)\n",
    "\n",
    "    \n",
    "with open('patientdataICD9_liv.pkl', 'wb') as picklefile:\n",
    "    pickle.dump(patientdataICD9_liv, picklefile)"
   ]
  },
  {
   "cell_type": "code",
   "execution_count": null,
   "metadata": {},
   "outputs": [],
   "source": []
  }
 ],
 "metadata": {
  "kernelspec": {
   "display_name": "Python 3",
   "language": "python",
   "name": "python3"
  },
  "language_info": {
   "codemirror_mode": {
    "name": "ipython",
    "version": 3
   },
   "file_extension": ".py",
   "mimetype": "text/x-python",
   "name": "python",
   "nbconvert_exporter": "python",
   "pygments_lexer": "ipython3",
   "version": "3.7.1"
  }
 },
 "nbformat": 4,
 "nbformat_minor": 2
}
