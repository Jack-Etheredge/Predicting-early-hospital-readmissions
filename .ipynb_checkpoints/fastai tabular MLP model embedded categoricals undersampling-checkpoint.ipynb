{
 "cells": [
  {
   "cell_type": "markdown",
   "metadata": {},
   "source": [
    "### Classifying and predicting early hospital readmissions:\n",
    "\n",
    "Classifying with supervised learning whether diabetic patients are readmitted, and if they are, if it's before or after 30 days.\n",
    "\n",
    "Using the dataset from here: https://archive.ics.uci.edu/ml/datasets/Diabetes+130-US+hospitals+for+years+1999-2008"
   ]
  },
  {
   "cell_type": "code",
   "execution_count": 1,
   "metadata": {
    "ExecuteTime": {
     "end_time": "2019-10-05T03:44:31.870715Z",
     "start_time": "2019-10-05T03:44:28.724978Z"
    }
   },
   "outputs": [
    {
     "name": "stderr",
     "output_type": "stream",
     "text": [
      "Using TensorFlow backend.\n"
     ]
    }
   ],
   "source": [
    "from fastai.tabular import * \n",
    "from fastai.callbacks import *\n",
    "from sklearn.model_selection import StratifiedKFold\n",
    "from sklearn.model_selection import train_test_split\n",
    "from sklearn import metrics\n",
    "from sklearn.metrics import confusion_matrix\n",
    "from sklearn.preprocessing import StandardScaler\n",
    "from sklearn.metrics import precision_recall_curve\n",
    "from sklearn.utils.multiclass import unique_labels\n",
    "import seaborn as sns\n",
    "from imblearn.over_sampling import SMOTE"
   ]
  },
  {
   "cell_type": "code",
   "execution_count": 2,
   "metadata": {
    "ExecuteTime": {
     "end_time": "2019-10-05T03:44:31.876206Z",
     "start_time": "2019-10-05T03:44:31.873059Z"
    }
   },
   "outputs": [],
   "source": [
    "plt.rcParams['figure.figsize'] = [10, 10]"
   ]
  },
  {
   "cell_type": "code",
   "execution_count": 3,
   "metadata": {
    "ExecuteTime": {
     "end_time": "2019-10-05T03:44:31.881715Z",
     "start_time": "2019-10-05T03:44:31.878721Z"
    }
   },
   "outputs": [],
   "source": [
    "dep_var = 'early_readmit'"
   ]
  },
  {
   "cell_type": "code",
   "execution_count": 4,
   "metadata": {
    "ExecuteTime": {
     "end_time": "2019-10-05T03:44:32.029683Z",
     "start_time": "2019-10-05T03:44:31.883781Z"
    }
   },
   "outputs": [],
   "source": [
    "with open(\"x_2_with_categoricals.pkl\", 'rb') as picklefile: \n",
    "    df = pickle.load(picklefile)\n",
    "\n",
    "with open(\"y_2.pkl\", 'rb') as picklefile: \n",
    "    df[dep_var] = pickle.load(picklefile)"
   ]
  },
  {
   "cell_type": "code",
   "execution_count": 5,
   "metadata": {
    "ExecuteTime": {
     "end_time": "2019-10-05T03:44:32.060471Z",
     "start_time": "2019-10-05T03:44:32.031358Z"
    }
   },
   "outputs": [
    {
     "data": {
      "text/plain": [
       "array(['<30', '>30', 'NO'], dtype='<U3')"
      ]
     },
     "execution_count": 5,
     "metadata": {},
     "output_type": "execute_result"
    }
   ],
   "source": [
    "np.unique(list(df[dep_var]))"
   ]
  },
  {
   "cell_type": "code",
   "execution_count": 6,
   "metadata": {
    "ExecuteTime": {
     "end_time": "2019-10-05T03:44:32.065859Z",
     "start_time": "2019-10-05T03:44:32.062272Z"
    }
   },
   "outputs": [
    {
     "data": {
      "text/plain": [
       "100114"
      ]
     },
     "execution_count": 6,
     "metadata": {},
     "output_type": "execute_result"
    }
   ],
   "source": [
    "len(df)"
   ]
  },
  {
   "cell_type": "code",
   "execution_count": 8,
   "metadata": {
    "ExecuteTime": {
     "end_time": "2019-10-05T03:48:17.987532Z",
     "start_time": "2019-10-05T03:48:17.944850Z"
    }
   },
   "outputs": [],
   "source": [
    "cat_names = list(df.select_dtypes(exclude=[\"number\",\"bool_\"]).columns)\n",
    "cat_names.remove(dep_var)"
   ]
  },
  {
   "cell_type": "code",
   "execution_count": 9,
   "metadata": {
    "ExecuteTime": {
     "end_time": "2019-10-05T03:48:20.846716Z",
     "start_time": "2019-10-05T03:48:20.820799Z"
    }
   },
   "outputs": [
    {
     "data": {
      "text/html": [
       "<div>\n",
       "<style scoped>\n",
       "    .dataframe tbody tr th:only-of-type {\n",
       "        vertical-align: middle;\n",
       "    }\n",
       "\n",
       "    .dataframe tbody tr th {\n",
       "        vertical-align: top;\n",
       "    }\n",
       "\n",
       "    .dataframe thead th {\n",
       "        text-align: right;\n",
       "    }\n",
       "</style>\n",
       "<table border=\"1\" class=\"dataframe\">\n",
       "  <thead>\n",
       "    <tr style=\"text-align: right;\">\n",
       "      <th></th>\n",
       "      <th>race</th>\n",
       "      <th>gender</th>\n",
       "      <th>age</th>\n",
       "      <th>weight</th>\n",
       "      <th>admission_type_id</th>\n",
       "      <th>discharge_disposition_id</th>\n",
       "      <th>admission_source_id</th>\n",
       "      <th>time_in_hospital</th>\n",
       "      <th>payer_code</th>\n",
       "      <th>medical_specialty</th>\n",
       "      <th>...</th>\n",
       "      <th>citoglipton</th>\n",
       "      <th>insulin</th>\n",
       "      <th>glyburide-metformin</th>\n",
       "      <th>glipizide-metformin</th>\n",
       "      <th>glimepiride-pioglitazone</th>\n",
       "      <th>metformin-rosiglitazone</th>\n",
       "      <th>metformin-pioglitazone</th>\n",
       "      <th>change</th>\n",
       "      <th>diabetesMed</th>\n",
       "      <th>early_readmit</th>\n",
       "    </tr>\n",
       "  </thead>\n",
       "  <tbody>\n",
       "    <tr>\n",
       "      <td>0</td>\n",
       "      <td>Caucasian</td>\n",
       "      <td>Female</td>\n",
       "      <td>0</td>\n",
       "      <td>0</td>\n",
       "      <td>NULL</td>\n",
       "      <td>Not Mapped</td>\n",
       "      <td>Physician Referral</td>\n",
       "      <td>1</td>\n",
       "      <td>UNK</td>\n",
       "      <td>Pediatrics-Endocrinology</td>\n",
       "      <td>...</td>\n",
       "      <td>No</td>\n",
       "      <td>No</td>\n",
       "      <td>No</td>\n",
       "      <td>No</td>\n",
       "      <td>No</td>\n",
       "      <td>No</td>\n",
       "      <td>No</td>\n",
       "      <td>No</td>\n",
       "      <td>No</td>\n",
       "      <td>NO</td>\n",
       "    </tr>\n",
       "    <tr>\n",
       "      <td>1</td>\n",
       "      <td>Caucasian</td>\n",
       "      <td>Female</td>\n",
       "      <td>10</td>\n",
       "      <td>0</td>\n",
       "      <td>Emergency</td>\n",
       "      <td>Discharged to home</td>\n",
       "      <td>Emergency Room</td>\n",
       "      <td>3</td>\n",
       "      <td>UNK</td>\n",
       "      <td>UNK</td>\n",
       "      <td>...</td>\n",
       "      <td>No</td>\n",
       "      <td>Up</td>\n",
       "      <td>No</td>\n",
       "      <td>No</td>\n",
       "      <td>No</td>\n",
       "      <td>No</td>\n",
       "      <td>No</td>\n",
       "      <td>Ch</td>\n",
       "      <td>Yes</td>\n",
       "      <td>&gt;30</td>\n",
       "    </tr>\n",
       "    <tr>\n",
       "      <td>2</td>\n",
       "      <td>AfricanAmerican</td>\n",
       "      <td>Female</td>\n",
       "      <td>20</td>\n",
       "      <td>0</td>\n",
       "      <td>Emergency</td>\n",
       "      <td>Discharged to home</td>\n",
       "      <td>Emergency Room</td>\n",
       "      <td>2</td>\n",
       "      <td>UNK</td>\n",
       "      <td>UNK</td>\n",
       "      <td>...</td>\n",
       "      <td>No</td>\n",
       "      <td>No</td>\n",
       "      <td>No</td>\n",
       "      <td>No</td>\n",
       "      <td>No</td>\n",
       "      <td>No</td>\n",
       "      <td>No</td>\n",
       "      <td>No</td>\n",
       "      <td>Yes</td>\n",
       "      <td>NO</td>\n",
       "    </tr>\n",
       "    <tr>\n",
       "      <td>3</td>\n",
       "      <td>Caucasian</td>\n",
       "      <td>Male</td>\n",
       "      <td>30</td>\n",
       "      <td>0</td>\n",
       "      <td>Emergency</td>\n",
       "      <td>Discharged to home</td>\n",
       "      <td>Emergency Room</td>\n",
       "      <td>2</td>\n",
       "      <td>UNK</td>\n",
       "      <td>UNK</td>\n",
       "      <td>...</td>\n",
       "      <td>No</td>\n",
       "      <td>Up</td>\n",
       "      <td>No</td>\n",
       "      <td>No</td>\n",
       "      <td>No</td>\n",
       "      <td>No</td>\n",
       "      <td>No</td>\n",
       "      <td>Ch</td>\n",
       "      <td>Yes</td>\n",
       "      <td>NO</td>\n",
       "    </tr>\n",
       "    <tr>\n",
       "      <td>4</td>\n",
       "      <td>Caucasian</td>\n",
       "      <td>Male</td>\n",
       "      <td>40</td>\n",
       "      <td>0</td>\n",
       "      <td>Emergency</td>\n",
       "      <td>Discharged to home</td>\n",
       "      <td>Emergency Room</td>\n",
       "      <td>1</td>\n",
       "      <td>UNK</td>\n",
       "      <td>UNK</td>\n",
       "      <td>...</td>\n",
       "      <td>No</td>\n",
       "      <td>Steady</td>\n",
       "      <td>No</td>\n",
       "      <td>No</td>\n",
       "      <td>No</td>\n",
       "      <td>No</td>\n",
       "      <td>No</td>\n",
       "      <td>Ch</td>\n",
       "      <td>Yes</td>\n",
       "      <td>NO</td>\n",
       "    </tr>\n",
       "  </tbody>\n",
       "</table>\n",
       "<p>5 rows × 48 columns</p>\n",
       "</div>"
      ],
      "text/plain": [
       "              race  gender  age  weight admission_type_id  \\\n",
       "0        Caucasian  Female    0       0              NULL   \n",
       "1        Caucasian  Female   10       0         Emergency   \n",
       "2  AfricanAmerican  Female   20       0         Emergency   \n",
       "3        Caucasian    Male   30       0         Emergency   \n",
       "4        Caucasian    Male   40       0         Emergency   \n",
       "\n",
       "  discharge_disposition_id admission_source_id  time_in_hospital payer_code  \\\n",
       "0               Not Mapped  Physician Referral                 1        UNK   \n",
       "1       Discharged to home      Emergency Room                 3        UNK   \n",
       "2       Discharged to home      Emergency Room                 2        UNK   \n",
       "3       Discharged to home      Emergency Room                 2        UNK   \n",
       "4       Discharged to home      Emergency Room                 1        UNK   \n",
       "\n",
       "          medical_specialty  ...  citoglipton  insulin  glyburide-metformin  \\\n",
       "0  Pediatrics-Endocrinology  ...           No       No                   No   \n",
       "1                       UNK  ...           No       Up                   No   \n",
       "2                       UNK  ...           No       No                   No   \n",
       "3                       UNK  ...           No       Up                   No   \n",
       "4                       UNK  ...           No   Steady                   No   \n",
       "\n",
       "   glipizide-metformin  glimepiride-pioglitazone  metformin-rosiglitazone  \\\n",
       "0                   No                        No                       No   \n",
       "1                   No                        No                       No   \n",
       "2                   No                        No                       No   \n",
       "3                   No                        No                       No   \n",
       "4                   No                        No                       No   \n",
       "\n",
       "  metformin-pioglitazone change diabetesMed  early_readmit  \n",
       "0                     No     No          No             NO  \n",
       "1                     No     Ch         Yes            >30  \n",
       "2                     No     No         Yes             NO  \n",
       "3                     No     Ch         Yes             NO  \n",
       "4                     No     Ch         Yes             NO  \n",
       "\n",
       "[5 rows x 48 columns]"
      ]
     },
     "execution_count": 9,
     "metadata": {},
     "output_type": "execute_result"
    }
   ],
   "source": [
    "df.head()"
   ]
  },
  {
   "cell_type": "code",
   "execution_count": 10,
   "metadata": {
    "ExecuteTime": {
     "end_time": "2019-10-05T03:48:21.165070Z",
     "start_time": "2019-10-05T03:48:21.029060Z"
    }
   },
   "outputs": [
    {
     "data": {
      "text/html": [
       "<div>\n",
       "<style scoped>\n",
       "    .dataframe tbody tr th:only-of-type {\n",
       "        vertical-align: middle;\n",
       "    }\n",
       "\n",
       "    .dataframe tbody tr th {\n",
       "        vertical-align: top;\n",
       "    }\n",
       "\n",
       "    .dataframe thead th {\n",
       "        text-align: right;\n",
       "    }\n",
       "</style>\n",
       "<table border=\"1\" class=\"dataframe\">\n",
       "  <thead>\n",
       "    <tr style=\"text-align: right;\">\n",
       "      <th></th>\n",
       "      <th>race</th>\n",
       "      <th>gender</th>\n",
       "      <th>age</th>\n",
       "      <th>weight</th>\n",
       "      <th>admission_type_id</th>\n",
       "      <th>discharge_disposition_id</th>\n",
       "      <th>admission_source_id</th>\n",
       "      <th>time_in_hospital</th>\n",
       "      <th>payer_code</th>\n",
       "      <th>medical_specialty</th>\n",
       "      <th>...</th>\n",
       "      <th>citoglipton</th>\n",
       "      <th>insulin</th>\n",
       "      <th>glyburide-metformin</th>\n",
       "      <th>glipizide-metformin</th>\n",
       "      <th>glimepiride-pioglitazone</th>\n",
       "      <th>metformin-rosiglitazone</th>\n",
       "      <th>metformin-pioglitazone</th>\n",
       "      <th>change</th>\n",
       "      <th>diabetesMed</th>\n",
       "      <th>early_readmit</th>\n",
       "    </tr>\n",
       "  </thead>\n",
       "  <tbody>\n",
       "    <tr>\n",
       "      <td>0</td>\n",
       "      <td>Caucasian</td>\n",
       "      <td>Female</td>\n",
       "      <td>0</td>\n",
       "      <td>0</td>\n",
       "      <td>NULL</td>\n",
       "      <td>Not Mapped</td>\n",
       "      <td>Physician Referral</td>\n",
       "      <td>1</td>\n",
       "      <td>UNK</td>\n",
       "      <td>Pediatrics-Endocrinology</td>\n",
       "      <td>...</td>\n",
       "      <td>No</td>\n",
       "      <td>No</td>\n",
       "      <td>No</td>\n",
       "      <td>No</td>\n",
       "      <td>No</td>\n",
       "      <td>No</td>\n",
       "      <td>No</td>\n",
       "      <td>No</td>\n",
       "      <td>No</td>\n",
       "      <td>0</td>\n",
       "    </tr>\n",
       "    <tr>\n",
       "      <td>1</td>\n",
       "      <td>Caucasian</td>\n",
       "      <td>Female</td>\n",
       "      <td>10</td>\n",
       "      <td>0</td>\n",
       "      <td>Emergency</td>\n",
       "      <td>Discharged to home</td>\n",
       "      <td>Emergency Room</td>\n",
       "      <td>3</td>\n",
       "      <td>UNK</td>\n",
       "      <td>UNK</td>\n",
       "      <td>...</td>\n",
       "      <td>No</td>\n",
       "      <td>Up</td>\n",
       "      <td>No</td>\n",
       "      <td>No</td>\n",
       "      <td>No</td>\n",
       "      <td>No</td>\n",
       "      <td>No</td>\n",
       "      <td>Ch</td>\n",
       "      <td>Yes</td>\n",
       "      <td>0</td>\n",
       "    </tr>\n",
       "    <tr>\n",
       "      <td>2</td>\n",
       "      <td>AfricanAmerican</td>\n",
       "      <td>Female</td>\n",
       "      <td>20</td>\n",
       "      <td>0</td>\n",
       "      <td>Emergency</td>\n",
       "      <td>Discharged to home</td>\n",
       "      <td>Emergency Room</td>\n",
       "      <td>2</td>\n",
       "      <td>UNK</td>\n",
       "      <td>UNK</td>\n",
       "      <td>...</td>\n",
       "      <td>No</td>\n",
       "      <td>No</td>\n",
       "      <td>No</td>\n",
       "      <td>No</td>\n",
       "      <td>No</td>\n",
       "      <td>No</td>\n",
       "      <td>No</td>\n",
       "      <td>No</td>\n",
       "      <td>Yes</td>\n",
       "      <td>0</td>\n",
       "    </tr>\n",
       "    <tr>\n",
       "      <td>3</td>\n",
       "      <td>Caucasian</td>\n",
       "      <td>Male</td>\n",
       "      <td>30</td>\n",
       "      <td>0</td>\n",
       "      <td>Emergency</td>\n",
       "      <td>Discharged to home</td>\n",
       "      <td>Emergency Room</td>\n",
       "      <td>2</td>\n",
       "      <td>UNK</td>\n",
       "      <td>UNK</td>\n",
       "      <td>...</td>\n",
       "      <td>No</td>\n",
       "      <td>Up</td>\n",
       "      <td>No</td>\n",
       "      <td>No</td>\n",
       "      <td>No</td>\n",
       "      <td>No</td>\n",
       "      <td>No</td>\n",
       "      <td>Ch</td>\n",
       "      <td>Yes</td>\n",
       "      <td>0</td>\n",
       "    </tr>\n",
       "    <tr>\n",
       "      <td>4</td>\n",
       "      <td>Caucasian</td>\n",
       "      <td>Male</td>\n",
       "      <td>40</td>\n",
       "      <td>0</td>\n",
       "      <td>Emergency</td>\n",
       "      <td>Discharged to home</td>\n",
       "      <td>Emergency Room</td>\n",
       "      <td>1</td>\n",
       "      <td>UNK</td>\n",
       "      <td>UNK</td>\n",
       "      <td>...</td>\n",
       "      <td>No</td>\n",
       "      <td>Steady</td>\n",
       "      <td>No</td>\n",
       "      <td>No</td>\n",
       "      <td>No</td>\n",
       "      <td>No</td>\n",
       "      <td>No</td>\n",
       "      <td>Ch</td>\n",
       "      <td>Yes</td>\n",
       "      <td>0</td>\n",
       "    </tr>\n",
       "  </tbody>\n",
       "</table>\n",
       "<p>5 rows × 48 columns</p>\n",
       "</div>"
      ],
      "text/plain": [
       "              race  gender  age  weight admission_type_id  \\\n",
       "0        Caucasian  Female    0       0              NULL   \n",
       "1        Caucasian  Female   10       0         Emergency   \n",
       "2  AfricanAmerican  Female   20       0         Emergency   \n",
       "3        Caucasian    Male   30       0         Emergency   \n",
       "4        Caucasian    Male   40       0         Emergency   \n",
       "\n",
       "  discharge_disposition_id admission_source_id  time_in_hospital payer_code  \\\n",
       "0               Not Mapped  Physician Referral                 1        UNK   \n",
       "1       Discharged to home      Emergency Room                 3        UNK   \n",
       "2       Discharged to home      Emergency Room                 2        UNK   \n",
       "3       Discharged to home      Emergency Room                 2        UNK   \n",
       "4       Discharged to home      Emergency Room                 1        UNK   \n",
       "\n",
       "          medical_specialty  ...  citoglipton  insulin  glyburide-metformin  \\\n",
       "0  Pediatrics-Endocrinology  ...           No       No                   No   \n",
       "1                       UNK  ...           No       Up                   No   \n",
       "2                       UNK  ...           No       No                   No   \n",
       "3                       UNK  ...           No       Up                   No   \n",
       "4                       UNK  ...           No   Steady                   No   \n",
       "\n",
       "   glipizide-metformin  glimepiride-pioglitazone  metformin-rosiglitazone  \\\n",
       "0                   No                        No                       No   \n",
       "1                   No                        No                       No   \n",
       "2                   No                        No                       No   \n",
       "3                   No                        No                       No   \n",
       "4                   No                        No                       No   \n",
       "\n",
       "  metformin-pioglitazone change diabetesMed  early_readmit  \n",
       "0                     No     No          No              0  \n",
       "1                     No     Ch         Yes              0  \n",
       "2                     No     No         Yes              0  \n",
       "3                     No     Ch         Yes              0  \n",
       "4                     No     Ch         Yes              0  \n",
       "\n",
       "[5 rows x 48 columns]"
      ]
     },
     "execution_count": 10,
     "metadata": {},
     "output_type": "execute_result"
    }
   ],
   "source": [
    "df[dep_var] = df[dep_var].replace({'<30':1, '>30':0, 'NO':0})\n",
    "df.head()"
   ]
  },
  {
   "cell_type": "code",
   "execution_count": 11,
   "metadata": {
    "ExecuteTime": {
     "end_time": "2019-10-05T03:48:21.229502Z",
     "start_time": "2019-10-05T03:48:21.226269Z"
    }
   },
   "outputs": [],
   "source": [
    "procs = [FillMissing, Categorify, Normalize]"
   ]
  },
  {
   "cell_type": "code",
   "execution_count": 12,
   "metadata": {
    "ExecuteTime": {
     "end_time": "2019-10-05T03:48:21.541401Z",
     "start_time": "2019-10-05T03:48:21.404508Z"
    }
   },
   "outputs": [],
   "source": [
    "df, X_test, df[dep_var], y_test = train_test_split(df, df[dep_var], test_size=0.33, random_state=42, stratify=df[dep_var])"
   ]
  },
  {
   "cell_type": "code",
   "execution_count": null,
   "metadata": {},
   "outputs": [],
   "source": [
    "# standard scale\n",
    "scaler = StandardScaler()\n",
    "X_train = scaler.fit_transform(X_train)\n",
    "X_test = scaler.transform(X_test)"
   ]
  },
  {
   "cell_type": "code",
   "execution_count": 13,
   "metadata": {
    "ExecuteTime": {
     "end_time": "2019-10-05T03:48:21.615657Z",
     "start_time": "2019-10-05T03:48:21.612979Z"
    }
   },
   "outputs": [],
   "source": [
    "# SMOTE doesn't work for categoricals currently\n",
    "\n",
    "# smote = SMOTE()\n",
    "# x_sm, y_sm = smote.fit_sample(df, df[dep_var])\n",
    "# df = pd.DataFrame(x_sm, columns=df.columns)\n",
    "# df[dep_var] = y_sm"
   ]
  },
  {
   "cell_type": "code",
   "execution_count": 14,
   "metadata": {
    "ExecuteTime": {
     "end_time": "2019-10-05T03:48:21.843053Z",
     "start_time": "2019-10-05T03:48:21.820816Z"
    }
   },
   "outputs": [],
   "source": [
    "train_idx, valid_idx = next(StratifiedKFold(n_splits=10).split(df, df[dep_var]))"
   ]
  },
  {
   "cell_type": "code",
   "execution_count": 15,
   "metadata": {
    "ExecuteTime": {
     "end_time": "2019-10-05T03:48:24.413171Z",
     "start_time": "2019-10-05T03:48:22.020748Z"
    }
   },
   "outputs": [],
   "source": [
    "data = TabularDataBunch.from_df(df=df, \n",
    "                                test_df=X_test, \n",
    "                                path='.', \n",
    "                                dep_var=dep_var, \n",
    "                                valid_idx=valid_idx, \n",
    "                                procs=procs,\n",
    "                                cat_names=cat_names)"
   ]
  },
  {
   "cell_type": "code",
   "execution_count": 16,
   "metadata": {
    "ExecuteTime": {
     "end_time": "2019-10-05T03:48:24.561096Z",
     "start_time": "2019-10-05T03:48:24.556669Z"
    }
   },
   "outputs": [
    {
     "data": {
      "text/plain": [
       "60368"
      ]
     },
     "execution_count": 16,
     "metadata": {},
     "output_type": "execute_result"
    }
   ],
   "source": [
    "len(data.train_ds)"
   ]
  },
  {
   "cell_type": "code",
   "execution_count": 17,
   "metadata": {
    "ExecuteTime": {
     "end_time": "2019-10-05T03:48:24.784990Z",
     "start_time": "2019-10-05T03:48:24.780598Z"
    }
   },
   "outputs": [
    {
     "data": {
      "text/plain": [
       "6708"
      ]
     },
     "execution_count": 17,
     "metadata": {},
     "output_type": "execute_result"
    }
   ],
   "source": [
    "len(data.valid_ds)"
   ]
  },
  {
   "cell_type": "code",
   "execution_count": 18,
   "metadata": {
    "ExecuteTime": {
     "end_time": "2019-10-05T03:48:25.553638Z",
     "start_time": "2019-10-05T03:48:25.549371Z"
    }
   },
   "outputs": [
    {
     "data": {
      "text/plain": [
       "33038"
      ]
     },
     "execution_count": 18,
     "metadata": {},
     "output_type": "execute_result"
    }
   ],
   "source": [
    "len(data.test_ds)"
   ]
  },
  {
   "cell_type": "code",
   "execution_count": 48,
   "metadata": {
    "ExecuteTime": {
     "end_time": "2019-10-05T04:25:58.112364Z",
     "start_time": "2019-10-05T04:25:58.108904Z"
    }
   },
   "outputs": [],
   "source": [
    "callback_fns = [ShowGraph, \n",
    "#                 SaveModelCallback(learn, every='improvement', monitor='val_loss', name='fastaimodel'),\n",
    "                partial(EarlyStoppingCallback, monitor='val_loss', min_delta=0.01, patience=4)]"
   ]
  },
  {
   "cell_type": "code",
   "execution_count": 77,
   "metadata": {
    "ExecuteTime": {
     "end_time": "2019-10-05T05:12:23.569462Z",
     "start_time": "2019-10-05T05:12:23.564532Z"
    }
   },
   "outputs": [
    {
     "data": {
      "text/plain": [
       "{'race': 10,\n",
       " 'gender': 10,\n",
       " 'admission_type_id': 10,\n",
       " 'discharge_disposition_id': 10,\n",
       " 'admission_source_id': 10,\n",
       " 'payer_code': 10,\n",
       " 'medical_specialty': 10,\n",
       " 'diag_1': 10,\n",
       " 'diag_2': 10,\n",
       " 'diag_3': 10,\n",
       " 'max_glu_serum': 10,\n",
       " 'A1Cresult': 10,\n",
       " 'metformin': 10,\n",
       " 'repaglinide': 10,\n",
       " 'nateglinide': 10,\n",
       " 'chlorpropamide': 10,\n",
       " 'glimepiride': 10,\n",
       " 'acetohexamide': 10,\n",
       " 'glipizide': 10,\n",
       " 'glyburide': 10,\n",
       " 'tolbutamide': 10,\n",
       " 'pioglitazone': 10,\n",
       " 'rosiglitazone': 10,\n",
       " 'acarbose': 10,\n",
       " 'miglitol': 10,\n",
       " 'troglitazone': 10,\n",
       " 'tolazamide': 10,\n",
       " 'examide': 10,\n",
       " 'citoglipton': 10,\n",
       " 'insulin': 10,\n",
       " 'glyburide-metformin': 10,\n",
       " 'glipizide-metformin': 10,\n",
       " 'glimepiride-pioglitazone': 10,\n",
       " 'metformin-rosiglitazone': 10,\n",
       " 'metformin-pioglitazone': 10,\n",
       " 'change': 10,\n",
       " 'diabetesMed': 10}"
      ]
     },
     "execution_count": 77,
     "metadata": {},
     "output_type": "execute_result"
    }
   ],
   "source": [
    "# dictionary = dict(zip(keys, values))\n",
    "emb_szs = dict(zip(cat_names, [10]*len(cat_names)))\n",
    "emb_szs"
   ]
  },
  {
   "cell_type": "code",
   "execution_count": 78,
   "metadata": {
    "ExecuteTime": {
     "end_time": "2019-10-05T05:12:24.791666Z",
     "start_time": "2019-10-05T05:12:24.787393Z"
    }
   },
   "outputs": [],
   "source": [
    "def calcHiddenLayer(data, alpha, numHiddenLayers):\n",
    "  tempData = data.train_ds\n",
    "  i, o = len(tempData.x.classes), len(tempData.y.classes)\n",
    "  io = i+o\n",
    "  return [(len(data.train_ds)//(alpha*(io)))//numHiddenLayers]*numHiddenLayers"
   ]
  },
  {
   "cell_type": "code",
   "execution_count": 83,
   "metadata": {
    "ExecuteTime": {
     "end_time": "2019-10-05T05:26:08.173724Z",
     "start_time": "2019-10-05T05:26:08.171090Z"
    }
   },
   "outputs": [],
   "source": [
    "# for numHiddenLayers in [2,3,4,5]:\n",
    "#     for alpha in [2,3,4,5,6,7,8,9,10]:\n",
    "#         print(calcHiddenLayer(data, alpha, numHiddenLayers))"
   ]
  },
  {
   "cell_type": "code",
   "execution_count": 84,
   "metadata": {
    "ExecuteTime": {
     "end_time": "2019-10-05T05:26:08.377618Z",
     "start_time": "2019-10-05T05:26:08.373285Z"
    }
   },
   "outputs": [
    {
     "data": {
      "text/plain": [
       "[386, 386]"
      ]
     },
     "execution_count": 84,
     "metadata": {},
     "output_type": "execute_result"
    }
   ],
   "source": [
    "calcHiddenLayer(data, 2, 2)"
   ]
  },
  {
   "cell_type": "code",
   "execution_count": 99,
   "metadata": {
    "ExecuteTime": {
     "end_time": "2019-10-05T05:45:00.202074Z",
     "start_time": "2019-10-05T05:44:51.636840Z"
    }
   },
   "outputs": [
    {
     "data": {
      "text/html": [],
      "text/plain": [
       "<IPython.core.display.HTML object>"
      ]
     },
     "metadata": {},
     "output_type": "display_data"
    },
    {
     "name": "stdout",
     "output_type": "stream",
     "text": [
      "LR Finder is complete, type {learner_name}.recorder.plot() to see the graph.\n"
     ]
    },
    {
     "data": {
      "image/png": "[encoded data removed]",
      "text/plain": [
       "<Figure size 720x720 with 1 Axes>"
      ]
     },
     "metadata": {
      "needs_background": "light"
     },
     "output_type": "display_data"
    }
   ],
   "source": [
    "# Create deep learning model\n",
    "learn = tabular_learner(data, \n",
    "#                         layers=[1000,650,500,250,125,100,100,100,50,25,10], \n",
    "                        layers=[2000,1000,500,100],\n",
    "#                         layers=[200,100],\n",
    "#                         layers=calcHiddenLayer(data, 2, 2),\n",
    "                        metrics=[AUROC()],\n",
    "#                         emb_szs=emb_szs,\n",
    "                        emb_drop=0.3, \n",
    "                        callback_fns=callback_fns)\n",
    "# learn.data.add_test(X_test)\n",
    "\n",
    "# select the appropriate learning rate\n",
    "learn.lr_find(end_lr=1)\n",
    "\n",
    "# we typically find the point where the slope is steepest\n",
    "learn.recorder.plot()"
   ]
  },
  {
   "cell_type": "code",
   "execution_count": null,
   "metadata": {
    "ExecuteTime": {
     "start_time": "2019-10-05T05:44:55.872Z"
    }
   },
   "outputs": [
    {
     "data": {
      "text/html": [
       "<table border=\"1\" class=\"dataframe\">\n",
       "  <thead>\n",
       "    <tr style=\"text-align: left;\">\n",
       "      <th>epoch</th>\n",
       "      <th>train_loss</th>\n",
       "      <th>valid_loss</th>\n",
       "      <th>auroc</th>\n",
       "      <th>time</th>\n",
       "    </tr>\n",
       "  </thead>\n",
       "  <tbody>\n",
       "    <tr>\n",
       "      <td>0</td>\n",
       "      <td>0.341696</td>\n",
       "      <td>0.338891</td>\n",
       "      <td>0.645121</td>\n",
       "      <td>01:12</td>\n",
       "    </tr>\n",
       "  </tbody>\n",
       "</table>"
      ],
      "text/plain": [
       "<IPython.core.display.HTML object>"
      ]
     },
     "metadata": {},
     "output_type": "display_data"
    },
    {
     "data": {
      "image/png": "[encoded data removed]",
      "text/plain": [
       "<Figure size 432x288 with 1 Axes>"
      ]
     },
     "metadata": {},
     "output_type": "display_data"
    },
    {
     "data": {
      "text/html": [
       "\n",
       "    <div>\n",
       "        <style>\n",
       "            /* Turns off some styling */\n",
       "            progress {\n",
       "                /* gets rid of default border in Firefox and Opera. */\n",
       "                border: none;\n",
       "                /* Needs to be in here for Safari polyfill so background images work as expected. */\n",
       "                background-size: auto;\n",
       "            }\n",
       "            .progress-bar-interrupted, .progress-bar-interrupted::-webkit-progress-bar {\n",
       "                background: #F44336;\n",
       "            }\n",
       "        </style>\n",
       "      <progress value='6' class='' max='15', style='width:300px; height:20px; vertical-align: middle;'></progress>\n",
       "      40.00% [6/15 07:18<10:57]\n",
       "    </div>\n",
       "    \n",
       "<table border=\"1\" class=\"dataframe\">\n",
       "  <thead>\n",
       "    <tr style=\"text-align: left;\">\n",
       "      <th>epoch</th>\n",
       "      <th>train_loss</th>\n",
       "      <th>valid_loss</th>\n",
       "      <th>auroc</th>\n",
       "      <th>time</th>\n",
       "    </tr>\n",
       "  </thead>\n",
       "  <tbody>\n",
       "    <tr>\n",
       "      <td>0</td>\n",
       "      <td>0.326374</td>\n",
       "      <td>0.339216</td>\n",
       "      <td>0.648040</td>\n",
       "      <td>01:12</td>\n",
       "    </tr>\n",
       "    <tr>\n",
       "      <td>1</td>\n",
       "      <td>0.339012</td>\n",
       "      <td>0.337630</td>\n",
       "      <td>0.651799</td>\n",
       "      <td>01:11</td>\n",
       "    </tr>\n",
       "    <tr>\n",
       "      <td>2</td>\n",
       "      <td>0.323027</td>\n",
       "      <td>0.337571</td>\n",
       "      <td>0.655507</td>\n",
       "      <td>01:12</td>\n",
       "    </tr>\n",
       "    <tr>\n",
       "      <td>3</td>\n",
       "      <td>0.338888</td>\n",
       "      <td>0.336581</td>\n",
       "      <td>0.656039</td>\n",
       "      <td>01:14</td>\n",
       "    </tr>\n",
       "    <tr>\n",
       "      <td>4</td>\n",
       "      <td>0.334680</td>\n",
       "      <td>0.336530</td>\n",
       "      <td>0.655033</td>\n",
       "      <td>01:13</td>\n",
       "    </tr>\n",
       "    <tr>\n",
       "      <td>5</td>\n",
       "      <td>0.332463</td>\n",
       "      <td>0.335394</td>\n",
       "      <td>0.659024</td>\n",
       "      <td>01:13</td>\n",
       "    </tr>\n",
       "  </tbody>\n",
       "</table><p>\n",
       "\n",
       "    <div>\n",
       "        <style>\n",
       "            /* Turns off some styling */\n",
       "            progress {\n",
       "                /* gets rid of default border in Firefox and Opera. */\n",
       "                border: none;\n",
       "                /* Needs to be in here for Safari polyfill so background images work as expected. */\n",
       "                background-size: auto;\n",
       "            }\n",
       "            .progress-bar-interrupted, .progress-bar-interrupted::-webkit-progress-bar {\n",
       "                background: #F44336;\n",
       "            }\n",
       "        </style>\n",
       "      <progress value='726' class='' max='943', style='width:300px; height:20px; vertical-align: middle;'></progress>\n",
       "      76.99% [726/943 00:55<00:16 0.3222]\n",
       "    </div>\n",
       "    "
      ],
      "text/plain": [
       "<IPython.core.display.HTML object>"
      ]
     },
     "metadata": {},
     "output_type": "display_data"
    },
    {
     "data": {
      "image/png": "[encoded data removed]",
      "text/plain": [
       "<Figure size 432x288 with 1 Axes>"
      ]
     },
     "metadata": {},
     "output_type": "display_data"
    }
   ],
   "source": [
    "# Fit the model based on selected learning rate\n",
    "learn.fit_one_cycle(1, max_lr=2e-02)\n",
    "\n",
    "learn.fit(epochs=15, lr=2e-03)\n",
    "\n",
    "# Analyse our model\n",
    "learn.model\n",
    "learn.recorder.plot_losses()"
   ]
  },
  {
   "cell_type": "code",
   "execution_count": null,
   "metadata": {
    "ExecuteTime": {
     "start_time": "2019-10-05T05:45:45.874Z"
    }
   },
   "outputs": [],
   "source": [
    "y_preds_probas, y = learn.get_preds(ds_type=DatasetType.Test)"
   ]
  },
  {
   "cell_type": "code",
   "execution_count": null,
   "metadata": {
    "ExecuteTime": {
     "start_time": "2019-10-05T05:45:46.104Z"
    }
   },
   "outputs": [],
   "source": [
    "y_pred = torch.argmax(y_preds_probas, dim=1)"
   ]
  },
  {
   "cell_type": "code",
   "execution_count": null,
   "metadata": {
    "ExecuteTime": {
     "start_time": "2019-10-05T05:45:46.289Z"
    }
   },
   "outputs": [],
   "source": [
    "y_pred = np.array(y_pred)"
   ]
  },
  {
   "cell_type": "code",
   "execution_count": null,
   "metadata": {
    "ExecuteTime": {
     "start_time": "2019-10-05T05:45:46.505Z"
    }
   },
   "outputs": [],
   "source": [
    "print(metrics.classification_report(y_test, y_pred))"
   ]
  },
  {
   "cell_type": "code",
   "execution_count": null,
   "metadata": {
    "ExecuteTime": {
     "start_time": "2019-10-05T05:45:46.889Z"
    }
   },
   "outputs": [],
   "source": [
    "# np.array(list(y_preds_probas))[:,0]\n",
    "np.array(y_preds_probas[:,1])"
   ]
  },
  {
   "cell_type": "code",
   "execution_count": null,
   "metadata": {},
   "outputs": [],
   "source": [
    "from sklearn.metrics import roc_curve \n",
    "\n",
    "y_train_preds = best_model.predict_proba(X_train_tf)[:,1]\n",
    "y_valid_preds = best_model.predict_proba(X_valid_tf)[:,1]\n",
    "y_test_preds = best_model.predict_proba(X_test_tf)[:,1]\n",
    "\n",
    "fpr_train, tpr_train, thresholds_train = roc_curve(y_train, y_train_preds)\n",
    "auc_train = roc_auc_score(y_train, y_train_preds)\n",
    "\n",
    "fpr_valid, tpr_valid, thresholds_valid = roc_curve(y_valid, y_valid_preds)\n",
    "auc_valid = roc_auc_score(y_valid, y_valid_preds)\n",
    "\n",
    "fpr_test, tpr_test, thresholds_test = roc_curve(y_test, y_test_preds)\n",
    "auc_test = roc_auc_score(y_test, y_test_preds)\n",
    "\n",
    "plt.plot(fpr_train, tpr_train, 'r-',label ='Train AUC:%.3f'%auc_train)\n",
    "plt.plot(fpr_valid, tpr_valid, 'b-',label ='Valid AUC:%.3f'%auc_valid)\n",
    "plt.plot(fpr_test, tpr_test, 'g-',label ='Test AUC:%.3f'%auc_test)\n",
    "plt.plot([0,1],[0,1],'k--')\n",
    "plt.xlabel('False Positive Rate')\n",
    "plt.ylabel('True Positive Rate')\n",
    "plt.legend()\n",
    "plt.show()"
   ]
  },
  {
   "cell_type": "code",
   "execution_count": null,
   "metadata": {
    "ExecuteTime": {
     "start_time": "2019-10-05T05:45:47.089Z"
    }
   },
   "outputs": [],
   "source": [
    "p, r, t = precision_recall_curve(y_test, np.array(y_preds_probas[:,1]))\n",
    "\n",
    "# adding last threshold of '1' to threshold list\n",
    "t = np.vstack([t.reshape([-1, 1]), 1])\n",
    "\n",
    "plt.plot(t, p)\n",
    "plt.plot(t, r)\n",
    "plt.title('Precision Recall Curve')"
   ]
  },
  {
   "cell_type": "code",
   "execution_count": null,
   "metadata": {
    "ExecuteTime": {
     "start_time": "2019-10-05T05:45:47.352Z"
    }
   },
   "outputs": [],
   "source": [
    "class_names = [\"not early readmit\", \"early readmit\"]"
   ]
  },
  {
   "cell_type": "code",
   "execution_count": null,
   "metadata": {
    "ExecuteTime": {
     "start_time": "2019-10-05T05:45:47.825Z"
    }
   },
   "outputs": [],
   "source": [
    "def plot_confusion_matrix(y_true, y_pred, classes,\n",
    "                          normalize=False,\n",
    "                          title=None,\n",
    "                          cmap=sns.color_palette(\"Blues\")):\n",
    "    \"\"\"\n",
    "    This function prints and plots the confusion matrix.\n",
    "    Normalization can be applied by setting `normalize=True`.\n",
    "    \"\"\"\n",
    "    if not title:\n",
    "        if normalize:\n",
    "            title = 'Normalized confusion matrix'\n",
    "        else:\n",
    "            title = 'Confusion matrix, without normalization'\n",
    "\n",
    "    # Compute confusion matrix\n",
    "    cm = confusion_matrix(y_true, y_pred)\n",
    "    \n",
    "    # Only use the labels that appear in the data\n",
    "#     classes = classes[unique_labels(y_true, y_pred)]\n",
    "    if normalize:\n",
    "        cm = cm.astype('float') / cm.sum(axis=1)[:, np.newaxis]\n",
    "        print(\"Normalized confusion matrix\")\n",
    "    else:\n",
    "        print('Confusion matrix, without normalization')\n",
    "\n",
    "    print(cm)\n",
    "\n",
    "    fig, ax = plt.subplots()\n",
    "    ax = sns.heatmap(cm, cmap = cmap, annot=True, xticklabels=classes, yticklabels=classes)\n",
    "\n",
    "    ax.set(title=title,\n",
    "           ylabel='True label',\n",
    "           xlabel='Predicted label')\n",
    "\n",
    "    # Rotate the x labels and set their alignment\n",
    "    plt.setp(ax.get_xticklabels(), rotation=45, ha=\"right\",\n",
    "             rotation_mode=\"anchor\")\n",
    "\n",
    "    # Vertically center y labels\n",
    "    plt.setp(ax.get_yticklabels(), va=\"center\")\n",
    "    \n",
    "    bottom, top = ax.get_ylim()\n",
    "    ax.set_ylim(bottom + 0.5, top - 0.5)\n",
    "    \n",
    "    return ax"
   ]
  },
  {
   "cell_type": "code",
   "execution_count": null,
   "metadata": {
    "ExecuteTime": {
     "start_time": "2019-10-05T05:45:48.353Z"
    }
   },
   "outputs": [],
   "source": [
    "# Plot non-normalized confusion matrix\n",
    "ax = plot_confusion_matrix(y_test, y_pred, classes=class_names,\n",
    "                      title='Confusion matrix, without normalization')\n",
    "\n",
    "# plt.savefig('confusion_matrix_test.png', bbox_inches=\"tight\")"
   ]
  },
  {
   "cell_type": "code",
   "execution_count": null,
   "metadata": {
    "ExecuteTime": {
     "start_time": "2019-10-05T05:45:49.282Z"
    }
   },
   "outputs": [],
   "source": [
    "def feature_importance(learner): \n",
    "  # based on: https://medium.com/@mp.music93/neural-networks-feature-importance-with-fastai-5c393cf65815\n",
    "    data = learner.data.train_ds.x\n",
    "    cat_names = data.cat_names\n",
    "    cont_names = data.cont_names\n",
    "    loss0=np.array([learner.loss_func(learner.pred_batch(batch=(x,y.to(\"cpu\"))), y.to(\"cpu\")) for x,y in iter(learner.data.valid_dl)]).mean()\n",
    "    fi=dict()\n",
    "    types=[cat_names, cont_names]\n",
    "    for j, t in enumerate(types):\n",
    "      for i, c in enumerate(t):\n",
    "        loss=[]\n",
    "        for x,y in iter(learner.data.valid_dl):\n",
    "          col=x[j][:,i]    #x[0] da hier cat-vars\n",
    "          idx = torch.randperm(col.nelement())\n",
    "          x[j][:,i] = col.view(-1)[idx].view(col.size())\n",
    "          y=y.to('cpu')\n",
    "          loss.append(learner.loss_func(learner.pred_batch(batch=(x,y)), y))\n",
    "        fi[c]=np.array(loss).mean()-loss0\n",
    "    d = sorted(fi.items(), key=lambda kv: kv[1], reverse=True)\n",
    "    return pd.DataFrame({'cols': [l for l, v in d], 'imp': np.log1p([v for l, v in d])})\n",
    "  \n",
    "## my model is called 'learn'\n",
    "features = feature_importance(learn)\n",
    "\n",
    "## plot 'em!\n",
    "features.plot('cols', 'imp', 'barh', figsize=(12,15), legend=False)"
   ]
  },
  {
   "cell_type": "code",
   "execution_count": null,
   "metadata": {
    "ExecuteTime": {
     "start_time": "2019-10-05T05:45:50.337Z"
    }
   },
   "outputs": [],
   "source": [
    "features"
   ]
  },
  {
   "cell_type": "code",
   "execution_count": null,
   "metadata": {
    "ExecuteTime": {
     "start_time": "2019-10-05T05:45:50.609Z"
    }
   },
   "outputs": [],
   "source": [
    "features['abs'] = [abs(elem) for elem in features['imp']]\n",
    "features.sort_values(by='abs', ascending=False).head(10)"
   ]
  },
  {
   "cell_type": "code",
   "execution_count": null,
   "metadata": {},
   "outputs": [],
   "source": []
  }
 ],
 "metadata": {
  "kernelspec": {
   "display_name": "Python 3",
   "language": "python",
   "name": "python3"
  },
  "language_info": {
   "codemirror_mode": {
    "name": "ipython",
    "version": 3
   },
   "file_extension": ".py",
   "mimetype": "text/x-python",
   "name": "python",
   "nbconvert_exporter": "python",
   "pygments_lexer": "ipython3",
   "version": "3.7.3"
  }
 },
 "nbformat": 4,
 "nbformat_minor": 2
}
