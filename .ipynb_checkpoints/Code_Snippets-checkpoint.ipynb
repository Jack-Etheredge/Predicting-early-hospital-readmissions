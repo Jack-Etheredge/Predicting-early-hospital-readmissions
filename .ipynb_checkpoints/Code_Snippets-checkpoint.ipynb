{
 "cells": [
  {
   "cell_type": "markdown",
   "metadata": {},
   "source": [
    "# Proper scaling:"
   ]
  },
  {
   "cell_type": "code",
   "execution_count": null,
   "metadata": {
    "ExecuteTime": {
     "end_time": "2018-05-09T15:47:08.644219Z",
     "start_time": "2018-05-09T15:47:08.639843Z"
    }
   },
   "outputs": [],
   "source": [
    "# not recommended bc of bleedover\n",
    "\n",
    "# X = preprocessing.scale(X)\n",
    "# ... imagine we then do test train split"
   ]
  },
  {
   "cell_type": "code",
   "execution_count": null,
   "metadata": {},
   "outputs": [],
   "source": [
    "# not recommended bc test has a different scale\n",
    "\n",
    "# X_train = preprocessing.scale(X_train)\n",
    "# X_test = preprocessing.scale(X_test)"
   ]
  },
  {
   "cell_type": "code",
   "execution_count": null,
   "metadata": {
    "ExecuteTime": {
     "end_time": "2018-05-09T15:51:23.019925Z",
     "start_time": "2018-05-09T15:51:23.011026Z"
    }
   },
   "outputs": [],
   "source": [
    "# recommended w/o pipeline\n",
    "\n",
    "scaler = preprocessing.StandardScaler()\n",
    "\n",
    "X_train = scaler.fit_transform(X_train)\n",
    "\n",
    "X_test = scaler.transform(X_test)"
   ]
  },
  {
   "cell_type": "code",
   "execution_count": null,
   "metadata": {
    "ExecuteTime": {
     "end_time": "2018-05-09T15:51:23.703507Z",
     "start_time": "2018-05-09T15:51:23.694571Z"
    }
   },
   "outputs": [],
   "source": [
    "# recommended w/o pipeline (achieves the same as above)\n",
    "\n",
    "scaler = preprocessing.StandardScaler()\n",
    "\n",
    "# this splits fit and transform on train into two steps:\n",
    "\n",
    "scaler.fit(X_train)\n",
    "\n",
    "X_train = scaler.transform(X_train)\n",
    "\n",
    "X_test = scaler.transform(X_test)"
   ]
  },
  {
   "cell_type": "code",
   "execution_count": null,
   "metadata": {
    "ExecuteTime": {
     "end_time": "2018-05-14T20:46:21.274322Z",
     "start_time": "2018-05-14T20:46:18.141327Z"
    }
   },
   "outputs": [],
   "source": [
    "from sklearn import svm, preprocessing\n",
    "\n",
    "# check out class_weight=\"balanced\"\n",
    "linearSVMmodel = svm.LinearSVC()\n",
    "linearSVMmodel.fit(x_train_undersampled, y_train_undersampled)\n",
    "\n",
    "y_pred = linearSVMmodel.predict(x_test)\n",
    "\n",
    "print(\"Accuracy: %.3f\"% metrics.accuracy_score(y_test, y_pred))\n",
    "print(metrics.classification_report(y_test, y_pred))"
   ]
  },
  {
   "cell_type": "code",
   "execution_count": null,
   "metadata": {
    "ExecuteTime": {
     "end_time": "2018-05-14T20:50:37.636508Z",
     "start_time": "2018-05-14T20:47:43.835969Z"
    }
   },
   "outputs": [],
   "source": [
    "model = svm.SVC()\n",
    "model.fit(x_train_undersampled, y_train_undersampled)\n",
    "\n",
    "y_pred = model.predict(x_test)\n",
    "\n",
    "print(\"Accuracy: %.3f\"% metrics.accuracy_score(y_test, y_pred))\n",
    "print(metrics.classification_report(y_test, y_pred))"
   ]
  }
 ],
 "metadata": {
  "anaconda-cloud": {},
  "kernelspec": {
   "display_name": "Python 3",
   "language": "python",
   "name": "python3"
  },
  "language_info": {
   "codemirror_mode": {
    "name": "ipython",
    "version": 3
   },
   "file_extension": ".py",
   "mimetype": "text/x-python",
   "name": "python",
   "nbconvert_exporter": "python",
   "pygments_lexer": "ipython3",
   "version": "3.7.1"
  },
  "toc": {
   "nav_menu": {},
   "number_sections": true,
   "sideBar": true,
   "skip_h1_title": false,
   "toc_cell": false,
   "toc_position": {},
   "toc_section_display": "block",
   "toc_window_display": false
  },
  "varInspector": {
   "cols": {
    "lenName": 16,
    "lenType": 16,
    "lenVar": 40
   },
   "kernels_config": {
    "python": {
     "delete_cmd_postfix": "",
     "delete_cmd_prefix": "del ",
     "library": "var_list.py",
     "varRefreshCmd": "print(var_dic_list())"
    },
    "r": {
     "delete_cmd_postfix": ") ",
     "delete_cmd_prefix": "rm(",
     "library": "var_list.r",
     "varRefreshCmd": "cat(var_dic_list()) "
    }
   },
   "types_to_exclude": [
    "module",
    "function",
    "builtin_function_or_method",
    "instance",
    "_Feature"
   ],
   "window_display": false
  }
 },
 "nbformat": 4,
 "nbformat_minor": 1
}
