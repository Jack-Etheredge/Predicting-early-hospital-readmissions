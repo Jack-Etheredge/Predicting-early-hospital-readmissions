{
 "cells": [
  {
   "cell_type": "markdown",
   "metadata": {},
   "source": [
    "### Classification project for logistic regression:\n",
    "\n",
    "Classifying with supervised learning whether diabetic patients are readmitted, and if they are, if it's before or after 30 days.\n",
    "\n",
    "Using the dataset from here: https://archive.ics.uci.edu/ml/datasets/Diabetes+130-US+hospitals+for+years+1999-2008"
   ]
  },
  {
   "cell_type": "code",
   "execution_count": 1,
   "metadata": {
    "ExecuteTime": {
     "end_time": "2018-05-11T00:22:39.359135Z",
     "start_time": "2018-05-11T00:22:37.686198Z"
    }
   },
   "outputs": [],
   "source": [
    "import pandas as pd\n",
    "import patsy as patsy\n",
    "import numpy as np\n",
    "import matplotlib.pyplot as plt\n",
    "import seaborn as sns\n",
    "\n",
    "from sklearn.model_selection import train_test_split\n",
    "from sklearn import preprocessing\n",
    "\n",
    "# SMOTE\n",
    "from imblearn.over_sampling import SMOTE\n",
    "\n",
    "# Undersampling\n",
    "from imblearn.under_sampling import RandomUnderSampler\n",
    "\n",
    "from sklearn import linear_model\n",
    "from sklearn.linear_model import LogisticRegression\n",
    "from sklearn.neighbors import KNeighborsClassifier\n",
    "\n",
    "from sklearn.model_selection import cross_val_score\n",
    "from sklearn.model_selection import GridSearchCV\n",
    "from sklearn import metrics\n",
    "\n",
    "import pickle"
   ]
  },
  {
   "cell_type": "code",
   "execution_count": 2,
   "metadata": {
    "ExecuteTime": {
     "end_time": "2018-05-11T00:22:39.807919Z",
     "start_time": "2018-05-11T00:22:39.361038Z"
    }
   },
   "outputs": [],
   "source": [
    "with open(\"x.pkl\", 'rb') as picklefile: \n",
    "    x = pickle.load(picklefile)\n",
    "\n",
    "with open(\"y.pkl\", 'rb') as picklefile: \n",
    "    y = pickle.load(picklefile)\n",
    "\n",
    "with open(\"patientdata.pkl\", 'rb') as picklefile: \n",
    "    patientdata = pickle.load(picklefile)"
   ]
  },
  {
   "cell_type": "code",
   "execution_count": 3,
   "metadata": {
    "ExecuteTime": {
     "end_time": "2018-05-11T00:22:40.895588Z",
     "start_time": "2018-05-11T00:22:39.809942Z"
    }
   },
   "outputs": [],
   "source": [
    "with open(\"y_train.pkl\", 'rb') as picklefile: \n",
    "    y_train = pickle.load(picklefile)\n",
    "\n",
    "with open(\"y_test.pkl\", 'rb') as picklefile: \n",
    "    y_test = pickle.load(picklefile)\n",
    "\n",
    "with open(\"x_train.pkl\", 'rb') as picklefile: \n",
    "    x_train = pickle.load(picklefile)\n",
    "\n",
    "with open(\"x_test.pkl\", 'rb') as picklefile: \n",
    "    x_test = pickle.load(picklefile)\n",
    "\n",
    "with open(\"x_train_scaled.pkl\", 'rb') as picklefile: \n",
    "    x_train_scaled = pickle.load(picklefile)\n",
    "\n",
    "with open(\"x_test_scaled.pkl\", 'rb') as picklefile: \n",
    "    x_test_scaled = pickle.load(picklefile)\n",
    "    \n",
    "with open(\"x_scaled.pkl\", 'rb') as picklefile: \n",
    "    x_scaled = pickle.load(picklefile)\n",
    "\n",
    "with open(\"patientdataICD9.pkl\", 'rb') as picklefile: \n",
    "    patientdataICD9 = pickle.load(picklefile)"
   ]
  },
  {
   "cell_type": "code",
   "execution_count": 4,
   "metadata": {
    "ExecuteTime": {
     "end_time": "2018-05-11T00:22:40.917387Z",
     "start_time": "2018-05-11T00:22:40.897750Z"
    }
   },
   "outputs": [],
   "source": [
    "# using the scaled x-train and x-test because it's Logistic\n",
    "\n",
    "x_train = x_train_scaled\n",
    "x_test = x_test_scaled"
   ]
  },
  {
   "cell_type": "code",
   "execution_count": null,
   "metadata": {},
   "outputs": [],
   "source": []
  },
  {
   "cell_type": "markdown",
   "metadata": {},
   "source": [
    "#### Logistic regression without test/train split:"
   ]
  },
  {
   "cell_type": "code",
   "execution_count": 3,
   "metadata": {
    "ExecuteTime": {
     "end_time": "2018-05-08T20:27:15.455641Z",
     "start_time": "2018-05-08T20:26:53.178653Z"
    }
   },
   "outputs": [
    {
     "data": {
      "text/plain": [
       "LogisticRegression(C=1.0, class_weight=None, dual=False, fit_intercept=True,\n",
       "          intercept_scaling=1, max_iter=100, multi_class='ovr', n_jobs=1,\n",
       "          penalty='l2', random_state=None, solver='liblinear', tol=0.0001,\n",
       "          verbose=0, warm_start=False)"
      ]
     },
     "execution_count": 3,
     "metadata": {},
     "output_type": "execute_result"
    }
   ],
   "source": [
    "lrmodel = linear_model.LogisticRegression()\n",
    "lrmodel.fit(x,y)"
   ]
  },
  {
   "cell_type": "code",
   "execution_count": 4,
   "metadata": {
    "ExecuteTime": {
     "end_time": "2018-05-08T20:27:16.128667Z",
     "start_time": "2018-05-08T20:27:15.457857Z"
    }
   },
   "outputs": [
    {
     "data": {
      "text/plain": [
       "0.6008883124029637"
      ]
     },
     "execution_count": 4,
     "metadata": {},
     "output_type": "execute_result"
    }
   ],
   "source": [
    "lrmodel.score(x,y)"
   ]
  },
  {
   "cell_type": "markdown",
   "metadata": {},
   "source": [
    "#### Logistic regression with test/train split (25% for test):"
   ]
  },
  {
   "cell_type": "code",
   "execution_count": 7,
   "metadata": {
    "ExecuteTime": {
     "end_time": "2018-05-08T20:29:05.725220Z",
     "start_time": "2018-05-08T20:29:04.111427Z"
    }
   },
   "outputs": [],
   "source": [
    "# stratifying the test-train split\n",
    "x_train, x_test, y_train, y_test = train_test_split(x, y, test_size=0.25, random_state=42, stratify=y)"
   ]
  },
  {
   "cell_type": "code",
   "execution_count": 8,
   "metadata": {
    "ExecuteTime": {
     "end_time": "2018-05-08T20:30:04.386817Z",
     "start_time": "2018-05-08T20:29:49.317223Z"
    }
   },
   "outputs": [
    {
     "data": {
      "text/plain": [
       "0.5824227655058565"
      ]
     },
     "execution_count": 8,
     "metadata": {},
     "output_type": "execute_result"
    }
   ],
   "source": [
    "lrmodel.fit(x_train,y_train)\n",
    "lrmodel.score(x_test,y_test)"
   ]
  },
  {
   "cell_type": "code",
   "execution_count": 54,
   "metadata": {
    "ExecuteTime": {
     "end_time": "2018-05-10T23:34:22.029127Z",
     "start_time": "2018-05-10T23:34:21.812096Z"
    }
   },
   "outputs": [
    {
     "name": "stdout",
     "output_type": "stream",
     "text": [
      "Accuracy: 0.582\n",
      "             precision    recall  f1-score   support\n",
      "\n",
      "        <30       0.38      0.03      0.05      2839\n",
      "        >30       0.50      0.37      0.43      8887\n",
      "         NO       0.61      0.83      0.71     13716\n",
      "\n",
      "avg / total       0.55      0.58      0.54     25442\n",
      "\n"
     ]
    }
   ],
   "source": [
    "# This code achieves the same thing as lrmodel.score(x_test,y_test)\n",
    "\n",
    "# Predict on test\n",
    "y_pred = lrmodel.predict(x_test)\n",
    "\n",
    "# Score on test\n",
    "score = metrics.accuracy_score(y_test, y_pred)\n",
    "#print(score)\n",
    "print(\"Accuracy: %.3f\"% score)\n",
    "print(metrics.classification_report(y_test, y_pred))"
   ]
  },
  {
   "cell_type": "markdown",
   "metadata": {
    "ExecuteTime": {
     "end_time": "2018-05-05T20:11:39.386128Z",
     "start_time": "2018-05-04T19:46:42.534Z"
    }
   },
   "source": [
    "#### Logistic regression with cross-validation:"
   ]
  },
  {
   "cell_type": "code",
   "execution_count": 11,
   "metadata": {
    "ExecuteTime": {
     "end_time": "2018-05-08T20:36:15.178419Z",
     "start_time": "2018-05-08T20:32:49.081266Z"
    }
   },
   "outputs": [
    {
     "name": "stdout",
     "output_type": "stream",
     "text": [
      "0.5785042253401416\n"
     ]
    }
   ],
   "source": [
    "# 10-fold cross-validation with logistic regression\n",
    "# stratifying the Kfold splits is default in CV\n",
    "# returning the average score\n",
    "print(cross_val_score(lrmodel, x, y, cv=10, scoring='accuracy').mean())"
   ]
  },
  {
   "cell_type": "code",
   "execution_count": 19,
   "metadata": {
    "ExecuteTime": {
     "end_time": "2018-05-08T20:53:45.139277Z",
     "start_time": "2018-05-08T20:53:45.134142Z"
    }
   },
   "outputs": [
    {
     "data": {
      "text/plain": [
       "array(['<30', '>30', 'NO'], dtype=object)"
      ]
     },
     "execution_count": 19,
     "metadata": {},
     "output_type": "execute_result"
    }
   ],
   "source": [
    "y_test.unique()"
   ]
  },
  {
   "cell_type": "code",
   "execution_count": 26,
   "metadata": {
    "ExecuteTime": {
     "end_time": "2018-05-08T20:57:55.671148Z",
     "start_time": "2018-05-08T20:57:55.453344Z"
    }
   },
   "outputs": [
    {
     "data": {
      "image/png": "[encoded data removed]",
      "text/plain": [
       "<Figure size 720x720 with 2 Axes>"
      ]
     },
     "metadata": {},
     "output_type": "display_data"
    }
   ],
   "source": [
    "cm = metrics.confusion_matrix(y_test, y_pred, labels=list(y_test.unique()))\n",
    "cm = cm.astype('float') / cm.sum(axis=1)[:, np.newaxis]\n",
    "\n",
    "plt.figure(figsize=(10,10))\n",
    "sns.heatmap(cm, annot=True, fmt=\".3f\", linewidths=.5, square = True, cmap = 'Blues_r');\n",
    "plt.ylabel('Actual label');\n",
    "plt.xlabel('Predicted label');\n",
    "all_sample_title = 'Accuracy Score: {0}'.format(score)\n",
    "plt.title(all_sample_title, size = 15);"
   ]
  },
  {
   "cell_type": "code",
   "execution_count": 25,
   "metadata": {
    "ExecuteTime": {
     "end_time": "2018-05-08T20:57:40.994808Z",
     "start_time": "2018-05-08T20:57:40.990554Z"
    }
   },
   "outputs": [
    {
     "data": {
      "text/plain": [
       "array([[0.0278267 , 0.38182459, 0.59034871],\n",
       "       [0.00787667, 0.37312929, 0.61899404],\n",
       "       [0.00415573, 0.16302129, 0.83282298]])"
      ]
     },
     "execution_count": 25,
     "metadata": {},
     "output_type": "execute_result"
    }
   ],
   "source": [
    "cm = cm.astype('float') / cm.sum(axis=1)[:, np.newaxis]\n",
    "cm"
   ]
  },
  {
   "cell_type": "code",
   "execution_count": 53,
   "metadata": {
    "ExecuteTime": {
     "end_time": "2018-05-10T00:23:01.969409Z",
     "start_time": "2018-05-10T00:23:01.687294Z"
    }
   },
   "outputs": [
    {
     "name": "stdout",
     "output_type": "stream",
     "text": [
      "Accuracy: 0.582\n",
      "             precision    recall  f1-score   support\n",
      "\n",
      "        <30       0.38      0.03      0.05      2839\n",
      "        >30       0.50      0.37      0.43      8887\n",
      "         NO       0.61      0.83      0.71     13716\n",
      "\n",
      "avg / total       0.55      0.58      0.54     25442\n",
      "\n"
     ]
    }
   ],
   "source": [
    "print(\"Accuracy: %.3f\"% metrics.accuracy_score(y_test, y_pred))\n",
    "print(metrics.classification_report(y_test, y_pred))"
   ]
  },
  {
   "cell_type": "code",
   "execution_count": 42,
   "metadata": {
    "ExecuteTime": {
     "end_time": "2018-05-09T18:19:44.945206Z",
     "start_time": "2018-05-09T18:19:44.941750Z"
    }
   },
   "outputs": [
    {
     "data": {
      "text/plain": [
       "(3, 2467)"
      ]
     },
     "execution_count": 42,
     "metadata": {},
     "output_type": "execute_result"
    }
   ],
   "source": [
    "lrmodel.coef_.shape"
   ]
  },
  {
   "cell_type": "markdown",
   "metadata": {},
   "source": [
    "#### Get the coefficients:"
   ]
  },
  {
   "cell_type": "code",
   "execution_count": 45,
   "metadata": {
    "ExecuteTime": {
     "end_time": "2018-05-09T18:23:56.306762Z",
     "start_time": "2018-05-09T18:23:56.293642Z"
    }
   },
   "outputs": [],
   "source": [
    "coefficients = pd.DataFrame({\"Feature\":x.columns,\"Coefficients\":np.transpose(lrmodel.coef_[0,])})"
   ]
  },
  {
   "cell_type": "code",
   "execution_count": 48,
   "metadata": {
    "ExecuteTime": {
     "end_time": "2018-05-09T18:26:58.387938Z",
     "start_time": "2018-05-09T18:26:58.383393Z"
    }
   },
   "outputs": [],
   "source": [
    "coefficients['abs_val_coef'] = coefficients.Coefficients.abs()"
   ]
  },
  {
   "cell_type": "code",
   "execution_count": 52,
   "metadata": {
    "ExecuteTime": {
     "end_time": "2018-05-09T18:28:11.825118Z",
     "start_time": "2018-05-09T18:28:11.814244Z"
    }
   },
   "outputs": [
    {
     "data": {
      "text/html": [
       "<div>\n",
       "<style scoped>\n",
       "    .dataframe tbody tr th:only-of-type {\n",
       "        vertical-align: middle;\n",
       "    }\n",
       "\n",
       "    .dataframe tbody tr th {\n",
       "        vertical-align: top;\n",
       "    }\n",
       "\n",
       "    .dataframe thead th {\n",
       "        text-align: right;\n",
       "    }\n",
       "</style>\n",
       "<table border=\"1\" class=\"dataframe\">\n",
       "  <thead>\n",
       "    <tr style=\"text-align: right;\">\n",
       "      <th></th>\n",
       "      <th>Coefficients</th>\n",
       "      <th>Feature</th>\n",
       "      <th>abs_val_coef</th>\n",
       "    </tr>\n",
       "  </thead>\n",
       "  <tbody>\n",
       "    <tr>\n",
       "      <th>48</th>\n",
       "      <td>-3.963645</td>\n",
       "      <td>discharge_disposition_id[T.Expired]</td>\n",
       "      <td>3.963645</td>\n",
       "    </tr>\n",
       "    <tr>\n",
       "      <th>1650</th>\n",
       "      <td>1.724912</td>\n",
       "      <td>diag_3[T.156]</td>\n",
       "      <td>1.724912</td>\n",
       "    </tr>\n",
       "    <tr>\n",
       "      <th>378</th>\n",
       "      <td>1.692176</td>\n",
       "      <td>diag_1[T.358]</td>\n",
       "      <td>1.692176</td>\n",
       "    </tr>\n",
       "    <tr>\n",
       "      <th>733</th>\n",
       "      <td>1.674245</td>\n",
       "      <td>diag_1[T.82]</td>\n",
       "      <td>1.674245</td>\n",
       "    </tr>\n",
       "    <tr>\n",
       "      <th>679</th>\n",
       "      <td>1.575255</td>\n",
       "      <td>diag_1[T.731]</td>\n",
       "      <td>1.575255</td>\n",
       "    </tr>\n",
       "    <tr>\n",
       "      <th>45</th>\n",
       "      <td>1.472298</td>\n",
       "      <td>discharge_disposition_id[T.Discharged/transfer...</td>\n",
       "      <td>1.472298</td>\n",
       "    </tr>\n",
       "    <tr>\n",
       "      <th>51</th>\n",
       "      <td>-1.461185</td>\n",
       "      <td>discharge_disposition_id[T.Hospice / home]</td>\n",
       "      <td>1.461185</td>\n",
       "    </tr>\n",
       "    <tr>\n",
       "      <th>376</th>\n",
       "      <td>1.461155</td>\n",
       "      <td>diag_1[T.356]</td>\n",
       "      <td>1.461155</td>\n",
       "    </tr>\n",
       "    <tr>\n",
       "      <th>2405</th>\n",
       "      <td>1.455284</td>\n",
       "      <td>diag_3[T.V60]</td>\n",
       "      <td>1.455284</td>\n",
       "    </tr>\n",
       "    <tr>\n",
       "      <th>960</th>\n",
       "      <td>1.436297</td>\n",
       "      <td>diag_2[T.250.1]</td>\n",
       "      <td>1.436297</td>\n",
       "    </tr>\n",
       "  </tbody>\n",
       "</table>\n",
       "</div>"
      ],
      "text/plain": [
       "      Coefficients                                            Feature  \\\n",
       "48       -3.963645                discharge_disposition_id[T.Expired]   \n",
       "1650      1.724912                                      diag_3[T.156]   \n",
       "378       1.692176                                      diag_1[T.358]   \n",
       "733       1.674245                                       diag_1[T.82]   \n",
       "679       1.575255                                      diag_1[T.731]   \n",
       "45        1.472298  discharge_disposition_id[T.Discharged/transfer...   \n",
       "51       -1.461185         discharge_disposition_id[T.Hospice / home]   \n",
       "376       1.461155                                      diag_1[T.356]   \n",
       "2405      1.455284                                      diag_3[T.V60]   \n",
       "960       1.436297                                    diag_2[T.250.1]   \n",
       "\n",
       "      abs_val_coef  \n",
       "48        3.963645  \n",
       "1650      1.724912  \n",
       "378       1.692176  \n",
       "733       1.674245  \n",
       "679       1.575255  \n",
       "45        1.472298  \n",
       "51        1.461185  \n",
       "376       1.461155  \n",
       "2405      1.455284  \n",
       "960       1.436297  "
      ]
     },
     "execution_count": 52,
     "metadata": {},
     "output_type": "execute_result"
    }
   ],
   "source": [
    "coefficients.sort_values(by=['abs_val_coef'], ascending=False).head(10)"
   ]
  },
  {
   "cell_type": "markdown",
   "metadata": {
    "ExecuteTime": {
     "start_time": "2018-05-08T20:09:58.740Z"
    }
   },
   "source": [
    "#### Grid search Logistic Regression:"
   ]
  },
  {
   "cell_type": "code",
   "execution_count": 31,
   "metadata": {
    "ExecuteTime": {
     "end_time": "2018-05-09T17:42:17.412231Z",
     "start_time": "2018-05-09T17:42:17.409800Z"
    }
   },
   "outputs": [],
   "source": [
    "# list(np.arange(0.0, 10.0, 0.1))"
   ]
  },
  {
   "cell_type": "code",
   "execution_count": 34,
   "metadata": {
    "ExecuteTime": {
     "end_time": "2018-05-09T17:47:06.925101Z",
     "start_time": "2018-05-09T17:47:06.921521Z"
    }
   },
   "outputs": [],
   "source": [
    "# define the parameter values that should be searched\n",
    "C_range = list(np.arange(0.1, 1.0, 0.1))\n",
    "\n",
    "# Logistic regression defaults to L2 normalization\n",
    "\n",
    "# create a parameter grid: map the parameter names to the values that should be searched \n",
    "param_grid = dict(C=C_range)\n",
    "\n",
    "# instantiate the grid\n",
    "grid = GridSearchCV(lrmodel, param_grid, cv=10, scoring='accuracy')"
   ]
  },
  {
   "cell_type": "code",
   "execution_count": 35,
   "metadata": {
    "ExecuteTime": {
     "end_time": "2018-05-09T18:12:16.565296Z",
     "start_time": "2018-05-09T17:47:07.842204Z"
    }
   },
   "outputs": [],
   "source": [
    "# fit the grid with data \n",
    "grid.fit(x, y);"
   ]
  },
  {
   "cell_type": "code",
   "execution_count": 36,
   "metadata": {
    "ExecuteTime": {
     "end_time": "2018-05-09T18:15:22.845733Z",
     "start_time": "2018-05-09T18:15:22.831634Z"
    }
   },
   "outputs": [
    {
     "name": "stderr",
     "output_type": "stream",
     "text": [
      "/Users/etheredgej/anaconda/lib/python3.6/site-packages/sklearn/model_selection/_search.py:761: DeprecationWarning: The grid_scores_ attribute was deprecated in version 0.18 in favor of the more elaborate cv_results_ attribute. The grid_scores_ attribute will not be available from 0.20\n",
      "  DeprecationWarning)\n"
     ]
    },
    {
     "data": {
      "text/plain": [
       "[mean: 0.58122, std: 0.00805, params: {'C': 0.1},\n",
       " mean: 0.58068, std: 0.00763, params: {'C': 0.2},\n",
       " mean: 0.58014, std: 0.00771, params: {'C': 0.30000000000000004},\n",
       " mean: 0.57977, std: 0.00773, params: {'C': 0.4},\n",
       " mean: 0.57966, std: 0.00781, params: {'C': 0.5},\n",
       " mean: 0.57959, std: 0.00792, params: {'C': 0.6},\n",
       " mean: 0.57942, std: 0.00780, params: {'C': 0.7000000000000001},\n",
       " mean: 0.57903, std: 0.00786, params: {'C': 0.8},\n",
       " mean: 0.57871, std: 0.00776, params: {'C': 0.9}]"
      ]
     },
     "execution_count": 36,
     "metadata": {},
     "output_type": "execute_result"
    }
   ],
   "source": [
    "# view the complete results (list of named tuples)\n",
    "grid.grid_scores_"
   ]
  },
  {
   "cell_type": "code",
   "execution_count": 37,
   "metadata": {
    "ExecuteTime": {
     "end_time": "2018-05-09T18:15:56.858794Z",
     "start_time": "2018-05-09T18:15:56.852594Z"
    }
   },
   "outputs": [
    {
     "name": "stdout",
     "output_type": "stream",
     "text": [
      "0.5812157302045869\n",
      "{'C': 0.1}\n",
      "LogisticRegression(C=0.1, class_weight=None, dual=False, fit_intercept=True,\n",
      "          intercept_scaling=1, max_iter=100, multi_class='ovr', n_jobs=1,\n",
      "          penalty='l2', random_state=None, solver='liblinear', tol=0.0001,\n",
      "          verbose=0, warm_start=False)\n"
     ]
    }
   ],
   "source": [
    "# examine the best model\n",
    "print(grid.best_score_)\n",
    "print(grid.best_params_)\n",
    "print(grid.best_estimator_)"
   ]
  },
  {
   "cell_type": "markdown",
   "metadata": {},
   "source": [
    "#### Using GridSearchCV, I found that a lower C than default performs better, but trivially so\n",
    "0.581 for C=0.1 vs 0.578 for C=1"
   ]
  },
  {
   "cell_type": "code",
   "execution_count": null,
   "metadata": {},
   "outputs": [],
   "source": []
  },
  {
   "cell_type": "markdown",
   "metadata": {},
   "source": [
    "#### Random undersampling:"
   ]
  },
  {
   "cell_type": "code",
   "execution_count": 6,
   "metadata": {
    "ExecuteTime": {
     "end_time": "2018-05-11T00:23:52.410264Z",
     "start_time": "2018-05-11T00:23:52.035483Z"
    }
   },
   "outputs": [],
   "source": [
    "rus = RandomUnderSampler(random_state=0)\n",
    "x_train_undersampled, y_train_undersampled = rus.fit_sample(x_train, y_train)"
   ]
  },
  {
   "cell_type": "code",
   "execution_count": 61,
   "metadata": {
    "ExecuteTime": {
     "end_time": "2018-05-10T23:36:35.750275Z",
     "start_time": "2018-05-10T23:36:33.729137Z"
    }
   },
   "outputs": [
    {
     "data": {
      "text/plain": [
       "LogisticRegression(C=1.0, class_weight=None, dual=False, fit_intercept=True,\n",
       "          intercept_scaling=1, max_iter=100, multi_class='ovr', n_jobs=1,\n",
       "          penalty='l2', random_state=None, solver='liblinear', tol=0.0001,\n",
       "          verbose=0, warm_start=False)"
      ]
     },
     "execution_count": 61,
     "metadata": {},
     "output_type": "execute_result"
    }
   ],
   "source": [
    "lrmodel.fit(x_train_undersampled, y_train_undersampled)"
   ]
  },
  {
   "cell_type": "code",
   "execution_count": 62,
   "metadata": {
    "ExecuteTime": {
     "end_time": "2018-05-10T23:37:25.731644Z",
     "start_time": "2018-05-10T23:37:25.481545Z"
    }
   },
   "outputs": [
    {
     "name": "stdout",
     "output_type": "stream",
     "text": [
      "Accuracy: 0.492\n",
      "             precision    recall  f1-score   support\n",
      "\n",
      "        <30       0.20      0.44      0.28      2839\n",
      "        >30       0.45      0.39      0.42      8887\n",
      "         NO       0.68      0.57      0.62     13716\n",
      "\n",
      "avg / total       0.55      0.49      0.51     25442\n",
      "\n"
     ]
    }
   ],
   "source": [
    "# Predict on test\n",
    "y_pred = lrmodel.predict(x_test)\n",
    "\n",
    "# Score on test\n",
    "score = metrics.accuracy_score(y_test, y_pred)\n",
    "#print(score)\n",
    "print(\"Accuracy: %.3f\"% score)\n",
    "print(metrics.classification_report(y_test, y_pred))"
   ]
  },
  {
   "cell_type": "code",
   "execution_count": 74,
   "metadata": {
    "ExecuteTime": {
     "end_time": "2018-05-11T00:00:21.746821Z",
     "start_time": "2018-05-11T00:00:21.743895Z"
    }
   },
   "outputs": [],
   "source": [
    "# define the parameter values that should be searched\n",
    "C_range = list(np.arange(0.1, 1.0, 0.1))\n",
    "\n",
    "# Logistic regression defaults to L2 normalization\n",
    "\n",
    "# create a parameter grid: map the parameter names to the values that should be searched \n",
    "param_grid = dict(C=C_range)\n",
    "\n",
    "# instantiate the grid\n",
    "grid = GridSearchCV(lrmodel, param_grid, cv=3, scoring='recall_micro')"
   ]
  },
  {
   "cell_type": "code",
   "execution_count": 75,
   "metadata": {
    "ExecuteTime": {
     "end_time": "2018-05-11T00:00:22.453752Z",
     "start_time": "2018-05-11T00:00:22.003288Z"
    }
   },
   "outputs": [],
   "source": [
    "x_scaled_undersampled, y_undersampled = rus.fit_sample(x_scaled, y)"
   ]
  },
  {
   "cell_type": "code",
   "execution_count": 76,
   "metadata": {
    "ExecuteTime": {
     "end_time": "2018-05-11T00:01:01.063309Z",
     "start_time": "2018-05-11T00:00:22.455623Z"
    }
   },
   "outputs": [],
   "source": [
    "# fit the grid with data \n",
    "grid.fit(x_scaled_undersampled, y_undersampled);"
   ]
  },
  {
   "cell_type": "code",
   "execution_count": 77,
   "metadata": {
    "ExecuteTime": {
     "end_time": "2018-05-11T00:01:05.174002Z",
     "start_time": "2018-05-11T00:01:05.169317Z"
    }
   },
   "outputs": [
    {
     "name": "stdout",
     "output_type": "stream",
     "text": [
      "0.3827301810924246\n",
      "{'C': 0.1}\n",
      "LogisticRegression(C=0.1, class_weight=None, dual=False, fit_intercept=True,\n",
      "          intercept_scaling=1, max_iter=100, multi_class='ovr', n_jobs=1,\n",
      "          penalty='l2', random_state=None, solver='liblinear', tol=0.0001,\n",
      "          verbose=0, warm_start=False)\n"
     ]
    }
   ],
   "source": [
    "# examine the best model\n",
    "print(grid.best_score_)\n",
    "print(grid.best_params_)\n",
    "print(grid.best_estimator_)"
   ]
  },
  {
   "cell_type": "code",
   "execution_count": 22,
   "metadata": {
    "ExecuteTime": {
     "end_time": "2018-05-11T00:43:06.593715Z",
     "start_time": "2018-05-11T00:43:05.373560Z"
    }
   },
   "outputs": [
    {
     "name": "stdout",
     "output_type": "stream",
     "text": [
      "Accuracy: 0.495\n",
      "             precision    recall  f1-score   support\n",
      "\n",
      "        <30       0.20      0.44      0.28      2839\n",
      "        >30       0.45      0.38      0.41      8887\n",
      "         NO       0.68      0.58      0.62     13716\n",
      "\n",
      "avg / total       0.55      0.50      0.51     25442\n",
      "\n"
     ]
    }
   ],
   "source": [
    "lrmodel = linear_model.LogisticRegression(C=0.1)\n",
    "lrmodel.fit(x_train_undersampled, y_train_undersampled)\n",
    "# Predict on test\n",
    "y_pred = lrmodel.predict(x_test)\n",
    "\n",
    "# Score on test\n",
    "score = metrics.accuracy_score(y_test, y_pred)\n",
    "#print(score)\n",
    "print(\"Accuracy: %.3f\"% score)\n",
    "print(metrics.classification_report(y_test, y_pred))"
   ]
  },
  {
   "cell_type": "markdown",
   "metadata": {},
   "source": [
    "#### Get the coefficients:"
   ]
  },
  {
   "cell_type": "code",
   "execution_count": 26,
   "metadata": {
    "ExecuteTime": {
     "end_time": "2018-05-11T00:43:24.336505Z",
     "start_time": "2018-05-11T00:43:24.329814Z"
    }
   },
   "outputs": [],
   "source": [
    "coefficients = pd.DataFrame({\"Feature\":x.columns,\"Coefficients\":np.transpose(lrmodel.coef_[0,])})"
   ]
  },
  {
   "cell_type": "code",
   "execution_count": 27,
   "metadata": {
    "ExecuteTime": {
     "end_time": "2018-05-11T00:43:25.455124Z",
     "start_time": "2018-05-11T00:43:25.449293Z"
    }
   },
   "outputs": [],
   "source": [
    "coefficients['abs_val_coef'] = coefficients.Coefficients.abs()"
   ]
  },
  {
   "cell_type": "code",
   "execution_count": 28,
   "metadata": {
    "ExecuteTime": {
     "end_time": "2018-05-11T00:43:25.737461Z",
     "start_time": "2018-05-11T00:43:25.707804Z"
    },
    "scrolled": true
   },
   "outputs": [
    {
     "data": {
      "text/html": [
       "<div>\n",
       "<style scoped>\n",
       "    .dataframe tbody tr th:only-of-type {\n",
       "        vertical-align: middle;\n",
       "    }\n",
       "\n",
       "    .dataframe tbody tr th {\n",
       "        vertical-align: top;\n",
       "    }\n",
       "\n",
       "    .dataframe thead th {\n",
       "        text-align: right;\n",
       "    }\n",
       "</style>\n",
       "<table border=\"1\" class=\"dataframe\">\n",
       "  <thead>\n",
       "    <tr style=\"text-align: right;\">\n",
       "      <th></th>\n",
       "      <th>Coefficients</th>\n",
       "      <th>Feature</th>\n",
       "      <th>abs_val_coef</th>\n",
       "    </tr>\n",
       "  </thead>\n",
       "  <tbody>\n",
       "    <tr>\n",
       "      <th>48</th>\n",
       "      <td>-1.926929</td>\n",
       "      <td>discharge_disposition_id[T.Expired]</td>\n",
       "      <td>1.926929</td>\n",
       "    </tr>\n",
       "    <tr>\n",
       "      <th>40</th>\n",
       "      <td>1.099186</td>\n",
       "      <td>discharge_disposition_id[T.Discharged/transfer...</td>\n",
       "      <td>1.099186</td>\n",
       "    </tr>\n",
       "    <tr>\n",
       "      <th>51</th>\n",
       "      <td>-0.731982</td>\n",
       "      <td>discharge_disposition_id[T.Hospice / home]</td>\n",
       "      <td>0.731982</td>\n",
       "    </tr>\n",
       "    <tr>\n",
       "      <th>42</th>\n",
       "      <td>0.675508</td>\n",
       "      <td>discharge_disposition_id[T.Discharged/transfer...</td>\n",
       "      <td>0.675508</td>\n",
       "    </tr>\n",
       "    <tr>\n",
       "      <th>36</th>\n",
       "      <td>0.632479</td>\n",
       "      <td>discharge_disposition_id[T.Discharged/transfer...</td>\n",
       "      <td>0.632479</td>\n",
       "    </tr>\n",
       "    <tr>\n",
       "      <th>105</th>\n",
       "      <td>0.610922</td>\n",
       "      <td>medical_specialty[T.Hematology]</td>\n",
       "      <td>0.610922</td>\n",
       "    </tr>\n",
       "    <tr>\n",
       "      <th>37</th>\n",
       "      <td>-0.509578</td>\n",
       "      <td>discharge_disposition_id[T.Discharged/transfer...</td>\n",
       "      <td>0.509578</td>\n",
       "    </tr>\n",
       "    <tr>\n",
       "      <th>45</th>\n",
       "      <td>0.493708</td>\n",
       "      <td>discharge_disposition_id[T.Discharged/transfer...</td>\n",
       "      <td>0.493708</td>\n",
       "    </tr>\n",
       "    <tr>\n",
       "      <th>151</th>\n",
       "      <td>-0.411070</td>\n",
       "      <td>medical_specialty[T.Surgery-Cardiovascular/Tho...</td>\n",
       "      <td>0.411070</td>\n",
       "    </tr>\n",
       "    <tr>\n",
       "      <th>181</th>\n",
       "      <td>-0.410666</td>\n",
       "      <td>diag_2[T.Complications Of Pregnancy, Childbirt...</td>\n",
       "      <td>0.410666</td>\n",
       "    </tr>\n",
       "  </tbody>\n",
       "</table>\n",
       "</div>"
      ],
      "text/plain": [
       "     Coefficients                                            Feature  \\\n",
       "48      -1.926929                discharge_disposition_id[T.Expired]   \n",
       "40       1.099186  discharge_disposition_id[T.Discharged/transfer...   \n",
       "51      -0.731982         discharge_disposition_id[T.Hospice / home]   \n",
       "42       0.675508  discharge_disposition_id[T.Discharged/transfer...   \n",
       "36       0.632479  discharge_disposition_id[T.Discharged/transfer...   \n",
       "105      0.610922                    medical_specialty[T.Hematology]   \n",
       "37      -0.509578  discharge_disposition_id[T.Discharged/transfer...   \n",
       "45       0.493708  discharge_disposition_id[T.Discharged/transfer...   \n",
       "151     -0.411070  medical_specialty[T.Surgery-Cardiovascular/Tho...   \n",
       "181     -0.410666  diag_2[T.Complications Of Pregnancy, Childbirt...   \n",
       "\n",
       "     abs_val_coef  \n",
       "48       1.926929  \n",
       "40       1.099186  \n",
       "51       0.731982  \n",
       "42       0.675508  \n",
       "36       0.632479  \n",
       "105      0.610922  \n",
       "37       0.509578  \n",
       "45       0.493708  \n",
       "151      0.411070  \n",
       "181      0.410666  "
      ]
     },
     "execution_count": 28,
     "metadata": {},
     "output_type": "execute_result"
    }
   ],
   "source": [
    "coefficients.sort_values(by=['abs_val_coef'], ascending=False).head(10)"
   ]
  },
  {
   "cell_type": "code",
   "execution_count": null,
   "metadata": {},
   "outputs": [],
   "source": []
  },
  {
   "cell_type": "code",
   "execution_count": null,
   "metadata": {},
   "outputs": [],
   "source": []
  },
  {
   "cell_type": "code",
   "execution_count": null,
   "metadata": {},
   "outputs": [],
   "source": []
  },
  {
   "cell_type": "code",
   "execution_count": 63,
   "metadata": {
    "ExecuteTime": {
     "end_time": "2018-05-10T23:37:54.067821Z",
     "start_time": "2018-05-10T23:37:54.063023Z"
    }
   },
   "outputs": [],
   "source": [
    "# define the parameter values that should be searched\n",
    "C_range = list(np.arange(0.1, 1.0, 0.1))\n",
    "\n",
    "# Logistic regression defaults to L2 normalization\n",
    "\n",
    "# create a parameter grid: map the parameter names to the values that should be searched \n",
    "param_grid = dict(C=C_range)\n",
    "\n",
    "# instantiate the grid\n",
    "grid = GridSearchCV(lrmodel, param_grid, cv=10, scoring='accuracy')"
   ]
  },
  {
   "cell_type": "code",
   "execution_count": null,
   "metadata": {
    "ExecuteTime": {
     "end_time": "2018-05-10T23:50:18.600643Z",
     "start_time": "2018-05-10T23:48:10.938Z"
    }
   },
   "outputs": [],
   "source": [
    "# fit the grid with data \n",
    "grid.fit(x_scaled, y);"
   ]
  },
  {
   "cell_type": "code",
   "execution_count": null,
   "metadata": {
    "ExecuteTime": {
     "end_time": "2018-05-10T23:50:18.601644Z",
     "start_time": "2018-05-10T23:48:11.753Z"
    }
   },
   "outputs": [],
   "source": [
    "# examine the best model\n",
    "print(grid.best_score_)\n",
    "print(grid.best_params_)\n",
    "print(grid.best_estimator_)"
   ]
  },
  {
   "cell_type": "code",
   "execution_count": null,
   "metadata": {
    "ExecuteTime": {
     "end_time": "2018-05-11T00:07:13.635522Z",
     "start_time": "2018-05-11T00:07:13.629791Z"
    }
   },
   "outputs": [],
   "source": []
  },
  {
   "cell_type": "code",
   "execution_count": null,
   "metadata": {},
   "outputs": [],
   "source": []
  },
  {
   "cell_type": "code",
   "execution_count": 7,
   "metadata": {
    "ExecuteTime": {
     "end_time": "2018-05-11T00:24:42.703436Z",
     "start_time": "2018-05-11T00:23:58.821729Z"
    }
   },
   "outputs": [],
   "source": [
    "poly = preprocessing.PolynomialFeatures(2, interaction_only=True)\n",
    "x_train_poly_undersampled = poly.fit_transform(x_train_undersampled)"
   ]
  },
  {
   "cell_type": "code",
   "execution_count": 8,
   "metadata": {
    "ExecuteTime": {
     "end_time": "2018-05-11T00:26:38.736919Z",
     "start_time": "2018-05-11T00:26:38.730975Z"
    }
   },
   "outputs": [
    {
     "data": {
      "text/plain": [
       "(25554, 36316)"
      ]
     },
     "execution_count": 8,
     "metadata": {},
     "output_type": "execute_result"
    }
   ],
   "source": [
    "x_train_poly_undersampled.shape"
   ]
  },
  {
   "cell_type": "code",
   "execution_count": 10,
   "metadata": {
    "ExecuteTime": {
     "end_time": "2018-05-11T00:32:10.351192Z",
     "start_time": "2018-05-11T00:31:39.003814Z"
    }
   },
   "outputs": [],
   "source": [
    "x_test_poly_undersampled = poly.transform(x_test)"
   ]
  },
  {
   "cell_type": "code",
   "execution_count": 19,
   "metadata": {
    "ExecuteTime": {
     "end_time": "2018-05-11T00:41:58.239640Z",
     "start_time": "2018-05-11T00:39:32.602634Z"
    }
   },
   "outputs": [
    {
     "data": {
      "text/plain": [
       "LogisticRegression(C=0.1, class_weight=None, dual=False, fit_intercept=True,\n",
       "          intercept_scaling=1, max_iter=100, multi_class='ovr', n_jobs=1,\n",
       "          penalty='l2', random_state=None, solver='liblinear', tol=0.0001,\n",
       "          verbose=0, warm_start=False)"
      ]
     },
     "execution_count": 19,
     "metadata": {},
     "output_type": "execute_result"
    }
   ],
   "source": [
    "lrmodel = linear_model.LogisticRegression(C=0.01)\n",
    "\n",
    "lrmodel.fit(x_train_poly_undersampled, y_train_undersampled)"
   ]
  },
  {
   "cell_type": "code",
   "execution_count": 21,
   "metadata": {
    "ExecuteTime": {
     "end_time": "2018-05-11T00:42:42.617878Z",
     "start_time": "2018-05-11T00:42:34.510184Z"
    }
   },
   "outputs": [
    {
     "name": "stdout",
     "output_type": "stream",
     "text": [
      "Accuracy: 0.461\n",
      "             precision    recall  f1-score   support\n",
      "\n",
      "        <30       0.18      0.44      0.25      2839\n",
      "        >30       0.43      0.39      0.41      8887\n",
      "         NO       0.68      0.51      0.58     13716\n",
      "\n",
      "avg / total       0.53      0.46      0.49     25442\n",
      "\n"
     ]
    }
   ],
   "source": [
    "# Predict on test\n",
    "y_pred = lrmodel.predict(x_test_poly_undersampled)\n",
    "\n",
    "# Score on test\n",
    "score = metrics.accuracy_score(y_test, y_pred)\n",
    "#print(score)\n",
    "print(\"Accuracy: %.3f\"% score)\n",
    "print(metrics.classification_report(y_test, y_pred))"
   ]
  },
  {
   "cell_type": "code",
   "execution_count": 17,
   "metadata": {
    "ExecuteTime": {
     "end_time": "2018-05-11T00:37:49.336995Z",
     "start_time": "2018-05-11T00:37:49.334451Z"
    }
   },
   "outputs": [],
   "source": [
    "storelrmodel = lrmodel"
   ]
  },
  {
   "cell_type": "markdown",
   "metadata": {},
   "source": [
    "#### Get the coefficients:"
   ]
  },
  {
   "cell_type": "code",
   "execution_count": 14,
   "metadata": {
    "ExecuteTime": {
     "end_time": "2018-05-11T00:33:58.125835Z",
     "start_time": "2018-05-11T00:33:58.116585Z"
    },
    "scrolled": true
   },
   "outputs": [
    {
     "ename": "AttributeError",
     "evalue": "'numpy.ndarray' object has no attribute 'columns'",
     "output_type": "error",
     "traceback": [
      "\u001b[0;31m---------------------------------------------------------------------------\u001b[0m",
      "\u001b[0;31mAttributeError\u001b[0m                            Traceback (most recent call last)",
      "\u001b[0;32m<ipython-input-14-fdb24bb9d3ca>\u001b[0m in \u001b[0;36m<module>\u001b[0;34m()\u001b[0m\n\u001b[0;32m----> 1\u001b[0;31m \u001b[0mcoefficients\u001b[0m \u001b[0;34m=\u001b[0m \u001b[0mpd\u001b[0m\u001b[0;34m.\u001b[0m\u001b[0mDataFrame\u001b[0m\u001b[0;34m(\u001b[0m\u001b[0;34m{\u001b[0m\u001b[0;34m\"Feature\"\u001b[0m\u001b[0;34m:\u001b[0m\u001b[0mx_test_poly_undersampled\u001b[0m\u001b[0;34m.\u001b[0m\u001b[0mcolumns\u001b[0m\u001b[0;34m,\u001b[0m\u001b[0;34m\"Coefficients\"\u001b[0m\u001b[0;34m:\u001b[0m\u001b[0mnp\u001b[0m\u001b[0;34m.\u001b[0m\u001b[0mtranspose\u001b[0m\u001b[0;34m(\u001b[0m\u001b[0mlrmodel\u001b[0m\u001b[0;34m.\u001b[0m\u001b[0mcoef_\u001b[0m\u001b[0;34m[\u001b[0m\u001b[0;36m0\u001b[0m\u001b[0;34m,\u001b[0m\u001b[0;34m]\u001b[0m\u001b[0;34m)\u001b[0m\u001b[0;34m}\u001b[0m\u001b[0;34m)\u001b[0m\u001b[0;34m\u001b[0m\u001b[0m\n\u001b[0m",
      "\u001b[0;31mAttributeError\u001b[0m: 'numpy.ndarray' object has no attribute 'columns'"
     ]
    }
   ],
   "source": [
    "coefficients = pd.DataFrame({\"Feature\":x_test_poly_undersampled.columns,\"Coefficients\":np.transpose(lrmodel.coef_[0,])})"
   ]
  },
  {
   "cell_type": "code",
   "execution_count": 15,
   "metadata": {
    "ExecuteTime": {
     "end_time": "2018-05-11T00:34:50.388935Z",
     "start_time": "2018-05-11T00:34:50.379825Z"
    }
   },
   "outputs": [
    {
     "ename": "NameError",
     "evalue": "name 'coefficients' is not defined",
     "output_type": "error",
     "traceback": [
      "\u001b[0;31m---------------------------------------------------------------------------\u001b[0m",
      "\u001b[0;31mNameError\u001b[0m                                 Traceback (most recent call last)",
      "\u001b[0;32m<ipython-input-15-eb6b361b08b8>\u001b[0m in \u001b[0;36m<module>\u001b[0;34m()\u001b[0m\n\u001b[0;32m----> 1\u001b[0;31m \u001b[0mcoefficients\u001b[0m\u001b[0;34m[\u001b[0m\u001b[0;34m'abs_val_coef'\u001b[0m\u001b[0;34m]\u001b[0m \u001b[0;34m=\u001b[0m \u001b[0mcoefficients\u001b[0m\u001b[0;34m.\u001b[0m\u001b[0mCoefficients\u001b[0m\u001b[0;34m.\u001b[0m\u001b[0mabs\u001b[0m\u001b[0;34m(\u001b[0m\u001b[0;34m)\u001b[0m\u001b[0;34m\u001b[0m\u001b[0m\n\u001b[0m",
      "\u001b[0;31mNameError\u001b[0m: name 'coefficients' is not defined"
     ]
    }
   ],
   "source": [
    "coefficients['abs_val_coef'] = coefficients.Coefficients.abs()"
   ]
  },
  {
   "cell_type": "code",
   "execution_count": 52,
   "metadata": {
    "ExecuteTime": {
     "end_time": "2018-05-09T18:28:11.825118Z",
     "start_time": "2018-05-09T18:28:11.814244Z"
    },
    "scrolled": true
   },
   "outputs": [
    {
     "data": {
      "text/html": [
       "<div>\n",
       "<style scoped>\n",
       "    .dataframe tbody tr th:only-of-type {\n",
       "        vertical-align: middle;\n",
       "    }\n",
       "\n",
       "    .dataframe tbody tr th {\n",
       "        vertical-align: top;\n",
       "    }\n",
       "\n",
       "    .dataframe thead th {\n",
       "        text-align: right;\n",
       "    }\n",
       "</style>\n",
       "<table border=\"1\" class=\"dataframe\">\n",
       "  <thead>\n",
       "    <tr style=\"text-align: right;\">\n",
       "      <th></th>\n",
       "      <th>Coefficients</th>\n",
       "      <th>Feature</th>\n",
       "      <th>abs_val_coef</th>\n",
       "    </tr>\n",
       "  </thead>\n",
       "  <tbody>\n",
       "    <tr>\n",
       "      <th>48</th>\n",
       "      <td>-3.963645</td>\n",
       "      <td>discharge_disposition_id[T.Expired]</td>\n",
       "      <td>3.963645</td>\n",
       "    </tr>\n",
       "    <tr>\n",
       "      <th>1650</th>\n",
       "      <td>1.724912</td>\n",
       "      <td>diag_3[T.156]</td>\n",
       "      <td>1.724912</td>\n",
       "    </tr>\n",
       "    <tr>\n",
       "      <th>378</th>\n",
       "      <td>1.692176</td>\n",
       "      <td>diag_1[T.358]</td>\n",
       "      <td>1.692176</td>\n",
       "    </tr>\n",
       "    <tr>\n",
       "      <th>733</th>\n",
       "      <td>1.674245</td>\n",
       "      <td>diag_1[T.82]</td>\n",
       "      <td>1.674245</td>\n",
       "    </tr>\n",
       "    <tr>\n",
       "      <th>679</th>\n",
       "      <td>1.575255</td>\n",
       "      <td>diag_1[T.731]</td>\n",
       "      <td>1.575255</td>\n",
       "    </tr>\n",
       "    <tr>\n",
       "      <th>45</th>\n",
       "      <td>1.472298</td>\n",
       "      <td>discharge_disposition_id[T.Discharged/transfer...</td>\n",
       "      <td>1.472298</td>\n",
       "    </tr>\n",
       "    <tr>\n",
       "      <th>51</th>\n",
       "      <td>-1.461185</td>\n",
       "      <td>discharge_disposition_id[T.Hospice / home]</td>\n",
       "      <td>1.461185</td>\n",
       "    </tr>\n",
       "    <tr>\n",
       "      <th>376</th>\n",
       "      <td>1.461155</td>\n",
       "      <td>diag_1[T.356]</td>\n",
       "      <td>1.461155</td>\n",
       "    </tr>\n",
       "    <tr>\n",
       "      <th>2405</th>\n",
       "      <td>1.455284</td>\n",
       "      <td>diag_3[T.V60]</td>\n",
       "      <td>1.455284</td>\n",
       "    </tr>\n",
       "    <tr>\n",
       "      <th>960</th>\n",
       "      <td>1.436297</td>\n",
       "      <td>diag_2[T.250.1]</td>\n",
       "      <td>1.436297</td>\n",
       "    </tr>\n",
       "  </tbody>\n",
       "</table>\n",
       "</div>"
      ],
      "text/plain": [
       "      Coefficients                                            Feature  \\\n",
       "48       -3.963645                discharge_disposition_id[T.Expired]   \n",
       "1650      1.724912                                      diag_3[T.156]   \n",
       "378       1.692176                                      diag_1[T.358]   \n",
       "733       1.674245                                       diag_1[T.82]   \n",
       "679       1.575255                                      diag_1[T.731]   \n",
       "45        1.472298  discharge_disposition_id[T.Discharged/transfer...   \n",
       "51       -1.461185         discharge_disposition_id[T.Hospice / home]   \n",
       "376       1.461155                                      diag_1[T.356]   \n",
       "2405      1.455284                                      diag_3[T.V60]   \n",
       "960       1.436297                                    diag_2[T.250.1]   \n",
       "\n",
       "      abs_val_coef  \n",
       "48        3.963645  \n",
       "1650      1.724912  \n",
       "378       1.692176  \n",
       "733       1.674245  \n",
       "679       1.575255  \n",
       "45        1.472298  \n",
       "51        1.461185  \n",
       "376       1.461155  \n",
       "2405      1.455284  \n",
       "960       1.436297  "
      ]
     },
     "execution_count": 52,
     "metadata": {},
     "output_type": "execute_result"
    }
   ],
   "source": [
    "coefficients.sort_values(by=['abs_val_coef'], ascending=False).head(10)"
   ]
  },
  {
   "cell_type": "code",
   "execution_count": null,
   "metadata": {},
   "outputs": [],
   "source": []
  },
  {
   "cell_type": "markdown",
   "metadata": {},
   "source": [
    "#### Logistic with SMOTE:"
   ]
  },
  {
   "cell_type": "code",
   "execution_count": 29,
   "metadata": {
    "ExecuteTime": {
     "end_time": "2018-05-11T01:37:33.022742Z",
     "start_time": "2018-05-11T01:33:15.426774Z"
    }
   },
   "outputs": [],
   "source": [
    "sm = SMOTE(random_state=42)\n",
    "x_train_smote, y_train_smote = sm.fit_sample(x_train, y_train)"
   ]
  },
  {
   "cell_type": "code",
   "execution_count": 32,
   "metadata": {
    "ExecuteTime": {
     "end_time": "2018-05-11T01:40:00.468985Z",
     "start_time": "2018-05-11T01:40:00.236926Z"
    }
   },
   "outputs": [
    {
     "data": {
      "text/plain": [
       "<matplotlib.axes._subplots.AxesSubplot at 0x1a0bb29940>"
      ]
     },
     "execution_count": 32,
     "metadata": {},
     "output_type": "execute_result"
    },
    {
     "data": {
      "image/png": "[encoded data removed]",
      "text/plain": [
       "<Figure size 432x288 with 1 Axes>"
      ]
     },
     "metadata": {},
     "output_type": "display_data"
    }
   ],
   "source": [
    "sns.countplot(y_train_smote)"
   ]
  },
  {
   "cell_type": "code",
   "execution_count": 36,
   "metadata": {
    "ExecuteTime": {
     "end_time": "2018-05-11T01:43:17.250248Z",
     "start_time": "2018-05-11T01:43:17.135129Z"
    }
   },
   "outputs": [
    {
     "data": {
      "text/plain": [
       "<matplotlib.axes._subplots.AxesSubplot at 0x10a2fe668>"
      ]
     },
     "execution_count": 36,
     "metadata": {},
     "output_type": "execute_result"
    },
    {
     "data": {
      "image/png": "[encoded data removed]",
      "text/plain": [
       "<Figure size 432x288 with 1 Axes>"
      ]
     },
     "metadata": {},
     "output_type": "display_data"
    }
   ],
   "source": [
    "sns.countplot(y_test)"
   ]
  },
  {
   "cell_type": "code",
   "execution_count": 34,
   "metadata": {
    "ExecuteTime": {
     "end_time": "2018-05-11T01:42:17.732534Z",
     "start_time": "2018-05-11T01:41:59.297797Z"
    }
   },
   "outputs": [
    {
     "data": {
      "text/plain": [
       "LogisticRegression(C=1, class_weight=None, dual=False, fit_intercept=True,\n",
       "          intercept_scaling=1, max_iter=100, multi_class='ovr', n_jobs=1,\n",
       "          penalty='l2', random_state=None, solver='liblinear', tol=0.0001,\n",
       "          verbose=0, warm_start=False)"
      ]
     },
     "execution_count": 34,
     "metadata": {},
     "output_type": "execute_result"
    }
   ],
   "source": [
    "lrmodel = linear_model.LogisticRegression(C=1)\n",
    "lrmodel.fit(x_train_smote, y_train_smote)"
   ]
  },
  {
   "cell_type": "code",
   "execution_count": 35,
   "metadata": {
    "ExecuteTime": {
     "end_time": "2018-05-11T01:42:17.947667Z",
     "start_time": "2018-05-11T01:42:17.734081Z"
    },
    "scrolled": true
   },
   "outputs": [
    {
     "name": "stdout",
     "output_type": "stream",
     "text": [
      "Accuracy: 0.486\n",
      "             precision    recall  f1-score   support\n",
      "\n",
      "        <30       0.19      0.45      0.27      2839\n",
      "        >30       0.45      0.38      0.41      8887\n",
      "         NO       0.68      0.57      0.62     13716\n",
      "\n",
      "avg / total       0.55      0.49      0.51     25442\n",
      "\n"
     ]
    }
   ],
   "source": [
    "# Predict on test\n",
    "y_pred = lrmodel.predict(x_test)\n",
    "\n",
    "# Score on test\n",
    "score = metrics.accuracy_score(y_test, y_pred)\n",
    "#print(score)\n",
    "print(\"Accuracy: %.3f\"% score)\n",
    "print(metrics.classification_report(y_test, y_pred))\n",
    "\n",
    "# recall @ C = 0.1: 44, 37, 58 "
   ]
  },
  {
   "cell_type": "markdown",
   "metadata": {},
   "source": [
    "#### Get the coefficients:"
   ]
  },
  {
   "cell_type": "code",
   "execution_count": 37,
   "metadata": {
    "ExecuteTime": {
     "end_time": "2018-05-11T01:44:26.350505Z",
     "start_time": "2018-05-11T01:44:26.346831Z"
    },
    "scrolled": true
   },
   "outputs": [],
   "source": [
    "coefficients = pd.DataFrame({\"Feature\":x.columns,\"Coefficients\":np.transpose(lrmodel.coef_[0,])})"
   ]
  },
  {
   "cell_type": "code",
   "execution_count": 38,
   "metadata": {
    "ExecuteTime": {
     "end_time": "2018-05-11T01:44:27.021776Z",
     "start_time": "2018-05-11T01:44:27.017979Z"
    }
   },
   "outputs": [],
   "source": [
    "coefficients['abs_val_coef'] = coefficients.Coefficients.abs()"
   ]
  },
  {
   "cell_type": "code",
   "execution_count": 39,
   "metadata": {
    "ExecuteTime": {
     "end_time": "2018-05-11T01:44:27.540520Z",
     "start_time": "2018-05-11T01:44:27.529887Z"
    },
    "scrolled": true
   },
   "outputs": [
    {
     "data": {
      "text/html": [
       "<div>\n",
       "<style scoped>\n",
       "    .dataframe tbody tr th:only-of-type {\n",
       "        vertical-align: middle;\n",
       "    }\n",
       "\n",
       "    .dataframe tbody tr th {\n",
       "        vertical-align: top;\n",
       "    }\n",
       "\n",
       "    .dataframe thead th {\n",
       "        text-align: right;\n",
       "    }\n",
       "</style>\n",
       "<table border=\"1\" class=\"dataframe\">\n",
       "  <thead>\n",
       "    <tr style=\"text-align: right;\">\n",
       "      <th></th>\n",
       "      <th>Coefficients</th>\n",
       "      <th>Feature</th>\n",
       "      <th>abs_val_coef</th>\n",
       "    </tr>\n",
       "  </thead>\n",
       "  <tbody>\n",
       "    <tr>\n",
       "      <th>48</th>\n",
       "      <td>-5.095144</td>\n",
       "      <td>discharge_disposition_id[T.Expired]</td>\n",
       "      <td>5.095144</td>\n",
       "    </tr>\n",
       "    <tr>\n",
       "      <th>128</th>\n",
       "      <td>-2.232616</td>\n",
       "      <td>medical_specialty[T.Pediatrics-Endocrinology]</td>\n",
       "      <td>2.232616</td>\n",
       "    </tr>\n",
       "    <tr>\n",
       "      <th>104</th>\n",
       "      <td>-2.060990</td>\n",
       "      <td>medical_specialty[T.Gynecology]</td>\n",
       "      <td>2.060990</td>\n",
       "    </tr>\n",
       "    <tr>\n",
       "      <th>181</th>\n",
       "      <td>-1.864673</td>\n",
       "      <td>diag_2[T.Complications Of Pregnancy, Childbirt...</td>\n",
       "      <td>1.864673</td>\n",
       "    </tr>\n",
       "    <tr>\n",
       "      <th>51</th>\n",
       "      <td>-1.706280</td>\n",
       "      <td>discharge_disposition_id[T.Hospice / home]</td>\n",
       "      <td>1.706280</td>\n",
       "    </tr>\n",
       "    <tr>\n",
       "      <th>45</th>\n",
       "      <td>1.555269</td>\n",
       "      <td>discharge_disposition_id[T.Discharged/transfer...</td>\n",
       "      <td>1.555269</td>\n",
       "    </tr>\n",
       "    <tr>\n",
       "      <th>200</th>\n",
       "      <td>-1.530703</td>\n",
       "      <td>diag_3[T.Complications Of Pregnancy, Childbirt...</td>\n",
       "      <td>1.530703</td>\n",
       "    </tr>\n",
       "    <tr>\n",
       "      <th>36</th>\n",
       "      <td>1.461196</td>\n",
       "      <td>discharge_disposition_id[T.Discharged/transfer...</td>\n",
       "      <td>1.461196</td>\n",
       "    </tr>\n",
       "    <tr>\n",
       "      <th>121</th>\n",
       "      <td>-1.382762</td>\n",
       "      <td>medical_specialty[T.Otolaryngology]</td>\n",
       "      <td>1.382762</td>\n",
       "    </tr>\n",
       "    <tr>\n",
       "      <th>245</th>\n",
       "      <td>-1.379365</td>\n",
       "      <td>acarbose[T.Steady]</td>\n",
       "      <td>1.379365</td>\n",
       "    </tr>\n",
       "  </tbody>\n",
       "</table>\n",
       "</div>"
      ],
      "text/plain": [
       "     Coefficients                                            Feature  \\\n",
       "48      -5.095144                discharge_disposition_id[T.Expired]   \n",
       "128     -2.232616      medical_specialty[T.Pediatrics-Endocrinology]   \n",
       "104     -2.060990                    medical_specialty[T.Gynecology]   \n",
       "181     -1.864673  diag_2[T.Complications Of Pregnancy, Childbirt...   \n",
       "51      -1.706280         discharge_disposition_id[T.Hospice / home]   \n",
       "45       1.555269  discharge_disposition_id[T.Discharged/transfer...   \n",
       "200     -1.530703  diag_3[T.Complications Of Pregnancy, Childbirt...   \n",
       "36       1.461196  discharge_disposition_id[T.Discharged/transfer...   \n",
       "121     -1.382762                medical_specialty[T.Otolaryngology]   \n",
       "245     -1.379365                                 acarbose[T.Steady]   \n",
       "\n",
       "     abs_val_coef  \n",
       "48       5.095144  \n",
       "128      2.232616  \n",
       "104      2.060990  \n",
       "181      1.864673  \n",
       "51       1.706280  \n",
       "45       1.555269  \n",
       "200      1.530703  \n",
       "36       1.461196  \n",
       "121      1.382762  \n",
       "245      1.379365  "
      ]
     },
     "execution_count": 39,
     "metadata": {},
     "output_type": "execute_result"
    }
   ],
   "source": [
    "coefficients.sort_values(by=['abs_val_coef'], ascending=False).head(10)"
   ]
  },
  {
   "cell_type": "code",
   "execution_count": null,
   "metadata": {},
   "outputs": [],
   "source": []
  }
 ],
 "metadata": {
  "kernelspec": {
   "display_name": "Python 3",
   "language": "python",
   "name": "python3"
  },
  "language_info": {
   "codemirror_mode": {
    "name": "ipython",
    "version": 3
   },
   "file_extension": ".py",
   "mimetype": "text/x-python",
   "name": "python",
   "nbconvert_exporter": "python",
   "pygments_lexer": "ipython3",
   "version": "3.6.5"
  }
 },
 "nbformat": 4,
 "nbformat_minor": 2
}
